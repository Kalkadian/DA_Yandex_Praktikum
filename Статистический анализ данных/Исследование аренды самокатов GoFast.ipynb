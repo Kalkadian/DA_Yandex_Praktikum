{
 "cells": [
  {
   "cell_type": "markdown",
   "id": "974e1065",
   "metadata": {
    "toc": true
   },
   "source": [
    "<h1>Содержание<span class=\"tocSkip\"></span></h1>\n",
    "<div class=\"toc\"><ul class=\"toc-item\"><li><ul class=\"toc-item\"><li><span><a href=\"#Исследование-аренды-самокатов-GoFast\" data-toc-modified-id=\"Исследование-аренды-самокатов-GoFast-0.1\"><span class=\"toc-item-num\">0.1&nbsp;&nbsp;</span>Исследование аренды самокатов GoFast</a></span></li></ul></li><li><span><a href=\"#Загрузка-данных\" data-toc-modified-id=\"Загрузка-данных-1\"><span class=\"toc-item-num\">1&nbsp;&nbsp;</span>Загрузка данных</a></span></li><li><span><a href=\"#Шаг-2.-Предобработка-данных\" data-toc-modified-id=\"Шаг-2.-Предобработка-данных-2\"><span class=\"toc-item-num\">2&nbsp;&nbsp;</span>Шаг 2. Предобработка данных</a></span><ul class=\"toc-item\"><li><span><a href=\"#Проверка-на-пропуски\" data-toc-modified-id=\"Проверка-на-пропуски-2.1\"><span class=\"toc-item-num\">2.1&nbsp;&nbsp;</span>Проверка на пропуски</a></span></li><li><span><a href=\"#Переводим-столбец-date-в-формат-pandas\" data-toc-modified-id=\"Переводим-столбец-date-в-формат-pandas-2.2\"><span class=\"toc-item-num\">2.2&nbsp;&nbsp;</span>Переводим столбец date в формат pandas</a></span></li><li><span><a href=\"#Добавляем-столбец-с-номером-месяца\" data-toc-modified-id=\"Добавляем-столбец-с-номером-месяца-2.3\"><span class=\"toc-item-num\">2.3&nbsp;&nbsp;</span>Добавляем столбец с номером месяца</a></span></li><li><span><a href=\"#Проверим-на-наличие-дубликатов\" data-toc-modified-id=\"Проверим-на-наличие-дубликатов-2.4\"><span class=\"toc-item-num\">2.4&nbsp;&nbsp;</span>Проверим на наличие дубликатов</a></span></li></ul></li><li><span><a href=\"#Исследовательский-анализ-данных\" data-toc-modified-id=\"Исследовательский-анализ-данных-3\"><span class=\"toc-item-num\">3&nbsp;&nbsp;</span>Исследовательский анализ данных</a></span><ul class=\"toc-item\"><li><span><a href=\"#Проверим-частоту-встречаемых-городов\" data-toc-modified-id=\"Проверим-частоту-встречаемых-городов-3.1\"><span class=\"toc-item-num\">3.1&nbsp;&nbsp;</span>Проверим частоту встречаемых городов</a></span></li><li><span><a href=\"#Проверим-соотношение-пользователей-с-подпиской-и-без-подписки\" data-toc-modified-id=\"Проверим-соотношение-пользователей-с-подпиской-и-без-подписки-3.2\"><span class=\"toc-item-num\">3.2&nbsp;&nbsp;</span>Проверим соотношение пользователей с подпиской и без подписки</a></span></li><li><span><a href=\"#Проверим-основную-группу-пользователей-по-возрасту\" data-toc-modified-id=\"Проверим-основную-группу-пользователей-по-возрасту-3.3\"><span class=\"toc-item-num\">3.3&nbsp;&nbsp;</span>Проверим основную группу пользователей по возрасту</a></span></li><li><span><a href=\"#Посмотрим-на--расстояние,-которое-пользователь-преодолел-за-одну-поездку;\" data-toc-modified-id=\"Посмотрим-на--расстояние,-которое-пользователь-преодолел-за-одну-поездку;-3.4\"><span class=\"toc-item-num\">3.4&nbsp;&nbsp;</span>Посмотрим на  расстояние, которое пользователь преодолел за одну поездку;</a></span></li><li><span><a href=\"#Оценим-продолжительность-поездок\" data-toc-modified-id=\"Оценим-продолжительность-поездок-3.5\"><span class=\"toc-item-num\">3.5&nbsp;&nbsp;</span>Оценим продолжительность поездок</a></span></li><li><span><a href=\"#Объединение-данных\" data-toc-modified-id=\"Объединение-данных-3.6\"><span class=\"toc-item-num\">3.6&nbsp;&nbsp;</span>Объединение данных</a></span></li><li><span><a href=\"#Создадим-новые-датафреймы-с-подписками-и-без\" data-toc-modified-id=\"Создадим-новые-датафреймы-с-подписками-и-без-3.7\"><span class=\"toc-item-num\">3.7&nbsp;&nbsp;</span>Создадим новые датафреймы с подписками и без</a></span></li><li><span><a href=\"#Визуализируем-информацию-о-расстоянии-и-времени-поездок-для-пользователей-обеих-категорий\" data-toc-modified-id=\"Визуализируем-информацию-о-расстоянии-и-времени-поездок-для-пользователей-обеих-категорий-3.8\"><span class=\"toc-item-num\">3.8&nbsp;&nbsp;</span>Визуализируем информацию о расстоянии и времени поездок для пользователей обеих категорий</a></span></li></ul></li><li><span><a href=\"#Подсчёт-выручки\" data-toc-modified-id=\"Подсчёт-выручки-4\"><span class=\"toc-item-num\">4&nbsp;&nbsp;</span>Подсчёт выручки</a></span><ul class=\"toc-item\"><li><span><a href=\"#Создаим-датафрейм-с-агрегированными-данными\" data-toc-modified-id=\"Создаим-датафрейм-с-агрегированными-данными-4.1\"><span class=\"toc-item-num\">4.1&nbsp;&nbsp;</span>Создаим датафрейм с агрегированными данными</a></span></li><li><span><a href=\"#добавим-столбец-с-помесячной-выручкой\" data-toc-modified-id=\"добавим-столбец-с-помесячной-выручкой-4.2\"><span class=\"toc-item-num\">4.2&nbsp;&nbsp;</span>добавим столбец с помесячной выручкой</a></span></li></ul></li><li><span><a href=\"#Проверка-гипотез\" data-toc-modified-id=\"Проверка-гипотез-5\"><span class=\"toc-item-num\">5&nbsp;&nbsp;</span>Проверка гипотез</a></span><ul class=\"toc-item\"><li><span><a href=\"#Действительно-ли-пользователи-с-подпиской-«выгоднее»-для-компании\" data-toc-modified-id=\"Действительно-ли-пользователи-с-подпиской-«выгоднее»-для-компании-5.1\"><span class=\"toc-item-num\">5.1&nbsp;&nbsp;</span>Действительно ли пользователи с подпиской «выгоднее» для компании</a></span></li><li><span><a href=\"#Можно-ли-сказать,-что-расстояние,-которое-проезжают-пользователи-с-подпиской-за-одну-поездку,-не-превышает-3130-метров?\" data-toc-modified-id=\"Можно-ли-сказать,-что-расстояние,-которое-проезжают-пользователи-с-подпиской-за-одну-поездку,-не-превышает-3130-метров?-5.2\"><span class=\"toc-item-num\">5.2&nbsp;&nbsp;</span>Можно ли сказать, что расстояние, которое проезжают пользователи с подпиской за одну поездку, не превышает 3130 метров?</a></span></li><li><span><a href=\"#Проверим-гипотезу-о-том,-будет-ли-помесячная-выручка-от-пользователей-с-подпиской-по-месяцам-выше,-чем-выручка-от-пользователей-без-подписки\" data-toc-modified-id=\"Проверим-гипотезу-о-том,-будет-ли-помесячная-выручка-от-пользователей-с-подпиской-по-месяцам-выше,-чем-выручка-от-пользователей-без-подписки-5.3\"><span class=\"toc-item-num\">5.3&nbsp;&nbsp;</span>Проверим гипотезу о том, будет ли помесячная выручка от пользователей с подпиской по месяцам выше, чем выручка от пользователей без подписки</a></span></li><li><span><a href=\"#Представьте-такую-ситуацию:-техническая-команда-сервиса-обновила-сервера,-с-которыми-взаимодействует-мобильное-приложение.-Она-надеется,-что-из-за-этого-количество-обращений-в-техподдержку-значимо-снизилось.-Некоторый-файл-содержит-для-каждого-пользователя-данные-о-количестве-обращений-до-обновления-и-после-него.-Какой-тест-вам-понадобился-бы-для-проверки-этой-гипотезы?\" data-toc-modified-id=\"Представьте-такую-ситуацию:-техническая-команда-сервиса-обновила-сервера,-с-которыми-взаимодействует-мобильное-приложение.-Она-надеется,-что-из-за-этого-количество-обращений-в-техподдержку-значимо-снизилось.-Некоторый-файл-содержит-для-каждого-пользователя-данные-о-количестве-обращений-до-обновления-и-после-него.-Какой-тест-вам-понадобился-бы-для-проверки-этой-гипотезы?-5.4\"><span class=\"toc-item-num\">5.4&nbsp;&nbsp;</span>Представьте такую ситуацию: техническая команда сервиса обновила сервера, с которыми взаимодействует мобильное приложение. Она надеется, что из-за этого количество обращений в техподдержку значимо снизилось. Некоторый файл содержит для каждого пользователя данные о количестве обращений до обновления и после него. Какой тест вам понадобился бы для проверки этой гипотезы?</a></span></li><li><span><a href=\"#Общий-вывод\" data-toc-modified-id=\"Общий-вывод-5.5\"><span class=\"toc-item-num\">5.5&nbsp;&nbsp;</span>Общий вывод</a></span></li></ul></li></ul></div>"
   ]
  },
  {
   "cell_type": "markdown",
   "id": "d51676b2",
   "metadata": {},
   "source": [
    "### Исследование аренды самокатов GoFast\n",
    "\n",
    "Переданы данные о некоторых пользователях из нескольких городов, а также об их поездках. Проанализировать данные и проверьте некоторые гипотезы, которые могут помочь бизнесу вырасти."
   ]
  },
  {
   "cell_type": "markdown",
   "id": "b7b90a11",
   "metadata": {},
   "source": [
    "ЦЕЛЬ ИССЛЕДОВАНИЯ:\n",
    "- Очистить данные от дубликатов, заполнить пропуски\n",
    "- Провестим исследование на предмет:\n",
    "  - частота встречаемых городов,пользователей с подпиской и без подписки\n",
    "  - расстояние, которое пользователь преодолел за одну поездку\n",
    "  - оценим продолжительность поездок\n",
    "  - проверим соотношение пользователей с подпиской и без подписки\n",
    "  - оценим основную группу пользователей по возрасту   \n",
    "- Провести подсчёт выручки для категорий с подпиской и без\n",
    "- Провереям гипозы на основе полученных данных:\n",
    "  - действительно ли пользователи с подпиской «выгоднее» для компании\n",
    "  - можно ли сказать, что расстояние, которое проезжают пользователи с подпиской за одну поездку, не превышает 3130 метров?\n",
    "  - будет ли помесячная выручка от пользователей с подпиской по месяцам выше\n"
   ]
  },
  {
   "cell_type": "markdown",
   "id": "9bb79846",
   "metadata": {},
   "source": [
    "ПРАН РАБОТ:\n",
    "   - Определяем и изучаем пропущенные значения,проверяем на дубликаты и меняем тип данных при необходимости\n",
    "   - Убираем редкие и выбивающиеся значения. Описываем, какие особенности обнаружили.\n",
    "   - Объасширить таблицу с данными,добавив новые столбцы и внести в них информацию необходимаую для последующего анализа\n",
    "   - Объединее данных из трех датафреймов для последующего анализа \n",
    "   - Проверяем гипотезы(дву/односторонние) с помощью t-теста и p-value"
   ]
  },
  {
   "cell_type": "markdown",
   "id": "b5c6e20b",
   "metadata": {},
   "source": [
    "ОПИСАНИЕ ДАННЫХ:\n",
    " - user_id - уникальный идентификатор пользователя\n",
    " - name - имя пользователя\n",
    " - age - возраст\n",
    " - city - город\n",
    " - subscription_type - тип подписки (free, ultra)\n",
    " - distance - расстояние, которое пользователь проехал в текущей сессии (в метрах)\n",
    " - duration\tпродолжительность сессии (в минутах) — время с того момента, как пользователь нажал кнопку «Начать поездку» до момента, как он нажал кнопку «Завершить поездку»\n",
    " - date - дата совершения поездки\n",
    " - minute_price - стоимость одной минуты поездки по данной подписке\n",
    " - start_ride_price - стоимость начала поездки\n",
    " - subscription_fee - стоимость ежемесячного платежа\n",
    " "
   ]
  },
  {
   "cell_type": "markdown",
   "id": "548b6334",
   "metadata": {},
   "source": [
    "Импортирую библиотеки для работы"
   ]
  },
  {
   "cell_type": "code",
   "execution_count": 1,
   "id": "4d0551c6",
   "metadata": {},
   "outputs": [],
   "source": [
    "import pandas as pd\n",
    "import matplotlib.pyplot as plt \n",
    "from scipy import stats as st\n",
    "import numpy as np"
   ]
  },
  {
   "cell_type": "markdown",
   "id": "b08be0d3",
   "metadata": {},
   "source": [
    "## Загрузка данных"
   ]
  },
  {
   "cell_type": "code",
   "execution_count": 2,
   "id": "eff9f206",
   "metadata": {},
   "outputs": [],
   "source": [
    "data_users = pd.read_csv('/datasets/users_go.csv',sep = ',')\n",
    "data_rides = pd.read_csv('/datasets/rides_go.csv',sep = ',')\n",
    "data_subscriptions = pd.read_csv('/datasets/subscriptions_go.csv',sep = ',')"
   ]
  },
  {
   "cell_type": "code",
   "execution_count": 3,
   "id": "c9602ce1",
   "metadata": {},
   "outputs": [
    {
     "data": {
      "text/html": [
       "<div>\n",
       "<style scoped>\n",
       "    .dataframe tbody tr th:only-of-type {\n",
       "        vertical-align: middle;\n",
       "    }\n",
       "\n",
       "    .dataframe tbody tr th {\n",
       "        vertical-align: top;\n",
       "    }\n",
       "\n",
       "    .dataframe thead th {\n",
       "        text-align: right;\n",
       "    }\n",
       "</style>\n",
       "<table border=\"1\" class=\"dataframe\">\n",
       "  <thead>\n",
       "    <tr style=\"text-align: right;\">\n",
       "      <th></th>\n",
       "      <th>user_id</th>\n",
       "      <th>name</th>\n",
       "      <th>age</th>\n",
       "      <th>city</th>\n",
       "      <th>subscription_type</th>\n",
       "    </tr>\n",
       "  </thead>\n",
       "  <tbody>\n",
       "    <tr>\n",
       "      <th>0</th>\n",
       "      <td>1</td>\n",
       "      <td>Кира</td>\n",
       "      <td>22</td>\n",
       "      <td>Тюмень</td>\n",
       "      <td>ultra</td>\n",
       "    </tr>\n",
       "    <tr>\n",
       "      <th>1</th>\n",
       "      <td>2</td>\n",
       "      <td>Станислав</td>\n",
       "      <td>31</td>\n",
       "      <td>Омск</td>\n",
       "      <td>ultra</td>\n",
       "    </tr>\n",
       "    <tr>\n",
       "      <th>2</th>\n",
       "      <td>3</td>\n",
       "      <td>Алексей</td>\n",
       "      <td>20</td>\n",
       "      <td>Москва</td>\n",
       "      <td>ultra</td>\n",
       "    </tr>\n",
       "    <tr>\n",
       "      <th>3</th>\n",
       "      <td>4</td>\n",
       "      <td>Константин</td>\n",
       "      <td>26</td>\n",
       "      <td>Ростов-на-Дону</td>\n",
       "      <td>ultra</td>\n",
       "    </tr>\n",
       "    <tr>\n",
       "      <th>4</th>\n",
       "      <td>5</td>\n",
       "      <td>Адель</td>\n",
       "      <td>28</td>\n",
       "      <td>Омск</td>\n",
       "      <td>ultra</td>\n",
       "    </tr>\n",
       "    <tr>\n",
       "      <th>5</th>\n",
       "      <td>6</td>\n",
       "      <td>Регина</td>\n",
       "      <td>25</td>\n",
       "      <td>Краснодар</td>\n",
       "      <td>ultra</td>\n",
       "    </tr>\n",
       "    <tr>\n",
       "      <th>6</th>\n",
       "      <td>7</td>\n",
       "      <td>Игорь</td>\n",
       "      <td>23</td>\n",
       "      <td>Омск</td>\n",
       "      <td>ultra</td>\n",
       "    </tr>\n",
       "    <tr>\n",
       "      <th>7</th>\n",
       "      <td>8</td>\n",
       "      <td>Юрий</td>\n",
       "      <td>23</td>\n",
       "      <td>Краснодар</td>\n",
       "      <td>ultra</td>\n",
       "    </tr>\n",
       "    <tr>\n",
       "      <th>8</th>\n",
       "      <td>9</td>\n",
       "      <td>Ян</td>\n",
       "      <td>21</td>\n",
       "      <td>Пятигорск</td>\n",
       "      <td>ultra</td>\n",
       "    </tr>\n",
       "    <tr>\n",
       "      <th>9</th>\n",
       "      <td>10</td>\n",
       "      <td>Валерий</td>\n",
       "      <td>18</td>\n",
       "      <td>Екатеринбург</td>\n",
       "      <td>ultra</td>\n",
       "    </tr>\n",
       "  </tbody>\n",
       "</table>\n",
       "</div>"
      ],
      "text/plain": [
       "   user_id        name  age            city subscription_type\n",
       "0        1        Кира   22          Тюмень             ultra\n",
       "1        2   Станислав   31            Омск             ultra\n",
       "2        3     Алексей   20          Москва             ultra\n",
       "3        4  Константин   26  Ростов-на-Дону             ultra\n",
       "4        5       Адель   28            Омск             ultra\n",
       "5        6      Регина   25       Краснодар             ultra\n",
       "6        7       Игорь   23            Омск             ultra\n",
       "7        8        Юрий   23       Краснодар             ultra\n",
       "8        9          Ян   21       Пятигорск             ultra\n",
       "9       10     Валерий   18    Екатеринбург             ultra"
      ]
     },
     "execution_count": 3,
     "metadata": {},
     "output_type": "execute_result"
    }
   ],
   "source": [
    "data_users.head(10)"
   ]
  },
  {
   "cell_type": "code",
   "execution_count": 4,
   "id": "95af2070",
   "metadata": {},
   "outputs": [
    {
     "name": "stdout",
     "output_type": "stream",
     "text": [
      "<class 'pandas.core.frame.DataFrame'>\n",
      "RangeIndex: 1565 entries, 0 to 1564\n",
      "Data columns (total 5 columns):\n",
      " #   Column             Non-Null Count  Dtype \n",
      "---  ------             --------------  ----- \n",
      " 0   user_id            1565 non-null   int64 \n",
      " 1   name               1565 non-null   object\n",
      " 2   age                1565 non-null   int64 \n",
      " 3   city               1565 non-null   object\n",
      " 4   subscription_type  1565 non-null   object\n",
      "dtypes: int64(2), object(3)\n",
      "memory usage: 61.3+ KB\n"
     ]
    }
   ],
   "source": [
    "data_users.info()"
   ]
  },
  {
   "cell_type": "code",
   "execution_count": 5,
   "id": "acf39789",
   "metadata": {},
   "outputs": [
    {
     "data": {
      "text/html": [
       "<div>\n",
       "<style scoped>\n",
       "    .dataframe tbody tr th:only-of-type {\n",
       "        vertical-align: middle;\n",
       "    }\n",
       "\n",
       "    .dataframe tbody tr th {\n",
       "        vertical-align: top;\n",
       "    }\n",
       "\n",
       "    .dataframe thead th {\n",
       "        text-align: right;\n",
       "    }\n",
       "</style>\n",
       "<table border=\"1\" class=\"dataframe\">\n",
       "  <thead>\n",
       "    <tr style=\"text-align: right;\">\n",
       "      <th></th>\n",
       "      <th>user_id</th>\n",
       "      <th>distance</th>\n",
       "      <th>duration</th>\n",
       "      <th>date</th>\n",
       "    </tr>\n",
       "  </thead>\n",
       "  <tbody>\n",
       "    <tr>\n",
       "      <th>0</th>\n",
       "      <td>1</td>\n",
       "      <td>4409.919140</td>\n",
       "      <td>25.599769</td>\n",
       "      <td>2021-01-01</td>\n",
       "    </tr>\n",
       "    <tr>\n",
       "      <th>1</th>\n",
       "      <td>1</td>\n",
       "      <td>2617.592153</td>\n",
       "      <td>15.816871</td>\n",
       "      <td>2021-01-18</td>\n",
       "    </tr>\n",
       "    <tr>\n",
       "      <th>2</th>\n",
       "      <td>1</td>\n",
       "      <td>754.159807</td>\n",
       "      <td>6.232113</td>\n",
       "      <td>2021-04-20</td>\n",
       "    </tr>\n",
       "    <tr>\n",
       "      <th>3</th>\n",
       "      <td>1</td>\n",
       "      <td>2694.783254</td>\n",
       "      <td>18.511000</td>\n",
       "      <td>2021-08-11</td>\n",
       "    </tr>\n",
       "    <tr>\n",
       "      <th>4</th>\n",
       "      <td>1</td>\n",
       "      <td>4028.687306</td>\n",
       "      <td>26.265803</td>\n",
       "      <td>2021-08-28</td>\n",
       "    </tr>\n",
       "    <tr>\n",
       "      <th>5</th>\n",
       "      <td>1</td>\n",
       "      <td>2770.890808</td>\n",
       "      <td>16.650138</td>\n",
       "      <td>2021-10-09</td>\n",
       "    </tr>\n",
       "    <tr>\n",
       "      <th>6</th>\n",
       "      <td>1</td>\n",
       "      <td>3039.020292</td>\n",
       "      <td>14.927879</td>\n",
       "      <td>2021-10-19</td>\n",
       "    </tr>\n",
       "    <tr>\n",
       "      <th>7</th>\n",
       "      <td>1</td>\n",
       "      <td>2842.118050</td>\n",
       "      <td>23.117468</td>\n",
       "      <td>2021-11-06</td>\n",
       "    </tr>\n",
       "    <tr>\n",
       "      <th>8</th>\n",
       "      <td>1</td>\n",
       "      <td>3412.690668</td>\n",
       "      <td>15.238072</td>\n",
       "      <td>2021-11-14</td>\n",
       "    </tr>\n",
       "    <tr>\n",
       "      <th>9</th>\n",
       "      <td>1</td>\n",
       "      <td>748.690645</td>\n",
       "      <td>15.041884</td>\n",
       "      <td>2021-11-22</td>\n",
       "    </tr>\n",
       "  </tbody>\n",
       "</table>\n",
       "</div>"
      ],
      "text/plain": [
       "   user_id     distance   duration        date\n",
       "0        1  4409.919140  25.599769  2021-01-01\n",
       "1        1  2617.592153  15.816871  2021-01-18\n",
       "2        1   754.159807   6.232113  2021-04-20\n",
       "3        1  2694.783254  18.511000  2021-08-11\n",
       "4        1  4028.687306  26.265803  2021-08-28\n",
       "5        1  2770.890808  16.650138  2021-10-09\n",
       "6        1  3039.020292  14.927879  2021-10-19\n",
       "7        1  2842.118050  23.117468  2021-11-06\n",
       "8        1  3412.690668  15.238072  2021-11-14\n",
       "9        1   748.690645  15.041884  2021-11-22"
      ]
     },
     "execution_count": 5,
     "metadata": {},
     "output_type": "execute_result"
    }
   ],
   "source": [
    "data_rides.head(10)"
   ]
  },
  {
   "cell_type": "code",
   "execution_count": 6,
   "id": "648ab6e3",
   "metadata": {
    "scrolled": true
   },
   "outputs": [
    {
     "name": "stdout",
     "output_type": "stream",
     "text": [
      "<class 'pandas.core.frame.DataFrame'>\n",
      "RangeIndex: 18068 entries, 0 to 18067\n",
      "Data columns (total 4 columns):\n",
      " #   Column    Non-Null Count  Dtype  \n",
      "---  ------    --------------  -----  \n",
      " 0   user_id   18068 non-null  int64  \n",
      " 1   distance  18068 non-null  float64\n",
      " 2   duration  18068 non-null  float64\n",
      " 3   date      18068 non-null  object \n",
      "dtypes: float64(2), int64(1), object(1)\n",
      "memory usage: 564.8+ KB\n"
     ]
    }
   ],
   "source": [
    "data_rides.info()"
   ]
  },
  {
   "cell_type": "code",
   "execution_count": 7,
   "id": "9ffb479f",
   "metadata": {
    "scrolled": true
   },
   "outputs": [
    {
     "data": {
      "text/html": [
       "<div>\n",
       "<style scoped>\n",
       "    .dataframe tbody tr th:only-of-type {\n",
       "        vertical-align: middle;\n",
       "    }\n",
       "\n",
       "    .dataframe tbody tr th {\n",
       "        vertical-align: top;\n",
       "    }\n",
       "\n",
       "    .dataframe thead th {\n",
       "        text-align: right;\n",
       "    }\n",
       "</style>\n",
       "<table border=\"1\" class=\"dataframe\">\n",
       "  <thead>\n",
       "    <tr style=\"text-align: right;\">\n",
       "      <th></th>\n",
       "      <th>subscription_type</th>\n",
       "      <th>minute_price</th>\n",
       "      <th>start_ride_price</th>\n",
       "      <th>subscription_fee</th>\n",
       "    </tr>\n",
       "  </thead>\n",
       "  <tbody>\n",
       "    <tr>\n",
       "      <th>0</th>\n",
       "      <td>free</td>\n",
       "      <td>8</td>\n",
       "      <td>50</td>\n",
       "      <td>0</td>\n",
       "    </tr>\n",
       "    <tr>\n",
       "      <th>1</th>\n",
       "      <td>ultra</td>\n",
       "      <td>6</td>\n",
       "      <td>0</td>\n",
       "      <td>199</td>\n",
       "    </tr>\n",
       "  </tbody>\n",
       "</table>\n",
       "</div>"
      ],
      "text/plain": [
       "  subscription_type  minute_price  start_ride_price  subscription_fee\n",
       "0              free             8                50                 0\n",
       "1             ultra             6                 0               199"
      ]
     },
     "execution_count": 7,
     "metadata": {},
     "output_type": "execute_result"
    }
   ],
   "source": [
    "data_subscriptions.head(10)"
   ]
  },
  {
   "cell_type": "code",
   "execution_count": 8,
   "id": "e658592f",
   "metadata": {},
   "outputs": [
    {
     "name": "stdout",
     "output_type": "stream",
     "text": [
      "<class 'pandas.core.frame.DataFrame'>\n",
      "RangeIndex: 2 entries, 0 to 1\n",
      "Data columns (total 4 columns):\n",
      " #   Column             Non-Null Count  Dtype \n",
      "---  ------             --------------  ----- \n",
      " 0   subscription_type  2 non-null      object\n",
      " 1   minute_price       2 non-null      int64 \n",
      " 2   start_ride_price   2 non-null      int64 \n",
      " 3   subscription_fee   2 non-null      int64 \n",
      "dtypes: int64(3), object(1)\n",
      "memory usage: 192.0+ bytes\n"
     ]
    }
   ],
   "source": [
    "data_subscriptions.info()"
   ]
  },
  {
   "cell_type": "markdown",
   "id": "16fad40e",
   "metadata": {},
   "source": [
    "По итоги превадрительного просмотра данных, не выявленно пропусков в данных"
   ]
  },
  {
   "cell_type": "markdown",
   "id": "e95ebca7",
   "metadata": {},
   "source": [
    "## Шаг 2. Предобработка данных"
   ]
  },
  {
   "cell_type": "markdown",
   "id": "19185eb3",
   "metadata": {},
   "source": [
    "### Проверка на пропуски"
   ]
  },
  {
   "cell_type": "code",
   "execution_count": 9,
   "id": "c05a65dc",
   "metadata": {},
   "outputs": [
    {
     "data": {
      "text/plain": [
       "user_id              0\n",
       "name                 0\n",
       "age                  0\n",
       "city                 0\n",
       "subscription_type    0\n",
       "dtype: int64"
      ]
     },
     "execution_count": 9,
     "metadata": {},
     "output_type": "execute_result"
    }
   ],
   "source": [
    "data_users.isna().sum()"
   ]
  },
  {
   "cell_type": "markdown",
   "id": "7f227348",
   "metadata": {},
   "source": []
  },
  {
   "cell_type": "code",
   "execution_count": 10,
   "id": "85148c0b",
   "metadata": {},
   "outputs": [
    {
     "data": {
      "text/plain": [
       "user_id     0\n",
       "distance    0\n",
       "duration    0\n",
       "date        0\n",
       "dtype: int64"
      ]
     },
     "execution_count": 10,
     "metadata": {},
     "output_type": "execute_result"
    }
   ],
   "source": [
    "data_rides.isna().sum()"
   ]
  },
  {
   "cell_type": "code",
   "execution_count": 11,
   "id": "4ac969c2",
   "metadata": {},
   "outputs": [
    {
     "data": {
      "text/plain": [
       "subscription_type    0\n",
       "minute_price         0\n",
       "start_ride_price     0\n",
       "subscription_fee     0\n",
       "dtype: int64"
      ]
     },
     "execution_count": 11,
     "metadata": {},
     "output_type": "execute_result"
    }
   ],
   "source": [
    "data_subscriptions.isna().sum()"
   ]
  },
  {
   "cell_type": "markdown",
   "id": "94dea84f",
   "metadata": {},
   "source": [
    "Пропуски в данных не обнаружены "
   ]
  },
  {
   "cell_type": "markdown",
   "id": "89d6d1f0",
   "metadata": {},
   "source": [
    "### Переводим столбец date в формат pandas"
   ]
  },
  {
   "cell_type": "code",
   "execution_count": 12,
   "id": "1a220d44",
   "metadata": {
    "scrolled": true
   },
   "outputs": [
    {
     "name": "stdout",
     "output_type": "stream",
     "text": [
      "<class 'pandas.core.frame.DataFrame'>\n",
      "RangeIndex: 18068 entries, 0 to 18067\n",
      "Data columns (total 4 columns):\n",
      " #   Column    Non-Null Count  Dtype         \n",
      "---  ------    --------------  -----         \n",
      " 0   user_id   18068 non-null  int64         \n",
      " 1   distance  18068 non-null  float64       \n",
      " 2   duration  18068 non-null  float64       \n",
      " 3   date      18068 non-null  datetime64[ns]\n",
      "dtypes: datetime64[ns](1), float64(2), int64(1)\n",
      "memory usage: 564.8 KB\n"
     ]
    }
   ],
   "source": [
    "data_rides['date'] = pd.to_datetime(\n",
    "    data_rides['date'], format='%Y-%m-%d'\n",
    ")\n",
    "data_rides.head()\n",
    "data_rides.info()"
   ]
  },
  {
   "cell_type": "markdown",
   "id": "4d17f035",
   "metadata": {},
   "source": [
    "### Добавляем столбец с номером месяца"
   ]
  },
  {
   "cell_type": "code",
   "execution_count": 13,
   "id": "954a4b4b",
   "metadata": {
    "scrolled": false
   },
   "outputs": [
    {
     "name": "stdout",
     "output_type": "stream",
     "text": [
      "Данные находятся в периоде с 2021-01-01 00:00:00 по 2021-12-30 00:00:00\n"
     ]
    },
    {
     "data": {
      "text/html": [
       "<div>\n",
       "<style scoped>\n",
       "    .dataframe tbody tr th:only-of-type {\n",
       "        vertical-align: middle;\n",
       "    }\n",
       "\n",
       "    .dataframe tbody tr th {\n",
       "        vertical-align: top;\n",
       "    }\n",
       "\n",
       "    .dataframe thead th {\n",
       "        text-align: right;\n",
       "    }\n",
       "</style>\n",
       "<table border=\"1\" class=\"dataframe\">\n",
       "  <thead>\n",
       "    <tr style=\"text-align: right;\">\n",
       "      <th></th>\n",
       "      <th>user_id</th>\n",
       "      <th>distance</th>\n",
       "      <th>duration</th>\n",
       "      <th>date</th>\n",
       "      <th>month</th>\n",
       "    </tr>\n",
       "  </thead>\n",
       "  <tbody>\n",
       "    <tr>\n",
       "      <th>0</th>\n",
       "      <td>1</td>\n",
       "      <td>4409.919140</td>\n",
       "      <td>25.599769</td>\n",
       "      <td>2021-01-01</td>\n",
       "      <td>1</td>\n",
       "    </tr>\n",
       "    <tr>\n",
       "      <th>1</th>\n",
       "      <td>1</td>\n",
       "      <td>2617.592153</td>\n",
       "      <td>15.816871</td>\n",
       "      <td>2021-01-18</td>\n",
       "      <td>1</td>\n",
       "    </tr>\n",
       "    <tr>\n",
       "      <th>2</th>\n",
       "      <td>1</td>\n",
       "      <td>754.159807</td>\n",
       "      <td>6.232113</td>\n",
       "      <td>2021-04-20</td>\n",
       "      <td>4</td>\n",
       "    </tr>\n",
       "    <tr>\n",
       "      <th>3</th>\n",
       "      <td>1</td>\n",
       "      <td>2694.783254</td>\n",
       "      <td>18.511000</td>\n",
       "      <td>2021-08-11</td>\n",
       "      <td>8</td>\n",
       "    </tr>\n",
       "    <tr>\n",
       "      <th>4</th>\n",
       "      <td>1</td>\n",
       "      <td>4028.687306</td>\n",
       "      <td>26.265803</td>\n",
       "      <td>2021-08-28</td>\n",
       "      <td>8</td>\n",
       "    </tr>\n",
       "  </tbody>\n",
       "</table>\n",
       "</div>"
      ],
      "text/plain": [
       "   user_id     distance   duration       date  month\n",
       "0        1  4409.919140  25.599769 2021-01-01      1\n",
       "1        1  2617.592153  15.816871 2021-01-18      1\n",
       "2        1   754.159807   6.232113 2021-04-20      4\n",
       "3        1  2694.783254  18.511000 2021-08-11      8\n",
       "4        1  4028.687306  26.265803 2021-08-28      8"
      ]
     },
     "execution_count": 13,
     "metadata": {},
     "output_type": "execute_result"
    }
   ],
   "source": [
    "data_rides['month'] = pd.DatetimeIndex(data_rides['date']).month\n",
    "data_rides.sort_values('date')\n",
    "min_date = data_rides['date'].min()\n",
    "max_date = data_rides['date'].max()\n",
    "print('Данные находятся в периоде с', min_date, \"по\", max_date)\n",
    "data_rides.head()"
   ]
  },
  {
   "cell_type": "markdown",
   "id": "fcac4834",
   "metadata": {},
   "source": [
    "### Проверим на наличие дубликатов"
   ]
  },
  {
   "cell_type": "code",
   "execution_count": 14,
   "id": "8c6dba79",
   "metadata": {},
   "outputs": [
    {
     "data": {
      "text/plain": [
       "0"
      ]
     },
     "execution_count": 14,
     "metadata": {},
     "output_type": "execute_result"
    }
   ],
   "source": [
    "data_rides.duplicated().sum()"
   ]
  },
  {
   "cell_type": "code",
   "execution_count": 15,
   "id": "3c3e0a7c",
   "metadata": {},
   "outputs": [
    {
     "data": {
      "text/plain": [
       "31"
      ]
     },
     "execution_count": 15,
     "metadata": {},
     "output_type": "execute_result"
    }
   ],
   "source": [
    "data_users.duplicated().sum()"
   ]
  },
  {
   "cell_type": "code",
   "execution_count": 16,
   "id": "a8b2596e",
   "metadata": {},
   "outputs": [
    {
     "data": {
      "text/plain": [
       "0"
      ]
     },
     "execution_count": 16,
     "metadata": {},
     "output_type": "execute_result"
    }
   ],
   "source": [
    "data_subscriptions.duplicated().sum()"
   ]
  },
  {
   "cell_type": "markdown",
   "id": "86b3fe37",
   "metadata": {},
   "source": [
    "Обнаружены в дубликаты data_users.Удалим их."
   ]
  },
  {
   "cell_type": "code",
   "execution_count": 17,
   "id": "54cf125f",
   "metadata": {
    "scrolled": true
   },
   "outputs": [
    {
     "data": {
      "text/plain": [
       "0"
      ]
     },
     "execution_count": 17,
     "metadata": {},
     "output_type": "execute_result"
    }
   ],
   "source": [
    "data_users_clean = data_users.drop_duplicates(subset = ['user_id'])\n",
    "data_users_clean.duplicated().sum()"
   ]
  },
  {
   "cell_type": "markdown",
   "id": "36055c8a",
   "metadata": {},
   "source": [
    "Данные очищены. Приступим к исследованию"
   ]
  },
  {
   "cell_type": "markdown",
   "id": "2999b7e3",
   "metadata": {},
   "source": [
    "Данные представлены в хорошем состояни. за исключением небольго кол-ва дубликатов все в порядке."
   ]
  },
  {
   "cell_type": "markdown",
   "id": "9ae2abeb",
   "metadata": {},
   "source": [
    "## Исследовательский анализ данных"
   ]
  },
  {
   "cell_type": "markdown",
   "id": "331ef923",
   "metadata": {},
   "source": [
    "### Проверим частоту встречаемых городов"
   ]
  },
  {
   "cell_type": "code",
   "execution_count": 18,
   "id": "6dd6b627",
   "metadata": {
    "scrolled": false
   },
   "outputs": [
    {
     "data": {
      "text/html": [
       "<div>\n",
       "<style scoped>\n",
       "    .dataframe tbody tr th:only-of-type {\n",
       "        vertical-align: middle;\n",
       "    }\n",
       "\n",
       "    .dataframe tbody tr th {\n",
       "        vertical-align: top;\n",
       "    }\n",
       "\n",
       "    .dataframe thead th {\n",
       "        text-align: right;\n",
       "    }\n",
       "</style>\n",
       "<table border=\"1\" class=\"dataframe\">\n",
       "  <thead>\n",
       "    <tr style=\"text-align: right;\">\n",
       "      <th></th>\n",
       "      <th>count</th>\n",
       "      <th>sum</th>\n",
       "    </tr>\n",
       "    <tr>\n",
       "      <th>city</th>\n",
       "      <th></th>\n",
       "      <th></th>\n",
       "    </tr>\n",
       "  </thead>\n",
       "  <tbody>\n",
       "    <tr>\n",
       "      <th>Пятигорск</th>\n",
       "      <td>219</td>\n",
       "      <td>169990</td>\n",
       "    </tr>\n",
       "    <tr>\n",
       "      <th>Екатеринбург</th>\n",
       "      <td>204</td>\n",
       "      <td>158621</td>\n",
       "    </tr>\n",
       "    <tr>\n",
       "      <th>Краснодар</th>\n",
       "      <td>193</td>\n",
       "      <td>155476</td>\n",
       "    </tr>\n",
       "    <tr>\n",
       "      <th>Ростов-на-Дону</th>\n",
       "      <td>198</td>\n",
       "      <td>148577</td>\n",
       "    </tr>\n",
       "    <tr>\n",
       "      <th>Сочи</th>\n",
       "      <td>189</td>\n",
       "      <td>146432</td>\n",
       "    </tr>\n",
       "    <tr>\n",
       "      <th>Тюмень</th>\n",
       "      <td>180</td>\n",
       "      <td>139953</td>\n",
       "    </tr>\n",
       "    <tr>\n",
       "      <th>Омск</th>\n",
       "      <td>183</td>\n",
       "      <td>132970</td>\n",
       "    </tr>\n",
       "    <tr>\n",
       "      <th>Москва</th>\n",
       "      <td>168</td>\n",
       "      <td>125326</td>\n",
       "    </tr>\n",
       "  </tbody>\n",
       "</table>\n",
       "</div>"
      ],
      "text/plain": [
       "                count     sum\n",
       "city                         \n",
       "Пятигорск         219  169990\n",
       "Екатеринбург      204  158621\n",
       "Краснодар         193  155476\n",
       "Ростов-на-Дону    198  148577\n",
       "Сочи              189  146432\n",
       "Тюмень            180  139953\n",
       "Омск              183  132970\n",
       "Москва            168  125326"
      ]
     },
     "execution_count": 18,
     "metadata": {},
     "output_type": "execute_result"
    },
    {
     "data": {
      "image/png": "[encoded data removed]",
      "text/plain": [
       "<Figure size 864x360 with 1 Axes>"
      ]
     },
     "metadata": {
      "needs_background": "light"
     },
     "output_type": "display_data"
    }
   ],
   "source": [
    "data_for_plot = data_users_clean.\\\n",
    "groupby('city')['user_id'].agg(['count','sum']).\\\n",
    "sort_values(by='sum',ascending=False)\n",
    "\n",
    "data_users_plot = data_for_plot.plot(grid=True,figsize=(12, 5),kind='bar')\n",
    "\n",
    "data_users_plot\n",
    "data_for_plot\n"
   ]
  },
  {
   "cell_type": "markdown",
   "id": "e4610ccb",
   "metadata": {},
   "source": [
    "Можно выделить тройку городов лидеров по кол-ву встречаемых пользолвателей:Пятигорск,Екатеренбург,Ростов-на-Дону"
   ]
  },
  {
   "cell_type": "code",
   "execution_count": 19,
   "id": "25771a1e",
   "metadata": {},
   "outputs": [
    {
     "data": {
      "image/png": "[encoded data removed]",
      "text/plain": [
       "<Figure size 1080x360 with 1 Axes>"
      ]
     },
     "metadata": {
      "needs_background": "light"
     },
     "output_type": "display_data"
    }
   ],
   "source": [
    "# Код ревьюера\n",
    "data_users['city'].value_counts().plot(\n",
    "    kind= 'bar',\n",
    "    figsize= (15,5),\n",
    "    title= 'График частоты встречаемости городов', rot = 0)\n",
    "\n",
    "\n",
    "plt.xlabel('Города')\n",
    "plt.ylabel('Частота')\n",
    "\n",
    "plt.show()\n"
   ]
  },
  {
   "cell_type": "markdown",
   "id": "24073423",
   "metadata": {},
   "source": [
    "### Проверим соотношение пользователей с подпиской и без подписки"
   ]
  },
  {
   "cell_type": "code",
   "execution_count": 20,
   "id": "a3eb4691",
   "metadata": {
    "scrolled": false
   },
   "outputs": [
    {
     "data": {
      "image/png": "[encoded data removed]",
      "text/plain": [
       "<Figure size 360x360 with 1 Axes>"
      ]
     },
     "metadata": {},
     "output_type": "display_data"
    }
   ],
   "source": [
    "data_users['subscription_type'].value_counts(normalize=True).plot(kind='pie',figsize=(5, 5),autopct='%1.0f%%');\n",
    "                                                                 "
   ]
  },
  {
   "cell_type": "markdown",
   "id": "1571f1a7",
   "metadata": {},
   "source": [
    "кол-во пользователей без подписки превышает платных пользователей. Что является логичным, так как не все пользователи могут пользоваться самокатом на постоянной основе."
   ]
  },
  {
   "cell_type": "markdown",
   "id": "83f72348",
   "metadata": {},
   "source": [
    "### Проверим основную группу пользователей по возрасту"
   ]
  },
  {
   "cell_type": "code",
   "execution_count": 21,
   "id": "67fa9499",
   "metadata": {
    "scrolled": false
   },
   "outputs": [
    {
     "data": {
      "image/png": "[encoded data removed]",
      "text/plain": [
       "<Figure size 1080x360 with 1 Axes>"
      ]
     },
     "metadata": {
      "needs_background": "light"
     },
     "output_type": "display_data"
    }
   ],
   "source": [
    "data_users['age'].hist(figsize=(15,5), bins = 30);\n",
    "\n",
    "plt.xlabel('age')\n",
    "plt.ylabel('Count')\n",
    "\n",
    "plt.show()\n"
   ]
  },
  {
   "cell_type": "markdown",
   "id": "0ded1954",
   "metadata": {},
   "source": [
    "кол-во пользователей с 20 до 30 лет составляют основную группу пользователей "
   ]
  },
  {
   "cell_type": "markdown",
   "id": "bed124c9",
   "metadata": {},
   "source": [
    "### Посмотрим на  расстояние, которое пользователь преодолел за одну поездку;"
   ]
  },
  {
   "cell_type": "code",
   "execution_count": 22,
   "id": "d7fda26c",
   "metadata": {},
   "outputs": [
    {
     "data": {
      "image/png": "[encoded data removed]",
      "text/plain": [
       "<Figure size 1080x360 with 1 Axes>"
      ]
     },
     "metadata": {
      "needs_background": "light"
     },
     "output_type": "display_data"
    }
   ],
   "source": [
    "data_rides['distance'].hist(figsize=(15,5), bins = 50);\n",
    "\n",
    "plt.xlabel('distance')\n",
    "plt.ylabel('Count')\n",
    "\n",
    "plt.show()\n"
   ]
  },
  {
   "cell_type": "markdown",
   "id": "1af0dd8b",
   "metadata": {},
   "source": [
    "Есть группа, которая преодолевает в среднем 500 метров. Интересно поверить на выбросы эти данные."
   ]
  },
  {
   "cell_type": "code",
   "execution_count": 23,
   "id": "019f41da",
   "metadata": {},
   "outputs": [
    {
     "data": {
      "text/plain": [
       "count    18068.000000\n",
       "mean      3070.659976\n",
       "std       1116.831209\n",
       "min          0.855683\n",
       "25%       2543.226360\n",
       "50%       3133.609994\n",
       "75%       3776.222735\n",
       "max       7211.007745\n",
       "Name: distance, dtype: float64"
      ]
     },
     "execution_count": 23,
     "metadata": {},
     "output_type": "execute_result"
    },
    {
     "data": {
      "image/png": "[encoded data removed]",
      "text/plain": [
       "<Figure size 432x288 with 1 Axes>"
      ]
     },
     "metadata": {
      "needs_background": "light"
     },
     "output_type": "display_data"
    }
   ],
   "source": [
    "data_rides.boxplot(column=['distance']);\n",
    "data_rides['distance'].describe()"
   ]
  },
  {
   "cell_type": "markdown",
   "id": "4bbddf6e",
   "metadata": {},
   "source": [
    "Выбросы находятся до 1000 метров и больше 5500."
   ]
  },
  {
   "cell_type": "markdown",
   "id": "5789c384",
   "metadata": {},
   "source": [
    "Основное расстояние преодолеваемое пользователями составляет от 2500 до 4000 метров. "
   ]
  },
  {
   "cell_type": "markdown",
   "id": "79a76731",
   "metadata": {},
   "source": [
    "### Оценим продолжительность поездок"
   ]
  },
  {
   "cell_type": "code",
   "execution_count": 24,
   "id": "90adb4f9",
   "metadata": {},
   "outputs": [
    {
     "data": {
      "image/png": "[encoded data removed]",
      "text/plain": [
       "<Figure size 1080x360 with 1 Axes>"
      ]
     },
     "metadata": {
      "needs_background": "light"
     },
     "output_type": "display_data"
    }
   ],
   "source": [
    "data_rides['duration'].hist(figsize=(15,5), bins = 100);\n",
    "\n",
    "plt.xlabel('duration')\n",
    "plt.ylabel('Count')\n",
    "\n",
    "plt.show()\n"
   ]
  },
  {
   "cell_type": "markdown",
   "id": "68eb1b8d",
   "metadata": {},
   "source": [
    "Также наблюдаются выбросы.Проверим."
   ]
  },
  {
   "cell_type": "code",
   "execution_count": 25,
   "id": "3332eeed",
   "metadata": {},
   "outputs": [
    {
     "data": {
      "text/plain": [
       "count    18068.000000\n",
       "mean        17.805011\n",
       "std          6.091051\n",
       "min          0.500000\n",
       "25%         13.597563\n",
       "50%         17.678395\n",
       "75%         21.724800\n",
       "max         40.823963\n",
       "Name: duration, dtype: float64"
      ]
     },
     "execution_count": 25,
     "metadata": {},
     "output_type": "execute_result"
    },
    {
     "data": {
      "image/png": "[encoded data removed]",
      "text/plain": [
       "<Figure size 432x288 with 1 Axes>"
      ]
     },
     "metadata": {
      "needs_background": "light"
     },
     "output_type": "display_data"
    }
   ],
   "source": [
    "data_rides.boxplot(column=['duration']);\n",
    "data_rides['duration'].describe()"
   ]
  },
  {
   "cell_type": "markdown",
   "id": "aff7481b",
   "metadata": {},
   "source": [
    "Чтобы не сокращать данные больше, удалим только нижний выброс"
   ]
  },
  {
   "cell_type": "markdown",
   "id": "fe132443",
   "metadata": {},
   "source": [
    "Основное распределение времени идет в диапазаоне от 15 до 20 минут."
   ]
  },
  {
   "cell_type": "markdown",
   "id": "f42127e1",
   "metadata": {},
   "source": [
    "Данные очищены.Перейдем к следующему шагу."
   ]
  },
  {
   "cell_type": "markdown",
   "id": "4ef51331",
   "metadata": {},
   "source": [
    "### Объединение данных"
   ]
  },
  {
   "cell_type": "code",
   "execution_count": 26,
   "id": "6bf288b5",
   "metadata": {},
   "outputs": [],
   "source": [
    "data = data_users_clean.merge(data_rides, on='user_id',how='left')"
   ]
  },
  {
   "cell_type": "code",
   "execution_count": 27,
   "id": "11e285a2",
   "metadata": {
    "scrolled": false
   },
   "outputs": [
    {
     "data": {
      "text/html": [
       "<div>\n",
       "<style scoped>\n",
       "    .dataframe tbody tr th:only-of-type {\n",
       "        vertical-align: middle;\n",
       "    }\n",
       "\n",
       "    .dataframe tbody tr th {\n",
       "        vertical-align: top;\n",
       "    }\n",
       "\n",
       "    .dataframe thead th {\n",
       "        text-align: right;\n",
       "    }\n",
       "</style>\n",
       "<table border=\"1\" class=\"dataframe\">\n",
       "  <thead>\n",
       "    <tr style=\"text-align: right;\">\n",
       "      <th></th>\n",
       "      <th>user_id</th>\n",
       "      <th>name</th>\n",
       "      <th>age</th>\n",
       "      <th>city</th>\n",
       "      <th>subscription_type</th>\n",
       "      <th>distance</th>\n",
       "      <th>duration</th>\n",
       "      <th>date</th>\n",
       "      <th>month</th>\n",
       "      <th>minute_price</th>\n",
       "      <th>start_ride_price</th>\n",
       "      <th>subscription_fee</th>\n",
       "    </tr>\n",
       "  </thead>\n",
       "  <tbody>\n",
       "    <tr>\n",
       "      <th>0</th>\n",
       "      <td>1</td>\n",
       "      <td>Кира</td>\n",
       "      <td>22</td>\n",
       "      <td>Тюмень</td>\n",
       "      <td>ultra</td>\n",
       "      <td>4409.919140</td>\n",
       "      <td>25.599769</td>\n",
       "      <td>2021-01-01</td>\n",
       "      <td>1</td>\n",
       "      <td>6</td>\n",
       "      <td>0</td>\n",
       "      <td>199</td>\n",
       "    </tr>\n",
       "    <tr>\n",
       "      <th>1</th>\n",
       "      <td>1</td>\n",
       "      <td>Кира</td>\n",
       "      <td>22</td>\n",
       "      <td>Тюмень</td>\n",
       "      <td>ultra</td>\n",
       "      <td>2617.592153</td>\n",
       "      <td>15.816871</td>\n",
       "      <td>2021-01-18</td>\n",
       "      <td>1</td>\n",
       "      <td>6</td>\n",
       "      <td>0</td>\n",
       "      <td>199</td>\n",
       "    </tr>\n",
       "    <tr>\n",
       "      <th>2</th>\n",
       "      <td>1</td>\n",
       "      <td>Кира</td>\n",
       "      <td>22</td>\n",
       "      <td>Тюмень</td>\n",
       "      <td>ultra</td>\n",
       "      <td>754.159807</td>\n",
       "      <td>6.232113</td>\n",
       "      <td>2021-04-20</td>\n",
       "      <td>4</td>\n",
       "      <td>6</td>\n",
       "      <td>0</td>\n",
       "      <td>199</td>\n",
       "    </tr>\n",
       "    <tr>\n",
       "      <th>3</th>\n",
       "      <td>1</td>\n",
       "      <td>Кира</td>\n",
       "      <td>22</td>\n",
       "      <td>Тюмень</td>\n",
       "      <td>ultra</td>\n",
       "      <td>2694.783254</td>\n",
       "      <td>18.511000</td>\n",
       "      <td>2021-08-11</td>\n",
       "      <td>8</td>\n",
       "      <td>6</td>\n",
       "      <td>0</td>\n",
       "      <td>199</td>\n",
       "    </tr>\n",
       "    <tr>\n",
       "      <th>4</th>\n",
       "      <td>1</td>\n",
       "      <td>Кира</td>\n",
       "      <td>22</td>\n",
       "      <td>Тюмень</td>\n",
       "      <td>ultra</td>\n",
       "      <td>4028.687306</td>\n",
       "      <td>26.265803</td>\n",
       "      <td>2021-08-28</td>\n",
       "      <td>8</td>\n",
       "      <td>6</td>\n",
       "      <td>0</td>\n",
       "      <td>199</td>\n",
       "    </tr>\n",
       "    <tr>\n",
       "      <th>...</th>\n",
       "      <td>...</td>\n",
       "      <td>...</td>\n",
       "      <td>...</td>\n",
       "      <td>...</td>\n",
       "      <td>...</td>\n",
       "      <td>...</td>\n",
       "      <td>...</td>\n",
       "      <td>...</td>\n",
       "      <td>...</td>\n",
       "      <td>...</td>\n",
       "      <td>...</td>\n",
       "      <td>...</td>\n",
       "    </tr>\n",
       "    <tr>\n",
       "      <th>18063</th>\n",
       "      <td>1534</td>\n",
       "      <td>Альберт</td>\n",
       "      <td>25</td>\n",
       "      <td>Краснодар</td>\n",
       "      <td>free</td>\n",
       "      <td>3781.098080</td>\n",
       "      <td>19.822962</td>\n",
       "      <td>2021-11-04</td>\n",
       "      <td>11</td>\n",
       "      <td>8</td>\n",
       "      <td>50</td>\n",
       "      <td>0</td>\n",
       "    </tr>\n",
       "    <tr>\n",
       "      <th>18064</th>\n",
       "      <td>1534</td>\n",
       "      <td>Альберт</td>\n",
       "      <td>25</td>\n",
       "      <td>Краснодар</td>\n",
       "      <td>free</td>\n",
       "      <td>2840.423057</td>\n",
       "      <td>21.409799</td>\n",
       "      <td>2021-11-16</td>\n",
       "      <td>11</td>\n",
       "      <td>8</td>\n",
       "      <td>50</td>\n",
       "      <td>0</td>\n",
       "    </tr>\n",
       "    <tr>\n",
       "      <th>18065</th>\n",
       "      <td>1534</td>\n",
       "      <td>Альберт</td>\n",
       "      <td>25</td>\n",
       "      <td>Краснодар</td>\n",
       "      <td>free</td>\n",
       "      <td>3826.185507</td>\n",
       "      <td>18.435051</td>\n",
       "      <td>2021-11-18</td>\n",
       "      <td>11</td>\n",
       "      <td>8</td>\n",
       "      <td>50</td>\n",
       "      <td>0</td>\n",
       "    </tr>\n",
       "    <tr>\n",
       "      <th>18066</th>\n",
       "      <td>1534</td>\n",
       "      <td>Альберт</td>\n",
       "      <td>25</td>\n",
       "      <td>Краснодар</td>\n",
       "      <td>free</td>\n",
       "      <td>2902.308661</td>\n",
       "      <td>16.674362</td>\n",
       "      <td>2021-11-27</td>\n",
       "      <td>11</td>\n",
       "      <td>8</td>\n",
       "      <td>50</td>\n",
       "      <td>0</td>\n",
       "    </tr>\n",
       "    <tr>\n",
       "      <th>18067</th>\n",
       "      <td>1534</td>\n",
       "      <td>Альберт</td>\n",
       "      <td>25</td>\n",
       "      <td>Краснодар</td>\n",
       "      <td>free</td>\n",
       "      <td>2371.711192</td>\n",
       "      <td>15.893917</td>\n",
       "      <td>2021-12-29</td>\n",
       "      <td>12</td>\n",
       "      <td>8</td>\n",
       "      <td>50</td>\n",
       "      <td>0</td>\n",
       "    </tr>\n",
       "  </tbody>\n",
       "</table>\n",
       "<p>18068 rows × 12 columns</p>\n",
       "</div>"
      ],
      "text/plain": [
       "       user_id     name  age       city subscription_type     distance  \\\n",
       "0            1     Кира   22     Тюмень             ultra  4409.919140   \n",
       "1            1     Кира   22     Тюмень             ultra  2617.592153   \n",
       "2            1     Кира   22     Тюмень             ultra   754.159807   \n",
       "3            1     Кира   22     Тюмень             ultra  2694.783254   \n",
       "4            1     Кира   22     Тюмень             ultra  4028.687306   \n",
       "...        ...      ...  ...        ...               ...          ...   \n",
       "18063     1534  Альберт   25  Краснодар              free  3781.098080   \n",
       "18064     1534  Альберт   25  Краснодар              free  2840.423057   \n",
       "18065     1534  Альберт   25  Краснодар              free  3826.185507   \n",
       "18066     1534  Альберт   25  Краснодар              free  2902.308661   \n",
       "18067     1534  Альберт   25  Краснодар              free  2371.711192   \n",
       "\n",
       "        duration       date  month  minute_price  start_ride_price  \\\n",
       "0      25.599769 2021-01-01      1             6                 0   \n",
       "1      15.816871 2021-01-18      1             6                 0   \n",
       "2       6.232113 2021-04-20      4             6                 0   \n",
       "3      18.511000 2021-08-11      8             6                 0   \n",
       "4      26.265803 2021-08-28      8             6                 0   \n",
       "...          ...        ...    ...           ...               ...   \n",
       "18063  19.822962 2021-11-04     11             8                50   \n",
       "18064  21.409799 2021-11-16     11             8                50   \n",
       "18065  18.435051 2021-11-18     11             8                50   \n",
       "18066  16.674362 2021-11-27     11             8                50   \n",
       "18067  15.893917 2021-12-29     12             8                50   \n",
       "\n",
       "       subscription_fee  \n",
       "0                   199  \n",
       "1                   199  \n",
       "2                   199  \n",
       "3                   199  \n",
       "4                   199  \n",
       "...                 ...  \n",
       "18063                 0  \n",
       "18064                 0  \n",
       "18065                 0  \n",
       "18066                 0  \n",
       "18067                 0  \n",
       "\n",
       "[18068 rows x 12 columns]"
      ]
     },
     "execution_count": 27,
     "metadata": {},
     "output_type": "execute_result"
    }
   ],
   "source": [
    "data_merge = data.merge(data_subscriptions,on='subscription_type',how='left')\n",
    "data_merge"
   ]
  },
  {
   "cell_type": "code",
   "execution_count": 28,
   "id": "0d222d11",
   "metadata": {},
   "outputs": [
    {
     "name": "stdout",
     "output_type": "stream",
     "text": [
      "<class 'pandas.core.frame.DataFrame'>\n",
      "Int64Index: 18068 entries, 0 to 18067\n",
      "Data columns (total 12 columns):\n",
      " #   Column             Non-Null Count  Dtype         \n",
      "---  ------             --------------  -----         \n",
      " 0   user_id            18068 non-null  int64         \n",
      " 1   name               18068 non-null  object        \n",
      " 2   age                18068 non-null  int64         \n",
      " 3   city               18068 non-null  object        \n",
      " 4   subscription_type  18068 non-null  object        \n",
      " 5   distance           18068 non-null  float64       \n",
      " 6   duration           18068 non-null  float64       \n",
      " 7   date               18068 non-null  datetime64[ns]\n",
      " 8   month              18068 non-null  int64         \n",
      " 9   minute_price       18068 non-null  int64         \n",
      " 10  start_ride_price   18068 non-null  int64         \n",
      " 11  subscription_fee   18068 non-null  int64         \n",
      "dtypes: datetime64[ns](1), float64(2), int64(6), object(3)\n",
      "memory usage: 1.8+ MB\n"
     ]
    }
   ],
   "source": [
    "data_merge.info()"
   ]
  },
  {
   "cell_type": "code",
   "execution_count": 29,
   "id": "d5c8a75c",
   "metadata": {},
   "outputs": [
    {
     "data": {
      "text/plain": [
       "user_id              0\n",
       "name                 0\n",
       "age                  0\n",
       "city                 0\n",
       "subscription_type    0\n",
       "distance             0\n",
       "duration             0\n",
       "date                 0\n",
       "month                0\n",
       "minute_price         0\n",
       "start_ride_price     0\n",
       "subscription_fee     0\n",
       "dtype: int64"
      ]
     },
     "execution_count": 29,
     "metadata": {},
     "output_type": "execute_result"
    }
   ],
   "source": [
    "data_merge.isna().sum()"
   ]
  },
  {
   "cell_type": "markdown",
   "id": "d71b95e7",
   "metadata": {},
   "source": [
    "### Создадим новые датафреймы с подписками и без"
   ]
  },
  {
   "cell_type": "code",
   "execution_count": 30,
   "id": "72e7bd7f",
   "metadata": {},
   "outputs": [
    {
     "data": {
      "text/html": [
       "<div>\n",
       "<style scoped>\n",
       "    .dataframe tbody tr th:only-of-type {\n",
       "        vertical-align: middle;\n",
       "    }\n",
       "\n",
       "    .dataframe tbody tr th {\n",
       "        vertical-align: top;\n",
       "    }\n",
       "\n",
       "    .dataframe thead th {\n",
       "        text-align: right;\n",
       "    }\n",
       "</style>\n",
       "<table border=\"1\" class=\"dataframe\">\n",
       "  <thead>\n",
       "    <tr style=\"text-align: right;\">\n",
       "      <th></th>\n",
       "      <th>user_id</th>\n",
       "      <th>name</th>\n",
       "      <th>age</th>\n",
       "      <th>city</th>\n",
       "      <th>subscription_type</th>\n",
       "      <th>distance</th>\n",
       "      <th>duration</th>\n",
       "      <th>date</th>\n",
       "      <th>month</th>\n",
       "      <th>minute_price</th>\n",
       "      <th>start_ride_price</th>\n",
       "      <th>subscription_fee</th>\n",
       "    </tr>\n",
       "  </thead>\n",
       "  <tbody>\n",
       "    <tr>\n",
       "      <th>0</th>\n",
       "      <td>1</td>\n",
       "      <td>Кира</td>\n",
       "      <td>22</td>\n",
       "      <td>Тюмень</td>\n",
       "      <td>ultra</td>\n",
       "      <td>4409.919140</td>\n",
       "      <td>25.599769</td>\n",
       "      <td>2021-01-01</td>\n",
       "      <td>1</td>\n",
       "      <td>6</td>\n",
       "      <td>0</td>\n",
       "      <td>199</td>\n",
       "    </tr>\n",
       "    <tr>\n",
       "      <th>1</th>\n",
       "      <td>1</td>\n",
       "      <td>Кира</td>\n",
       "      <td>22</td>\n",
       "      <td>Тюмень</td>\n",
       "      <td>ultra</td>\n",
       "      <td>2617.592153</td>\n",
       "      <td>15.816871</td>\n",
       "      <td>2021-01-18</td>\n",
       "      <td>1</td>\n",
       "      <td>6</td>\n",
       "      <td>0</td>\n",
       "      <td>199</td>\n",
       "    </tr>\n",
       "    <tr>\n",
       "      <th>2</th>\n",
       "      <td>1</td>\n",
       "      <td>Кира</td>\n",
       "      <td>22</td>\n",
       "      <td>Тюмень</td>\n",
       "      <td>ultra</td>\n",
       "      <td>754.159807</td>\n",
       "      <td>6.232113</td>\n",
       "      <td>2021-04-20</td>\n",
       "      <td>4</td>\n",
       "      <td>6</td>\n",
       "      <td>0</td>\n",
       "      <td>199</td>\n",
       "    </tr>\n",
       "    <tr>\n",
       "      <th>3</th>\n",
       "      <td>1</td>\n",
       "      <td>Кира</td>\n",
       "      <td>22</td>\n",
       "      <td>Тюмень</td>\n",
       "      <td>ultra</td>\n",
       "      <td>2694.783254</td>\n",
       "      <td>18.511000</td>\n",
       "      <td>2021-08-11</td>\n",
       "      <td>8</td>\n",
       "      <td>6</td>\n",
       "      <td>0</td>\n",
       "      <td>199</td>\n",
       "    </tr>\n",
       "    <tr>\n",
       "      <th>4</th>\n",
       "      <td>1</td>\n",
       "      <td>Кира</td>\n",
       "      <td>22</td>\n",
       "      <td>Тюмень</td>\n",
       "      <td>ultra</td>\n",
       "      <td>4028.687306</td>\n",
       "      <td>26.265803</td>\n",
       "      <td>2021-08-28</td>\n",
       "      <td>8</td>\n",
       "      <td>6</td>\n",
       "      <td>0</td>\n",
       "      <td>199</td>\n",
       "    </tr>\n",
       "  </tbody>\n",
       "</table>\n",
       "</div>"
      ],
      "text/plain": [
       "   user_id  name  age    city subscription_type     distance   duration  \\\n",
       "0        1  Кира   22  Тюмень             ultra  4409.919140  25.599769   \n",
       "1        1  Кира   22  Тюмень             ultra  2617.592153  15.816871   \n",
       "2        1  Кира   22  Тюмень             ultra   754.159807   6.232113   \n",
       "3        1  Кира   22  Тюмень             ultra  2694.783254  18.511000   \n",
       "4        1  Кира   22  Тюмень             ultra  4028.687306  26.265803   \n",
       "\n",
       "        date  month  minute_price  start_ride_price  subscription_fee  \n",
       "0 2021-01-01      1             6                 0               199  \n",
       "1 2021-01-18      1             6                 0               199  \n",
       "2 2021-04-20      4             6                 0               199  \n",
       "3 2021-08-11      8             6                 0               199  \n",
       "4 2021-08-28      8             6                 0               199  "
      ]
     },
     "execution_count": 30,
     "metadata": {},
     "output_type": "execute_result"
    }
   ],
   "source": [
    "data_ultra = data_merge.query('subscription_type == \"ultra\"')\n",
    "data_ultra.head()"
   ]
  },
  {
   "cell_type": "code",
   "execution_count": 31,
   "id": "b254f7e0",
   "metadata": {},
   "outputs": [
    {
     "name": "stdout",
     "output_type": "stream",
     "text": [
      "<class 'pandas.core.frame.DataFrame'>\n",
      "Int64Index: 6500 entries, 0 to 6499\n",
      "Data columns (total 12 columns):\n",
      " #   Column             Non-Null Count  Dtype         \n",
      "---  ------             --------------  -----         \n",
      " 0   user_id            6500 non-null   int64         \n",
      " 1   name               6500 non-null   object        \n",
      " 2   age                6500 non-null   int64         \n",
      " 3   city               6500 non-null   object        \n",
      " 4   subscription_type  6500 non-null   object        \n",
      " 5   distance           6500 non-null   float64       \n",
      " 6   duration           6500 non-null   float64       \n",
      " 7   date               6500 non-null   datetime64[ns]\n",
      " 8   month              6500 non-null   int64         \n",
      " 9   minute_price       6500 non-null   int64         \n",
      " 10  start_ride_price   6500 non-null   int64         \n",
      " 11  subscription_fee   6500 non-null   int64         \n",
      "dtypes: datetime64[ns](1), float64(2), int64(6), object(3)\n",
      "memory usage: 660.2+ KB\n"
     ]
    }
   ],
   "source": [
    "data_ultra.info()"
   ]
  },
  {
   "cell_type": "code",
   "execution_count": 32,
   "id": "64816588",
   "metadata": {},
   "outputs": [
    {
     "data": {
      "text/plain": [
       "user_id              0\n",
       "name                 0\n",
       "age                  0\n",
       "city                 0\n",
       "subscription_type    0\n",
       "distance             0\n",
       "duration             0\n",
       "date                 0\n",
       "month                0\n",
       "minute_price         0\n",
       "start_ride_price     0\n",
       "subscription_fee     0\n",
       "dtype: int64"
      ]
     },
     "execution_count": 32,
     "metadata": {},
     "output_type": "execute_result"
    }
   ],
   "source": [
    "data_ultra.isna().sum()"
   ]
  },
  {
   "cell_type": "code",
   "execution_count": 33,
   "id": "45d365d7",
   "metadata": {},
   "outputs": [
    {
     "data": {
      "text/html": [
       "<div>\n",
       "<style scoped>\n",
       "    .dataframe tbody tr th:only-of-type {\n",
       "        vertical-align: middle;\n",
       "    }\n",
       "\n",
       "    .dataframe tbody tr th {\n",
       "        vertical-align: top;\n",
       "    }\n",
       "\n",
       "    .dataframe thead th {\n",
       "        text-align: right;\n",
       "    }\n",
       "</style>\n",
       "<table border=\"1\" class=\"dataframe\">\n",
       "  <thead>\n",
       "    <tr style=\"text-align: right;\">\n",
       "      <th></th>\n",
       "      <th>user_id</th>\n",
       "      <th>name</th>\n",
       "      <th>age</th>\n",
       "      <th>city</th>\n",
       "      <th>subscription_type</th>\n",
       "      <th>distance</th>\n",
       "      <th>duration</th>\n",
       "      <th>date</th>\n",
       "      <th>month</th>\n",
       "      <th>minute_price</th>\n",
       "      <th>start_ride_price</th>\n",
       "      <th>subscription_fee</th>\n",
       "    </tr>\n",
       "  </thead>\n",
       "  <tbody>\n",
       "    <tr>\n",
       "      <th>6500</th>\n",
       "      <td>700</td>\n",
       "      <td>Айдар</td>\n",
       "      <td>22</td>\n",
       "      <td>Омск</td>\n",
       "      <td>free</td>\n",
       "      <td>2515.690719</td>\n",
       "      <td>14.944286</td>\n",
       "      <td>2021-01-02</td>\n",
       "      <td>1</td>\n",
       "      <td>8</td>\n",
       "      <td>50</td>\n",
       "      <td>0</td>\n",
       "    </tr>\n",
       "    <tr>\n",
       "      <th>6501</th>\n",
       "      <td>700</td>\n",
       "      <td>Айдар</td>\n",
       "      <td>22</td>\n",
       "      <td>Омск</td>\n",
       "      <td>free</td>\n",
       "      <td>846.932642</td>\n",
       "      <td>16.234663</td>\n",
       "      <td>2021-02-01</td>\n",
       "      <td>2</td>\n",
       "      <td>8</td>\n",
       "      <td>50</td>\n",
       "      <td>0</td>\n",
       "    </tr>\n",
       "    <tr>\n",
       "      <th>6502</th>\n",
       "      <td>700</td>\n",
       "      <td>Айдар</td>\n",
       "      <td>22</td>\n",
       "      <td>Омск</td>\n",
       "      <td>free</td>\n",
       "      <td>4004.434142</td>\n",
       "      <td>20.016628</td>\n",
       "      <td>2021-02-04</td>\n",
       "      <td>2</td>\n",
       "      <td>8</td>\n",
       "      <td>50</td>\n",
       "      <td>0</td>\n",
       "    </tr>\n",
       "    <tr>\n",
       "      <th>6503</th>\n",
       "      <td>700</td>\n",
       "      <td>Айдар</td>\n",
       "      <td>22</td>\n",
       "      <td>Омск</td>\n",
       "      <td>free</td>\n",
       "      <td>1205.911290</td>\n",
       "      <td>9.782872</td>\n",
       "      <td>2021-02-10</td>\n",
       "      <td>2</td>\n",
       "      <td>8</td>\n",
       "      <td>50</td>\n",
       "      <td>0</td>\n",
       "    </tr>\n",
       "    <tr>\n",
       "      <th>6504</th>\n",
       "      <td>700</td>\n",
       "      <td>Айдар</td>\n",
       "      <td>22</td>\n",
       "      <td>Омск</td>\n",
       "      <td>free</td>\n",
       "      <td>3047.379435</td>\n",
       "      <td>17.427673</td>\n",
       "      <td>2021-02-14</td>\n",
       "      <td>2</td>\n",
       "      <td>8</td>\n",
       "      <td>50</td>\n",
       "      <td>0</td>\n",
       "    </tr>\n",
       "  </tbody>\n",
       "</table>\n",
       "</div>"
      ],
      "text/plain": [
       "      user_id   name  age  city subscription_type     distance   duration  \\\n",
       "6500      700  Айдар   22  Омск              free  2515.690719  14.944286   \n",
       "6501      700  Айдар   22  Омск              free   846.932642  16.234663   \n",
       "6502      700  Айдар   22  Омск              free  4004.434142  20.016628   \n",
       "6503      700  Айдар   22  Омск              free  1205.911290   9.782872   \n",
       "6504      700  Айдар   22  Омск              free  3047.379435  17.427673   \n",
       "\n",
       "           date  month  minute_price  start_ride_price  subscription_fee  \n",
       "6500 2021-01-02      1             8                50                 0  \n",
       "6501 2021-02-01      2             8                50                 0  \n",
       "6502 2021-02-04      2             8                50                 0  \n",
       "6503 2021-02-10      2             8                50                 0  \n",
       "6504 2021-02-14      2             8                50                 0  "
      ]
     },
     "execution_count": 33,
     "metadata": {},
     "output_type": "execute_result"
    }
   ],
   "source": [
    "data_free = data_merge.query('subscription_type == \"free\"')\n",
    "data_free.head()"
   ]
  },
  {
   "cell_type": "code",
   "execution_count": 34,
   "id": "0c94dca2",
   "metadata": {},
   "outputs": [
    {
     "name": "stdout",
     "output_type": "stream",
     "text": [
      "<class 'pandas.core.frame.DataFrame'>\n",
      "Int64Index: 11568 entries, 6500 to 18067\n",
      "Data columns (total 12 columns):\n",
      " #   Column             Non-Null Count  Dtype         \n",
      "---  ------             --------------  -----         \n",
      " 0   user_id            11568 non-null  int64         \n",
      " 1   name               11568 non-null  object        \n",
      " 2   age                11568 non-null  int64         \n",
      " 3   city               11568 non-null  object        \n",
      " 4   subscription_type  11568 non-null  object        \n",
      " 5   distance           11568 non-null  float64       \n",
      " 6   duration           11568 non-null  float64       \n",
      " 7   date               11568 non-null  datetime64[ns]\n",
      " 8   month              11568 non-null  int64         \n",
      " 9   minute_price       11568 non-null  int64         \n",
      " 10  start_ride_price   11568 non-null  int64         \n",
      " 11  subscription_fee   11568 non-null  int64         \n",
      "dtypes: datetime64[ns](1), float64(2), int64(6), object(3)\n",
      "memory usage: 1.1+ MB\n"
     ]
    }
   ],
   "source": [
    "data_free.info()"
   ]
  },
  {
   "cell_type": "code",
   "execution_count": 35,
   "id": "3dcd6c5e",
   "metadata": {},
   "outputs": [
    {
     "data": {
      "text/plain": [
       "user_id              0\n",
       "name                 0\n",
       "age                  0\n",
       "city                 0\n",
       "subscription_type    0\n",
       "distance             0\n",
       "duration             0\n",
       "date                 0\n",
       "month                0\n",
       "minute_price         0\n",
       "start_ride_price     0\n",
       "subscription_fee     0\n",
       "dtype: int64"
      ]
     },
     "execution_count": 35,
     "metadata": {},
     "output_type": "execute_result"
    }
   ],
   "source": [
    "data_ultra.isna().sum()"
   ]
  },
  {
   "cell_type": "markdown",
   "id": "73f77d20",
   "metadata": {},
   "source": [
    "### Визуализируем информацию о расстоянии и времени поездок для пользователей обеих категорий"
   ]
  },
  {
   "cell_type": "code",
   "execution_count": 36,
   "id": "3dc66438",
   "metadata": {},
   "outputs": [
    {
     "data": {
      "text/plain": [
       "Text(0.5, 1.0, 'Duration')"
      ]
     },
     "execution_count": 36,
     "metadata": {},
     "output_type": "execute_result"
    },
    {
     "data": {
      "image/png": "[encoded data removed]",
      "text/plain": [
       "<Figure size 720x360 with 1 Axes>"
      ]
     },
     "metadata": {
      "needs_background": "light"
     },
     "output_type": "display_data"
    }
   ],
   "source": [
    "x1 = list(data_free[data_free['subscription_type'] == 'free']['duration'])\n",
    "x2 = list(data_ultra[data_ultra['subscription_type'] == 'ultra']['duration'])\n",
    "\n",
    "colors = ['#E69F00', '#56B4E9']\n",
    "names = [ 'free','ultra']\n",
    "\n",
    "plt.hist([x1, x2], bins = 30,\n",
    "         color = colors, label=names)\n",
    "plt.gcf().set_size_inches(10, 5)\n",
    "\n",
    "plt.legend()\n",
    "plt.xlabel('Minutes')\n",
    "plt.title('Duration')\n"
   ]
  },
  {
   "cell_type": "code",
   "execution_count": 37,
   "id": "ab64d4a3",
   "metadata": {
    "scrolled": false
   },
   "outputs": [
    {
     "data": {
      "text/plain": [
       "Text(0.5, 1.0, 'Distance')"
      ]
     },
     "execution_count": 37,
     "metadata": {},
     "output_type": "execute_result"
    },
    {
     "data": {
      "image/png": "[encoded data removed]",
      "text/plain": [
       "<Figure size 720x360 with 1 Axes>"
      ]
     },
     "metadata": {
      "needs_background": "light"
     },
     "output_type": "display_data"
    }
   ],
   "source": [
    "x3 = list(data_free[data_free['subscription_type'] == 'free']['distance'])\n",
    "x4 = list(data_ultra[data_ultra['subscription_type'] == 'ultra']['distance'])\n",
    "\n",
    "colors = ['#E69F00', '#56B4E9']\n",
    "names = ['free', 'ultra']\n",
    "\n",
    "plt.hist([x3, x4], bins = 30,\n",
    "         color = colors, label=names)\n",
    "plt.gcf().set_size_inches(10, 5)\n",
    "\n",
    "plt.legend()\n",
    "plt.xlabel('Meters')\n",
    "plt.title('Distance')"
   ]
  },
  {
   "cell_type": "markdown",
   "id": "83381267",
   "metadata": {},
   "source": [
    "Основные поездки в платных подписках совершения на расстояние 3000 метров  в диапазоне от 15 до минут 20. Видимо это основная группа пользователей, которая на постояной использует самокат, как средство передвижения до пункта назначения."
   ]
  },
  {
   "cell_type": "markdown",
   "id": "402d620f",
   "metadata": {},
   "source": [
    "## Подсчёт выручки"
   ]
  },
  {
   "cell_type": "markdown",
   "id": "c9b4cf62",
   "metadata": {},
   "source": [
    "### Создаим датафрейм с агрегированными данными"
   ]
  },
  {
   "cell_type": "code",
   "execution_count": 38,
   "id": "53049e0a",
   "metadata": {},
   "outputs": [
    {
     "data": {
      "text/html": [
       "<div>\n",
       "<style scoped>\n",
       "    .dataframe tbody tr th:only-of-type {\n",
       "        vertical-align: middle;\n",
       "    }\n",
       "\n",
       "    .dataframe tbody tr th {\n",
       "        vertical-align: top;\n",
       "    }\n",
       "\n",
       "    .dataframe thead th {\n",
       "        text-align: right;\n",
       "    }\n",
       "</style>\n",
       "<table border=\"1\" class=\"dataframe\">\n",
       "  <thead>\n",
       "    <tr style=\"text-align: right;\">\n",
       "      <th></th>\n",
       "      <th>user_id</th>\n",
       "      <th>month</th>\n",
       "      <th>distance</th>\n",
       "      <th>duration</th>\n",
       "      <th>name</th>\n",
       "      <th>subscription_type</th>\n",
       "    </tr>\n",
       "  </thead>\n",
       "  <tbody>\n",
       "    <tr>\n",
       "      <th>0</th>\n",
       "      <td>1</td>\n",
       "      <td>1</td>\n",
       "      <td>7027.511294</td>\n",
       "      <td>42.0</td>\n",
       "      <td>2</td>\n",
       "      <td>ultra</td>\n",
       "    </tr>\n",
       "    <tr>\n",
       "      <th>1</th>\n",
       "      <td>1</td>\n",
       "      <td>4</td>\n",
       "      <td>754.159807</td>\n",
       "      <td>7.0</td>\n",
       "      <td>1</td>\n",
       "      <td>ultra</td>\n",
       "    </tr>\n",
       "    <tr>\n",
       "      <th>2</th>\n",
       "      <td>1</td>\n",
       "      <td>8</td>\n",
       "      <td>6723.470560</td>\n",
       "      <td>45.0</td>\n",
       "      <td>2</td>\n",
       "      <td>ultra</td>\n",
       "    </tr>\n",
       "    <tr>\n",
       "      <th>3</th>\n",
       "      <td>1</td>\n",
       "      <td>10</td>\n",
       "      <td>5809.911100</td>\n",
       "      <td>32.0</td>\n",
       "      <td>2</td>\n",
       "      <td>ultra</td>\n",
       "    </tr>\n",
       "    <tr>\n",
       "      <th>4</th>\n",
       "      <td>1</td>\n",
       "      <td>11</td>\n",
       "      <td>7003.499363</td>\n",
       "      <td>54.0</td>\n",
       "      <td>3</td>\n",
       "      <td>ultra</td>\n",
       "    </tr>\n",
       "    <tr>\n",
       "      <th>...</th>\n",
       "      <td>...</td>\n",
       "      <td>...</td>\n",
       "      <td>...</td>\n",
       "      <td>...</td>\n",
       "      <td>...</td>\n",
       "      <td>...</td>\n",
       "    </tr>\n",
       "    <tr>\n",
       "      <th>143506</th>\n",
       "      <td>1534</td>\n",
       "      <td>6</td>\n",
       "      <td>3409.468534</td>\n",
       "      <td>25.0</td>\n",
       "      <td>2</td>\n",
       "      <td>free</td>\n",
       "    </tr>\n",
       "    <tr>\n",
       "      <th>143507</th>\n",
       "      <td>1534</td>\n",
       "      <td>8</td>\n",
       "      <td>7622.453034</td>\n",
       "      <td>48.0</td>\n",
       "      <td>2</td>\n",
       "      <td>free</td>\n",
       "    </tr>\n",
       "    <tr>\n",
       "      <th>143508</th>\n",
       "      <td>1534</td>\n",
       "      <td>9</td>\n",
       "      <td>4928.173852</td>\n",
       "      <td>23.0</td>\n",
       "      <td>1</td>\n",
       "      <td>free</td>\n",
       "    </tr>\n",
       "    <tr>\n",
       "      <th>143509</th>\n",
       "      <td>1534</td>\n",
       "      <td>11</td>\n",
       "      <td>13350.015305</td>\n",
       "      <td>77.0</td>\n",
       "      <td>4</td>\n",
       "      <td>free</td>\n",
       "    </tr>\n",
       "    <tr>\n",
       "      <th>143510</th>\n",
       "      <td>1534</td>\n",
       "      <td>12</td>\n",
       "      <td>2371.711192</td>\n",
       "      <td>16.0</td>\n",
       "      <td>1</td>\n",
       "      <td>free</td>\n",
       "    </tr>\n",
       "  </tbody>\n",
       "</table>\n",
       "<p>143511 rows × 6 columns</p>\n",
       "</div>"
      ],
      "text/plain": [
       "        user_id  month      distance  duration  name subscription_type\n",
       "0             1      1   7027.511294      42.0     2             ultra\n",
       "1             1      4    754.159807       7.0     1             ultra\n",
       "2             1      8   6723.470560      45.0     2             ultra\n",
       "3             1     10   5809.911100      32.0     2             ultra\n",
       "4             1     11   7003.499363      54.0     3             ultra\n",
       "...         ...    ...           ...       ...   ...               ...\n",
       "143506     1534      6   3409.468534      25.0     2              free\n",
       "143507     1534      8   7622.453034      48.0     2              free\n",
       "143508     1534      9   4928.173852      23.0     1              free\n",
       "143509     1534     11  13350.015305      77.0     4              free\n",
       "143510     1534     12   2371.711192      16.0     1              free\n",
       "\n",
       "[143511 rows x 6 columns]"
      ]
     },
     "execution_count": 38,
     "metadata": {},
     "output_type": "execute_result"
    }
   ],
   "source": [
    "data_agg = data_merge.pivot_table(index=['user_id','month'], \n",
    "                                 values=['distance', 'name','duration'],\n",
    "                                 aggfunc={'distance': 'sum', 'name' : 'count' ,\n",
    "                                          'duration' : 'sum'}).reset_index()\n",
    "data_agg.columns\n",
    "\n",
    "data_agg['duration'] = np.ceil(data_agg['duration'])\n",
    "new = data_merge[['user_id','subscription_type']]\n",
    "data_agg = data_agg.merge(new,on='user_id',how='right')\n",
    "data_agg"
   ]
  },
  {
   "cell_type": "markdown",
   "id": "c3678127",
   "metadata": {},
   "source": [
    "### добавим столбец с помесячной выручкой"
   ]
  },
  {
   "cell_type": "code",
   "execution_count": 39,
   "id": "52794a06",
   "metadata": {
    "scrolled": false
   },
   "outputs": [
    {
     "data": {
      "text/html": [
       "<div>\n",
       "<style scoped>\n",
       "    .dataframe tbody tr th:only-of-type {\n",
       "        vertical-align: middle;\n",
       "    }\n",
       "\n",
       "    .dataframe tbody tr th {\n",
       "        vertical-align: top;\n",
       "    }\n",
       "\n",
       "    .dataframe thead th {\n",
       "        text-align: right;\n",
       "    }\n",
       "</style>\n",
       "<table border=\"1\" class=\"dataframe\">\n",
       "  <thead>\n",
       "    <tr style=\"text-align: right;\">\n",
       "      <th></th>\n",
       "      <th>user_id</th>\n",
       "      <th>month</th>\n",
       "      <th>distance</th>\n",
       "      <th>duration</th>\n",
       "      <th>name</th>\n",
       "      <th>subscription_type</th>\n",
       "      <th>month_revenue</th>\n",
       "    </tr>\n",
       "  </thead>\n",
       "  <tbody>\n",
       "    <tr>\n",
       "      <th>0</th>\n",
       "      <td>1</td>\n",
       "      <td>1</td>\n",
       "      <td>7027.511294</td>\n",
       "      <td>42.0</td>\n",
       "      <td>2</td>\n",
       "      <td>ultra</td>\n",
       "      <td>451.0</td>\n",
       "    </tr>\n",
       "    <tr>\n",
       "      <th>1</th>\n",
       "      <td>1</td>\n",
       "      <td>4</td>\n",
       "      <td>754.159807</td>\n",
       "      <td>7.0</td>\n",
       "      <td>1</td>\n",
       "      <td>ultra</td>\n",
       "      <td>241.0</td>\n",
       "    </tr>\n",
       "    <tr>\n",
       "      <th>2</th>\n",
       "      <td>1</td>\n",
       "      <td>8</td>\n",
       "      <td>6723.470560</td>\n",
       "      <td>45.0</td>\n",
       "      <td>2</td>\n",
       "      <td>ultra</td>\n",
       "      <td>469.0</td>\n",
       "    </tr>\n",
       "    <tr>\n",
       "      <th>3</th>\n",
       "      <td>1</td>\n",
       "      <td>10</td>\n",
       "      <td>5809.911100</td>\n",
       "      <td>32.0</td>\n",
       "      <td>2</td>\n",
       "      <td>ultra</td>\n",
       "      <td>391.0</td>\n",
       "    </tr>\n",
       "    <tr>\n",
       "      <th>4</th>\n",
       "      <td>1</td>\n",
       "      <td>11</td>\n",
       "      <td>7003.499363</td>\n",
       "      <td>54.0</td>\n",
       "      <td>3</td>\n",
       "      <td>ultra</td>\n",
       "      <td>523.0</td>\n",
       "    </tr>\n",
       "    <tr>\n",
       "      <th>...</th>\n",
       "      <td>...</td>\n",
       "      <td>...</td>\n",
       "      <td>...</td>\n",
       "      <td>...</td>\n",
       "      <td>...</td>\n",
       "      <td>...</td>\n",
       "      <td>...</td>\n",
       "    </tr>\n",
       "    <tr>\n",
       "      <th>143506</th>\n",
       "      <td>1534</td>\n",
       "      <td>6</td>\n",
       "      <td>3409.468534</td>\n",
       "      <td>25.0</td>\n",
       "      <td>2</td>\n",
       "      <td>free</td>\n",
       "      <td>300.0</td>\n",
       "    </tr>\n",
       "    <tr>\n",
       "      <th>143507</th>\n",
       "      <td>1534</td>\n",
       "      <td>8</td>\n",
       "      <td>7622.453034</td>\n",
       "      <td>48.0</td>\n",
       "      <td>2</td>\n",
       "      <td>free</td>\n",
       "      <td>484.0</td>\n",
       "    </tr>\n",
       "    <tr>\n",
       "      <th>143508</th>\n",
       "      <td>1534</td>\n",
       "      <td>9</td>\n",
       "      <td>4928.173852</td>\n",
       "      <td>23.0</td>\n",
       "      <td>1</td>\n",
       "      <td>free</td>\n",
       "      <td>234.0</td>\n",
       "    </tr>\n",
       "    <tr>\n",
       "      <th>143509</th>\n",
       "      <td>1534</td>\n",
       "      <td>11</td>\n",
       "      <td>13350.015305</td>\n",
       "      <td>77.0</td>\n",
       "      <td>4</td>\n",
       "      <td>free</td>\n",
       "      <td>816.0</td>\n",
       "    </tr>\n",
       "    <tr>\n",
       "      <th>143510</th>\n",
       "      <td>1534</td>\n",
       "      <td>12</td>\n",
       "      <td>2371.711192</td>\n",
       "      <td>16.0</td>\n",
       "      <td>1</td>\n",
       "      <td>free</td>\n",
       "      <td>178.0</td>\n",
       "    </tr>\n",
       "  </tbody>\n",
       "</table>\n",
       "<p>143511 rows × 7 columns</p>\n",
       "</div>"
      ],
      "text/plain": [
       "        user_id  month      distance  duration  name subscription_type  \\\n",
       "0             1      1   7027.511294      42.0     2             ultra   \n",
       "1             1      4    754.159807       7.0     1             ultra   \n",
       "2             1      8   6723.470560      45.0     2             ultra   \n",
       "3             1     10   5809.911100      32.0     2             ultra   \n",
       "4             1     11   7003.499363      54.0     3             ultra   \n",
       "...         ...    ...           ...       ...   ...               ...   \n",
       "143506     1534      6   3409.468534      25.0     2              free   \n",
       "143507     1534      8   7622.453034      48.0     2              free   \n",
       "143508     1534      9   4928.173852      23.0     1              free   \n",
       "143509     1534     11  13350.015305      77.0     4              free   \n",
       "143510     1534     12   2371.711192      16.0     1              free   \n",
       "\n",
       "        month_revenue  \n",
       "0               451.0  \n",
       "1               241.0  \n",
       "2               469.0  \n",
       "3               391.0  \n",
       "4               523.0  \n",
       "...               ...  \n",
       "143506          300.0  \n",
       "143507          484.0  \n",
       "143508          234.0  \n",
       "143509          816.0  \n",
       "143510          178.0  \n",
       "\n",
       "[143511 rows x 7 columns]"
      ]
     },
     "execution_count": 39,
     "metadata": {},
     "output_type": "execute_result"
    }
   ],
   "source": [
    "def month_revenue(row):\n",
    "    \n",
    "    subscription_type = row['subscription_type']\n",
    "    \n",
    "    if subscription_type == 'ultra':\n",
    "        return 199+row['name']*0+row['duration']*6\n",
    "    if subscription_type == 'free':\n",
    "        return row['name']*50+row['duration']*8\n",
    "\n",
    "data_agg['month_revenue'] = data_agg.apply(month_revenue,axis=1)\n",
    "\n",
    "data_agg"
   ]
  },
  {
   "cell_type": "code",
   "execution_count": 40,
   "id": "50fc9f31",
   "metadata": {},
   "outputs": [
    {
     "data": {
      "text/plain": [
       "subscription_type\n",
       "free     335.486347\n",
       "ultra    366.959918\n",
       "Name: month_revenue, dtype: float64"
      ]
     },
     "execution_count": 40,
     "metadata": {},
     "output_type": "execute_result"
    }
   ],
   "source": [
    "# Код ревьюера\n",
    "data_agg.groupby('subscription_type')['month_revenue'].mean()"
   ]
  },
  {
   "cell_type": "markdown",
   "id": "0460d712",
   "metadata": {},
   "source": [
    "Получили агрегированные данные с расчетом дохода по пользователям по каждому месяцу отедельно."
   ]
  },
  {
   "cell_type": "markdown",
   "id": "41545ac0",
   "metadata": {},
   "source": [
    "## Проверка гипотез"
   ]
  },
  {
   "cell_type": "markdown",
   "id": "721b5845",
   "metadata": {},
   "source": [
    "### Действительно ли пользователи с подпиской «выгоднее» для компании"
   ]
  },
  {
   "cell_type": "markdown",
   "id": "18115831",
   "metadata": {},
   "source": [
    "Будем проверять эту гипотезу на основе преодоленного расстояния пользователями.\n",
    "Для начала взглянем на значения в данных столбца duration в каждой из категории пользователей.\n"
   ]
  },
  {
   "cell_type": "markdown",
   "id": "30967241",
   "metadata": {},
   "source": [
    "Данные будем брать из шага \"3.7 датафреймы с подписками и без\""
   ]
  },
  {
   "cell_type": "code",
   "execution_count": 41,
   "id": "d598aa2d",
   "metadata": {},
   "outputs": [
    {
     "data": {
      "text/plain": [
       "count    6500.000000\n",
       "mean       18.541985\n",
       "std         5.572048\n",
       "min         3.760353\n",
       "25%        14.524654\n",
       "50%        18.178153\n",
       "75%        21.884129\n",
       "max        40.823963\n",
       "Name: duration, dtype: float64"
      ]
     },
     "execution_count": 41,
     "metadata": {},
     "output_type": "execute_result"
    }
   ],
   "source": [
    "data_ultra['duration'].describe()"
   ]
  },
  {
   "cell_type": "code",
   "execution_count": 42,
   "id": "c2800345",
   "metadata": {
    "scrolled": true
   },
   "outputs": [
    {
     "data": {
      "text/plain": [
       "count    11568.000000\n",
       "mean        17.390909\n",
       "std          6.326803\n",
       "min          0.500000\n",
       "25%         12.958437\n",
       "50%         17.326890\n",
       "75%         21.594071\n",
       "max         34.948498\n",
       "Name: duration, dtype: float64"
      ]
     },
     "execution_count": 42,
     "metadata": {},
     "output_type": "execute_result"
    }
   ],
   "source": [
    "data_free['duration'].describe()"
   ]
  },
  {
   "cell_type": "markdown",
   "id": "35759cdf",
   "metadata": {},
   "source": [
    "Средние и медианные значения не сильно отличаются друг от друга."
   ]
  },
  {
   "cell_type": "markdown",
   "id": "2a436d29",
   "metadata": {},
   "source": [
    "Проверим по односторнней гипотезе\n",
    "- H0 = пользователи с подпиской тратят столько же времни на поездки сколько и без подписки\n",
    "- H1 = пользователи с подпиской тратят больше времени на поездки"
   ]
  },
  {
   "cell_type": "code",
   "execution_count": 43,
   "id": "678bf35f",
   "metadata": {
    "scrolled": true
   },
   "outputs": [
    {
     "name": "stdout",
     "output_type": "stream",
     "text": [
      "p-значение: 5.6757813771289775e-37\n",
      "Отвергаем нулевую гипотезу\n"
     ]
    }
   ],
   "source": [
    "alpha = 0.05\n",
    "\n",
    "results = st.ttest_ind(\n",
    "    data_ultra['duration'], \n",
    "    data_free['duration'],\n",
    "    equal_var=False,\n",
    "    alternative = 'greater'\n",
    "    \n",
    ")\n",
    "\n",
    "print('p-значение:',results.pvalue)\n",
    "\n",
    "if results.pvalue < alpha:\n",
    "    print('Отвергаем нулевую гипотезу')\n",
    "else:\n",
    "    print('Не получилось отвергнуть нулевую гипотезу')"
   ]
  },
  {
   "cell_type": "markdown",
   "id": "01d6e5f0",
   "metadata": {},
   "source": [
    "уровень стат значимости указывает что в среднем платные пользователи с подпиской больше времени на поездки."
   ]
  },
  {
   "cell_type": "markdown",
   "id": "3c89be17",
   "metadata": {},
   "source": [
    "### Можно ли сказать, что расстояние, которое проезжают пользователи с подпиской за одну поездку, не превышает 3130 метров?"
   ]
  },
  {
   "cell_type": "markdown",
   "id": "14668bbb",
   "metadata": {},
   "source": [
    "Проверим односторонню гипотезу.\n",
    "- H0 = пользователи с подпиской за одну поездку, не превышает 3130 метров\n",
    "- H1 = пользователи с подпиской за одну поездку, проезжают больше 3130 метров"
   ]
  },
  {
   "cell_type": "code",
   "execution_count": 44,
   "id": "e8d89b4f",
   "metadata": {
    "scrolled": true
   },
   "outputs": [
    {
     "name": "stdout",
     "output_type": "stream",
     "text": [
      "p-значение: 0.45976844239248926\n",
      "Не получилось отвергнуть нулевую гипотезу\n"
     ]
    }
   ],
   "source": [
    "distance = 3130\n",
    "\n",
    "alpha = 0.05\n",
    "\n",
    "results = st.ttest_1samp(\n",
    "    data_ultra['distance'],\n",
    "    distance,\n",
    "    alternative = 'greater')\n",
    "\n",
    "print('p-значение:',results.pvalue/2)\n",
    "\n",
    "if results.pvalue < alpha:\n",
    "    print('Отвергаем нулевую гипотезу')\n",
    "else:\n",
    "    print('Не получилось отвергнуть нулевую гипотезу')"
   ]
  },
  {
   "cell_type": "markdown",
   "id": "f3bba7ae",
   "metadata": {},
   "source": [
    "Платные пользователи проезжают не меннее 3130 метров. Логично подтверждая гипотезу, что клиенты с подпиской тратят больше времени на самокате. "
   ]
  },
  {
   "cell_type": "code",
   "execution_count": 45,
   "id": "c5ccfa3f",
   "metadata": {},
   "outputs": [
    {
     "name": "stdout",
     "output_type": "stream",
     "text": [
      "3115.4453880370247\n"
     ]
    },
    {
     "data": {
      "image/png": "[encoded data removed]",
      "text/plain": [
       "<Figure size 432x288 with 1 Axes>"
      ]
     },
     "metadata": {
      "needs_background": "light"
     },
     "output_type": "display_data"
    }
   ],
   "source": [
    "# Код ревьюера\n",
    "data_ultra['distance'].hist().axvline(data_ultra['distance'].mean(), color = 'r');\n",
    "\n",
    "print(data_ultra['distance'].mean())"
   ]
  },
  {
   "cell_type": "markdown",
   "id": "1692d05e",
   "metadata": {},
   "source": [
    "### Проверим гипотезу о том, будет ли помесячная выручка от пользователей с подпиской по месяцам выше, чем выручка от пользователей без подписки"
   ]
  },
  {
   "cell_type": "markdown",
   "id": "c805c085",
   "metadata": {},
   "source": [
    "Проверим односторонню гипотезу.\n",
    "- H0 = выручка с подпиской и без равны\n",
    "- H1 = выручка с подпиской больше"
   ]
  },
  {
   "cell_type": "code",
   "execution_count": 46,
   "id": "52c8f05f",
   "metadata": {},
   "outputs": [
    {
     "name": "stdout",
     "output_type": "stream",
     "text": [
      "p-значение: 5.60862950424893e-255\n",
      "Отвергаем нулевую гипотезу\n"
     ]
    }
   ],
   "source": [
    "ultra = data_agg.query('subscription_type == \"ultra\"')\n",
    "free = data_agg.query('subscription_type == \"free\"')\n",
    "alpha = 0.05\n",
    " \n",
    "results = st.ttest_ind(ultra['month_revenue'],\n",
    "                       free['month_revenue'],alternative = 'greater')\n",
    " \n",
    "print('p-значение:', results.pvalue)\n",
    " \n",
    "if results.pvalue < alpha:\n",
    "    print('Отвергаем нулевую гипотезу')\n",
    "else:\n",
    "    print('Не получилось отвергнуть нулевую гипотезу')"
   ]
  },
  {
   "cell_type": "markdown",
   "id": "d68c950e",
   "metadata": {},
   "source": [
    "На основании результате тестирования, можно сказать, что клиенты с подпиской приносят больше выручки."
   ]
  },
  {
   "cell_type": "markdown",
   "id": "e5145bcf",
   "metadata": {},
   "source": [
    "### Представьте такую ситуацию: техническая команда сервиса обновила сервера, с которыми взаимодействует мобильное приложение. Она надеется, что из-за этого количество обращений в техподдержку значимо снизилось. Некоторый файл содержит для каждого пользователя данные о количестве обращений до обновления и после него. Какой тест вам понадобился бы для проверки этой гипотезы?"
   ]
  },
  {
   "cell_type": "markdown",
   "id": "8773cf34",
   "metadata": {},
   "source": [
    "Гипотеза о равенстве средних для зависимых (парных) выборок\n",
    "- Выборки в этом случае будут зависимыми, иначе — парными. Парная выборка означает, что некоторая переменная измеряется дважды для одних и тех же объектов. В нашем примере это пара измерений для каждого пользователя — до и после изменения расчёта.\n",
    "Чтобы проверить гипотезу о равенстве средних двух генеральных совокупностей для зависимых (парных) выборок в Python, применяется метод scipy.stats.ttest_rel().\n"
   ]
  },
  {
   "cell_type": "markdown",
   "id": "61d07202",
   "metadata": {},
   "source": [
    "### Общий вывод"
   ]
  },
  {
   "cell_type": "markdown",
   "id": "7bd10c5f",
   "metadata": {},
   "source": [
    "В этом проекте выполнялся анализ данных на основе данных сервиса аренды самокатов GoFast.\n",
    "\n",
    "Основыне данные для анализа:\n",
    "\n",
    " - user_id - уникальный идентификатор пользователя\n",
    " - name - имя пользователя\n",
    " - age - возраст\n",
    " - city - город\n",
    " - subscription_type - тип подписки (free, ultra)\n",
    " - distance - расстояние, которое пользователь проехал в текущей сессии (в метрах)\n",
    " - duration\tпродолжительность сессии (в минутах) — время с того момента, как пользователь нажал кнопку «Начать поездку» до момента, как он нажал кнопку «Завершить поездку»\n",
    " - date - дата совершения поездки\n",
    " - minute_price - стоимость одной минуты поездки по данной подписке\n",
    " - start_ride_price - стоимость начала поездки\n",
    " - subscription_fee - стоимость ежемесячного платежа\n",
    " - month_revenue - помесячный доход с клиента \n"
   ]
  },
  {
   "cell_type": "markdown",
   "id": "734eb023",
   "metadata": {},
   "source": [
    "Основые задачи, которые решишались в этом проекте и их результаты:\n",
    "\n",
    "- Очистить данные от дубликатов, заполнить пропуски:\n",
    " - Данные были выгружены без пропусков\n",
    " - Дубликаты в малом кол-ве.Были удалены так как малое кол-вл не влияло на ход дальнейших исследований.\n",
    "- Провестим исследование на предмет:\n",
    "  - частота встречаемых городов,пользователей с подпиской и без подписки\n",
    "    - можно выделить тройку городов лидеров по кол-ву встречаемых пользолвателей:Пятигорск,Екатеренбург,Ростов-на-Дону\n",
    "  - расстояние, которое пользователь преодолел за одну поездку\n",
    "    - основное расстояние преодолеваемое пользователями составляет от 2500 до 4000 метров\n",
    "  - проверим соотношение пользователей с подпиской и без подписки\n",
    "    - определно,что пользователи с подпиской составляют 54%, пользователи без подписки 46%\n",
    "  - оценим продолжительность поездок\n",
    "    - основное распределение времени идет в диапазаоне от 15 до 20 минут.\n",
    "  - опеределим соотношение групп по возрасту\n",
    "    - кол-во пользователей с 20 до 30 лет составляют основную группу пользователей    \n",
    "  - оценим основную группу пользователей по возрасту\n",
    "    - Убираем редкие и выбивающиеся значения. Описываем, какие особенности обнаружили.\n",
    "- Провести подсчёт выручки для категорий с подпиской и без\n",
    "  - После объединения датафремемов, был создан столбец с посчитанной выручкой на каждого пользователя.На основание данной таблицы были выдвинуты и проверены гипотезы. о их результатх ниже.\n",
    "- Провереям гипотены на основе полученных данных:\n",
    "  - действительно ли пользователи с подпиской «выгоднее» для компании\n",
    "    - По результатам тестирования определено что в среднем платные пользователи с подпиской больше времени на поездки.\n",
    "  - можно ли сказать, что расстояние, которое проезжают пользователи с подпиской за одну поездку, не превышает 3130 метров?\n",
    "    - Платные пользователи проезжают не меннее 3130 метров. Логично подтверждая гипотезу, что клиенты с подпиской тратят больше времени на самокате. \n",
    "  - будет ли помесячная выручка от пользователей с подпиской по месяцам выше\n",
    "    - На основании результате тестирования, можно сказать, что клиенты с подпиской приносят больше выручки.\n",
    "\n",
    "После проведения всех исследований и стат. тестирований можно утверждать, что для компании клиенты с подпиской выгоднее. Однако стоит обратить внимание на расстояние, которое преодолевеют данные подписчики. Оно превышает 3130 метров, что выше границы оптимального износа самоката, что соответственно несет дополнительные издержки для компании, чтобы поддерживать самокаты в рабочем состоянии. В будущем необходимо будет рассмотреть совместно с амортизациией."
   ]
  }
 ],
 "metadata": {
  "ExecuteTimeLog": [
   {
    "duration": 766,
    "start_time": "2023-05-01T13:35:48.555Z"
   },
   {
    "duration": 47,
    "start_time": "2023-05-01T13:37:22.631Z"
   },
   {
    "duration": 182,
    "start_time": "2023-05-01T13:41:32.806Z"
   },
   {
    "duration": 148,
    "start_time": "2023-05-01T13:41:49.828Z"
   },
   {
    "duration": 11,
    "start_time": "2023-05-01T13:43:08.267Z"
   },
   {
    "duration": 6,
    "start_time": "2023-05-01T13:43:12.247Z"
   },
   {
    "duration": 9,
    "start_time": "2023-05-01T13:43:15.269Z"
   },
   {
    "duration": 7,
    "start_time": "2023-05-01T13:43:22.354Z"
   },
   {
    "duration": 8,
    "start_time": "2023-05-01T13:43:30.067Z"
   },
   {
    "duration": 63,
    "start_time": "2023-05-01T13:43:35.611Z"
   },
   {
    "duration": 6,
    "start_time": "2023-05-01T13:43:35.948Z"
   },
   {
    "duration": 31,
    "start_time": "2023-05-01T13:43:54.358Z"
   },
   {
    "duration": 6,
    "start_time": "2023-05-01T13:43:55.553Z"
   },
   {
    "duration": 6,
    "start_time": "2023-05-01T13:44:35.630Z"
   },
   {
    "duration": 65,
    "start_time": "2023-05-01T13:45:25.519Z"
   },
   {
    "duration": 7,
    "start_time": "2023-05-01T13:45:25.805Z"
   },
   {
    "duration": 64,
    "start_time": "2023-05-01T13:46:23.196Z"
   },
   {
    "duration": 6,
    "start_time": "2023-05-01T13:46:26.811Z"
   },
   {
    "duration": 62,
    "start_time": "2023-05-01T13:46:35.103Z"
   },
   {
    "duration": 8,
    "start_time": "2023-05-01T13:46:35.767Z"
   },
   {
    "duration": 65,
    "start_time": "2023-05-01T13:46:42.410Z"
   },
   {
    "duration": 8,
    "start_time": "2023-05-01T13:46:42.691Z"
   },
   {
    "duration": 65,
    "start_time": "2023-05-01T13:46:49.031Z"
   },
   {
    "duration": 6,
    "start_time": "2023-05-01T13:46:49.708Z"
   },
   {
    "duration": 63,
    "start_time": "2023-05-01T13:46:54.095Z"
   },
   {
    "duration": 8,
    "start_time": "2023-05-01T13:46:54.702Z"
   },
   {
    "duration": 82,
    "start_time": "2023-05-01T13:47:12.225Z"
   },
   {
    "duration": 42,
    "start_time": "2023-05-01T13:47:16.383Z"
   },
   {
    "duration": 51,
    "start_time": "2023-05-01T13:47:20.396Z"
   },
   {
    "duration": 66,
    "start_time": "2023-05-01T13:47:25.337Z"
   },
   {
    "duration": 65,
    "start_time": "2023-05-01T13:47:29.503Z"
   },
   {
    "duration": 7,
    "start_time": "2023-05-01T13:47:30.014Z"
   },
   {
    "duration": 64,
    "start_time": "2023-05-01T13:47:33.117Z"
   },
   {
    "duration": 9,
    "start_time": "2023-05-01T13:47:33.602Z"
   },
   {
    "duration": 62,
    "start_time": "2023-05-01T13:50:29.943Z"
   },
   {
    "duration": 9,
    "start_time": "2023-05-01T13:50:30.999Z"
   },
   {
    "duration": 56,
    "start_time": "2023-05-01T13:50:37.042Z"
   },
   {
    "duration": 8,
    "start_time": "2023-05-01T13:50:37.418Z"
   },
   {
    "duration": 8,
    "start_time": "2023-05-01T13:50:37.794Z"
   },
   {
    "duration": 7,
    "start_time": "2023-05-01T13:50:38.372Z"
   },
   {
    "duration": 11,
    "start_time": "2023-05-01T13:51:07.819Z"
   },
   {
    "duration": 12,
    "start_time": "2023-05-01T13:51:15.607Z"
   },
   {
    "duration": 11,
    "start_time": "2023-05-01T13:51:23.214Z"
   },
   {
    "duration": 9,
    "start_time": "2023-05-01T13:51:47.653Z"
   },
   {
    "duration": 7,
    "start_time": "2023-05-01T13:51:55.633Z"
   },
   {
    "duration": 51,
    "start_time": "2023-05-01T13:52:06.303Z"
   },
   {
    "duration": 7,
    "start_time": "2023-05-01T13:52:08.807Z"
   },
   {
    "duration": 9,
    "start_time": "2023-05-01T13:52:14.667Z"
   },
   {
    "duration": 11,
    "start_time": "2023-05-01T13:52:29.439Z"
   },
   {
    "duration": 10,
    "start_time": "2023-05-01T13:52:40.218Z"
   },
   {
    "duration": 1123,
    "start_time": "2023-05-01T17:29:18.947Z"
   },
   {
    "duration": 504,
    "start_time": "2023-05-01T17:29:20.075Z"
   },
   {
    "duration": 19,
    "start_time": "2023-05-01T17:29:20.582Z"
   },
   {
    "duration": 18,
    "start_time": "2023-05-01T17:29:20.603Z"
   },
   {
    "duration": 67,
    "start_time": "2023-05-01T17:29:20.624Z"
   },
   {
    "duration": 16,
    "start_time": "2023-05-01T17:29:20.695Z"
   },
   {
    "duration": 30,
    "start_time": "2023-05-01T17:29:20.714Z"
   },
   {
    "duration": 43,
    "start_time": "2023-05-01T17:29:20.746Z"
   },
   {
    "duration": 10,
    "start_time": "2023-05-01T17:29:20.791Z"
   },
   {
    "duration": 13,
    "start_time": "2023-05-01T17:29:20.803Z"
   },
   {
    "duration": 59,
    "start_time": "2023-05-01T17:29:20.819Z"
   },
   {
    "duration": 102,
    "start_time": "2023-05-01T17:29:55.181Z"
   },
   {
    "duration": 89,
    "start_time": "2023-05-01T17:33:25.819Z"
   },
   {
    "duration": 698,
    "start_time": "2023-05-01T17:33:34.913Z"
   },
   {
    "duration": 15,
    "start_time": "2023-05-01T17:34:39.255Z"
   },
   {
    "duration": 849,
    "start_time": "2023-05-01T17:34:58.960Z"
   },
   {
    "duration": 14,
    "start_time": "2023-05-01T17:35:09.883Z"
   },
   {
    "duration": 15,
    "start_time": "2023-05-01T17:36:11.036Z"
   },
   {
    "duration": 14,
    "start_time": "2023-05-01T17:36:33.092Z"
   },
   {
    "duration": 152,
    "start_time": "2023-05-01T17:37:24.158Z"
   },
   {
    "duration": 15,
    "start_time": "2023-05-01T17:37:32.994Z"
   },
   {
    "duration": 22,
    "start_time": "2023-05-01T17:38:14.916Z"
   },
   {
    "duration": 663,
    "start_time": "2023-05-01T17:41:16.364Z"
   },
   {
    "duration": 83,
    "start_time": "2023-05-01T17:41:17.030Z"
   },
   {
    "duration": 19,
    "start_time": "2023-05-01T17:41:17.115Z"
   },
   {
    "duration": 38,
    "start_time": "2023-05-01T17:41:17.137Z"
   },
   {
    "duration": 42,
    "start_time": "2023-05-01T17:41:17.178Z"
   },
   {
    "duration": 30,
    "start_time": "2023-05-01T17:41:17.222Z"
   },
   {
    "duration": 9,
    "start_time": "2023-05-01T17:41:17.255Z"
   },
   {
    "duration": 16,
    "start_time": "2023-05-01T17:41:17.266Z"
   },
   {
    "duration": 26,
    "start_time": "2023-05-01T17:41:17.284Z"
   },
   {
    "duration": 13,
    "start_time": "2023-05-01T17:41:17.313Z"
   },
   {
    "duration": 24,
    "start_time": "2023-05-01T17:41:17.328Z"
   },
   {
    "duration": 31,
    "start_time": "2023-05-01T17:41:17.354Z"
   },
   {
    "duration": 29,
    "start_time": "2023-05-01T17:41:57.250Z"
   },
   {
    "duration": 89,
    "start_time": "2023-05-01T17:42:30.696Z"
   },
   {
    "duration": 20,
    "start_time": "2023-05-01T17:42:36.368Z"
   },
   {
    "duration": 19,
    "start_time": "2023-05-01T17:42:47.401Z"
   },
   {
    "duration": 14,
    "start_time": "2023-05-01T17:42:51.205Z"
   },
   {
    "duration": 660,
    "start_time": "2023-05-01T17:43:06.044Z"
   },
   {
    "duration": 70,
    "start_time": "2023-05-01T17:43:06.706Z"
   },
   {
    "duration": 14,
    "start_time": "2023-05-01T17:43:06.778Z"
   },
   {
    "duration": 13,
    "start_time": "2023-05-01T17:43:06.795Z"
   },
   {
    "duration": 18,
    "start_time": "2023-05-01T17:43:06.810Z"
   },
   {
    "duration": 20,
    "start_time": "2023-05-01T17:43:06.831Z"
   },
   {
    "duration": 9,
    "start_time": "2023-05-01T17:43:06.853Z"
   },
   {
    "duration": 16,
    "start_time": "2023-05-01T17:43:06.864Z"
   },
   {
    "duration": 9,
    "start_time": "2023-05-01T17:43:06.882Z"
   },
   {
    "duration": 28,
    "start_time": "2023-05-01T17:43:06.893Z"
   },
   {
    "duration": 14,
    "start_time": "2023-05-01T17:43:06.923Z"
   },
   {
    "duration": 23,
    "start_time": "2023-05-01T17:43:06.939Z"
   },
   {
    "duration": 11,
    "start_time": "2023-05-01T17:44:44.155Z"
   },
   {
    "duration": 27,
    "start_time": "2023-05-01T17:45:00.859Z"
   },
   {
    "duration": 7,
    "start_time": "2023-05-01T17:48:01.859Z"
   },
   {
    "duration": 16,
    "start_time": "2023-05-01T17:48:21.016Z"
   },
   {
    "duration": 9,
    "start_time": "2023-05-01T17:50:12.838Z"
   },
   {
    "duration": 8,
    "start_time": "2023-05-01T17:50:34.501Z"
   },
   {
    "duration": 6,
    "start_time": "2023-05-01T17:50:55.769Z"
   },
   {
    "duration": 28,
    "start_time": "2023-05-01T17:52:19.562Z"
   },
   {
    "duration": 10,
    "start_time": "2023-05-01T17:52:39.477Z"
   },
   {
    "duration": 34,
    "start_time": "2023-05-01T17:52:42.681Z"
   },
   {
    "duration": 6,
    "start_time": "2023-05-01T17:52:51.709Z"
   },
   {
    "duration": 25,
    "start_time": "2023-05-01T17:52:54.732Z"
   },
   {
    "duration": 19,
    "start_time": "2023-05-01T17:53:22.508Z"
   },
   {
    "duration": 9,
    "start_time": "2023-05-01T17:54:52.023Z"
   },
   {
    "duration": 9,
    "start_time": "2023-05-01T17:54:56.860Z"
   },
   {
    "duration": 21,
    "start_time": "2023-05-01T17:55:04.424Z"
   },
   {
    "duration": 7,
    "start_time": "2023-05-01T17:57:09.971Z"
   },
   {
    "duration": 17,
    "start_time": "2023-05-01T18:00:28.805Z"
   },
   {
    "duration": 12,
    "start_time": "2023-05-01T18:00:40.109Z"
   },
   {
    "duration": 724,
    "start_time": "2023-05-01T18:00:48.635Z"
   },
   {
    "duration": 74,
    "start_time": "2023-05-01T18:00:49.361Z"
   },
   {
    "duration": 13,
    "start_time": "2023-05-01T18:00:49.437Z"
   },
   {
    "duration": 11,
    "start_time": "2023-05-01T18:00:49.452Z"
   },
   {
    "duration": 21,
    "start_time": "2023-05-01T18:00:49.466Z"
   },
   {
    "duration": 17,
    "start_time": "2023-05-01T18:00:49.489Z"
   },
   {
    "duration": 29,
    "start_time": "2023-05-01T18:00:49.508Z"
   },
   {
    "duration": 18,
    "start_time": "2023-05-01T18:00:49.539Z"
   },
   {
    "duration": 17,
    "start_time": "2023-05-01T18:00:49.559Z"
   },
   {
    "duration": 17,
    "start_time": "2023-05-01T18:00:49.577Z"
   },
   {
    "duration": 14,
    "start_time": "2023-05-01T18:00:49.596Z"
   },
   {
    "duration": 36,
    "start_time": "2023-05-01T18:00:49.611Z"
   },
   {
    "duration": 12,
    "start_time": "2023-05-01T18:00:49.648Z"
   },
   {
    "duration": 9,
    "start_time": "2023-05-01T18:00:49.663Z"
   },
   {
    "duration": 8,
    "start_time": "2023-05-01T18:00:49.674Z"
   },
   {
    "duration": 16,
    "start_time": "2023-05-01T18:00:49.684Z"
   },
   {
    "duration": 50,
    "start_time": "2023-05-01T18:00:49.701Z"
   },
   {
    "duration": 9,
    "start_time": "2023-05-01T18:01:02.131Z"
   },
   {
    "duration": 9,
    "start_time": "2023-05-01T18:01:05.275Z"
   },
   {
    "duration": 15,
    "start_time": "2023-05-01T18:01:20.030Z"
   },
   {
    "duration": 160,
    "start_time": "2023-05-01T18:01:24.810Z"
   },
   {
    "duration": 10,
    "start_time": "2023-05-01T18:01:27.296Z"
   },
   {
    "duration": 91,
    "start_time": "2023-05-01T18:01:41.413Z"
   },
   {
    "duration": 13,
    "start_time": "2023-05-01T18:01:44.788Z"
   },
   {
    "duration": 20,
    "start_time": "2023-05-01T18:03:25.202Z"
   },
   {
    "duration": 12,
    "start_time": "2023-05-01T18:03:42.304Z"
   },
   {
    "duration": 189,
    "start_time": "2023-05-01T18:08:33.500Z"
   },
   {
    "duration": 191,
    "start_time": "2023-05-01T18:08:44.249Z"
   },
   {
    "duration": 8,
    "start_time": "2023-05-01T18:12:40.669Z"
   },
   {
    "duration": 10,
    "start_time": "2023-05-01T18:12:48.203Z"
   },
   {
    "duration": 14,
    "start_time": "2023-05-01T18:13:41.962Z"
   },
   {
    "duration": 122,
    "start_time": "2023-05-01T18:24:29.852Z"
   },
   {
    "duration": 136,
    "start_time": "2023-05-01T18:24:46.731Z"
   },
   {
    "duration": 8,
    "start_time": "2023-05-01T18:29:04.701Z"
   },
   {
    "duration": 705,
    "start_time": "2023-05-01T18:29:17.800Z"
   },
   {
    "duration": 82,
    "start_time": "2023-05-01T18:29:18.507Z"
   },
   {
    "duration": 89,
    "start_time": "2023-05-01T18:29:18.591Z"
   },
   {
    "duration": 0,
    "start_time": "2023-05-01T18:29:18.682Z"
   },
   {
    "duration": 0,
    "start_time": "2023-05-01T18:29:18.683Z"
   },
   {
    "duration": 0,
    "start_time": "2023-05-01T18:29:18.685Z"
   },
   {
    "duration": 0,
    "start_time": "2023-05-01T18:29:18.686Z"
   },
   {
    "duration": 0,
    "start_time": "2023-05-01T18:29:18.687Z"
   },
   {
    "duration": 0,
    "start_time": "2023-05-01T18:29:18.688Z"
   },
   {
    "duration": 0,
    "start_time": "2023-05-01T18:29:18.688Z"
   },
   {
    "duration": 0,
    "start_time": "2023-05-01T18:29:18.690Z"
   },
   {
    "duration": 0,
    "start_time": "2023-05-01T18:29:18.691Z"
   },
   {
    "duration": 0,
    "start_time": "2023-05-01T18:29:18.692Z"
   },
   {
    "duration": 0,
    "start_time": "2023-05-01T18:29:18.693Z"
   },
   {
    "duration": 0,
    "start_time": "2023-05-01T18:29:18.693Z"
   },
   {
    "duration": 0,
    "start_time": "2023-05-01T18:29:18.694Z"
   },
   {
    "duration": 0,
    "start_time": "2023-05-01T18:29:18.695Z"
   },
   {
    "duration": 0,
    "start_time": "2023-05-01T18:29:18.696Z"
   },
   {
    "duration": 0,
    "start_time": "2023-05-01T18:29:18.697Z"
   },
   {
    "duration": 13,
    "start_time": "2023-05-01T18:29:28.400Z"
   },
   {
    "duration": 764,
    "start_time": "2023-05-01T18:29:35.618Z"
   },
   {
    "duration": 88,
    "start_time": "2023-05-01T18:29:36.384Z"
   },
   {
    "duration": 14,
    "start_time": "2023-05-01T18:29:36.474Z"
   },
   {
    "duration": 25,
    "start_time": "2023-05-01T18:29:36.489Z"
   },
   {
    "duration": 65,
    "start_time": "2023-05-01T18:29:36.516Z"
   },
   {
    "duration": 17,
    "start_time": "2023-05-01T18:29:36.583Z"
   },
   {
    "duration": 49,
    "start_time": "2023-05-01T18:29:36.602Z"
   },
   {
    "duration": 27,
    "start_time": "2023-05-01T18:29:36.653Z"
   },
   {
    "duration": 18,
    "start_time": "2023-05-01T18:29:36.683Z"
   },
   {
    "duration": 12,
    "start_time": "2023-05-01T18:29:36.702Z"
   },
   {
    "duration": 33,
    "start_time": "2023-05-01T18:29:36.716Z"
   },
   {
    "duration": 33,
    "start_time": "2023-05-01T18:29:36.751Z"
   },
   {
    "duration": 23,
    "start_time": "2023-05-01T18:29:36.786Z"
   },
   {
    "duration": 9,
    "start_time": "2023-05-01T18:29:36.812Z"
   },
   {
    "duration": 33,
    "start_time": "2023-05-01T18:29:36.823Z"
   },
   {
    "duration": 14,
    "start_time": "2023-05-01T18:29:36.857Z"
   },
   {
    "duration": 114,
    "start_time": "2023-05-01T18:29:36.873Z"
   },
   {
    "duration": 0,
    "start_time": "2023-05-01T18:29:36.989Z"
   },
   {
    "duration": 0,
    "start_time": "2023-05-01T18:29:36.991Z"
   },
   {
    "duration": 16,
    "start_time": "2023-05-01T18:29:42.450Z"
   },
   {
    "duration": 14,
    "start_time": "2023-05-01T18:29:47.252Z"
   },
   {
    "duration": 9,
    "start_time": "2023-05-01T18:30:00.457Z"
   },
   {
    "duration": 8,
    "start_time": "2023-05-01T18:30:20.742Z"
   },
   {
    "duration": 714,
    "start_time": "2023-05-01T18:30:29.744Z"
   },
   {
    "duration": 76,
    "start_time": "2023-05-01T18:30:30.460Z"
   },
   {
    "duration": 18,
    "start_time": "2023-05-01T18:30:30.538Z"
   },
   {
    "duration": 34,
    "start_time": "2023-05-01T18:30:30.558Z"
   },
   {
    "duration": 76,
    "start_time": "2023-05-01T18:30:30.595Z"
   },
   {
    "duration": 49,
    "start_time": "2023-05-01T18:30:30.673Z"
   },
   {
    "duration": 52,
    "start_time": "2023-05-01T18:30:30.726Z"
   },
   {
    "duration": 44,
    "start_time": "2023-05-01T18:30:30.780Z"
   },
   {
    "duration": 46,
    "start_time": "2023-05-01T18:30:30.826Z"
   },
   {
    "duration": 85,
    "start_time": "2023-05-01T18:30:30.874Z"
   },
   {
    "duration": 41,
    "start_time": "2023-05-01T18:30:30.961Z"
   },
   {
    "duration": 65,
    "start_time": "2023-05-01T18:30:31.004Z"
   },
   {
    "duration": 88,
    "start_time": "2023-05-01T18:30:31.071Z"
   },
   {
    "duration": 36,
    "start_time": "2023-05-01T18:30:31.161Z"
   },
   {
    "duration": 71,
    "start_time": "2023-05-01T18:30:31.199Z"
   },
   {
    "duration": 73,
    "start_time": "2023-05-01T18:30:31.272Z"
   },
   {
    "duration": 48,
    "start_time": "2023-05-01T18:30:31.348Z"
   },
   {
    "duration": 270,
    "start_time": "2023-05-01T18:30:31.399Z"
   },
   {
    "duration": 138,
    "start_time": "2023-05-01T18:30:31.671Z"
   },
   {
    "duration": 161,
    "start_time": "2023-05-01T18:32:29.957Z"
   },
   {
    "duration": 213,
    "start_time": "2023-05-01T18:32:46.763Z"
   },
   {
    "duration": 120,
    "start_time": "2023-05-01T18:35:58.748Z"
   },
   {
    "duration": 110,
    "start_time": "2023-05-01T18:36:03.644Z"
   },
   {
    "duration": 8,
    "start_time": "2023-05-01T18:36:20.390Z"
   },
   {
    "duration": 167,
    "start_time": "2023-05-01T18:36:38.898Z"
   },
   {
    "duration": 139,
    "start_time": "2023-05-01T18:37:04.862Z"
   },
   {
    "duration": 142,
    "start_time": "2023-05-01T18:37:13.247Z"
   },
   {
    "duration": 22,
    "start_time": "2023-05-01T18:38:01.945Z"
   },
   {
    "duration": 361,
    "start_time": "2023-05-01T18:38:08.545Z"
   },
   {
    "duration": 255,
    "start_time": "2023-05-01T18:38:18.178Z"
   },
   {
    "duration": 316,
    "start_time": "2023-05-01T18:40:31.284Z"
   },
   {
    "duration": 320,
    "start_time": "2023-05-01T18:40:41.411Z"
   },
   {
    "duration": 826,
    "start_time": "2023-05-01T18:56:12.364Z"
   },
   {
    "duration": 93,
    "start_time": "2023-05-01T18:56:13.192Z"
   },
   {
    "duration": 12,
    "start_time": "2023-05-01T18:56:13.287Z"
   },
   {
    "duration": 16,
    "start_time": "2023-05-01T18:56:13.301Z"
   },
   {
    "duration": 59,
    "start_time": "2023-05-01T18:56:13.322Z"
   },
   {
    "duration": 139,
    "start_time": "2023-05-01T18:56:13.383Z"
   },
   {
    "duration": 40,
    "start_time": "2023-05-01T18:56:13.524Z"
   },
   {
    "duration": 12,
    "start_time": "2023-05-01T18:56:13.567Z"
   },
   {
    "duration": 11,
    "start_time": "2023-05-01T18:56:13.581Z"
   },
   {
    "duration": 10,
    "start_time": "2023-05-01T18:56:13.594Z"
   },
   {
    "duration": 6,
    "start_time": "2023-05-01T18:56:13.605Z"
   },
   {
    "duration": 58,
    "start_time": "2023-05-01T18:56:13.613Z"
   },
   {
    "duration": 12,
    "start_time": "2023-05-01T18:56:13.672Z"
   },
   {
    "duration": 8,
    "start_time": "2023-05-01T18:56:13.686Z"
   },
   {
    "duration": 6,
    "start_time": "2023-05-01T18:56:13.695Z"
   },
   {
    "duration": 7,
    "start_time": "2023-05-01T18:56:13.702Z"
   },
   {
    "duration": 20,
    "start_time": "2023-05-01T18:56:13.710Z"
   },
   {
    "duration": 256,
    "start_time": "2023-05-01T18:56:13.732Z"
   },
   {
    "duration": 143,
    "start_time": "2023-05-01T18:56:13.991Z"
   },
   {
    "duration": 238,
    "start_time": "2023-05-01T18:56:14.136Z"
   },
   {
    "duration": 269,
    "start_time": "2023-05-01T18:56:14.376Z"
   },
   {
    "duration": 99,
    "start_time": "2023-05-01T18:56:14.648Z"
   },
   {
    "duration": 216,
    "start_time": "2023-05-01T18:57:02.868Z"
   },
   {
    "duration": 146,
    "start_time": "2023-05-01T18:57:13.661Z"
   },
   {
    "duration": 180,
    "start_time": "2023-05-01T18:57:51.404Z"
   },
   {
    "duration": 14,
    "start_time": "2023-05-01T19:01:23.659Z"
   },
   {
    "duration": 12,
    "start_time": "2023-05-01T19:01:26.651Z"
   },
   {
    "duration": 16,
    "start_time": "2023-05-01T19:01:36.153Z"
   },
   {
    "duration": 139,
    "start_time": "2023-05-01T19:02:04.527Z"
   },
   {
    "duration": 127,
    "start_time": "2023-05-01T19:02:14.012Z"
   },
   {
    "duration": 126,
    "start_time": "2023-05-01T19:02:20.804Z"
   },
   {
    "duration": 119,
    "start_time": "2023-05-01T19:02:27.369Z"
   },
   {
    "duration": 120,
    "start_time": "2023-05-01T19:02:30.184Z"
   },
   {
    "duration": 51,
    "start_time": "2023-05-01T19:06:42.044Z"
   },
   {
    "duration": 15,
    "start_time": "2023-05-01T19:06:53.560Z"
   },
   {
    "duration": 10,
    "start_time": "2023-05-01T19:07:04.461Z"
   },
   {
    "duration": 15,
    "start_time": "2023-05-01T19:07:25.349Z"
   },
   {
    "duration": 13,
    "start_time": "2023-05-01T19:07:28.403Z"
   },
   {
    "duration": 162,
    "start_time": "2023-05-01T19:09:10.844Z"
   },
   {
    "duration": 175,
    "start_time": "2023-05-01T19:10:49.299Z"
   },
   {
    "duration": 156,
    "start_time": "2023-05-01T19:11:08.697Z"
   },
   {
    "duration": 215,
    "start_time": "2023-05-01T19:11:21.451Z"
   },
   {
    "duration": 143,
    "start_time": "2023-05-01T19:11:56.411Z"
   },
   {
    "duration": 147,
    "start_time": "2023-05-01T19:13:50.395Z"
   },
   {
    "duration": 102,
    "start_time": "2023-05-01T19:14:21.702Z"
   },
   {
    "duration": 109,
    "start_time": "2023-05-01T19:14:32.654Z"
   },
   {
    "duration": 91,
    "start_time": "2023-05-01T19:14:38.819Z"
   },
   {
    "duration": 89,
    "start_time": "2023-05-01T19:14:51.232Z"
   },
   {
    "duration": 103,
    "start_time": "2023-05-01T19:15:17.612Z"
   },
   {
    "duration": 95,
    "start_time": "2023-05-01T19:15:23.071Z"
   },
   {
    "duration": 129,
    "start_time": "2023-05-01T19:15:28.598Z"
   },
   {
    "duration": 151,
    "start_time": "2023-05-01T19:15:35.251Z"
   },
   {
    "duration": 246,
    "start_time": "2023-05-01T19:18:48.641Z"
   },
   {
    "duration": 268,
    "start_time": "2023-05-01T19:18:59.428Z"
   },
   {
    "duration": 151,
    "start_time": "2023-05-01T19:25:34.303Z"
   },
   {
    "duration": 309,
    "start_time": "2023-05-01T19:25:57.042Z"
   },
   {
    "duration": 157,
    "start_time": "2023-05-01T19:26:07.307Z"
   },
   {
    "duration": 75,
    "start_time": "2023-05-01T19:28:38.944Z"
   },
   {
    "duration": 212,
    "start_time": "2023-05-01T19:28:44.798Z"
   },
   {
    "duration": 24,
    "start_time": "2023-05-01T19:35:54.049Z"
   },
   {
    "duration": 10,
    "start_time": "2023-05-01T19:36:16.777Z"
   },
   {
    "duration": 27,
    "start_time": "2023-05-01T19:37:00.296Z"
   },
   {
    "duration": 8,
    "start_time": "2023-05-01T19:37:30.196Z"
   },
   {
    "duration": 12,
    "start_time": "2023-05-01T19:37:34.366Z"
   },
   {
    "duration": 9,
    "start_time": "2023-05-01T19:37:34.706Z"
   },
   {
    "duration": 666,
    "start_time": "2023-05-01T19:37:43.237Z"
   },
   {
    "duration": 88,
    "start_time": "2023-05-01T19:37:43.904Z"
   },
   {
    "duration": 13,
    "start_time": "2023-05-01T19:37:43.994Z"
   },
   {
    "duration": 19,
    "start_time": "2023-05-01T19:37:44.009Z"
   },
   {
    "duration": 36,
    "start_time": "2023-05-01T19:37:44.029Z"
   },
   {
    "duration": 16,
    "start_time": "2023-05-01T19:37:44.067Z"
   },
   {
    "duration": 9,
    "start_time": "2023-05-01T19:37:44.084Z"
   },
   {
    "duration": 31,
    "start_time": "2023-05-01T19:37:44.095Z"
   },
   {
    "duration": 34,
    "start_time": "2023-05-01T19:37:44.130Z"
   },
   {
    "duration": 19,
    "start_time": "2023-05-01T19:37:44.165Z"
   },
   {
    "duration": 12,
    "start_time": "2023-05-01T19:37:44.185Z"
   },
   {
    "duration": 33,
    "start_time": "2023-05-01T19:37:44.199Z"
   },
   {
    "duration": 20,
    "start_time": "2023-05-01T19:37:44.239Z"
   },
   {
    "duration": 8,
    "start_time": "2023-05-01T19:37:44.261Z"
   },
   {
    "duration": 19,
    "start_time": "2023-05-01T19:37:44.271Z"
   },
   {
    "duration": 21,
    "start_time": "2023-05-01T19:37:44.291Z"
   },
   {
    "duration": 44,
    "start_time": "2023-05-01T19:37:44.313Z"
   },
   {
    "duration": 201,
    "start_time": "2023-05-01T19:37:44.358Z"
   },
   {
    "duration": 133,
    "start_time": "2023-05-01T19:37:44.561Z"
   },
   {
    "duration": 201,
    "start_time": "2023-05-01T19:37:44.696Z"
   },
   {
    "duration": 241,
    "start_time": "2023-05-01T19:37:44.899Z"
   },
   {
    "duration": 202,
    "start_time": "2023-05-01T19:37:45.158Z"
   },
   {
    "duration": 125,
    "start_time": "2023-05-01T19:37:45.362Z"
   },
   {
    "duration": 286,
    "start_time": "2023-05-01T19:37:45.489Z"
   },
   {
    "duration": 147,
    "start_time": "2023-05-01T19:37:45.777Z"
   },
   {
    "duration": 124,
    "start_time": "2023-05-01T19:37:45.929Z"
   },
   {
    "duration": 9,
    "start_time": "2023-05-01T19:37:46.056Z"
   },
   {
    "duration": 10,
    "start_time": "2023-05-01T19:37:46.067Z"
   },
   {
    "duration": 84,
    "start_time": "2023-05-01T19:38:05.797Z"
   },
   {
    "duration": 20,
    "start_time": "2023-05-01T19:38:16.570Z"
   },
   {
    "duration": 13,
    "start_time": "2023-05-01T19:38:35.335Z"
   },
   {
    "duration": 17,
    "start_time": "2023-05-01T19:39:48.150Z"
   },
   {
    "duration": 42,
    "start_time": "2023-05-01T19:40:14.717Z"
   },
   {
    "duration": 34,
    "start_time": "2023-05-01T19:40:28.129Z"
   },
   {
    "duration": 35,
    "start_time": "2023-05-01T19:40:36.504Z"
   },
   {
    "duration": 32,
    "start_time": "2023-05-01T19:40:49.534Z"
   },
   {
    "duration": 747,
    "start_time": "2023-05-01T19:41:37.006Z"
   },
   {
    "duration": 80,
    "start_time": "2023-05-01T19:41:37.755Z"
   },
   {
    "duration": 15,
    "start_time": "2023-05-01T19:41:37.840Z"
   },
   {
    "duration": 31,
    "start_time": "2023-05-01T19:41:37.857Z"
   },
   {
    "duration": 20,
    "start_time": "2023-05-01T19:41:37.891Z"
   },
   {
    "duration": 38,
    "start_time": "2023-05-01T19:41:37.913Z"
   },
   {
    "duration": 14,
    "start_time": "2023-05-01T19:41:37.953Z"
   },
   {
    "duration": 21,
    "start_time": "2023-05-01T19:41:37.969Z"
   },
   {
    "duration": 18,
    "start_time": "2023-05-01T19:41:37.991Z"
   },
   {
    "duration": 41,
    "start_time": "2023-05-01T19:41:38.011Z"
   },
   {
    "duration": 13,
    "start_time": "2023-05-01T19:41:38.054Z"
   },
   {
    "duration": 25,
    "start_time": "2023-05-01T19:41:38.069Z"
   },
   {
    "duration": 11,
    "start_time": "2023-05-01T19:41:38.095Z"
   },
   {
    "duration": 18,
    "start_time": "2023-05-01T19:41:38.109Z"
   },
   {
    "duration": 24,
    "start_time": "2023-05-01T19:41:38.128Z"
   },
   {
    "duration": 11,
    "start_time": "2023-05-01T19:41:38.154Z"
   },
   {
    "duration": 10,
    "start_time": "2023-05-01T19:41:38.167Z"
   },
   {
    "duration": 204,
    "start_time": "2023-05-01T19:41:38.179Z"
   },
   {
    "duration": 126,
    "start_time": "2023-05-01T19:41:38.385Z"
   },
   {
    "duration": 225,
    "start_time": "2023-05-01T19:41:38.512Z"
   },
   {
    "duration": 229,
    "start_time": "2023-05-01T19:41:38.746Z"
   },
   {
    "duration": 227,
    "start_time": "2023-05-01T19:41:38.977Z"
   },
   {
    "duration": 154,
    "start_time": "2023-05-01T19:41:39.205Z"
   },
   {
    "duration": 307,
    "start_time": "2023-05-01T19:41:39.361Z"
   },
   {
    "duration": 140,
    "start_time": "2023-05-01T19:41:39.670Z"
   },
   {
    "duration": 150,
    "start_time": "2023-05-01T19:41:39.817Z"
   },
   {
    "duration": 114,
    "start_time": "2023-05-01T19:41:39.969Z"
   },
   {
    "duration": 84,
    "start_time": "2023-05-01T19:41:40.084Z"
   },
   {
    "duration": 115,
    "start_time": "2023-05-01T19:41:40.170Z"
   },
   {
    "duration": 29,
    "start_time": "2023-05-01T19:41:53.539Z"
   },
   {
    "duration": 24,
    "start_time": "2023-05-01T19:42:09.305Z"
   },
   {
    "duration": 40,
    "start_time": "2023-05-01T19:43:09.809Z"
   },
   {
    "duration": 79,
    "start_time": "2023-05-01T19:43:45.146Z"
   },
   {
    "duration": 33,
    "start_time": "2023-05-01T19:43:55.808Z"
   },
   {
    "duration": 8,
    "start_time": "2023-05-01T19:44:11.373Z"
   },
   {
    "duration": 9,
    "start_time": "2023-05-01T19:45:49.205Z"
   },
   {
    "duration": 217,
    "start_time": "2023-05-01T19:48:42.043Z"
   },
   {
    "duration": 163,
    "start_time": "2023-05-01T19:48:56.511Z"
   },
   {
    "duration": 132,
    "start_time": "2023-05-01T19:49:00.311Z"
   },
   {
    "duration": 164,
    "start_time": "2023-05-01T19:49:03.447Z"
   },
   {
    "duration": 191,
    "start_time": "2023-05-01T19:51:35.738Z"
   },
   {
    "duration": 177,
    "start_time": "2023-05-01T19:51:44.915Z"
   },
   {
    "duration": 255,
    "start_time": "2023-05-01T19:51:47.811Z"
   },
   {
    "duration": 2087,
    "start_time": "2023-05-01T19:55:09.106Z"
   },
   {
    "duration": 210,
    "start_time": "2023-05-01T19:55:27.040Z"
   },
   {
    "duration": 200,
    "start_time": "2023-05-01T19:55:52.274Z"
   },
   {
    "duration": 197,
    "start_time": "2023-05-01T19:56:07.096Z"
   },
   {
    "duration": 168,
    "start_time": "2023-05-01T19:56:10.545Z"
   },
   {
    "duration": 17,
    "start_time": "2023-05-01T19:56:19.635Z"
   },
   {
    "duration": 6,
    "start_time": "2023-05-01T19:56:27.306Z"
   },
   {
    "duration": 22,
    "start_time": "2023-05-01T19:56:30.667Z"
   },
   {
    "duration": 16,
    "start_time": "2023-05-01T19:56:36.043Z"
   },
   {
    "duration": 20,
    "start_time": "2023-05-01T19:56:45.906Z"
   },
   {
    "duration": 10,
    "start_time": "2023-05-01T20:17:04.581Z"
   },
   {
    "duration": 11,
    "start_time": "2023-05-01T20:17:10.084Z"
   },
   {
    "duration": 8,
    "start_time": "2023-05-01T20:17:41.322Z"
   },
   {
    "duration": 14,
    "start_time": "2023-05-01T20:21:13.830Z"
   },
   {
    "duration": 625,
    "start_time": "2023-05-01T20:24:03.505Z"
   },
   {
    "duration": 67,
    "start_time": "2023-05-01T20:24:04.132Z"
   },
   {
    "duration": 12,
    "start_time": "2023-05-01T20:24:04.200Z"
   },
   {
    "duration": 10,
    "start_time": "2023-05-01T20:24:04.214Z"
   },
   {
    "duration": 11,
    "start_time": "2023-05-01T20:24:04.226Z"
   },
   {
    "duration": 11,
    "start_time": "2023-05-01T20:24:04.238Z"
   },
   {
    "duration": 6,
    "start_time": "2023-05-01T20:24:04.251Z"
   },
   {
    "duration": 14,
    "start_time": "2023-05-01T20:24:04.259Z"
   },
   {
    "duration": 16,
    "start_time": "2023-05-01T20:24:04.274Z"
   },
   {
    "duration": 16,
    "start_time": "2023-05-01T20:24:04.291Z"
   },
   {
    "duration": 9,
    "start_time": "2023-05-01T20:24:04.309Z"
   },
   {
    "duration": 32,
    "start_time": "2023-05-01T20:24:04.319Z"
   },
   {
    "duration": 9,
    "start_time": "2023-05-01T20:24:04.353Z"
   },
   {
    "duration": 9,
    "start_time": "2023-05-01T20:24:04.365Z"
   },
   {
    "duration": 7,
    "start_time": "2023-05-01T20:24:04.376Z"
   },
   {
    "duration": 6,
    "start_time": "2023-05-01T20:24:04.384Z"
   },
   {
    "duration": 9,
    "start_time": "2023-05-01T20:24:04.391Z"
   },
   {
    "duration": 191,
    "start_time": "2023-05-01T20:24:04.401Z"
   },
   {
    "duration": 109,
    "start_time": "2023-05-01T20:24:04.594Z"
   },
   {
    "duration": 166,
    "start_time": "2023-05-01T20:24:04.704Z"
   },
   {
    "duration": 212,
    "start_time": "2023-05-01T20:24:04.871Z"
   },
   {
    "duration": 179,
    "start_time": "2023-05-01T20:24:05.084Z"
   },
   {
    "duration": 117,
    "start_time": "2023-05-01T20:24:05.265Z"
   },
   {
    "duration": 269,
    "start_time": "2023-05-01T20:24:05.384Z"
   },
   {
    "duration": 133,
    "start_time": "2023-05-01T20:24:05.655Z"
   },
   {
    "duration": 124,
    "start_time": "2023-05-01T20:24:05.790Z"
   },
   {
    "duration": 9,
    "start_time": "2023-05-01T20:24:05.916Z"
   },
   {
    "duration": 22,
    "start_time": "2023-05-01T20:24:05.927Z"
   },
   {
    "duration": 18,
    "start_time": "2023-05-01T20:24:05.951Z"
   },
   {
    "duration": 27,
    "start_time": "2023-05-01T20:24:05.971Z"
   },
   {
    "duration": 191,
    "start_time": "2023-05-01T20:24:06.000Z"
   },
   {
    "duration": 168,
    "start_time": "2023-05-01T20:24:06.193Z"
   },
   {
    "duration": 13,
    "start_time": "2023-05-01T20:24:06.363Z"
   },
   {
    "duration": 8,
    "start_time": "2023-05-01T20:24:58.456Z"
   },
   {
    "duration": 13,
    "start_time": "2023-05-01T20:25:08.188Z"
   },
   {
    "duration": 10,
    "start_time": "2023-05-01T20:30:44.396Z"
   },
   {
    "duration": 13,
    "start_time": "2023-05-01T20:30:52.638Z"
   },
   {
    "duration": 11,
    "start_time": "2023-05-01T20:31:00.235Z"
   },
   {
    "duration": 72,
    "start_time": "2023-05-01T20:32:43.548Z"
   },
   {
    "duration": 72,
    "start_time": "2023-05-01T20:32:48.221Z"
   },
   {
    "duration": 9,
    "start_time": "2023-05-01T20:32:59.008Z"
   },
   {
    "duration": 7,
    "start_time": "2023-05-01T20:33:11.598Z"
   },
   {
    "duration": 21,
    "start_time": "2023-05-01T20:33:20.298Z"
   },
   {
    "duration": 8,
    "start_time": "2023-05-01T20:34:43.556Z"
   },
   {
    "duration": 10,
    "start_time": "2023-05-01T20:35:09.893Z"
   },
   {
    "duration": 8,
    "start_time": "2023-05-01T20:43:18.019Z"
   },
   {
    "duration": 9,
    "start_time": "2023-05-01T20:43:22.030Z"
   },
   {
    "duration": 13,
    "start_time": "2023-05-01T20:58:05.873Z"
   },
   {
    "duration": 100,
    "start_time": "2023-05-01T20:59:33.715Z"
   },
   {
    "duration": 8,
    "start_time": "2023-05-01T20:59:41.198Z"
   },
   {
    "duration": 17,
    "start_time": "2023-05-01T21:01:30.345Z"
   },
   {
    "duration": 28,
    "start_time": "2023-05-01T21:04:35.942Z"
   },
   {
    "duration": 1173,
    "start_time": "2023-05-01T21:06:15.243Z"
   },
   {
    "duration": 1186,
    "start_time": "2023-05-01T21:06:22.192Z"
   },
   {
    "duration": 83,
    "start_time": "2023-05-01T21:08:32.515Z"
   },
   {
    "duration": 17,
    "start_time": "2023-05-01T21:08:35.252Z"
   },
   {
    "duration": 17,
    "start_time": "2023-05-01T21:09:33.708Z"
   },
   {
    "duration": 24,
    "start_time": "2023-05-01T21:09:45.744Z"
   },
   {
    "duration": 26,
    "start_time": "2023-05-01T21:11:20.374Z"
   },
   {
    "duration": 19,
    "start_time": "2023-05-01T21:11:27.168Z"
   },
   {
    "duration": 31,
    "start_time": "2023-05-01T21:12:21.899Z"
   },
   {
    "duration": 6,
    "start_time": "2023-05-01T21:17:32.536Z"
   },
   {
    "duration": 49,
    "start_time": "2023-05-01T21:17:35.566Z"
   },
   {
    "duration": 60,
    "start_time": "2023-05-01T21:18:59.721Z"
   },
   {
    "duration": 17,
    "start_time": "2023-05-01T21:19:12.284Z"
   },
   {
    "duration": 26,
    "start_time": "2023-05-01T21:19:17.688Z"
   },
   {
    "duration": 7,
    "start_time": "2023-05-01T21:21:41.405Z"
   },
   {
    "duration": 11,
    "start_time": "2023-05-01T21:23:01.793Z"
   },
   {
    "duration": 9,
    "start_time": "2023-05-01T21:23:12.109Z"
   },
   {
    "duration": 612,
    "start_time": "2023-05-01T21:23:26.072Z"
   },
   {
    "duration": 69,
    "start_time": "2023-05-01T21:23:26.686Z"
   },
   {
    "duration": 12,
    "start_time": "2023-05-01T21:23:26.757Z"
   },
   {
    "duration": 23,
    "start_time": "2023-05-01T21:23:26.771Z"
   },
   {
    "duration": 18,
    "start_time": "2023-05-01T21:23:26.796Z"
   },
   {
    "duration": 20,
    "start_time": "2023-05-01T21:23:26.815Z"
   },
   {
    "duration": 12,
    "start_time": "2023-05-01T21:23:26.837Z"
   },
   {
    "duration": 19,
    "start_time": "2023-05-01T21:23:26.851Z"
   },
   {
    "duration": 21,
    "start_time": "2023-05-01T21:23:26.872Z"
   },
   {
    "duration": 14,
    "start_time": "2023-05-01T21:23:26.895Z"
   },
   {
    "duration": 10,
    "start_time": "2023-05-01T21:23:26.911Z"
   },
   {
    "duration": 26,
    "start_time": "2023-05-01T21:23:26.922Z"
   },
   {
    "duration": 12,
    "start_time": "2023-05-01T21:23:26.950Z"
   },
   {
    "duration": 17,
    "start_time": "2023-05-01T21:23:26.964Z"
   },
   {
    "duration": 12,
    "start_time": "2023-05-01T21:23:26.983Z"
   },
   {
    "duration": 12,
    "start_time": "2023-05-01T21:23:26.996Z"
   },
   {
    "duration": 12,
    "start_time": "2023-05-01T21:23:27.010Z"
   },
   {
    "duration": 205,
    "start_time": "2023-05-01T21:23:27.024Z"
   },
   {
    "duration": 126,
    "start_time": "2023-05-01T21:23:27.230Z"
   },
   {
    "duration": 199,
    "start_time": "2023-05-01T21:23:27.358Z"
   },
   {
    "duration": 218,
    "start_time": "2023-05-01T21:23:27.560Z"
   },
   {
    "duration": 201,
    "start_time": "2023-05-01T21:23:27.780Z"
   },
   {
    "duration": 116,
    "start_time": "2023-05-01T21:23:27.982Z"
   },
   {
    "duration": 255,
    "start_time": "2023-05-01T21:23:28.100Z"
   },
   {
    "duration": 136,
    "start_time": "2023-05-01T21:23:28.356Z"
   },
   {
    "duration": 126,
    "start_time": "2023-05-01T21:23:28.493Z"
   },
   {
    "duration": 9,
    "start_time": "2023-05-01T21:23:28.621Z"
   },
   {
    "duration": 24,
    "start_time": "2023-05-01T21:23:28.632Z"
   },
   {
    "duration": 17,
    "start_time": "2023-05-01T21:23:28.658Z"
   },
   {
    "duration": 18,
    "start_time": "2023-05-01T21:23:28.677Z"
   },
   {
    "duration": 188,
    "start_time": "2023-05-01T21:23:28.696Z"
   },
   {
    "duration": 185,
    "start_time": "2023-05-01T21:23:28.885Z"
   },
   {
    "duration": 98,
    "start_time": "2023-05-01T21:23:29.072Z"
   },
   {
    "duration": 0,
    "start_time": "2023-05-01T21:23:29.172Z"
   },
   {
    "duration": 665,
    "start_time": "2023-05-01T21:23:46.547Z"
   },
   {
    "duration": 69,
    "start_time": "2023-05-01T21:23:47.215Z"
   },
   {
    "duration": 14,
    "start_time": "2023-05-01T21:23:47.286Z"
   },
   {
    "duration": 13,
    "start_time": "2023-05-01T21:23:47.302Z"
   },
   {
    "duration": 19,
    "start_time": "2023-05-01T21:23:47.318Z"
   },
   {
    "duration": 19,
    "start_time": "2023-05-01T21:23:47.339Z"
   },
   {
    "duration": 7,
    "start_time": "2023-05-01T21:23:47.360Z"
   },
   {
    "duration": 11,
    "start_time": "2023-05-01T21:23:47.369Z"
   },
   {
    "duration": 8,
    "start_time": "2023-05-01T21:23:47.382Z"
   },
   {
    "duration": 9,
    "start_time": "2023-05-01T21:23:47.391Z"
   },
   {
    "duration": 20,
    "start_time": "2023-05-01T21:23:47.401Z"
   },
   {
    "duration": 19,
    "start_time": "2023-05-01T21:23:47.423Z"
   },
   {
    "duration": 11,
    "start_time": "2023-05-01T21:23:47.443Z"
   },
   {
    "duration": 12,
    "start_time": "2023-05-01T21:23:47.457Z"
   },
   {
    "duration": 11,
    "start_time": "2023-05-01T21:23:47.470Z"
   },
   {
    "duration": 16,
    "start_time": "2023-05-01T21:23:47.482Z"
   },
   {
    "duration": 22,
    "start_time": "2023-05-01T21:23:47.499Z"
   },
   {
    "duration": 200,
    "start_time": "2023-05-01T21:23:47.522Z"
   },
   {
    "duration": 124,
    "start_time": "2023-05-01T21:23:47.724Z"
   },
   {
    "duration": 179,
    "start_time": "2023-05-01T21:23:47.850Z"
   },
   {
    "duration": 213,
    "start_time": "2023-05-01T21:23:48.030Z"
   },
   {
    "duration": 192,
    "start_time": "2023-05-01T21:23:48.245Z"
   },
   {
    "duration": 112,
    "start_time": "2023-05-01T21:23:48.438Z"
   },
   {
    "duration": 262,
    "start_time": "2023-05-01T21:23:48.552Z"
   },
   {
    "duration": 141,
    "start_time": "2023-05-01T21:23:48.817Z"
   },
   {
    "duration": 121,
    "start_time": "2023-05-01T21:23:48.960Z"
   },
   {
    "duration": 9,
    "start_time": "2023-05-01T21:23:49.083Z"
   },
   {
    "duration": 27,
    "start_time": "2023-05-01T21:23:49.094Z"
   },
   {
    "duration": 21,
    "start_time": "2023-05-01T21:23:49.123Z"
   },
   {
    "duration": 15,
    "start_time": "2023-05-01T21:23:49.145Z"
   },
   {
    "duration": 185,
    "start_time": "2023-05-01T21:23:49.162Z"
   },
   {
    "duration": 293,
    "start_time": "2023-05-01T21:23:49.349Z"
   },
   {
    "duration": 16,
    "start_time": "2023-05-01T21:23:49.644Z"
   },
   {
    "duration": 63,
    "start_time": "2023-05-01T21:23:49.661Z"
   },
   {
    "duration": 8,
    "start_time": "2023-05-01T21:24:00.067Z"
   },
   {
    "duration": 25,
    "start_time": "2023-05-01T21:24:08.630Z"
   },
   {
    "duration": 10,
    "start_time": "2023-05-01T21:24:43.052Z"
   },
   {
    "duration": 108,
    "start_time": "2023-05-01T21:26:22.358Z"
   },
   {
    "duration": 27,
    "start_time": "2023-05-01T21:26:33.810Z"
   },
   {
    "duration": 35,
    "start_time": "2023-05-01T21:26:39.016Z"
   },
   {
    "duration": 37,
    "start_time": "2023-05-01T21:30:02.964Z"
   },
   {
    "duration": 31,
    "start_time": "2023-05-01T21:35:00.592Z"
   },
   {
    "duration": 38,
    "start_time": "2023-05-01T21:35:06.521Z"
   },
   {
    "duration": 28,
    "start_time": "2023-05-01T21:37:42.185Z"
   },
   {
    "duration": 28,
    "start_time": "2023-05-01T21:38:02.128Z"
   },
   {
    "duration": 40,
    "start_time": "2023-05-01T21:38:35.911Z"
   },
   {
    "duration": 19,
    "start_time": "2023-05-01T21:39:20.336Z"
   },
   {
    "duration": 27,
    "start_time": "2023-05-01T21:39:26.668Z"
   },
   {
    "duration": 27,
    "start_time": "2023-05-01T21:40:12.605Z"
   },
   {
    "duration": 676,
    "start_time": "2023-05-01T21:40:42.517Z"
   },
   {
    "duration": 68,
    "start_time": "2023-05-01T21:40:43.196Z"
   },
   {
    "duration": 13,
    "start_time": "2023-05-01T21:40:43.266Z"
   },
   {
    "duration": 17,
    "start_time": "2023-05-01T21:40:43.281Z"
   },
   {
    "duration": 13,
    "start_time": "2023-05-01T21:40:43.299Z"
   },
   {
    "duration": 18,
    "start_time": "2023-05-01T21:40:43.314Z"
   },
   {
    "duration": 15,
    "start_time": "2023-05-01T21:40:43.334Z"
   },
   {
    "duration": 12,
    "start_time": "2023-05-01T21:40:43.350Z"
   },
   {
    "duration": 13,
    "start_time": "2023-05-01T21:40:43.363Z"
   },
   {
    "duration": 17,
    "start_time": "2023-05-01T21:40:43.379Z"
   },
   {
    "duration": 13,
    "start_time": "2023-05-01T21:40:43.398Z"
   },
   {
    "duration": 28,
    "start_time": "2023-05-01T21:40:43.413Z"
   },
   {
    "duration": 11,
    "start_time": "2023-05-01T21:40:43.442Z"
   },
   {
    "duration": 15,
    "start_time": "2023-05-01T21:40:43.455Z"
   },
   {
    "duration": 10,
    "start_time": "2023-05-01T21:40:43.472Z"
   },
   {
    "duration": 7,
    "start_time": "2023-05-01T21:40:43.483Z"
   },
   {
    "duration": 10,
    "start_time": "2023-05-01T21:40:43.491Z"
   },
   {
    "duration": 271,
    "start_time": "2023-05-01T21:40:43.503Z"
   },
   {
    "duration": 119,
    "start_time": "2023-05-01T21:40:43.818Z"
   },
   {
    "duration": 184,
    "start_time": "2023-05-01T21:40:43.939Z"
   },
   {
    "duration": 216,
    "start_time": "2023-05-01T21:40:44.125Z"
   },
   {
    "duration": 188,
    "start_time": "2023-05-01T21:40:44.343Z"
   },
   {
    "duration": 118,
    "start_time": "2023-05-01T21:40:44.532Z"
   },
   {
    "duration": 261,
    "start_time": "2023-05-01T21:40:44.652Z"
   },
   {
    "duration": 130,
    "start_time": "2023-05-01T21:40:44.917Z"
   },
   {
    "duration": 131,
    "start_time": "2023-05-01T21:40:45.049Z"
   },
   {
    "duration": 9,
    "start_time": "2023-05-01T21:40:45.182Z"
   },
   {
    "duration": 24,
    "start_time": "2023-05-01T21:40:45.194Z"
   },
   {
    "duration": 16,
    "start_time": "2023-05-01T21:40:45.220Z"
   },
   {
    "duration": 14,
    "start_time": "2023-05-01T21:40:45.238Z"
   },
   {
    "duration": 171,
    "start_time": "2023-05-01T21:40:45.253Z"
   },
   {
    "duration": 164,
    "start_time": "2023-05-01T21:40:45.426Z"
   },
   {
    "duration": 32,
    "start_time": "2023-05-01T21:40:45.592Z"
   },
   {
    "duration": 8,
    "start_time": "2023-05-01T21:40:45.626Z"
   },
   {
    "duration": 30,
    "start_time": "2023-05-01T21:41:22.679Z"
   },
   {
    "duration": 27,
    "start_time": "2023-05-01T22:01:47.103Z"
   },
   {
    "duration": 29,
    "start_time": "2023-05-01T22:05:18.604Z"
   },
   {
    "duration": 685,
    "start_time": "2023-05-01T22:05:30.803Z"
   },
   {
    "duration": 70,
    "start_time": "2023-05-01T22:05:31.490Z"
   },
   {
    "duration": 14,
    "start_time": "2023-05-01T22:05:31.561Z"
   },
   {
    "duration": 27,
    "start_time": "2023-05-01T22:05:31.576Z"
   },
   {
    "duration": 18,
    "start_time": "2023-05-01T22:05:31.605Z"
   },
   {
    "duration": 15,
    "start_time": "2023-05-01T22:05:31.624Z"
   },
   {
    "duration": 12,
    "start_time": "2023-05-01T22:05:31.641Z"
   },
   {
    "duration": 19,
    "start_time": "2023-05-01T22:05:31.654Z"
   },
   {
    "duration": 18,
    "start_time": "2023-05-01T22:05:31.674Z"
   },
   {
    "duration": 20,
    "start_time": "2023-05-01T22:05:31.693Z"
   },
   {
    "duration": 7,
    "start_time": "2023-05-01T22:05:31.714Z"
   },
   {
    "duration": 28,
    "start_time": "2023-05-01T22:05:31.723Z"
   },
   {
    "duration": 12,
    "start_time": "2023-05-01T22:05:31.752Z"
   },
   {
    "duration": 18,
    "start_time": "2023-05-01T22:05:31.766Z"
   },
   {
    "duration": 6,
    "start_time": "2023-05-01T22:05:31.785Z"
   },
   {
    "duration": 29,
    "start_time": "2023-05-01T22:05:31.793Z"
   },
   {
    "duration": 28,
    "start_time": "2023-05-01T22:05:31.823Z"
   },
   {
    "duration": 226,
    "start_time": "2023-05-01T22:05:31.853Z"
   },
   {
    "duration": 121,
    "start_time": "2023-05-01T22:05:32.081Z"
   },
   {
    "duration": 192,
    "start_time": "2023-05-01T22:05:32.204Z"
   },
   {
    "duration": 253,
    "start_time": "2023-05-01T22:05:32.397Z"
   },
   {
    "duration": 199,
    "start_time": "2023-05-01T22:05:32.651Z"
   },
   {
    "duration": 118,
    "start_time": "2023-05-01T22:05:32.851Z"
   },
   {
    "duration": 263,
    "start_time": "2023-05-01T22:05:32.970Z"
   },
   {
    "duration": 131,
    "start_time": "2023-05-01T22:05:33.234Z"
   },
   {
    "duration": 117,
    "start_time": "2023-05-01T22:05:33.366Z"
   },
   {
    "duration": 10,
    "start_time": "2023-05-01T22:05:33.485Z"
   },
   {
    "duration": 34,
    "start_time": "2023-05-01T22:05:33.496Z"
   },
   {
    "duration": 17,
    "start_time": "2023-05-01T22:05:33.532Z"
   },
   {
    "duration": 25,
    "start_time": "2023-05-01T22:05:33.551Z"
   },
   {
    "duration": 171,
    "start_time": "2023-05-01T22:05:33.578Z"
   },
   {
    "duration": 183,
    "start_time": "2023-05-01T22:05:33.751Z"
   },
   {
    "duration": 28,
    "start_time": "2023-05-01T22:05:33.935Z"
   },
   {
    "duration": 27,
    "start_time": "2023-05-01T22:05:54.351Z"
   },
   {
    "duration": 31,
    "start_time": "2023-05-01T22:09:09.486Z"
   },
   {
    "duration": 31,
    "start_time": "2023-05-01T22:10:34.199Z"
   },
   {
    "duration": 22,
    "start_time": "2023-05-01T22:11:59.088Z"
   },
   {
    "duration": 31,
    "start_time": "2023-05-01T22:13:02.740Z"
   },
   {
    "duration": 23,
    "start_time": "2023-05-01T22:13:08.899Z"
   },
   {
    "duration": 87,
    "start_time": "2023-05-01T22:13:19.736Z"
   },
   {
    "duration": 29,
    "start_time": "2023-05-01T22:13:27.897Z"
   },
   {
    "duration": 36,
    "start_time": "2023-05-01T22:13:35.497Z"
   },
   {
    "duration": 26,
    "start_time": "2023-05-01T22:13:40.733Z"
   },
   {
    "duration": 28,
    "start_time": "2023-05-01T22:15:10.300Z"
   },
   {
    "duration": 32,
    "start_time": "2023-05-01T22:15:19.667Z"
   },
   {
    "duration": 31,
    "start_time": "2023-05-01T22:15:50.615Z"
   },
   {
    "duration": 25,
    "start_time": "2023-05-01T22:16:04.881Z"
   },
   {
    "duration": 20,
    "start_time": "2023-05-01T22:16:51.336Z"
   },
   {
    "duration": 19,
    "start_time": "2023-05-01T22:17:22.883Z"
   },
   {
    "duration": 670,
    "start_time": "2023-05-01T22:17:30.114Z"
   },
   {
    "duration": 72,
    "start_time": "2023-05-01T22:17:30.786Z"
   },
   {
    "duration": 13,
    "start_time": "2023-05-01T22:17:30.859Z"
   },
   {
    "duration": 49,
    "start_time": "2023-05-01T22:17:30.874Z"
   },
   {
    "duration": 56,
    "start_time": "2023-05-01T22:17:30.925Z"
   },
   {
    "duration": 58,
    "start_time": "2023-05-01T22:17:30.982Z"
   },
   {
    "duration": 34,
    "start_time": "2023-05-01T22:17:31.042Z"
   },
   {
    "duration": 50,
    "start_time": "2023-05-01T22:17:31.077Z"
   },
   {
    "duration": 61,
    "start_time": "2023-05-01T22:17:31.130Z"
   },
   {
    "duration": 31,
    "start_time": "2023-05-01T22:17:31.195Z"
   },
   {
    "duration": 58,
    "start_time": "2023-05-01T22:17:31.228Z"
   },
   {
    "duration": 66,
    "start_time": "2023-05-01T22:17:31.288Z"
   },
   {
    "duration": 47,
    "start_time": "2023-05-01T22:17:31.356Z"
   },
   {
    "duration": 25,
    "start_time": "2023-05-01T22:17:31.405Z"
   },
   {
    "duration": 49,
    "start_time": "2023-05-01T22:17:31.432Z"
   },
   {
    "duration": 59,
    "start_time": "2023-05-01T22:17:31.483Z"
   },
   {
    "duration": 32,
    "start_time": "2023-05-01T22:17:31.544Z"
   },
   {
    "duration": 203,
    "start_time": "2023-05-01T22:17:31.577Z"
   },
   {
    "duration": 131,
    "start_time": "2023-05-01T22:17:31.781Z"
   },
   {
    "duration": 204,
    "start_time": "2023-05-01T22:17:31.918Z"
   },
   {
    "duration": 216,
    "start_time": "2023-05-01T22:17:32.124Z"
   },
   {
    "duration": 208,
    "start_time": "2023-05-01T22:17:32.341Z"
   },
   {
    "duration": 115,
    "start_time": "2023-05-01T22:17:32.551Z"
   },
   {
    "duration": 266,
    "start_time": "2023-05-01T22:17:32.668Z"
   },
   {
    "duration": 130,
    "start_time": "2023-05-01T22:17:32.936Z"
   },
   {
    "duration": 123,
    "start_time": "2023-05-01T22:17:33.068Z"
   },
   {
    "duration": 9,
    "start_time": "2023-05-01T22:17:33.192Z"
   },
   {
    "duration": 30,
    "start_time": "2023-05-01T22:17:33.204Z"
   },
   {
    "duration": 17,
    "start_time": "2023-05-01T22:17:33.236Z"
   },
   {
    "duration": 15,
    "start_time": "2023-05-01T22:17:33.255Z"
   },
   {
    "duration": 177,
    "start_time": "2023-05-01T22:17:33.271Z"
   },
   {
    "duration": 174,
    "start_time": "2023-05-01T22:17:33.449Z"
   },
   {
    "duration": 95,
    "start_time": "2023-05-01T22:17:33.624Z"
   },
   {
    "duration": 0,
    "start_time": "2023-05-01T22:17:33.720Z"
   },
   {
    "duration": 20,
    "start_time": "2023-05-01T22:17:44.303Z"
   },
   {
    "duration": 8,
    "start_time": "2023-05-01T22:17:58.422Z"
   },
   {
    "duration": 29,
    "start_time": "2023-05-01T22:18:03.637Z"
   },
   {
    "duration": 19,
    "start_time": "2023-05-01T22:18:11.124Z"
   },
   {
    "duration": 28,
    "start_time": "2023-05-01T22:18:13.319Z"
   },
   {
    "duration": 660,
    "start_time": "2023-05-01T22:18:20.620Z"
   },
   {
    "duration": 67,
    "start_time": "2023-05-01T22:18:21.282Z"
   },
   {
    "duration": 12,
    "start_time": "2023-05-01T22:18:21.351Z"
   },
   {
    "duration": 11,
    "start_time": "2023-05-01T22:18:21.365Z"
   },
   {
    "duration": 16,
    "start_time": "2023-05-01T22:18:21.378Z"
   },
   {
    "duration": 16,
    "start_time": "2023-05-01T22:18:21.396Z"
   },
   {
    "duration": 7,
    "start_time": "2023-05-01T22:18:21.413Z"
   },
   {
    "duration": 15,
    "start_time": "2023-05-01T22:18:21.421Z"
   },
   {
    "duration": 7,
    "start_time": "2023-05-01T22:18:21.438Z"
   },
   {
    "duration": 10,
    "start_time": "2023-05-01T22:18:21.446Z"
   },
   {
    "duration": 5,
    "start_time": "2023-05-01T22:18:21.458Z"
   },
   {
    "duration": 18,
    "start_time": "2023-05-01T22:18:21.464Z"
   },
   {
    "duration": 35,
    "start_time": "2023-05-01T22:18:21.483Z"
   },
   {
    "duration": 9,
    "start_time": "2023-05-01T22:18:21.521Z"
   },
   {
    "duration": 6,
    "start_time": "2023-05-01T22:18:21.531Z"
   },
   {
    "duration": 4,
    "start_time": "2023-05-01T22:18:21.539Z"
   },
   {
    "duration": 10,
    "start_time": "2023-05-01T22:18:21.544Z"
   },
   {
    "duration": 207,
    "start_time": "2023-05-01T22:18:21.555Z"
   },
   {
    "duration": 132,
    "start_time": "2023-05-01T22:18:21.764Z"
   },
   {
    "duration": 200,
    "start_time": "2023-05-01T22:18:21.898Z"
   },
   {
    "duration": 216,
    "start_time": "2023-05-01T22:18:22.100Z"
   },
   {
    "duration": 219,
    "start_time": "2023-05-01T22:18:22.318Z"
   },
   {
    "duration": 122,
    "start_time": "2023-05-01T22:18:22.539Z"
   },
   {
    "duration": 268,
    "start_time": "2023-05-01T22:18:22.663Z"
   },
   {
    "duration": 141,
    "start_time": "2023-05-01T22:18:22.932Z"
   },
   {
    "duration": 126,
    "start_time": "2023-05-01T22:18:23.074Z"
   },
   {
    "duration": 17,
    "start_time": "2023-05-01T22:18:23.202Z"
   },
   {
    "duration": 19,
    "start_time": "2023-05-01T22:18:23.220Z"
   },
   {
    "duration": 18,
    "start_time": "2023-05-01T22:18:23.241Z"
   },
   {
    "duration": 16,
    "start_time": "2023-05-01T22:18:23.261Z"
   },
   {
    "duration": 190,
    "start_time": "2023-05-01T22:18:23.279Z"
   },
   {
    "duration": 177,
    "start_time": "2023-05-01T22:18:23.471Z"
   },
   {
    "duration": 20,
    "start_time": "2023-05-01T22:18:23.650Z"
   },
   {
    "duration": 52,
    "start_time": "2023-05-01T22:18:23.672Z"
   },
   {
    "duration": 667,
    "start_time": "2023-05-01T22:18:59.818Z"
   },
   {
    "duration": 69,
    "start_time": "2023-05-01T22:19:00.487Z"
   },
   {
    "duration": 12,
    "start_time": "2023-05-01T22:19:00.558Z"
   },
   {
    "duration": 38,
    "start_time": "2023-05-01T22:19:00.572Z"
   },
   {
    "duration": 45,
    "start_time": "2023-05-01T22:19:00.612Z"
   },
   {
    "duration": 54,
    "start_time": "2023-05-01T22:19:00.658Z"
   },
   {
    "duration": 18,
    "start_time": "2023-05-01T22:19:00.714Z"
   },
   {
    "duration": 39,
    "start_time": "2023-05-01T22:19:00.734Z"
   },
   {
    "duration": 45,
    "start_time": "2023-05-01T22:19:00.775Z"
   },
   {
    "duration": 37,
    "start_time": "2023-05-01T22:19:00.822Z"
   },
   {
    "duration": 54,
    "start_time": "2023-05-01T22:19:00.861Z"
   },
   {
    "duration": 38,
    "start_time": "2023-05-01T22:19:00.916Z"
   },
   {
    "duration": 44,
    "start_time": "2023-05-01T22:19:00.956Z"
   },
   {
    "duration": 63,
    "start_time": "2023-05-01T22:19:01.003Z"
   },
   {
    "duration": 42,
    "start_time": "2023-05-01T22:19:01.067Z"
   },
   {
    "duration": 59,
    "start_time": "2023-05-01T22:19:01.111Z"
   },
   {
    "duration": 55,
    "start_time": "2023-05-01T22:19:01.171Z"
   },
   {
    "duration": 219,
    "start_time": "2023-05-01T22:19:01.228Z"
   },
   {
    "duration": 122,
    "start_time": "2023-05-01T22:19:01.449Z"
   },
   {
    "duration": 183,
    "start_time": "2023-05-01T22:19:01.572Z"
   },
   {
    "duration": 232,
    "start_time": "2023-05-01T22:19:01.757Z"
   },
   {
    "duration": 190,
    "start_time": "2023-05-01T22:19:01.991Z"
   },
   {
    "duration": 118,
    "start_time": "2023-05-01T22:19:02.182Z"
   },
   {
    "duration": 288,
    "start_time": "2023-05-01T22:19:02.301Z"
   },
   {
    "duration": 137,
    "start_time": "2023-05-01T22:19:02.591Z"
   },
   {
    "duration": 113,
    "start_time": "2023-05-01T22:19:02.730Z"
   },
   {
    "duration": 9,
    "start_time": "2023-05-01T22:19:02.844Z"
   },
   {
    "duration": 21,
    "start_time": "2023-05-01T22:19:02.855Z"
   },
   {
    "duration": 23,
    "start_time": "2023-05-01T22:19:02.877Z"
   },
   {
    "duration": 21,
    "start_time": "2023-05-01T22:19:02.902Z"
   },
   {
    "duration": 156,
    "start_time": "2023-05-01T22:19:02.924Z"
   },
   {
    "duration": 171,
    "start_time": "2023-05-01T22:19:03.081Z"
   },
   {
    "duration": 19,
    "start_time": "2023-05-01T22:19:03.253Z"
   },
   {
    "duration": 2,
    "start_time": "2023-05-01T22:19:03.274Z"
   },
   {
    "duration": 32,
    "start_time": "2023-05-01T22:19:37.802Z"
   },
   {
    "duration": 10,
    "start_time": "2023-05-01T22:20:09.145Z"
   },
   {
    "duration": 18,
    "start_time": "2023-05-01T22:20:13.099Z"
   },
   {
    "duration": 85,
    "start_time": "2023-05-01T22:20:26.868Z"
   },
   {
    "duration": 31,
    "start_time": "2023-05-01T22:20:41.346Z"
   },
   {
    "duration": 654,
    "start_time": "2023-05-01T22:22:08.502Z"
   },
   {
    "duration": 67,
    "start_time": "2023-05-01T22:22:09.158Z"
   },
   {
    "duration": 12,
    "start_time": "2023-05-01T22:22:09.227Z"
   },
   {
    "duration": 14,
    "start_time": "2023-05-01T22:22:09.241Z"
   },
   {
    "duration": 14,
    "start_time": "2023-05-01T22:22:09.258Z"
   },
   {
    "duration": 13,
    "start_time": "2023-05-01T22:22:09.274Z"
   },
   {
    "duration": 12,
    "start_time": "2023-05-01T22:22:09.289Z"
   },
   {
    "duration": 17,
    "start_time": "2023-05-01T22:22:09.303Z"
   },
   {
    "duration": 17,
    "start_time": "2023-05-01T22:22:09.321Z"
   },
   {
    "duration": 15,
    "start_time": "2023-05-01T22:22:09.339Z"
   },
   {
    "duration": 18,
    "start_time": "2023-05-01T22:22:09.355Z"
   },
   {
    "duration": 17,
    "start_time": "2023-05-01T22:22:09.375Z"
   },
   {
    "duration": 11,
    "start_time": "2023-05-01T22:22:09.393Z"
   },
   {
    "duration": 11,
    "start_time": "2023-05-01T22:22:09.408Z"
   },
   {
    "duration": 6,
    "start_time": "2023-05-01T22:22:09.420Z"
   },
   {
    "duration": 14,
    "start_time": "2023-05-01T22:22:09.428Z"
   },
   {
    "duration": 18,
    "start_time": "2023-05-01T22:22:09.443Z"
   },
   {
    "duration": 169,
    "start_time": "2023-05-01T22:22:09.463Z"
   },
   {
    "duration": 106,
    "start_time": "2023-05-01T22:22:09.634Z"
   },
   {
    "duration": 165,
    "start_time": "2023-05-01T22:22:09.742Z"
   },
   {
    "duration": 204,
    "start_time": "2023-05-01T22:22:09.909Z"
   },
   {
    "duration": 186,
    "start_time": "2023-05-01T22:22:10.117Z"
   },
   {
    "duration": 114,
    "start_time": "2023-05-01T22:22:10.305Z"
   },
   {
    "duration": 259,
    "start_time": "2023-05-01T22:22:10.420Z"
   },
   {
    "duration": 121,
    "start_time": "2023-05-01T22:22:10.680Z"
   },
   {
    "duration": 107,
    "start_time": "2023-05-01T22:22:10.802Z"
   },
   {
    "duration": 13,
    "start_time": "2023-05-01T22:22:10.911Z"
   },
   {
    "duration": 17,
    "start_time": "2023-05-01T22:22:10.925Z"
   },
   {
    "duration": 15,
    "start_time": "2023-05-01T22:22:10.944Z"
   },
   {
    "duration": 14,
    "start_time": "2023-05-01T22:22:10.961Z"
   },
   {
    "duration": 193,
    "start_time": "2023-05-01T22:22:10.976Z"
   },
   {
    "duration": 183,
    "start_time": "2023-05-01T22:22:11.171Z"
   },
   {
    "duration": 19,
    "start_time": "2023-05-01T22:22:11.356Z"
   },
   {
    "duration": 44,
    "start_time": "2023-05-01T22:22:11.377Z"
   },
   {
    "duration": 31,
    "start_time": "2023-05-01T22:26:53.620Z"
   },
   {
    "duration": 30,
    "start_time": "2023-05-01T22:29:23.548Z"
   },
   {
    "duration": 72,
    "start_time": "2023-05-01T22:35:48.112Z"
   },
   {
    "duration": 88,
    "start_time": "2023-05-01T22:36:46.942Z"
   },
   {
    "duration": 70,
    "start_time": "2023-05-01T22:37:13.767Z"
   },
   {
    "duration": 68,
    "start_time": "2023-05-01T22:37:29.119Z"
   },
   {
    "duration": 73,
    "start_time": "2023-05-01T22:37:45.677Z"
   },
   {
    "duration": 110,
    "start_time": "2023-05-01T22:38:36.305Z"
   },
   {
    "duration": 111,
    "start_time": "2023-05-01T22:38:40.424Z"
   },
   {
    "duration": 82,
    "start_time": "2023-05-01T22:38:49.320Z"
   },
   {
    "duration": 21,
    "start_time": "2023-05-01T22:39:23.736Z"
   },
   {
    "duration": 84,
    "start_time": "2023-05-01T22:40:07.347Z"
   },
   {
    "duration": 124,
    "start_time": "2023-05-01T22:41:14.038Z"
   },
   {
    "duration": 80,
    "start_time": "2023-05-01T22:41:39.414Z"
   },
   {
    "duration": 70,
    "start_time": "2023-05-01T22:41:45.633Z"
   },
   {
    "duration": 103,
    "start_time": "2023-05-01T22:42:10.022Z"
   },
   {
    "duration": 141,
    "start_time": "2023-05-01T22:42:20.752Z"
   },
   {
    "duration": 646,
    "start_time": "2023-05-01T22:43:21.550Z"
   },
   {
    "duration": 68,
    "start_time": "2023-05-01T22:43:22.198Z"
   },
   {
    "duration": 12,
    "start_time": "2023-05-01T22:43:22.268Z"
   },
   {
    "duration": 16,
    "start_time": "2023-05-01T22:43:22.282Z"
   },
   {
    "duration": 24,
    "start_time": "2023-05-01T22:43:22.301Z"
   },
   {
    "duration": 16,
    "start_time": "2023-05-01T22:43:22.328Z"
   },
   {
    "duration": 9,
    "start_time": "2023-05-01T22:43:22.346Z"
   },
   {
    "duration": 14,
    "start_time": "2023-05-01T22:43:22.357Z"
   },
   {
    "duration": 10,
    "start_time": "2023-05-01T22:43:22.373Z"
   },
   {
    "duration": 33,
    "start_time": "2023-05-01T22:43:22.386Z"
   },
   {
    "duration": 14,
    "start_time": "2023-05-01T22:43:22.421Z"
   },
   {
    "duration": 29,
    "start_time": "2023-05-01T22:43:22.437Z"
   },
   {
    "duration": 16,
    "start_time": "2023-05-01T22:43:22.468Z"
   },
   {
    "duration": 19,
    "start_time": "2023-05-01T22:43:22.487Z"
   },
   {
    "duration": 9,
    "start_time": "2023-05-01T22:43:22.508Z"
   },
   {
    "duration": 10,
    "start_time": "2023-05-01T22:43:22.519Z"
   },
   {
    "duration": 16,
    "start_time": "2023-05-01T22:43:22.531Z"
   },
   {
    "duration": 191,
    "start_time": "2023-05-01T22:43:22.549Z"
   },
   {
    "duration": 123,
    "start_time": "2023-05-01T22:43:22.742Z"
   },
   {
    "duration": 186,
    "start_time": "2023-05-01T22:43:22.866Z"
   },
   {
    "duration": 214,
    "start_time": "2023-05-01T22:43:23.054Z"
   },
   {
    "duration": 188,
    "start_time": "2023-05-01T22:43:23.270Z"
   },
   {
    "duration": 121,
    "start_time": "2023-05-01T22:43:23.460Z"
   },
   {
    "duration": 271,
    "start_time": "2023-05-01T22:43:23.582Z"
   },
   {
    "duration": 139,
    "start_time": "2023-05-01T22:43:23.855Z"
   },
   {
    "duration": 128,
    "start_time": "2023-05-01T22:43:23.996Z"
   },
   {
    "duration": 10,
    "start_time": "2023-05-01T22:43:24.125Z"
   },
   {
    "duration": 21,
    "start_time": "2023-05-01T22:43:24.136Z"
   },
   {
    "duration": 18,
    "start_time": "2023-05-01T22:43:24.158Z"
   },
   {
    "duration": 43,
    "start_time": "2023-05-01T22:43:24.177Z"
   },
   {
    "duration": 166,
    "start_time": "2023-05-01T22:43:24.222Z"
   },
   {
    "duration": 185,
    "start_time": "2023-05-01T22:43:24.390Z"
   },
   {
    "duration": 20,
    "start_time": "2023-05-01T22:43:24.577Z"
   },
   {
    "duration": 47,
    "start_time": "2023-05-01T22:43:24.599Z"
   },
   {
    "duration": 78,
    "start_time": "2023-05-01T22:43:24.647Z"
   },
   {
    "duration": 65,
    "start_time": "2023-05-01T22:44:41.491Z"
   },
   {
    "duration": 75,
    "start_time": "2023-05-01T22:44:48.412Z"
   },
   {
    "duration": 70,
    "start_time": "2023-05-01T22:44:58.240Z"
   },
   {
    "duration": 105,
    "start_time": "2023-05-01T22:45:05.009Z"
   },
   {
    "duration": 15,
    "start_time": "2023-05-01T22:45:22.354Z"
   },
   {
    "duration": 22,
    "start_time": "2023-05-01T22:45:32.194Z"
   },
   {
    "duration": 95,
    "start_time": "2023-05-01T22:49:22.902Z"
   },
   {
    "duration": 94,
    "start_time": "2023-05-01T22:49:42.061Z"
   },
   {
    "duration": 14,
    "start_time": "2023-05-01T22:49:56.638Z"
   },
   {
    "duration": 81,
    "start_time": "2023-05-01T22:50:14.457Z"
   },
   {
    "duration": 25,
    "start_time": "2023-05-01T22:50:38.079Z"
   },
   {
    "duration": 33,
    "start_time": "2023-05-01T22:50:54.616Z"
   },
   {
    "duration": 21,
    "start_time": "2023-05-01T22:51:09.855Z"
   },
   {
    "duration": 33,
    "start_time": "2023-05-01T22:51:15.040Z"
   },
   {
    "duration": 649,
    "start_time": "2023-05-01T22:53:49.932Z"
   },
   {
    "duration": 68,
    "start_time": "2023-05-01T22:53:50.583Z"
   },
   {
    "duration": 12,
    "start_time": "2023-05-01T22:53:50.653Z"
   },
   {
    "duration": 20,
    "start_time": "2023-05-01T22:53:50.667Z"
   },
   {
    "duration": 20,
    "start_time": "2023-05-01T22:53:50.690Z"
   },
   {
    "duration": 36,
    "start_time": "2023-05-01T22:53:50.711Z"
   },
   {
    "duration": 16,
    "start_time": "2023-05-01T22:53:50.748Z"
   },
   {
    "duration": 14,
    "start_time": "2023-05-01T22:53:50.766Z"
   },
   {
    "duration": 8,
    "start_time": "2023-05-01T22:53:50.782Z"
   },
   {
    "duration": 7,
    "start_time": "2023-05-01T22:53:50.791Z"
   },
   {
    "duration": 10,
    "start_time": "2023-05-01T22:53:50.800Z"
   },
   {
    "duration": 26,
    "start_time": "2023-05-01T22:53:50.811Z"
   },
   {
    "duration": 20,
    "start_time": "2023-05-01T22:53:50.839Z"
   },
   {
    "duration": 13,
    "start_time": "2023-05-01T22:53:50.862Z"
   },
   {
    "duration": 18,
    "start_time": "2023-05-01T22:53:50.877Z"
   },
   {
    "duration": 24,
    "start_time": "2023-05-01T22:53:50.897Z"
   },
   {
    "duration": 29,
    "start_time": "2023-05-01T22:53:50.923Z"
   },
   {
    "duration": 202,
    "start_time": "2023-05-01T22:53:50.954Z"
   },
   {
    "duration": 127,
    "start_time": "2023-05-01T22:53:51.158Z"
   },
   {
    "duration": 188,
    "start_time": "2023-05-01T22:53:51.287Z"
   },
   {
    "duration": 218,
    "start_time": "2023-05-01T22:53:51.478Z"
   },
   {
    "duration": 204,
    "start_time": "2023-05-01T22:53:51.698Z"
   },
   {
    "duration": 147,
    "start_time": "2023-05-01T22:53:51.904Z"
   },
   {
    "duration": 276,
    "start_time": "2023-05-01T22:53:52.053Z"
   },
   {
    "duration": 157,
    "start_time": "2023-05-01T22:53:52.330Z"
   },
   {
    "duration": 125,
    "start_time": "2023-05-01T22:53:52.489Z"
   },
   {
    "duration": 11,
    "start_time": "2023-05-01T22:53:52.617Z"
   },
   {
    "duration": 31,
    "start_time": "2023-05-01T22:53:52.630Z"
   },
   {
    "duration": 18,
    "start_time": "2023-05-01T22:53:52.664Z"
   },
   {
    "duration": 34,
    "start_time": "2023-05-01T22:53:52.683Z"
   },
   {
    "duration": 164,
    "start_time": "2023-05-01T22:53:52.719Z"
   },
   {
    "duration": 180,
    "start_time": "2023-05-01T22:53:52.885Z"
   },
   {
    "duration": 20,
    "start_time": "2023-05-01T22:53:53.067Z"
   },
   {
    "duration": 50,
    "start_time": "2023-05-01T22:53:53.089Z"
   },
   {
    "duration": 42,
    "start_time": "2023-05-01T22:53:53.141Z"
   },
   {
    "duration": 34,
    "start_time": "2023-05-01T22:55:11.381Z"
   },
   {
    "duration": 21,
    "start_time": "2023-05-01T22:55:43.737Z"
   },
   {
    "duration": 26,
    "start_time": "2023-05-01T22:57:23.794Z"
   },
   {
    "duration": 10,
    "start_time": "2023-05-01T22:58:15.332Z"
   },
   {
    "duration": 25,
    "start_time": "2023-05-01T22:58:21.828Z"
   },
   {
    "duration": 24,
    "start_time": "2023-05-01T22:59:24.376Z"
   },
   {
    "duration": 32,
    "start_time": "2023-05-01T22:59:31.861Z"
   },
   {
    "duration": 24,
    "start_time": "2023-05-01T22:59:36.740Z"
   },
   {
    "duration": 17,
    "start_time": "2023-05-01T23:00:11.187Z"
   },
   {
    "duration": 20,
    "start_time": "2023-05-01T23:00:20.667Z"
   },
   {
    "duration": 21,
    "start_time": "2023-05-01T23:00:38.206Z"
   },
   {
    "duration": 22,
    "start_time": "2023-05-01T23:00:49.566Z"
   },
   {
    "duration": 24,
    "start_time": "2023-05-01T23:01:00.843Z"
   },
   {
    "duration": 619,
    "start_time": "2023-05-01T23:01:15.660Z"
   },
   {
    "duration": 69,
    "start_time": "2023-05-01T23:01:16.281Z"
   },
   {
    "duration": 12,
    "start_time": "2023-05-01T23:01:16.352Z"
   },
   {
    "duration": 20,
    "start_time": "2023-05-01T23:01:16.366Z"
   },
   {
    "duration": 14,
    "start_time": "2023-05-01T23:01:16.388Z"
   },
   {
    "duration": 18,
    "start_time": "2023-05-01T23:01:16.404Z"
   },
   {
    "duration": 10,
    "start_time": "2023-05-01T23:01:16.424Z"
   },
   {
    "duration": 11,
    "start_time": "2023-05-01T23:01:16.436Z"
   },
   {
    "duration": 18,
    "start_time": "2023-05-01T23:01:16.449Z"
   },
   {
    "duration": 12,
    "start_time": "2023-05-01T23:01:16.469Z"
   },
   {
    "duration": 10,
    "start_time": "2023-05-01T23:01:16.482Z"
   },
   {
    "duration": 24,
    "start_time": "2023-05-01T23:01:16.494Z"
   },
   {
    "duration": 11,
    "start_time": "2023-05-01T23:01:16.520Z"
   },
   {
    "duration": 7,
    "start_time": "2023-05-01T23:01:16.534Z"
   },
   {
    "duration": 5,
    "start_time": "2023-05-01T23:01:16.543Z"
   },
   {
    "duration": 5,
    "start_time": "2023-05-01T23:01:16.550Z"
   },
   {
    "duration": 10,
    "start_time": "2023-05-01T23:01:16.557Z"
   },
   {
    "duration": 217,
    "start_time": "2023-05-01T23:01:16.568Z"
   },
   {
    "duration": 119,
    "start_time": "2023-05-01T23:01:16.787Z"
   },
   {
    "duration": 184,
    "start_time": "2023-05-01T23:01:16.908Z"
   },
   {
    "duration": 216,
    "start_time": "2023-05-01T23:01:17.094Z"
   },
   {
    "duration": 175,
    "start_time": "2023-05-01T23:01:17.312Z"
   },
   {
    "duration": 111,
    "start_time": "2023-05-01T23:01:17.489Z"
   },
   {
    "duration": 269,
    "start_time": "2023-05-01T23:01:17.602Z"
   },
   {
    "duration": 133,
    "start_time": "2023-05-01T23:01:17.872Z"
   },
   {
    "duration": 157,
    "start_time": "2023-05-01T23:01:18.007Z"
   },
   {
    "duration": 10,
    "start_time": "2023-05-01T23:01:18.217Z"
   },
   {
    "duration": 32,
    "start_time": "2023-05-01T23:01:18.228Z"
   },
   {
    "duration": 71,
    "start_time": "2023-05-01T23:01:18.261Z"
   },
   {
    "duration": 16,
    "start_time": "2023-05-01T23:01:18.333Z"
   },
   {
    "duration": 314,
    "start_time": "2023-05-01T23:01:18.351Z"
   },
   {
    "duration": 321,
    "start_time": "2023-05-01T23:01:18.718Z"
   },
   {
    "duration": 19,
    "start_time": "2023-05-01T23:01:19.041Z"
   },
   {
    "duration": 84,
    "start_time": "2023-05-01T23:01:19.062Z"
   },
   {
    "duration": 81,
    "start_time": "2023-05-01T23:01:19.148Z"
   },
   {
    "duration": 19,
    "start_time": "2023-05-01T23:02:11.791Z"
   },
   {
    "duration": 46,
    "start_time": "2023-05-01T23:04:59.421Z"
   },
   {
    "duration": 629,
    "start_time": "2023-05-01T23:05:12.742Z"
   },
   {
    "duration": 307,
    "start_time": "2023-05-01T23:05:13.373Z"
   },
   {
    "duration": 13,
    "start_time": "2023-05-01T23:05:13.682Z"
   },
   {
    "duration": 24,
    "start_time": "2023-05-01T23:05:13.697Z"
   },
   {
    "duration": 14,
    "start_time": "2023-05-01T23:05:13.724Z"
   },
   {
    "duration": 18,
    "start_time": "2023-05-01T23:05:13.739Z"
   },
   {
    "duration": 12,
    "start_time": "2023-05-01T23:05:13.758Z"
   },
   {
    "duration": 13,
    "start_time": "2023-05-01T23:05:13.771Z"
   },
   {
    "duration": 7,
    "start_time": "2023-05-01T23:05:13.786Z"
   },
   {
    "duration": 10,
    "start_time": "2023-05-01T23:05:13.794Z"
   },
   {
    "duration": 6,
    "start_time": "2023-05-01T23:05:13.818Z"
   },
   {
    "duration": 25,
    "start_time": "2023-05-01T23:05:13.826Z"
   },
   {
    "duration": 11,
    "start_time": "2023-05-01T23:05:13.853Z"
   },
   {
    "duration": 26,
    "start_time": "2023-05-01T23:05:13.867Z"
   },
   {
    "duration": 7,
    "start_time": "2023-05-01T23:05:13.895Z"
   },
   {
    "duration": 38,
    "start_time": "2023-05-01T23:05:13.903Z"
   },
   {
    "duration": 34,
    "start_time": "2023-05-01T23:05:13.943Z"
   },
   {
    "duration": 203,
    "start_time": "2023-05-01T23:05:13.979Z"
   },
   {
    "duration": 124,
    "start_time": "2023-05-01T23:05:14.184Z"
   },
   {
    "duration": 184,
    "start_time": "2023-05-01T23:05:14.317Z"
   },
   {
    "duration": 229,
    "start_time": "2023-05-01T23:05:14.503Z"
   },
   {
    "duration": 191,
    "start_time": "2023-05-01T23:05:14.733Z"
   },
   {
    "duration": 129,
    "start_time": "2023-05-01T23:05:14.926Z"
   },
   {
    "duration": 271,
    "start_time": "2023-05-01T23:05:15.057Z"
   },
   {
    "duration": 135,
    "start_time": "2023-05-01T23:05:15.330Z"
   },
   {
    "duration": 113,
    "start_time": "2023-05-01T23:05:15.467Z"
   },
   {
    "duration": 9,
    "start_time": "2023-05-01T23:05:15.581Z"
   },
   {
    "duration": 37,
    "start_time": "2023-05-01T23:05:15.592Z"
   },
   {
    "duration": 17,
    "start_time": "2023-05-01T23:05:15.630Z"
   },
   {
    "duration": 15,
    "start_time": "2023-05-01T23:05:15.648Z"
   },
   {
    "duration": 173,
    "start_time": "2023-05-01T23:05:15.665Z"
   },
   {
    "duration": 177,
    "start_time": "2023-05-01T23:05:15.840Z"
   },
   {
    "duration": 19,
    "start_time": "2023-05-01T23:05:16.019Z"
   },
   {
    "duration": 31,
    "start_time": "2023-05-01T23:05:16.040Z"
   },
   {
    "duration": 46,
    "start_time": "2023-05-01T23:05:16.073Z"
   },
   {
    "duration": 17,
    "start_time": "2023-05-01T23:06:59.044Z"
   },
   {
    "duration": 223,
    "start_time": "2023-05-01T23:07:27.395Z"
   },
   {
    "duration": 26,
    "start_time": "2023-05-01T23:08:17.555Z"
   },
   {
    "duration": 122,
    "start_time": "2023-05-01T23:08:28.709Z"
   },
   {
    "duration": 25,
    "start_time": "2023-05-01T23:08:43.836Z"
   },
   {
    "duration": 691,
    "start_time": "2023-05-01T23:08:48.760Z"
   },
   {
    "duration": 68,
    "start_time": "2023-05-01T23:08:49.452Z"
   },
   {
    "duration": 12,
    "start_time": "2023-05-01T23:08:49.522Z"
   },
   {
    "duration": 36,
    "start_time": "2023-05-01T23:08:49.536Z"
   },
   {
    "duration": 15,
    "start_time": "2023-05-01T23:08:49.574Z"
   },
   {
    "duration": 32,
    "start_time": "2023-05-01T23:08:49.590Z"
   },
   {
    "duration": 11,
    "start_time": "2023-05-01T23:08:49.623Z"
   },
   {
    "duration": 21,
    "start_time": "2023-05-01T23:08:49.635Z"
   },
   {
    "duration": 15,
    "start_time": "2023-05-01T23:08:49.658Z"
   },
   {
    "duration": 22,
    "start_time": "2023-05-01T23:08:49.675Z"
   },
   {
    "duration": 9,
    "start_time": "2023-05-01T23:08:49.699Z"
   },
   {
    "duration": 24,
    "start_time": "2023-05-01T23:08:49.710Z"
   },
   {
    "duration": 16,
    "start_time": "2023-05-01T23:08:49.736Z"
   },
   {
    "duration": 8,
    "start_time": "2023-05-01T23:08:49.754Z"
   },
   {
    "duration": 5,
    "start_time": "2023-05-01T23:08:49.764Z"
   },
   {
    "duration": 12,
    "start_time": "2023-05-01T23:08:49.771Z"
   },
   {
    "duration": 14,
    "start_time": "2023-05-01T23:08:49.784Z"
   },
   {
    "duration": 190,
    "start_time": "2023-05-01T23:08:49.800Z"
   },
   {
    "duration": 118,
    "start_time": "2023-05-01T23:08:49.991Z"
   },
   {
    "duration": 183,
    "start_time": "2023-05-01T23:08:50.111Z"
   },
   {
    "duration": 210,
    "start_time": "2023-05-01T23:08:50.296Z"
   },
   {
    "duration": 197,
    "start_time": "2023-05-01T23:08:50.507Z"
   },
   {
    "duration": 118,
    "start_time": "2023-05-01T23:08:50.706Z"
   },
   {
    "duration": 261,
    "start_time": "2023-05-01T23:08:50.825Z"
   },
   {
    "duration": 137,
    "start_time": "2023-05-01T23:08:51.088Z"
   },
   {
    "duration": 119,
    "start_time": "2023-05-01T23:08:51.226Z"
   },
   {
    "duration": 9,
    "start_time": "2023-05-01T23:08:51.347Z"
   },
   {
    "duration": 34,
    "start_time": "2023-05-01T23:08:51.358Z"
   },
   {
    "duration": 31,
    "start_time": "2023-05-01T23:08:51.394Z"
   },
   {
    "duration": 26,
    "start_time": "2023-05-01T23:08:51.427Z"
   },
   {
    "duration": 174,
    "start_time": "2023-05-01T23:08:51.454Z"
   },
   {
    "duration": 195,
    "start_time": "2023-05-01T23:08:51.630Z"
   },
   {
    "duration": 29,
    "start_time": "2023-05-01T23:08:51.827Z"
   },
   {
    "duration": 71,
    "start_time": "2023-05-01T23:08:51.859Z"
   },
   {
    "duration": 44,
    "start_time": "2023-05-01T23:08:51.932Z"
   },
   {
    "duration": 11,
    "start_time": "2023-05-01T23:09:37.423Z"
   },
   {
    "duration": 81,
    "start_time": "2023-05-01T23:09:43.935Z"
   },
   {
    "duration": 35,
    "start_time": "2023-05-01T23:10:09.691Z"
   },
   {
    "duration": 378,
    "start_time": "2023-05-01T23:10:53.125Z"
   },
   {
    "duration": 3254,
    "start_time": "2023-05-01T23:11:25.849Z"
   },
   {
    "duration": 629,
    "start_time": "2023-05-01T23:11:38.654Z"
   },
   {
    "duration": 68,
    "start_time": "2023-05-01T23:11:39.285Z"
   },
   {
    "duration": 12,
    "start_time": "2023-05-01T23:11:39.354Z"
   },
   {
    "duration": 14,
    "start_time": "2023-05-01T23:11:39.368Z"
   },
   {
    "duration": 9,
    "start_time": "2023-05-01T23:11:39.384Z"
   },
   {
    "duration": 15,
    "start_time": "2023-05-01T23:11:39.395Z"
   },
   {
    "duration": 16,
    "start_time": "2023-05-01T23:11:39.411Z"
   },
   {
    "duration": 14,
    "start_time": "2023-05-01T23:11:39.429Z"
   },
   {
    "duration": 22,
    "start_time": "2023-05-01T23:11:39.445Z"
   },
   {
    "duration": 20,
    "start_time": "2023-05-01T23:11:39.470Z"
   },
   {
    "duration": 8,
    "start_time": "2023-05-01T23:11:39.492Z"
   },
   {
    "duration": 23,
    "start_time": "2023-05-01T23:11:39.501Z"
   },
   {
    "duration": 10,
    "start_time": "2023-05-01T23:11:39.526Z"
   },
   {
    "duration": 7,
    "start_time": "2023-05-01T23:11:39.537Z"
   },
   {
    "duration": 22,
    "start_time": "2023-05-01T23:11:39.546Z"
   },
   {
    "duration": 6,
    "start_time": "2023-05-01T23:11:39.569Z"
   },
   {
    "duration": 9,
    "start_time": "2023-05-01T23:11:39.576Z"
   },
   {
    "duration": 186,
    "start_time": "2023-05-01T23:11:39.587Z"
   },
   {
    "duration": 118,
    "start_time": "2023-05-01T23:11:39.775Z"
   },
   {
    "duration": 182,
    "start_time": "2023-05-01T23:11:39.895Z"
   },
   {
    "duration": 216,
    "start_time": "2023-05-01T23:11:40.079Z"
   },
   {
    "duration": 200,
    "start_time": "2023-05-01T23:11:40.297Z"
   },
   {
    "duration": 122,
    "start_time": "2023-05-01T23:11:40.499Z"
   },
   {
    "duration": 258,
    "start_time": "2023-05-01T23:11:40.622Z"
   },
   {
    "duration": 137,
    "start_time": "2023-05-01T23:11:40.882Z"
   },
   {
    "duration": 120,
    "start_time": "2023-05-01T23:11:41.021Z"
   },
   {
    "duration": 10,
    "start_time": "2023-05-01T23:11:41.142Z"
   },
   {
    "duration": 32,
    "start_time": "2023-05-01T23:11:41.155Z"
   },
   {
    "duration": 32,
    "start_time": "2023-05-01T23:11:41.189Z"
   },
   {
    "duration": 15,
    "start_time": "2023-05-01T23:11:41.223Z"
   },
   {
    "duration": 180,
    "start_time": "2023-05-01T23:11:41.240Z"
   },
   {
    "duration": 179,
    "start_time": "2023-05-01T23:11:41.422Z"
   },
   {
    "duration": 29,
    "start_time": "2023-05-01T23:11:41.603Z"
   },
   {
    "duration": 30,
    "start_time": "2023-05-01T23:11:41.634Z"
   },
   {
    "duration": 63,
    "start_time": "2023-05-01T23:11:41.666Z"
   },
   {
    "duration": 6,
    "start_time": "2023-05-01T23:13:00.128Z"
   },
   {
    "duration": 17,
    "start_time": "2023-05-01T23:13:09.868Z"
   },
   {
    "duration": 77,
    "start_time": "2023-05-01T23:23:39.710Z"
   },
   {
    "duration": 1405,
    "start_time": "2023-05-01T23:23:44.659Z"
   },
   {
    "duration": 1423,
    "start_time": "2023-05-01T23:23:52.295Z"
   },
   {
    "duration": 631,
    "start_time": "2023-05-01T23:24:09.086Z"
   },
   {
    "duration": 66,
    "start_time": "2023-05-01T23:24:09.719Z"
   },
   {
    "duration": 12,
    "start_time": "2023-05-01T23:24:09.787Z"
   },
   {
    "duration": 10,
    "start_time": "2023-05-01T23:24:09.800Z"
   },
   {
    "duration": 11,
    "start_time": "2023-05-01T23:24:09.812Z"
   },
   {
    "duration": 11,
    "start_time": "2023-05-01T23:24:09.825Z"
   },
   {
    "duration": 6,
    "start_time": "2023-05-01T23:24:09.838Z"
   },
   {
    "duration": 11,
    "start_time": "2023-05-01T23:24:09.845Z"
   },
   {
    "duration": 9,
    "start_time": "2023-05-01T23:24:09.857Z"
   },
   {
    "duration": 13,
    "start_time": "2023-05-01T23:24:09.867Z"
   },
   {
    "duration": 6,
    "start_time": "2023-05-01T23:24:09.881Z"
   },
   {
    "duration": 35,
    "start_time": "2023-05-01T23:24:09.889Z"
   },
   {
    "duration": 16,
    "start_time": "2023-05-01T23:24:09.926Z"
   },
   {
    "duration": 7,
    "start_time": "2023-05-01T23:24:09.945Z"
   },
   {
    "duration": 4,
    "start_time": "2023-05-01T23:24:09.954Z"
   },
   {
    "duration": 6,
    "start_time": "2023-05-01T23:24:09.960Z"
   },
   {
    "duration": 8,
    "start_time": "2023-05-01T23:24:09.967Z"
   },
   {
    "duration": 201,
    "start_time": "2023-05-01T23:24:09.976Z"
   },
   {
    "duration": 117,
    "start_time": "2023-05-01T23:24:10.179Z"
   },
   {
    "duration": 166,
    "start_time": "2023-05-01T23:24:10.297Z"
   },
   {
    "duration": 186,
    "start_time": "2023-05-01T23:24:10.465Z"
   },
   {
    "duration": 171,
    "start_time": "2023-05-01T23:24:10.653Z"
   },
   {
    "duration": 104,
    "start_time": "2023-05-01T23:24:10.826Z"
   },
   {
    "duration": 246,
    "start_time": "2023-05-01T23:24:10.931Z"
   },
   {
    "duration": 127,
    "start_time": "2023-05-01T23:24:11.178Z"
   },
   {
    "duration": 116,
    "start_time": "2023-05-01T23:24:11.317Z"
   },
   {
    "duration": 10,
    "start_time": "2023-05-01T23:24:11.434Z"
   },
   {
    "duration": 30,
    "start_time": "2023-05-01T23:24:11.445Z"
   },
   {
    "duration": 16,
    "start_time": "2023-05-01T23:24:11.477Z"
   },
   {
    "duration": 32,
    "start_time": "2023-05-01T23:24:11.494Z"
   },
   {
    "duration": 163,
    "start_time": "2023-05-01T23:24:11.527Z"
   },
   {
    "duration": 166,
    "start_time": "2023-05-01T23:24:11.692Z"
   },
   {
    "duration": 21,
    "start_time": "2023-05-01T23:24:11.859Z"
   },
   {
    "duration": 51,
    "start_time": "2023-05-01T23:24:11.881Z"
   },
   {
    "duration": 1424,
    "start_time": "2023-05-01T23:24:11.933Z"
   },
   {
    "duration": 755,
    "start_time": "2023-05-03T11:15:08.036Z"
   },
   {
    "duration": 210,
    "start_time": "2023-05-03T11:15:08.793Z"
   },
   {
    "duration": 13,
    "start_time": "2023-05-03T11:15:09.004Z"
   },
   {
    "duration": 22,
    "start_time": "2023-05-03T11:15:09.019Z"
   },
   {
    "duration": 17,
    "start_time": "2023-05-03T11:15:09.042Z"
   },
   {
    "duration": 22,
    "start_time": "2023-05-03T11:15:09.060Z"
   },
   {
    "duration": 17,
    "start_time": "2023-05-03T11:15:09.083Z"
   },
   {
    "duration": 27,
    "start_time": "2023-05-03T11:15:09.102Z"
   },
   {
    "duration": 20,
    "start_time": "2023-05-03T11:15:09.131Z"
   },
   {
    "duration": 13,
    "start_time": "2023-05-03T11:15:09.154Z"
   },
   {
    "duration": 24,
    "start_time": "2023-05-03T11:15:09.169Z"
   },
   {
    "duration": 21,
    "start_time": "2023-05-03T11:15:09.195Z"
   },
   {
    "duration": 9,
    "start_time": "2023-05-03T11:15:09.217Z"
   },
   {
    "duration": 7,
    "start_time": "2023-05-03T11:15:09.228Z"
   },
   {
    "duration": 20,
    "start_time": "2023-05-03T11:15:09.236Z"
   },
   {
    "duration": 13,
    "start_time": "2023-05-03T11:15:09.257Z"
   },
   {
    "duration": 26,
    "start_time": "2023-05-03T11:15:09.272Z"
   },
   {
    "duration": 169,
    "start_time": "2023-05-03T11:15:09.300Z"
   },
   {
    "duration": 102,
    "start_time": "2023-05-03T11:15:09.471Z"
   },
   {
    "duration": 165,
    "start_time": "2023-05-03T11:15:09.575Z"
   },
   {
    "duration": 178,
    "start_time": "2023-05-03T11:15:09.742Z"
   },
   {
    "duration": 166,
    "start_time": "2023-05-03T11:15:09.922Z"
   },
   {
    "duration": 112,
    "start_time": "2023-05-03T11:15:10.090Z"
   },
   {
    "duration": 241,
    "start_time": "2023-05-03T11:15:10.204Z"
   },
   {
    "duration": 117,
    "start_time": "2023-05-03T11:15:10.447Z"
   },
   {
    "duration": 104,
    "start_time": "2023-05-03T11:15:10.566Z"
   },
   {
    "duration": 8,
    "start_time": "2023-05-03T11:15:10.672Z"
   },
   {
    "duration": 22,
    "start_time": "2023-05-03T11:15:10.683Z"
   },
   {
    "duration": 16,
    "start_time": "2023-05-03T11:15:10.717Z"
   },
   {
    "duration": 12,
    "start_time": "2023-05-03T11:15:10.735Z"
   },
   {
    "duration": 191,
    "start_time": "2023-05-03T11:15:10.749Z"
   },
   {
    "duration": 158,
    "start_time": "2023-05-03T11:15:10.941Z"
   },
   {
    "duration": 28,
    "start_time": "2023-05-03T11:15:11.101Z"
   },
   {
    "duration": 25,
    "start_time": "2023-05-03T11:15:11.131Z"
   },
   {
    "duration": 1455,
    "start_time": "2023-05-03T11:15:11.158Z"
   },
   {
    "duration": 622,
    "start_time": "2023-05-03T12:09:13.102Z"
   },
   {
    "duration": 59,
    "start_time": "2023-05-03T12:09:13.726Z"
   },
   {
    "duration": 12,
    "start_time": "2023-05-03T12:09:13.786Z"
   },
   {
    "duration": 10,
    "start_time": "2023-05-03T12:09:13.800Z"
   },
   {
    "duration": 9,
    "start_time": "2023-05-03T12:09:13.813Z"
   },
   {
    "duration": 10,
    "start_time": "2023-05-03T12:09:13.824Z"
   },
   {
    "duration": 7,
    "start_time": "2023-05-03T12:09:13.835Z"
   },
   {
    "duration": 8,
    "start_time": "2023-05-03T12:09:13.844Z"
   },
   {
    "duration": 5,
    "start_time": "2023-05-03T12:09:13.853Z"
   },
   {
    "duration": 6,
    "start_time": "2023-05-03T12:09:13.860Z"
   },
   {
    "duration": 4,
    "start_time": "2023-05-03T12:09:13.868Z"
   },
   {
    "duration": 54,
    "start_time": "2023-05-03T12:09:13.873Z"
   },
   {
    "duration": 9,
    "start_time": "2023-05-03T12:09:13.928Z"
   },
   {
    "duration": 18,
    "start_time": "2023-05-03T12:09:13.939Z"
   },
   {
    "duration": 6,
    "start_time": "2023-05-03T12:09:13.959Z"
   },
   {
    "duration": 12,
    "start_time": "2023-05-03T12:09:13.966Z"
   },
   {
    "duration": 20,
    "start_time": "2023-05-03T12:09:13.980Z"
   },
   {
    "duration": 183,
    "start_time": "2023-05-03T12:09:14.001Z"
   },
   {
    "duration": 107,
    "start_time": "2023-05-03T12:09:14.186Z"
   },
   {
    "duration": 165,
    "start_time": "2023-05-03T12:09:14.294Z"
   },
   {
    "duration": 189,
    "start_time": "2023-05-03T12:09:14.460Z"
   },
   {
    "duration": 172,
    "start_time": "2023-05-03T12:09:14.650Z"
   },
   {
    "duration": 110,
    "start_time": "2023-05-03T12:09:14.824Z"
   },
   {
    "duration": 243,
    "start_time": "2023-05-03T12:09:14.936Z"
   },
   {
    "duration": 124,
    "start_time": "2023-05-03T12:09:15.181Z"
   },
   {
    "duration": 114,
    "start_time": "2023-05-03T12:09:15.307Z"
   },
   {
    "duration": 10,
    "start_time": "2023-05-03T12:09:15.423Z"
   },
   {
    "duration": 27,
    "start_time": "2023-05-03T12:09:15.434Z"
   },
   {
    "duration": 16,
    "start_time": "2023-05-03T12:09:15.462Z"
   },
   {
    "duration": 37,
    "start_time": "2023-05-03T12:09:15.480Z"
   },
   {
    "duration": 173,
    "start_time": "2023-05-03T12:09:15.519Z"
   },
   {
    "duration": 164,
    "start_time": "2023-05-03T12:09:15.694Z"
   },
   {
    "duration": 20,
    "start_time": "2023-05-03T12:09:15.860Z"
   },
   {
    "duration": 46,
    "start_time": "2023-05-03T12:09:15.881Z"
   },
   {
    "duration": 1565,
    "start_time": "2023-05-03T12:09:15.929Z"
   },
   {
    "duration": 16,
    "start_time": "2023-05-03T12:10:22.115Z"
   },
   {
    "duration": 96,
    "start_time": "2023-05-03T12:18:57.142Z"
   },
   {
    "duration": 19,
    "start_time": "2023-05-03T12:19:31.020Z"
   },
   {
    "duration": 149,
    "start_time": "2023-05-03T12:21:37.740Z"
   },
   {
    "duration": 181,
    "start_time": "2023-05-03T12:22:08.914Z"
   },
   {
    "duration": 183,
    "start_time": "2023-05-03T12:22:14.013Z"
   },
   {
    "duration": 271,
    "start_time": "2023-05-03T12:22:32.002Z"
   },
   {
    "duration": 175,
    "start_time": "2023-05-03T12:22:39.605Z"
   },
   {
    "duration": 170,
    "start_time": "2023-05-03T12:23:00.312Z"
   },
   {
    "duration": 173,
    "start_time": "2023-05-03T12:23:16.048Z"
   },
   {
    "duration": 177,
    "start_time": "2023-05-03T12:29:26.314Z"
   },
   {
    "duration": 465,
    "start_time": "2023-05-03T12:34:05.898Z"
   },
   {
    "duration": 258,
    "start_time": "2023-05-03T12:40:13.215Z"
   },
   {
    "duration": 78,
    "start_time": "2023-05-03T12:42:26.948Z"
   },
   {
    "duration": 273,
    "start_time": "2023-05-03T12:42:30.915Z"
   },
   {
    "duration": 19,
    "start_time": "2023-05-03T12:44:27.149Z"
   },
   {
    "duration": 15,
    "start_time": "2023-05-03T12:44:36.552Z"
   },
   {
    "duration": 16,
    "start_time": "2023-05-03T12:44:51.080Z"
   },
   {
    "duration": 37,
    "start_time": "2023-05-03T12:45:43.604Z"
   },
   {
    "duration": 18,
    "start_time": "2023-05-03T12:46:02.712Z"
   },
   {
    "duration": 16,
    "start_time": "2023-05-03T12:46:21.821Z"
   },
   {
    "duration": 17,
    "start_time": "2023-05-03T12:46:33.205Z"
   },
   {
    "duration": 19,
    "start_time": "2023-05-03T12:49:02.560Z"
   },
   {
    "duration": 19,
    "start_time": "2023-05-03T12:49:20.402Z"
   },
   {
    "duration": 1011,
    "start_time": "2023-05-03T12:49:39.145Z"
   },
   {
    "duration": 59,
    "start_time": "2023-05-03T12:49:40.157Z"
   },
   {
    "duration": 12,
    "start_time": "2023-05-03T12:49:40.218Z"
   },
   {
    "duration": 13,
    "start_time": "2023-05-03T12:49:40.232Z"
   },
   {
    "duration": 11,
    "start_time": "2023-05-03T12:49:40.248Z"
   },
   {
    "duration": 12,
    "start_time": "2023-05-03T12:49:40.261Z"
   },
   {
    "duration": 7,
    "start_time": "2023-05-03T12:49:40.274Z"
   },
   {
    "duration": 13,
    "start_time": "2023-05-03T12:49:40.282Z"
   },
   {
    "duration": 6,
    "start_time": "2023-05-03T12:49:40.318Z"
   },
   {
    "duration": 8,
    "start_time": "2023-05-03T12:49:40.325Z"
   },
   {
    "duration": 7,
    "start_time": "2023-05-03T12:49:40.335Z"
   },
   {
    "duration": 16,
    "start_time": "2023-05-03T12:49:40.343Z"
   },
   {
    "duration": 9,
    "start_time": "2023-05-03T12:49:40.361Z"
   },
   {
    "duration": 8,
    "start_time": "2023-05-03T12:49:40.373Z"
   },
   {
    "duration": 35,
    "start_time": "2023-05-03T12:49:40.382Z"
   },
   {
    "duration": 5,
    "start_time": "2023-05-03T12:49:40.419Z"
   },
   {
    "duration": 8,
    "start_time": "2023-05-03T12:49:40.426Z"
   },
   {
    "duration": 187,
    "start_time": "2023-05-03T12:49:40.435Z"
   },
   {
    "duration": 105,
    "start_time": "2023-05-03T12:49:40.623Z"
   },
   {
    "duration": 182,
    "start_time": "2023-05-03T12:49:40.730Z"
   },
   {
    "duration": 200,
    "start_time": "2023-05-03T12:49:40.917Z"
   },
   {
    "duration": 122,
    "start_time": "2023-05-03T12:49:41.119Z"
   },
   {
    "duration": 112,
    "start_time": "2023-05-03T12:49:41.243Z"
   },
   {
    "duration": 247,
    "start_time": "2023-05-03T12:49:41.356Z"
   },
   {
    "duration": 126,
    "start_time": "2023-05-03T12:49:41.605Z"
   },
   {
    "duration": 176,
    "start_time": "2023-05-03T12:49:41.732Z"
   },
   {
    "duration": 11,
    "start_time": "2023-05-03T12:49:41.909Z"
   },
   {
    "duration": 21,
    "start_time": "2023-05-03T12:49:41.921Z"
   },
   {
    "duration": 15,
    "start_time": "2023-05-03T12:49:41.944Z"
   },
   {
    "duration": 16,
    "start_time": "2023-05-03T12:49:41.961Z"
   },
   {
    "duration": 201,
    "start_time": "2023-05-03T12:49:41.979Z"
   },
   {
    "duration": 163,
    "start_time": "2023-05-03T12:49:42.181Z"
   },
   {
    "duration": 17,
    "start_time": "2023-05-03T12:49:42.345Z"
   },
   {
    "duration": 26,
    "start_time": "2023-05-03T12:49:42.364Z"
   },
   {
    "duration": 1500,
    "start_time": "2023-05-03T12:49:42.392Z"
   },
   {
    "duration": 26,
    "start_time": "2023-05-03T12:49:43.893Z"
   },
   {
    "duration": 105,
    "start_time": "2023-05-03T12:51:19.309Z"
   },
   {
    "duration": 11,
    "start_time": "2023-05-03T12:51:25.763Z"
   },
   {
    "duration": 14,
    "start_time": "2023-05-03T12:56:57.185Z"
   },
   {
    "duration": 5,
    "start_time": "2023-05-03T13:02:16.403Z"
   },
   {
    "duration": 14,
    "start_time": "2023-05-03T13:02:24.892Z"
   },
   {
    "duration": 10,
    "start_time": "2023-05-03T13:02:49.512Z"
   },
   {
    "duration": 7,
    "start_time": "2023-05-03T13:05:28.874Z"
   },
   {
    "duration": 736,
    "start_time": "2023-05-03T13:05:33.360Z"
   },
   {
    "duration": 9,
    "start_time": "2023-05-03T13:05:42.336Z"
   },
   {
    "duration": 21,
    "start_time": "2023-05-03T13:05:48.489Z"
   },
   {
    "duration": 6,
    "start_time": "2023-05-03T13:05:49.115Z"
   },
   {
    "duration": 5,
    "start_time": "2023-05-03T13:07:04.704Z"
   },
   {
    "duration": 5,
    "start_time": "2023-05-03T13:07:23.703Z"
   },
   {
    "duration": 5,
    "start_time": "2023-05-03T13:07:31.011Z"
   },
   {
    "duration": 4,
    "start_time": "2023-05-03T13:10:21.557Z"
   },
   {
    "duration": 5,
    "start_time": "2023-05-03T13:10:34.564Z"
   },
   {
    "duration": 5,
    "start_time": "2023-05-03T13:10:40.832Z"
   },
   {
    "duration": 4,
    "start_time": "2023-05-03T13:16:48.243Z"
   },
   {
    "duration": 1045,
    "start_time": "2023-05-03T13:17:12.218Z"
   },
   {
    "duration": 60,
    "start_time": "2023-05-03T13:17:13.265Z"
   },
   {
    "duration": 12,
    "start_time": "2023-05-03T13:17:13.327Z"
   },
   {
    "duration": 16,
    "start_time": "2023-05-03T13:17:13.340Z"
   },
   {
    "duration": 12,
    "start_time": "2023-05-03T13:17:13.358Z"
   },
   {
    "duration": 10,
    "start_time": "2023-05-03T13:17:13.372Z"
   },
   {
    "duration": 7,
    "start_time": "2023-05-03T13:17:13.384Z"
   },
   {
    "duration": 26,
    "start_time": "2023-05-03T13:17:13.392Z"
   },
   {
    "duration": 12,
    "start_time": "2023-05-03T13:17:13.420Z"
   },
   {
    "duration": 12,
    "start_time": "2023-05-03T13:17:13.434Z"
   },
   {
    "duration": 8,
    "start_time": "2023-05-03T13:17:13.448Z"
   },
   {
    "duration": 14,
    "start_time": "2023-05-03T13:17:13.457Z"
   },
   {
    "duration": 11,
    "start_time": "2023-05-03T13:17:13.473Z"
   },
   {
    "duration": 9,
    "start_time": "2023-05-03T13:17:13.485Z"
   },
   {
    "duration": 7,
    "start_time": "2023-05-03T13:17:13.518Z"
   },
   {
    "duration": 8,
    "start_time": "2023-05-03T13:17:13.526Z"
   },
   {
    "duration": 8,
    "start_time": "2023-05-03T13:17:13.536Z"
   },
   {
    "duration": 195,
    "start_time": "2023-05-03T13:17:13.545Z"
   },
   {
    "duration": 111,
    "start_time": "2023-05-03T13:17:13.742Z"
   },
   {
    "duration": 171,
    "start_time": "2023-05-03T13:17:13.854Z"
   },
   {
    "duration": 193,
    "start_time": "2023-05-03T13:17:14.027Z"
   },
   {
    "duration": 123,
    "start_time": "2023-05-03T13:17:14.222Z"
   },
   {
    "duration": 110,
    "start_time": "2023-05-03T13:17:14.346Z"
   },
   {
    "duration": 258,
    "start_time": "2023-05-03T13:17:14.457Z"
   },
   {
    "duration": 115,
    "start_time": "2023-05-03T13:17:14.718Z"
   },
   {
    "duration": 237,
    "start_time": "2023-05-03T13:17:14.835Z"
   },
   {
    "duration": 9,
    "start_time": "2023-05-03T13:17:15.074Z"
   },
   {
    "duration": 48,
    "start_time": "2023-05-03T13:17:15.086Z"
   },
   {
    "duration": 15,
    "start_time": "2023-05-03T13:17:15.136Z"
   },
   {
    "duration": 15,
    "start_time": "2023-05-03T13:17:15.153Z"
   },
   {
    "duration": 187,
    "start_time": "2023-05-03T13:17:15.169Z"
   },
   {
    "duration": 164,
    "start_time": "2023-05-03T13:17:15.358Z"
   },
   {
    "duration": 19,
    "start_time": "2023-05-03T13:17:15.523Z"
   },
   {
    "duration": 29,
    "start_time": "2023-05-03T13:17:15.543Z"
   },
   {
    "duration": 2430,
    "start_time": "2023-05-03T13:17:15.573Z"
   },
   {
    "duration": 12,
    "start_time": "2023-05-03T13:17:18.005Z"
   },
   {
    "duration": 6,
    "start_time": "2023-05-03T13:17:18.019Z"
   },
   {
    "duration": 5,
    "start_time": "2023-05-03T13:20:38.760Z"
   },
   {
    "duration": 5,
    "start_time": "2023-05-03T13:20:48.054Z"
   },
   {
    "duration": 58,
    "start_time": "2023-05-03T13:27:58.135Z"
   },
   {
    "duration": 106,
    "start_time": "2023-05-03T13:28:05.818Z"
   },
   {
    "duration": 55,
    "start_time": "2023-05-03T13:28:28.087Z"
   },
   {
    "duration": 5,
    "start_time": "2023-05-03T13:28:35.682Z"
   },
   {
    "duration": 10,
    "start_time": "2023-05-03T13:28:47.576Z"
   },
   {
    "duration": 50,
    "start_time": "2023-05-03T13:29:18.284Z"
   },
   {
    "duration": 53,
    "start_time": "2023-05-03T13:29:26.341Z"
   },
   {
    "duration": 11,
    "start_time": "2023-05-03T13:29:29.478Z"
   },
   {
    "duration": 60,
    "start_time": "2023-05-03T13:29:35.637Z"
   },
   {
    "duration": 50,
    "start_time": "2023-05-03T13:29:50.925Z"
   },
   {
    "duration": 10,
    "start_time": "2023-05-03T13:30:20.309Z"
   },
   {
    "duration": 56,
    "start_time": "2023-05-03T13:30:27.949Z"
   },
   {
    "duration": 45,
    "start_time": "2023-05-03T13:30:31.706Z"
   },
   {
    "duration": 60,
    "start_time": "2023-05-03T13:30:34.085Z"
   },
   {
    "duration": 5,
    "start_time": "2023-05-03T13:30:49.154Z"
   },
   {
    "duration": 6,
    "start_time": "2023-05-03T13:30:53.282Z"
   },
   {
    "duration": 73,
    "start_time": "2023-05-03T13:32:42.048Z"
   },
   {
    "duration": 48,
    "start_time": "2023-05-03T13:32:45.473Z"
   },
   {
    "duration": 30,
    "start_time": "2023-05-03T13:33:40.564Z"
   },
   {
    "duration": 7,
    "start_time": "2023-05-03T13:33:50.203Z"
   },
   {
    "duration": 10,
    "start_time": "2023-05-03T13:33:58.159Z"
   },
   {
    "duration": 1065,
    "start_time": "2023-05-03T13:52:12.959Z"
   },
   {
    "duration": 61,
    "start_time": "2023-05-03T13:52:14.026Z"
   },
   {
    "duration": 12,
    "start_time": "2023-05-03T13:52:14.089Z"
   },
   {
    "duration": 11,
    "start_time": "2023-05-03T13:52:14.102Z"
   },
   {
    "duration": 8,
    "start_time": "2023-05-03T13:52:14.115Z"
   },
   {
    "duration": 10,
    "start_time": "2023-05-03T13:52:14.124Z"
   },
   {
    "duration": 7,
    "start_time": "2023-05-03T13:52:14.135Z"
   },
   {
    "duration": 8,
    "start_time": "2023-05-03T13:52:14.143Z"
   },
   {
    "duration": 5,
    "start_time": "2023-05-03T13:52:14.153Z"
   },
   {
    "duration": 13,
    "start_time": "2023-05-03T13:52:14.159Z"
   },
   {
    "duration": 6,
    "start_time": "2023-05-03T13:52:14.173Z"
   },
   {
    "duration": 42,
    "start_time": "2023-05-03T13:52:14.180Z"
   },
   {
    "duration": 9,
    "start_time": "2023-05-03T13:52:14.224Z"
   },
   {
    "duration": 8,
    "start_time": "2023-05-03T13:52:14.236Z"
   },
   {
    "duration": 5,
    "start_time": "2023-05-03T13:52:14.245Z"
   },
   {
    "duration": 4,
    "start_time": "2023-05-03T13:52:14.252Z"
   },
   {
    "duration": 7,
    "start_time": "2023-05-03T13:52:14.258Z"
   },
   {
    "duration": 198,
    "start_time": "2023-05-03T13:52:14.266Z"
   },
   {
    "duration": 102,
    "start_time": "2023-05-03T13:52:14.466Z"
   },
   {
    "duration": 163,
    "start_time": "2023-05-03T13:52:14.569Z"
   },
   {
    "duration": 190,
    "start_time": "2023-05-03T13:52:14.734Z"
   },
   {
    "duration": 118,
    "start_time": "2023-05-03T13:52:14.925Z"
   },
   {
    "duration": 119,
    "start_time": "2023-05-03T13:52:15.045Z"
   },
   {
    "duration": 236,
    "start_time": "2023-05-03T13:52:15.166Z"
   },
   {
    "duration": 126,
    "start_time": "2023-05-03T13:52:15.404Z"
   },
   {
    "duration": 194,
    "start_time": "2023-05-03T13:52:15.532Z"
   },
   {
    "duration": 9,
    "start_time": "2023-05-03T13:52:15.727Z"
   },
   {
    "duration": 23,
    "start_time": "2023-05-03T13:52:15.737Z"
   },
   {
    "duration": 16,
    "start_time": "2023-05-03T13:52:15.762Z"
   },
   {
    "duration": 42,
    "start_time": "2023-05-03T13:52:15.779Z"
   },
   {
    "duration": 181,
    "start_time": "2023-05-03T13:52:15.823Z"
   },
   {
    "duration": 159,
    "start_time": "2023-05-03T13:52:16.006Z"
   },
   {
    "duration": 20,
    "start_time": "2023-05-03T13:52:16.166Z"
   },
   {
    "duration": 52,
    "start_time": "2023-05-03T13:52:16.188Z"
   },
   {
    "duration": 1514,
    "start_time": "2023-05-03T13:52:16.242Z"
   },
   {
    "duration": 7,
    "start_time": "2023-05-03T13:52:17.758Z"
   },
   {
    "duration": 7,
    "start_time": "2023-05-03T13:52:17.766Z"
   },
   {
    "duration": 5,
    "start_time": "2023-05-03T13:52:17.774Z"
   },
   {
    "duration": 133,
    "start_time": "2023-05-03T13:52:17.781Z"
   },
   {
    "duration": 0,
    "start_time": "2023-05-03T13:52:17.915Z"
   },
   {
    "duration": 59,
    "start_time": "2023-05-03T13:53:03.007Z"
   },
   {
    "duration": 7,
    "start_time": "2023-05-03T13:53:10.266Z"
   },
   {
    "duration": 5,
    "start_time": "2023-05-03T13:53:36.954Z"
   },
   {
    "duration": 5,
    "start_time": "2023-05-03T13:53:50.932Z"
   },
   {
    "duration": 5,
    "start_time": "2023-05-03T13:54:04.403Z"
   },
   {
    "duration": 9,
    "start_time": "2023-05-03T13:55:55.405Z"
   },
   {
    "duration": 9,
    "start_time": "2023-05-03T13:57:36.260Z"
   },
   {
    "duration": 1044,
    "start_time": "2023-05-03T13:57:48.232Z"
   },
   {
    "duration": 62,
    "start_time": "2023-05-03T13:57:49.277Z"
   },
   {
    "duration": 12,
    "start_time": "2023-05-03T13:57:49.341Z"
   },
   {
    "duration": 11,
    "start_time": "2023-05-03T13:57:49.355Z"
   },
   {
    "duration": 9,
    "start_time": "2023-05-03T13:57:49.368Z"
   },
   {
    "duration": 10,
    "start_time": "2023-05-03T13:57:49.378Z"
   },
   {
    "duration": 6,
    "start_time": "2023-05-03T13:57:49.390Z"
   },
   {
    "duration": 28,
    "start_time": "2023-05-03T13:57:49.398Z"
   },
   {
    "duration": 16,
    "start_time": "2023-05-03T13:57:49.428Z"
   },
   {
    "duration": 8,
    "start_time": "2023-05-03T13:57:49.448Z"
   },
   {
    "duration": 11,
    "start_time": "2023-05-03T13:57:49.458Z"
   },
   {
    "duration": 15,
    "start_time": "2023-05-03T13:57:49.471Z"
   },
   {
    "duration": 34,
    "start_time": "2023-05-03T13:57:49.488Z"
   },
   {
    "duration": 9,
    "start_time": "2023-05-03T13:57:49.524Z"
   },
   {
    "duration": 6,
    "start_time": "2023-05-03T13:57:49.535Z"
   },
   {
    "duration": 5,
    "start_time": "2023-05-03T13:57:49.543Z"
   },
   {
    "duration": 20,
    "start_time": "2023-05-03T13:57:49.550Z"
   },
   {
    "duration": 192,
    "start_time": "2023-05-03T13:57:49.572Z"
   },
   {
    "duration": 108,
    "start_time": "2023-05-03T13:57:49.766Z"
   },
   {
    "duration": 162,
    "start_time": "2023-05-03T13:57:49.876Z"
   },
   {
    "duration": 182,
    "start_time": "2023-05-03T13:57:50.040Z"
   },
   {
    "duration": 122,
    "start_time": "2023-05-03T13:57:50.224Z"
   },
   {
    "duration": 110,
    "start_time": "2023-05-03T13:57:50.348Z"
   },
   {
    "duration": 234,
    "start_time": "2023-05-03T13:57:50.460Z"
   },
   {
    "duration": 113,
    "start_time": "2023-05-03T13:57:50.696Z"
   },
   {
    "duration": 178,
    "start_time": "2023-05-03T13:57:50.817Z"
   },
   {
    "duration": 9,
    "start_time": "2023-05-03T13:57:50.997Z"
   },
   {
    "duration": 23,
    "start_time": "2023-05-03T13:57:51.019Z"
   },
   {
    "duration": 15,
    "start_time": "2023-05-03T13:57:51.043Z"
   },
   {
    "duration": 14,
    "start_time": "2023-05-03T13:57:51.059Z"
   },
   {
    "duration": 186,
    "start_time": "2023-05-03T13:57:51.074Z"
   },
   {
    "duration": 156,
    "start_time": "2023-05-03T13:57:51.261Z"
   },
   {
    "duration": 19,
    "start_time": "2023-05-03T13:57:51.419Z"
   },
   {
    "duration": 27,
    "start_time": "2023-05-03T13:57:51.440Z"
   },
   {
    "duration": 2094,
    "start_time": "2023-05-03T13:57:51.469Z"
   },
   {
    "duration": 9,
    "start_time": "2023-05-03T13:57:53.618Z"
   },
   {
    "duration": 9,
    "start_time": "2023-05-03T13:57:53.629Z"
   },
   {
    "duration": 5,
    "start_time": "2023-05-03T13:57:53.640Z"
   },
   {
    "duration": 203,
    "start_time": "2023-05-03T13:57:53.646Z"
   },
   {
    "duration": 0,
    "start_time": "2023-05-03T13:57:53.850Z"
   },
   {
    "duration": 5,
    "start_time": "2023-05-03T13:58:16.458Z"
   },
   {
    "duration": 5,
    "start_time": "2023-05-03T13:58:29.991Z"
   },
   {
    "duration": 6,
    "start_time": "2023-05-03T13:59:33.417Z"
   },
   {
    "duration": 4,
    "start_time": "2023-05-03T13:59:38.881Z"
   },
   {
    "duration": 4,
    "start_time": "2023-05-03T13:59:47.044Z"
   },
   {
    "duration": 7,
    "start_time": "2023-05-03T14:02:20.532Z"
   },
   {
    "duration": 5,
    "start_time": "2023-05-03T14:03:37.833Z"
   },
   {
    "duration": 5,
    "start_time": "2023-05-03T14:05:26.821Z"
   },
   {
    "duration": 5,
    "start_time": "2023-05-03T14:06:14.216Z"
   },
   {
    "duration": 7,
    "start_time": "2023-05-03T14:08:11.406Z"
   },
   {
    "duration": 5,
    "start_time": "2023-05-03T14:08:19.214Z"
   },
   {
    "duration": 9,
    "start_time": "2023-05-03T14:13:55.423Z"
   },
   {
    "duration": 4,
    "start_time": "2023-05-03T14:14:03.467Z"
   },
   {
    "duration": 32,
    "start_time": "2023-05-03T14:15:35.599Z"
   },
   {
    "duration": 31,
    "start_time": "2023-05-03T14:15:48.651Z"
   },
   {
    "duration": 19,
    "start_time": "2023-05-03T14:17:42.212Z"
   },
   {
    "duration": 11,
    "start_time": "2023-05-03T14:18:27.016Z"
   },
   {
    "duration": 8,
    "start_time": "2023-05-03T14:18:30.029Z"
   },
   {
    "duration": 2,
    "start_time": "2023-05-03T14:18:53.434Z"
   },
   {
    "duration": 2,
    "start_time": "2023-05-03T14:18:56.146Z"
   },
   {
    "duration": 13,
    "start_time": "2023-05-03T14:25:31.855Z"
   },
   {
    "duration": 9,
    "start_time": "2023-05-03T14:26:29.716Z"
   },
   {
    "duration": 13,
    "start_time": "2023-05-03T14:26:38.919Z"
   },
   {
    "duration": 18,
    "start_time": "2023-05-03T14:27:44.636Z"
   },
   {
    "duration": 17,
    "start_time": "2023-05-03T14:28:00.749Z"
   },
   {
    "duration": 26,
    "start_time": "2023-05-03T14:28:07.611Z"
   },
   {
    "duration": 18,
    "start_time": "2023-05-03T14:28:20.759Z"
   },
   {
    "duration": 26,
    "start_time": "2023-05-03T14:28:33.717Z"
   },
   {
    "duration": 17,
    "start_time": "2023-05-03T14:28:51.475Z"
   },
   {
    "duration": 19,
    "start_time": "2023-05-03T14:29:01.617Z"
   },
   {
    "duration": 16,
    "start_time": "2023-05-03T14:29:54.625Z"
   },
   {
    "duration": 673,
    "start_time": "2023-05-03T14:30:51.508Z"
   },
   {
    "duration": 669,
    "start_time": "2023-05-03T14:30:56.259Z"
   },
   {
    "duration": 5,
    "start_time": "2023-05-03T14:31:19.858Z"
   },
   {
    "duration": 2,
    "start_time": "2023-05-03T14:31:43.778Z"
   },
   {
    "duration": 19,
    "start_time": "2023-05-03T14:46:14.060Z"
   },
   {
    "duration": 17,
    "start_time": "2023-05-03T14:46:29.302Z"
   },
   {
    "duration": 26,
    "start_time": "2023-05-03T16:35:41.429Z"
   },
   {
    "duration": 1094,
    "start_time": "2023-05-03T16:36:42.111Z"
   },
   {
    "duration": 64,
    "start_time": "2023-05-03T16:36:43.207Z"
   },
   {
    "duration": 12,
    "start_time": "2023-05-03T16:36:43.272Z"
   },
   {
    "duration": 10,
    "start_time": "2023-05-03T16:36:43.285Z"
   },
   {
    "duration": 8,
    "start_time": "2023-05-03T16:36:43.298Z"
   },
   {
    "duration": 11,
    "start_time": "2023-05-03T16:36:43.308Z"
   },
   {
    "duration": 8,
    "start_time": "2023-05-03T16:36:43.321Z"
   },
   {
    "duration": 10,
    "start_time": "2023-05-03T16:36:43.331Z"
   },
   {
    "duration": 7,
    "start_time": "2023-05-03T16:36:43.343Z"
   },
   {
    "duration": 6,
    "start_time": "2023-05-03T16:36:43.352Z"
   },
   {
    "duration": 6,
    "start_time": "2023-05-03T16:36:43.359Z"
   },
   {
    "duration": 16,
    "start_time": "2023-05-03T16:36:43.366Z"
   },
   {
    "duration": 40,
    "start_time": "2023-05-03T16:36:43.384Z"
   },
   {
    "duration": 10,
    "start_time": "2023-05-03T16:36:43.427Z"
   },
   {
    "duration": 5,
    "start_time": "2023-05-03T16:36:43.439Z"
   },
   {
    "duration": 4,
    "start_time": "2023-05-03T16:36:43.446Z"
   },
   {
    "duration": 8,
    "start_time": "2023-05-03T16:36:43.452Z"
   },
   {
    "duration": 224,
    "start_time": "2023-05-03T16:36:43.461Z"
   },
   {
    "duration": 133,
    "start_time": "2023-05-03T16:36:43.687Z"
   },
   {
    "duration": 168,
    "start_time": "2023-05-03T16:36:43.826Z"
   },
   {
    "duration": 223,
    "start_time": "2023-05-03T16:36:43.996Z"
   },
   {
    "duration": 122,
    "start_time": "2023-05-03T16:36:44.221Z"
   },
   {
    "duration": 128,
    "start_time": "2023-05-03T16:36:44.344Z"
   },
   {
    "duration": 313,
    "start_time": "2023-05-03T16:36:44.518Z"
   },
   {
    "duration": 129,
    "start_time": "2023-05-03T16:36:44.832Z"
   },
   {
    "duration": 371,
    "start_time": "2023-05-03T16:36:44.963Z"
   },
   {
    "duration": 9,
    "start_time": "2023-05-03T16:36:45.335Z"
   },
   {
    "duration": 79,
    "start_time": "2023-05-03T16:36:45.345Z"
   },
   {
    "duration": 19,
    "start_time": "2023-05-03T16:36:45.426Z"
   },
   {
    "duration": 14,
    "start_time": "2023-05-03T16:36:45.446Z"
   },
   {
    "duration": 411,
    "start_time": "2023-05-03T16:36:45.461Z"
   },
   {
    "duration": 362,
    "start_time": "2023-05-03T16:36:45.873Z"
   },
   {
    "duration": 311,
    "start_time": "2023-05-03T16:36:46.236Z"
   },
   {
    "duration": 0,
    "start_time": "2023-05-03T16:36:46.548Z"
   },
   {
    "duration": 0,
    "start_time": "2023-05-03T16:36:46.549Z"
   },
   {
    "duration": 0,
    "start_time": "2023-05-03T16:36:46.550Z"
   },
   {
    "duration": 0,
    "start_time": "2023-05-03T16:36:46.551Z"
   },
   {
    "duration": 0,
    "start_time": "2023-05-03T16:36:46.552Z"
   },
   {
    "duration": 0,
    "start_time": "2023-05-03T16:36:46.553Z"
   },
   {
    "duration": 0,
    "start_time": "2023-05-03T16:36:46.554Z"
   },
   {
    "duration": 52,
    "start_time": "2023-05-03T16:36:55.909Z"
   },
   {
    "duration": 1465,
    "start_time": "2023-05-03T16:37:10.995Z"
   },
   {
    "duration": 8,
    "start_time": "2023-05-03T16:38:38.861Z"
   },
   {
    "duration": 9,
    "start_time": "2023-05-03T16:38:41.404Z"
   },
   {
    "duration": 6,
    "start_time": "2023-05-03T16:41:50.995Z"
   },
   {
    "duration": 6,
    "start_time": "2023-05-03T18:31:26.321Z"
   },
   {
    "duration": 1095,
    "start_time": "2023-05-03T18:31:43.064Z"
   },
   {
    "duration": 61,
    "start_time": "2023-05-03T18:31:44.161Z"
   },
   {
    "duration": 13,
    "start_time": "2023-05-03T18:31:44.223Z"
   },
   {
    "duration": 11,
    "start_time": "2023-05-03T18:31:44.237Z"
   },
   {
    "duration": 9,
    "start_time": "2023-05-03T18:31:44.250Z"
   },
   {
    "duration": 13,
    "start_time": "2023-05-03T18:31:44.260Z"
   },
   {
    "duration": 7,
    "start_time": "2023-05-03T18:31:44.274Z"
   },
   {
    "duration": 40,
    "start_time": "2023-05-03T18:31:44.282Z"
   },
   {
    "duration": 7,
    "start_time": "2023-05-03T18:31:44.324Z"
   },
   {
    "duration": 6,
    "start_time": "2023-05-03T18:31:44.333Z"
   },
   {
    "duration": 5,
    "start_time": "2023-05-03T18:31:44.341Z"
   },
   {
    "duration": 15,
    "start_time": "2023-05-03T18:31:44.347Z"
   },
   {
    "duration": 9,
    "start_time": "2023-05-03T18:31:44.364Z"
   },
   {
    "duration": 42,
    "start_time": "2023-05-03T18:31:44.376Z"
   },
   {
    "duration": 7,
    "start_time": "2023-05-03T18:31:44.420Z"
   },
   {
    "duration": 8,
    "start_time": "2023-05-03T18:31:44.428Z"
   },
   {
    "duration": 11,
    "start_time": "2023-05-03T18:31:44.438Z"
   },
   {
    "duration": 249,
    "start_time": "2023-05-03T18:31:44.451Z"
   },
   {
    "duration": 117,
    "start_time": "2023-05-03T18:31:44.702Z"
   },
   {
    "duration": 181,
    "start_time": "2023-05-03T18:31:44.821Z"
   },
   {
    "duration": 217,
    "start_time": "2023-05-03T18:31:45.004Z"
   },
   {
    "duration": 123,
    "start_time": "2023-05-03T18:31:45.223Z"
   },
   {
    "duration": 123,
    "start_time": "2023-05-03T18:31:45.348Z"
   },
   {
    "duration": 269,
    "start_time": "2023-05-03T18:31:45.473Z"
   },
   {
    "duration": 126,
    "start_time": "2023-05-03T18:31:45.744Z"
   },
   {
    "duration": 196,
    "start_time": "2023-05-03T18:31:45.872Z"
   },
   {
    "duration": 9,
    "start_time": "2023-05-03T18:31:46.070Z"
   },
   {
    "duration": 38,
    "start_time": "2023-05-03T18:31:46.080Z"
   },
   {
    "duration": 16,
    "start_time": "2023-05-03T18:31:46.120Z"
   },
   {
    "duration": 16,
    "start_time": "2023-05-03T18:31:46.138Z"
   },
   {
    "duration": 180,
    "start_time": "2023-05-03T18:31:46.156Z"
   },
   {
    "duration": 168,
    "start_time": "2023-05-03T18:31:46.338Z"
   },
   {
    "duration": 49,
    "start_time": "2023-05-03T18:31:46.508Z"
   },
   {
    "duration": 1587,
    "start_time": "2023-05-03T18:31:46.559Z"
   },
   {
    "duration": 9,
    "start_time": "2023-05-03T18:31:48.147Z"
   },
   {
    "duration": 8,
    "start_time": "2023-05-03T18:31:48.158Z"
   },
   {
    "duration": 17,
    "start_time": "2023-05-03T18:31:48.167Z"
   },
   {
    "duration": 6,
    "start_time": "2023-05-03T18:31:48.185Z"
   },
   {
    "duration": 42,
    "start_time": "2023-05-03T18:31:48.192Z"
   },
   {
    "duration": 18,
    "start_time": "2023-05-03T18:31:48.236Z"
   },
   {
    "duration": 43,
    "start_time": "2023-05-03T18:32:24.027Z"
   },
   {
    "duration": 1082,
    "start_time": "2023-05-03T18:32:34.541Z"
   },
   {
    "duration": 63,
    "start_time": "2023-05-03T18:32:35.625Z"
   },
   {
    "duration": 12,
    "start_time": "2023-05-03T18:32:35.690Z"
   },
   {
    "duration": 17,
    "start_time": "2023-05-03T18:32:35.704Z"
   },
   {
    "duration": 10,
    "start_time": "2023-05-03T18:32:35.722Z"
   },
   {
    "duration": 20,
    "start_time": "2023-05-03T18:32:35.734Z"
   },
   {
    "duration": 16,
    "start_time": "2023-05-03T18:32:35.755Z"
   },
   {
    "duration": 13,
    "start_time": "2023-05-03T18:32:35.773Z"
   },
   {
    "duration": 20,
    "start_time": "2023-05-03T18:32:35.787Z"
   },
   {
    "duration": 9,
    "start_time": "2023-05-03T18:32:35.809Z"
   },
   {
    "duration": 9,
    "start_time": "2023-05-03T18:32:35.820Z"
   },
   {
    "duration": 32,
    "start_time": "2023-05-03T18:32:35.830Z"
   },
   {
    "duration": 22,
    "start_time": "2023-05-03T18:32:35.863Z"
   },
   {
    "duration": 9,
    "start_time": "2023-05-03T18:32:35.887Z"
   },
   {
    "duration": 7,
    "start_time": "2023-05-03T18:32:35.897Z"
   },
   {
    "duration": 5,
    "start_time": "2023-05-03T18:32:35.905Z"
   },
   {
    "duration": 10,
    "start_time": "2023-05-03T18:32:35.917Z"
   },
   {
    "duration": 180,
    "start_time": "2023-05-03T18:32:35.928Z"
   },
   {
    "duration": 108,
    "start_time": "2023-05-03T18:32:36.109Z"
   },
   {
    "duration": 172,
    "start_time": "2023-05-03T18:32:36.218Z"
   },
   {
    "duration": 222,
    "start_time": "2023-05-03T18:32:36.392Z"
   },
   {
    "duration": 128,
    "start_time": "2023-05-03T18:32:36.616Z"
   },
   {
    "duration": 115,
    "start_time": "2023-05-03T18:32:36.746Z"
   },
   {
    "duration": 304,
    "start_time": "2023-05-03T18:32:36.862Z"
   },
   {
    "duration": 143,
    "start_time": "2023-05-03T18:32:37.168Z"
   },
   {
    "duration": 189,
    "start_time": "2023-05-03T18:32:37.319Z"
   },
   {
    "duration": 16,
    "start_time": "2023-05-03T18:32:37.509Z"
   },
   {
    "duration": 23,
    "start_time": "2023-05-03T18:32:37.528Z"
   },
   {
    "duration": 16,
    "start_time": "2023-05-03T18:32:37.552Z"
   },
   {
    "duration": 15,
    "start_time": "2023-05-03T18:32:37.570Z"
   },
   {
    "duration": 217,
    "start_time": "2023-05-03T18:32:37.587Z"
   },
   {
    "duration": 174,
    "start_time": "2023-05-03T18:32:37.807Z"
   },
   {
    "duration": 54,
    "start_time": "2023-05-03T18:32:37.982Z"
   },
   {
    "duration": 1517,
    "start_time": "2023-05-03T18:32:38.038Z"
   },
   {
    "duration": 7,
    "start_time": "2023-05-03T18:32:39.557Z"
   },
   {
    "duration": 7,
    "start_time": "2023-05-03T18:32:39.566Z"
   },
   {
    "duration": 6,
    "start_time": "2023-05-03T18:32:39.574Z"
   },
   {
    "duration": 5,
    "start_time": "2023-05-03T18:32:39.582Z"
   },
   {
    "duration": 51,
    "start_time": "2023-05-03T18:32:39.589Z"
   },
   {
    "duration": 18,
    "start_time": "2023-05-03T18:32:39.642Z"
   },
   {
    "duration": 52,
    "start_time": "2023-05-03T18:34:19.096Z"
   },
   {
    "duration": 5,
    "start_time": "2023-05-03T18:37:08.109Z"
   },
   {
    "duration": 59,
    "start_time": "2023-05-03T18:47:54.397Z"
   },
   {
    "duration": 8,
    "start_time": "2023-05-03T18:51:46.526Z"
   },
   {
    "duration": 20,
    "start_time": "2023-05-03T18:52:03.640Z"
   },
   {
    "duration": 24,
    "start_time": "2023-05-03T18:52:53.195Z"
   },
   {
    "duration": 1172,
    "start_time": "2023-05-03T19:00:09.295Z"
   },
   {
    "duration": 65,
    "start_time": "2023-05-03T19:00:10.469Z"
   },
   {
    "duration": 13,
    "start_time": "2023-05-03T19:00:10.536Z"
   },
   {
    "duration": 16,
    "start_time": "2023-05-03T19:00:10.551Z"
   },
   {
    "duration": 38,
    "start_time": "2023-05-03T19:00:10.570Z"
   },
   {
    "duration": 11,
    "start_time": "2023-05-03T19:00:10.609Z"
   },
   {
    "duration": 7,
    "start_time": "2023-05-03T19:00:10.622Z"
   },
   {
    "duration": 11,
    "start_time": "2023-05-03T19:00:10.630Z"
   },
   {
    "duration": 6,
    "start_time": "2023-05-03T19:00:10.643Z"
   },
   {
    "duration": 9,
    "start_time": "2023-05-03T19:00:10.651Z"
   },
   {
    "duration": 5,
    "start_time": "2023-05-03T19:00:10.662Z"
   },
   {
    "duration": 15,
    "start_time": "2023-05-03T19:00:10.668Z"
   },
   {
    "duration": 40,
    "start_time": "2023-05-03T19:00:10.684Z"
   },
   {
    "duration": 8,
    "start_time": "2023-05-03T19:00:10.727Z"
   },
   {
    "duration": 6,
    "start_time": "2023-05-03T19:00:10.737Z"
   },
   {
    "duration": 21,
    "start_time": "2023-05-03T19:00:10.744Z"
   },
   {
    "duration": 8,
    "start_time": "2023-05-03T19:00:10.767Z"
   },
   {
    "duration": 195,
    "start_time": "2023-05-03T19:00:10.777Z"
   },
   {
    "duration": 121,
    "start_time": "2023-05-03T19:00:10.974Z"
   },
   {
    "duration": 169,
    "start_time": "2023-05-03T19:00:11.097Z"
   },
   {
    "duration": 194,
    "start_time": "2023-05-03T19:00:11.267Z"
   },
   {
    "duration": 129,
    "start_time": "2023-05-03T19:00:11.462Z"
   },
   {
    "duration": 132,
    "start_time": "2023-05-03T19:00:11.592Z"
   },
   {
    "duration": 250,
    "start_time": "2023-05-03T19:00:11.725Z"
   },
   {
    "duration": 120,
    "start_time": "2023-05-03T19:00:11.976Z"
   },
   {
    "duration": 191,
    "start_time": "2023-05-03T19:00:12.098Z"
   },
   {
    "duration": 9,
    "start_time": "2023-05-03T19:00:12.291Z"
   },
   {
    "duration": 36,
    "start_time": "2023-05-03T19:00:12.301Z"
   },
   {
    "duration": 16,
    "start_time": "2023-05-03T19:00:12.338Z"
   },
   {
    "duration": 16,
    "start_time": "2023-05-03T19:00:12.356Z"
   },
   {
    "duration": 202,
    "start_time": "2023-05-03T19:00:12.374Z"
   },
   {
    "duration": 167,
    "start_time": "2023-05-03T19:00:12.578Z"
   },
   {
    "duration": 44,
    "start_time": "2023-05-03T19:00:12.746Z"
   },
   {
    "duration": 1558,
    "start_time": "2023-05-03T19:00:12.791Z"
   },
   {
    "duration": 7,
    "start_time": "2023-05-03T19:00:14.351Z"
   },
   {
    "duration": 9,
    "start_time": "2023-05-03T19:00:14.360Z"
   },
   {
    "duration": 6,
    "start_time": "2023-05-03T19:00:14.370Z"
   },
   {
    "duration": 6,
    "start_time": "2023-05-03T19:00:14.378Z"
   },
   {
    "duration": 152,
    "start_time": "2023-05-03T19:00:14.385Z"
   },
   {
    "duration": 0,
    "start_time": "2023-05-03T19:00:14.538Z"
   },
   {
    "duration": 22,
    "start_time": "2023-05-03T19:01:55.383Z"
   },
   {
    "duration": 20,
    "start_time": "2023-05-03T19:02:28.566Z"
   },
   {
    "duration": 20,
    "start_time": "2023-05-03T19:02:37.817Z"
   },
   {
    "duration": 23,
    "start_time": "2023-05-03T19:10:48.285Z"
   },
   {
    "duration": 5,
    "start_time": "2023-05-03T19:12:23.124Z"
   },
   {
    "duration": 6,
    "start_time": "2023-05-03T19:18:48.074Z"
   },
   {
    "duration": 105,
    "start_time": "2023-05-03T19:33:42.785Z"
   },
   {
    "duration": 109,
    "start_time": "2023-05-03T19:34:02.651Z"
   },
   {
    "duration": 120,
    "start_time": "2023-05-03T19:34:06.591Z"
   },
   {
    "duration": 284,
    "start_time": "2023-05-03T19:38:57.964Z"
   },
   {
    "duration": 1426,
    "start_time": "2023-05-03T19:39:07.966Z"
   },
   {
    "duration": 74,
    "start_time": "2023-05-03T19:39:09.395Z"
   },
   {
    "duration": 22,
    "start_time": "2023-05-03T19:39:09.471Z"
   },
   {
    "duration": 16,
    "start_time": "2023-05-03T19:39:09.495Z"
   },
   {
    "duration": 13,
    "start_time": "2023-05-03T19:39:09.515Z"
   },
   {
    "duration": 15,
    "start_time": "2023-05-03T19:39:09.530Z"
   },
   {
    "duration": 9,
    "start_time": "2023-05-03T19:39:09.547Z"
   },
   {
    "duration": 14,
    "start_time": "2023-05-03T19:39:09.558Z"
   },
   {
    "duration": 8,
    "start_time": "2023-05-03T19:39:09.574Z"
   },
   {
    "duration": 42,
    "start_time": "2023-05-03T19:39:09.584Z"
   },
   {
    "duration": 8,
    "start_time": "2023-05-03T19:39:09.628Z"
   },
   {
    "duration": 22,
    "start_time": "2023-05-03T19:39:09.639Z"
   },
   {
    "duration": 14,
    "start_time": "2023-05-03T19:39:09.664Z"
   },
   {
    "duration": 47,
    "start_time": "2023-05-03T19:39:09.682Z"
   },
   {
    "duration": 8,
    "start_time": "2023-05-03T19:39:09.731Z"
   },
   {
    "duration": 5,
    "start_time": "2023-05-03T19:39:09.741Z"
   },
   {
    "duration": 11,
    "start_time": "2023-05-03T19:39:09.748Z"
   },
   {
    "duration": 312,
    "start_time": "2023-05-03T19:39:09.760Z"
   },
   {
    "duration": 166,
    "start_time": "2023-05-03T19:39:10.074Z"
   },
   {
    "duration": 250,
    "start_time": "2023-05-03T19:39:10.242Z"
   },
   {
    "duration": 319,
    "start_time": "2023-05-03T19:39:10.494Z"
   },
   {
    "duration": 191,
    "start_time": "2023-05-03T19:39:10.817Z"
   },
   {
    "duration": 173,
    "start_time": "2023-05-03T19:39:11.010Z"
   },
   {
    "duration": 320,
    "start_time": "2023-05-03T19:39:11.186Z"
   },
   {
    "duration": 383,
    "start_time": "2023-05-03T19:39:11.514Z"
   },
   {
    "duration": 277,
    "start_time": "2023-05-03T19:39:11.900Z"
   },
   {
    "duration": 166,
    "start_time": "2023-05-03T19:39:12.179Z"
   },
   {
    "duration": 13,
    "start_time": "2023-05-03T19:39:12.347Z"
   },
   {
    "duration": 36,
    "start_time": "2023-05-03T19:39:12.362Z"
   },
   {
    "duration": 26,
    "start_time": "2023-05-03T19:39:12.418Z"
   },
   {
    "duration": 23,
    "start_time": "2023-05-03T19:39:12.446Z"
   },
   {
    "duration": 281,
    "start_time": "2023-05-03T19:39:12.471Z"
   },
   {
    "duration": 243,
    "start_time": "2023-05-03T19:39:12.755Z"
   },
   {
    "duration": 73,
    "start_time": "2023-05-03T19:39:13.000Z"
   },
   {
    "duration": 2602,
    "start_time": "2023-05-03T19:39:13.075Z"
   },
   {
    "duration": 10,
    "start_time": "2023-05-03T19:39:15.679Z"
   },
   {
    "duration": 26,
    "start_time": "2023-05-03T19:39:15.691Z"
   },
   {
    "duration": 8,
    "start_time": "2023-05-03T19:39:15.719Z"
   },
   {
    "duration": 6,
    "start_time": "2023-05-03T19:39:15.728Z"
   },
   {
    "duration": 34,
    "start_time": "2023-05-03T19:39:15.736Z"
   },
   {
    "duration": 283,
    "start_time": "2023-05-03T19:39:27.771Z"
   },
   {
    "duration": 58,
    "start_time": "2023-05-03T19:43:22.381Z"
   },
   {
    "duration": 1080,
    "start_time": "2023-05-03T20:02:04.288Z"
   },
   {
    "duration": 76,
    "start_time": "2023-05-03T20:02:05.370Z"
   },
   {
    "duration": 14,
    "start_time": "2023-05-03T20:02:05.448Z"
   },
   {
    "duration": 15,
    "start_time": "2023-05-03T20:02:05.464Z"
   },
   {
    "duration": 26,
    "start_time": "2023-05-03T20:02:05.481Z"
   },
   {
    "duration": 31,
    "start_time": "2023-05-03T20:02:05.510Z"
   },
   {
    "duration": 17,
    "start_time": "2023-05-03T20:02:05.543Z"
   },
   {
    "duration": 25,
    "start_time": "2023-05-03T20:02:05.562Z"
   },
   {
    "duration": 14,
    "start_time": "2023-05-03T20:02:05.589Z"
   },
   {
    "duration": 7,
    "start_time": "2023-05-03T20:02:05.606Z"
   },
   {
    "duration": 21,
    "start_time": "2023-05-03T20:02:05.615Z"
   },
   {
    "duration": 15,
    "start_time": "2023-05-03T20:02:05.638Z"
   },
   {
    "duration": 15,
    "start_time": "2023-05-03T20:02:05.654Z"
   },
   {
    "duration": 7,
    "start_time": "2023-05-03T20:02:05.671Z"
   },
   {
    "duration": 4,
    "start_time": "2023-05-03T20:02:05.680Z"
   },
   {
    "duration": 5,
    "start_time": "2023-05-03T20:02:05.686Z"
   },
   {
    "duration": 11,
    "start_time": "2023-05-03T20:02:05.723Z"
   },
   {
    "duration": 176,
    "start_time": "2023-05-03T20:02:05.736Z"
   },
   {
    "duration": 123,
    "start_time": "2023-05-03T20:02:05.913Z"
   },
   {
    "duration": 172,
    "start_time": "2023-05-03T20:02:06.038Z"
   },
   {
    "duration": 199,
    "start_time": "2023-05-03T20:02:06.217Z"
   },
   {
    "duration": 128,
    "start_time": "2023-05-03T20:02:06.418Z"
   },
   {
    "duration": 117,
    "start_time": "2023-05-03T20:02:06.547Z"
   },
   {
    "duration": 265,
    "start_time": "2023-05-03T20:02:06.665Z"
   },
   {
    "duration": 207,
    "start_time": "2023-05-03T20:02:06.932Z"
   },
   {
    "duration": 251,
    "start_time": "2023-05-03T20:02:07.141Z"
   },
   {
    "duration": 13,
    "start_time": "2023-05-03T20:02:07.394Z"
   },
   {
    "duration": 42,
    "start_time": "2023-05-03T20:02:07.426Z"
   },
   {
    "duration": 24,
    "start_time": "2023-05-03T20:02:07.471Z"
   },
   {
    "duration": 40,
    "start_time": "2023-05-03T20:02:07.497Z"
   },
   {
    "duration": 241,
    "start_time": "2023-05-03T20:02:07.539Z"
   },
   {
    "duration": 177,
    "start_time": "2023-05-03T20:02:07.781Z"
   },
   {
    "duration": 43,
    "start_time": "2023-05-03T20:02:07.960Z"
   },
   {
    "duration": 1590,
    "start_time": "2023-05-03T20:02:08.005Z"
   },
   {
    "duration": 11,
    "start_time": "2023-05-03T20:02:09.596Z"
   },
   {
    "duration": 10,
    "start_time": "2023-05-03T20:02:09.635Z"
   },
   {
    "duration": 6,
    "start_time": "2023-05-03T20:02:09.647Z"
   },
   {
    "duration": 6,
    "start_time": "2023-05-03T20:02:09.655Z"
   },
   {
    "duration": 33,
    "start_time": "2023-05-03T20:02:09.663Z"
   },
   {
    "duration": 1002,
    "start_time": "2023-05-03T20:02:40.864Z"
   },
   {
    "duration": 67,
    "start_time": "2023-05-03T20:02:41.868Z"
   },
   {
    "duration": 12,
    "start_time": "2023-05-03T20:02:41.936Z"
   },
   {
    "duration": 10,
    "start_time": "2023-05-03T20:02:41.949Z"
   },
   {
    "duration": 8,
    "start_time": "2023-05-03T20:02:41.961Z"
   },
   {
    "duration": 9,
    "start_time": "2023-05-03T20:02:41.971Z"
   },
   {
    "duration": 6,
    "start_time": "2023-05-03T20:02:41.982Z"
   },
   {
    "duration": 37,
    "start_time": "2023-05-03T20:02:41.990Z"
   },
   {
    "duration": 12,
    "start_time": "2023-05-03T20:02:42.028Z"
   },
   {
    "duration": 11,
    "start_time": "2023-05-03T20:02:42.041Z"
   },
   {
    "duration": 5,
    "start_time": "2023-05-03T20:02:42.053Z"
   },
   {
    "duration": 14,
    "start_time": "2023-05-03T20:02:42.060Z"
   },
   {
    "duration": 9,
    "start_time": "2023-05-03T20:02:42.076Z"
   },
   {
    "duration": 30,
    "start_time": "2023-05-03T20:02:42.088Z"
   },
   {
    "duration": 12,
    "start_time": "2023-05-03T20:02:42.120Z"
   },
   {
    "duration": 7,
    "start_time": "2023-05-03T20:02:42.134Z"
   },
   {
    "duration": 7,
    "start_time": "2023-05-03T20:02:42.143Z"
   },
   {
    "duration": 200,
    "start_time": "2023-05-03T20:02:42.152Z"
   },
   {
    "duration": 134,
    "start_time": "2023-05-03T20:02:42.354Z"
   },
   {
    "duration": 184,
    "start_time": "2023-05-03T20:02:42.491Z"
   },
   {
    "duration": 199,
    "start_time": "2023-05-03T20:02:42.677Z"
   },
   {
    "duration": 125,
    "start_time": "2023-05-03T20:02:42.877Z"
   },
   {
    "duration": 129,
    "start_time": "2023-05-03T20:02:43.004Z"
   },
   {
    "duration": 254,
    "start_time": "2023-05-03T20:02:43.135Z"
   },
   {
    "duration": 119,
    "start_time": "2023-05-03T20:02:43.391Z"
   },
   {
    "duration": 191,
    "start_time": "2023-05-03T20:02:43.519Z"
   },
   {
    "duration": 15,
    "start_time": "2023-05-03T20:02:43.712Z"
   },
   {
    "duration": 23,
    "start_time": "2023-05-03T20:02:43.729Z"
   },
   {
    "duration": 16,
    "start_time": "2023-05-03T20:02:43.754Z"
   },
   {
    "duration": 15,
    "start_time": "2023-05-03T20:02:43.772Z"
   },
   {
    "duration": 216,
    "start_time": "2023-05-03T20:02:43.788Z"
   },
   {
    "duration": 172,
    "start_time": "2023-05-03T20:02:44.006Z"
   },
   {
    "duration": 56,
    "start_time": "2023-05-03T20:02:44.180Z"
   },
   {
    "duration": 1547,
    "start_time": "2023-05-03T20:02:44.237Z"
   },
   {
    "duration": 8,
    "start_time": "2023-05-03T20:02:45.785Z"
   },
   {
    "duration": 7,
    "start_time": "2023-05-03T20:02:45.794Z"
   },
   {
    "duration": 14,
    "start_time": "2023-05-03T20:02:45.817Z"
   },
   {
    "duration": 5,
    "start_time": "2023-05-03T20:02:45.836Z"
   },
   {
    "duration": 21,
    "start_time": "2023-05-03T20:02:45.843Z"
   },
   {
    "duration": 1501,
    "start_time": "2023-05-04T17:55:15.033Z"
   },
   {
    "duration": 340,
    "start_time": "2023-05-04T17:55:16.536Z"
   },
   {
    "duration": 14,
    "start_time": "2023-05-04T17:55:16.878Z"
   },
   {
    "duration": 17,
    "start_time": "2023-05-04T17:55:16.894Z"
   },
   {
    "duration": 16,
    "start_time": "2023-05-04T17:55:16.912Z"
   },
   {
    "duration": 14,
    "start_time": "2023-05-04T17:55:16.930Z"
   },
   {
    "duration": 18,
    "start_time": "2023-05-04T17:55:16.946Z"
   },
   {
    "duration": 19,
    "start_time": "2023-05-04T17:55:16.966Z"
   },
   {
    "duration": 22,
    "start_time": "2023-05-04T17:55:16.987Z"
   },
   {
    "duration": 18,
    "start_time": "2023-05-04T17:55:17.013Z"
   },
   {
    "duration": 33,
    "start_time": "2023-05-04T17:55:17.034Z"
   },
   {
    "duration": 41,
    "start_time": "2023-05-04T17:55:17.070Z"
   },
   {
    "duration": 32,
    "start_time": "2023-05-04T17:55:17.114Z"
   },
   {
    "duration": 13,
    "start_time": "2023-05-04T17:55:17.157Z"
   },
   {
    "duration": 9,
    "start_time": "2023-05-04T17:55:17.172Z"
   },
   {
    "duration": 14,
    "start_time": "2023-05-04T17:55:17.183Z"
   },
   {
    "duration": 23,
    "start_time": "2023-05-04T17:55:17.199Z"
   },
   {
    "duration": 235,
    "start_time": "2023-05-04T17:55:17.225Z"
   },
   {
    "duration": 142,
    "start_time": "2023-05-04T17:55:17.462Z"
   },
   {
    "duration": 205,
    "start_time": "2023-05-04T17:55:17.606Z"
   },
   {
    "duration": 243,
    "start_time": "2023-05-04T17:55:17.813Z"
   },
   {
    "duration": 156,
    "start_time": "2023-05-04T17:55:18.057Z"
   },
   {
    "duration": 147,
    "start_time": "2023-05-04T17:55:18.215Z"
   },
   {
    "duration": 303,
    "start_time": "2023-05-04T17:55:18.363Z"
   },
   {
    "duration": 147,
    "start_time": "2023-05-04T17:55:18.668Z"
   },
   {
    "duration": 233,
    "start_time": "2023-05-04T17:55:18.816Z"
   },
   {
    "duration": 13,
    "start_time": "2023-05-04T17:55:19.051Z"
   },
   {
    "duration": 28,
    "start_time": "2023-05-04T17:55:19.068Z"
   },
   {
    "duration": 18,
    "start_time": "2023-05-04T17:55:19.097Z"
   },
   {
    "duration": 42,
    "start_time": "2023-05-04T17:55:19.117Z"
   },
   {
    "duration": 229,
    "start_time": "2023-05-04T17:55:19.162Z"
   },
   {
    "duration": 179,
    "start_time": "2023-05-04T17:55:19.394Z"
   },
   {
    "duration": 44,
    "start_time": "2023-05-04T17:55:19.575Z"
   },
   {
    "duration": 1511,
    "start_time": "2023-05-04T17:55:19.621Z"
   },
   {
    "duration": 19,
    "start_time": "2023-05-04T17:55:21.134Z"
   },
   {
    "duration": 15,
    "start_time": "2023-05-04T17:55:21.156Z"
   },
   {
    "duration": 6,
    "start_time": "2023-05-04T17:55:21.173Z"
   },
   {
    "duration": 10,
    "start_time": "2023-05-04T17:55:21.180Z"
   },
   {
    "duration": 32,
    "start_time": "2023-05-04T17:55:21.193Z"
   },
   {
    "duration": 7,
    "start_time": "2023-05-04T18:05:18.878Z"
   },
   {
    "duration": 115,
    "start_time": "2023-05-04T18:07:02.238Z"
   },
   {
    "duration": 14,
    "start_time": "2023-05-04T18:07:10.466Z"
   },
   {
    "duration": 140,
    "start_time": "2023-05-04T18:17:36.396Z"
   },
   {
    "duration": 296,
    "start_time": "2023-05-04T18:18:25.227Z"
   },
   {
    "duration": 185,
    "start_time": "2023-05-04T18:18:32.230Z"
   },
   {
    "duration": 160,
    "start_time": "2023-05-04T18:18:41.759Z"
   },
   {
    "duration": 291,
    "start_time": "2023-05-04T18:19:09.821Z"
   },
   {
    "duration": 246,
    "start_time": "2023-05-04T18:19:32.678Z"
   },
   {
    "duration": 2240,
    "start_time": "2023-05-04T18:21:43.417Z"
   },
   {
    "duration": 1494,
    "start_time": "2023-05-04T18:21:57.497Z"
   },
   {
    "duration": 2076,
    "start_time": "2023-05-04T18:22:09.911Z"
   },
   {
    "duration": 50,
    "start_time": "2023-05-04T18:37:47.382Z"
   },
   {
    "duration": 8,
    "start_time": "2023-05-04T18:37:51.235Z"
   },
   {
    "duration": 6,
    "start_time": "2023-05-04T18:38:00.961Z"
   },
   {
    "duration": 1401,
    "start_time": "2023-05-04T18:38:10.136Z"
   },
   {
    "duration": 577,
    "start_time": "2023-05-04T18:38:11.540Z"
   },
   {
    "duration": 12,
    "start_time": "2023-05-04T18:38:12.118Z"
   },
   {
    "duration": 34,
    "start_time": "2023-05-04T18:38:12.132Z"
   },
   {
    "duration": 43,
    "start_time": "2023-05-04T18:38:12.167Z"
   },
   {
    "duration": 34,
    "start_time": "2023-05-04T18:38:12.212Z"
   },
   {
    "duration": 27,
    "start_time": "2023-05-04T18:38:12.247Z"
   },
   {
    "duration": 28,
    "start_time": "2023-05-04T18:38:12.276Z"
   },
   {
    "duration": 35,
    "start_time": "2023-05-04T18:38:12.306Z"
   },
   {
    "duration": 27,
    "start_time": "2023-05-04T18:38:12.345Z"
   },
   {
    "duration": 41,
    "start_time": "2023-05-04T18:38:12.373Z"
   },
   {
    "duration": 63,
    "start_time": "2023-05-04T18:38:12.416Z"
   },
   {
    "duration": 12,
    "start_time": "2023-05-04T18:38:12.481Z"
   },
   {
    "duration": 30,
    "start_time": "2023-05-04T18:38:12.495Z"
   },
   {
    "duration": 22,
    "start_time": "2023-05-04T18:38:12.526Z"
   },
   {
    "duration": 21,
    "start_time": "2023-05-04T18:38:12.550Z"
   },
   {
    "duration": 15,
    "start_time": "2023-05-04T18:38:12.572Z"
   },
   {
    "duration": 289,
    "start_time": "2023-05-04T18:38:12.589Z"
   },
   {
    "duration": 126,
    "start_time": "2023-05-04T18:38:12.880Z"
   },
   {
    "duration": 219,
    "start_time": "2023-05-04T18:38:13.008Z"
   },
   {
    "duration": 207,
    "start_time": "2023-05-04T18:38:13.229Z"
   },
   {
    "duration": 134,
    "start_time": "2023-05-04T18:38:13.438Z"
   },
   {
    "duration": 121,
    "start_time": "2023-05-04T18:38:13.574Z"
   },
   {
    "duration": 317,
    "start_time": "2023-05-04T18:38:13.696Z"
   },
   {
    "duration": 182,
    "start_time": "2023-05-04T18:38:14.014Z"
   },
   {
    "duration": 208,
    "start_time": "2023-05-04T18:38:14.198Z"
   },
   {
    "duration": 10,
    "start_time": "2023-05-04T18:38:14.408Z"
   },
   {
    "duration": 41,
    "start_time": "2023-05-04T18:38:14.421Z"
   },
   {
    "duration": 17,
    "start_time": "2023-05-04T18:38:14.464Z"
   },
   {
    "duration": 14,
    "start_time": "2023-05-04T18:38:14.483Z"
   },
   {
    "duration": 223,
    "start_time": "2023-05-04T18:38:14.498Z"
   },
   {
    "duration": 183,
    "start_time": "2023-05-04T18:38:14.723Z"
   },
   {
    "duration": 61,
    "start_time": "2023-05-04T18:38:14.907Z"
   },
   {
    "duration": 1398,
    "start_time": "2023-05-04T18:38:14.970Z"
   },
   {
    "duration": 11,
    "start_time": "2023-05-04T18:38:16.370Z"
   },
   {
    "duration": 14,
    "start_time": "2023-05-04T18:38:16.383Z"
   },
   {
    "duration": 7,
    "start_time": "2023-05-04T18:38:16.399Z"
   },
   {
    "duration": 5,
    "start_time": "2023-05-04T18:38:16.408Z"
   },
   {
    "duration": 11,
    "start_time": "2023-05-04T18:38:16.435Z"
   },
   {
    "duration": 339,
    "start_time": "2023-05-04T18:38:16.448Z"
   },
   {
    "duration": 30,
    "start_time": "2023-05-04T18:38:16.790Z"
   },
   {
    "duration": 9,
    "start_time": "2023-05-04T18:46:26.331Z"
   },
   {
    "duration": 10,
    "start_time": "2023-05-04T18:46:58.175Z"
   },
   {
    "duration": 12,
    "start_time": "2023-05-04T18:47:14.135Z"
   },
   {
    "duration": 14,
    "start_time": "2023-05-04T18:47:32.558Z"
   },
   {
    "duration": 13,
    "start_time": "2023-05-04T18:47:55.292Z"
   },
   {
    "duration": 16,
    "start_time": "2023-05-04T18:48:04.547Z"
   },
   {
    "duration": 105,
    "start_time": "2023-05-04T18:54:04.163Z"
   },
   {
    "duration": 204,
    "start_time": "2023-05-04T18:54:19.602Z"
   },
   {
    "duration": 87,
    "start_time": "2023-05-04T18:54:32.785Z"
   },
   {
    "duration": 167,
    "start_time": "2023-05-04T18:54:35.002Z"
   },
   {
    "duration": 13,
    "start_time": "2023-05-04T18:56:17.265Z"
   },
   {
    "duration": 158,
    "start_time": "2023-05-04T18:56:25.655Z"
   },
   {
    "duration": 161,
    "start_time": "2023-05-04T18:56:31.265Z"
   },
   {
    "duration": 20,
    "start_time": "2023-05-04T19:02:45.442Z"
   },
   {
    "duration": 228,
    "start_time": "2023-05-04T19:03:09.252Z"
   },
   {
    "duration": 419,
    "start_time": "2023-05-04T19:04:08.176Z"
   },
   {
    "duration": 18,
    "start_time": "2023-05-04T19:04:21.904Z"
   },
   {
    "duration": 18,
    "start_time": "2023-05-04T19:04:28.698Z"
   },
   {
    "duration": 209,
    "start_time": "2023-05-04T19:04:44.836Z"
   },
   {
    "duration": 326,
    "start_time": "2023-05-04T19:04:59.576Z"
   },
   {
    "duration": 188,
    "start_time": "2023-05-04T19:05:14.291Z"
   },
   {
    "duration": 1187,
    "start_time": "2023-05-04T19:05:23.380Z"
   },
   {
    "duration": 343,
    "start_time": "2023-05-04T19:05:24.569Z"
   },
   {
    "duration": 14,
    "start_time": "2023-05-04T19:05:24.914Z"
   },
   {
    "duration": 12,
    "start_time": "2023-05-04T19:05:24.930Z"
   },
   {
    "duration": 22,
    "start_time": "2023-05-04T19:05:24.947Z"
   },
   {
    "duration": 13,
    "start_time": "2023-05-04T19:05:24.970Z"
   },
   {
    "duration": 6,
    "start_time": "2023-05-04T19:05:24.985Z"
   },
   {
    "duration": 13,
    "start_time": "2023-05-04T19:05:24.993Z"
   },
   {
    "duration": 8,
    "start_time": "2023-05-04T19:05:25.007Z"
   },
   {
    "duration": 13,
    "start_time": "2023-05-04T19:05:25.034Z"
   },
   {
    "duration": 9,
    "start_time": "2023-05-04T19:05:25.049Z"
   },
   {
    "duration": 21,
    "start_time": "2023-05-04T19:05:25.060Z"
   },
   {
    "duration": 17,
    "start_time": "2023-05-04T19:05:25.083Z"
   },
   {
    "duration": 35,
    "start_time": "2023-05-04T19:05:25.102Z"
   },
   {
    "duration": 10,
    "start_time": "2023-05-04T19:05:25.140Z"
   },
   {
    "duration": 18,
    "start_time": "2023-05-04T19:05:25.152Z"
   },
   {
    "duration": 11,
    "start_time": "2023-05-04T19:05:25.171Z"
   },
   {
    "duration": 209,
    "start_time": "2023-05-04T19:05:25.184Z"
   },
   {
    "duration": 154,
    "start_time": "2023-05-04T19:05:25.395Z"
   },
   {
    "duration": 207,
    "start_time": "2023-05-04T19:05:25.552Z"
   },
   {
    "duration": 225,
    "start_time": "2023-05-04T19:05:25.761Z"
   },
   {
    "duration": 141,
    "start_time": "2023-05-04T19:05:25.987Z"
   },
   {
    "duration": 138,
    "start_time": "2023-05-04T19:05:26.133Z"
   },
   {
    "duration": 299,
    "start_time": "2023-05-04T19:05:26.273Z"
   },
   {
    "duration": 194,
    "start_time": "2023-05-04T19:05:26.574Z"
   },
   {
    "duration": 236,
    "start_time": "2023-05-04T19:05:26.770Z"
   },
   {
    "duration": 8,
    "start_time": "2023-05-04T19:05:27.008Z"
   },
   {
    "duration": 45,
    "start_time": "2023-05-04T19:05:27.019Z"
   },
   {
    "duration": 15,
    "start_time": "2023-05-04T19:05:27.066Z"
   },
   {
    "duration": 21,
    "start_time": "2023-05-04T19:05:27.083Z"
   },
   {
    "duration": 229,
    "start_time": "2023-05-04T19:05:27.105Z"
   },
   {
    "duration": 215,
    "start_time": "2023-05-04T19:05:27.336Z"
   },
   {
    "duration": 44,
    "start_time": "2023-05-04T19:05:27.555Z"
   },
   {
    "duration": 1595,
    "start_time": "2023-05-04T19:05:27.601Z"
   },
   {
    "duration": 12,
    "start_time": "2023-05-04T19:05:29.198Z"
   },
   {
    "duration": 30,
    "start_time": "2023-05-04T19:05:29.211Z"
   },
   {
    "duration": 21,
    "start_time": "2023-05-04T19:05:29.243Z"
   },
   {
    "duration": 15,
    "start_time": "2023-05-04T19:05:29.266Z"
   },
   {
    "duration": 9,
    "start_time": "2023-05-04T19:05:29.282Z"
   },
   {
    "duration": 284,
    "start_time": "2023-05-04T19:05:29.293Z"
   },
   {
    "duration": 22,
    "start_time": "2023-05-04T19:05:29.579Z"
   },
   {
    "duration": 448,
    "start_time": "2023-05-04T19:05:48.594Z"
   },
   {
    "duration": 140,
    "start_time": "2023-05-04T19:06:39.716Z"
   },
   {
    "duration": 17,
    "start_time": "2023-05-04T19:07:26.443Z"
   },
   {
    "duration": 8,
    "start_time": "2023-05-04T19:10:10.675Z"
   },
   {
    "duration": 330,
    "start_time": "2023-05-04T19:10:19.537Z"
   },
   {
    "duration": 133,
    "start_time": "2023-05-04T19:10:38.580Z"
   },
   {
    "duration": 756,
    "start_time": "2023-05-04T19:12:43.061Z"
   },
   {
    "duration": 140,
    "start_time": "2023-05-04T19:12:54.142Z"
   },
   {
    "duration": 1134,
    "start_time": "2023-05-04T19:15:20.935Z"
   },
   {
    "duration": 70,
    "start_time": "2023-05-04T19:15:22.071Z"
   },
   {
    "duration": 18,
    "start_time": "2023-05-04T19:15:22.143Z"
   },
   {
    "duration": 11,
    "start_time": "2023-05-04T19:15:22.162Z"
   },
   {
    "duration": 11,
    "start_time": "2023-05-04T19:15:22.175Z"
   },
   {
    "duration": 14,
    "start_time": "2023-05-04T19:15:22.188Z"
   },
   {
    "duration": 7,
    "start_time": "2023-05-04T19:15:22.203Z"
   },
   {
    "duration": 39,
    "start_time": "2023-05-04T19:15:22.211Z"
   },
   {
    "duration": 12,
    "start_time": "2023-05-04T19:15:22.251Z"
   },
   {
    "duration": 10,
    "start_time": "2023-05-04T19:15:22.264Z"
   },
   {
    "duration": 10,
    "start_time": "2023-05-04T19:15:22.276Z"
   },
   {
    "duration": 19,
    "start_time": "2023-05-04T19:15:22.287Z"
   },
   {
    "duration": 26,
    "start_time": "2023-05-04T19:15:22.308Z"
   },
   {
    "duration": 11,
    "start_time": "2023-05-04T19:15:22.338Z"
   },
   {
    "duration": 18,
    "start_time": "2023-05-04T19:15:22.351Z"
   },
   {
    "duration": 7,
    "start_time": "2023-05-04T19:15:22.370Z"
   },
   {
    "duration": 8,
    "start_time": "2023-05-04T19:15:22.378Z"
   },
   {
    "duration": 188,
    "start_time": "2023-05-04T19:15:22.387Z"
   },
   {
    "duration": 132,
    "start_time": "2023-05-04T19:15:22.577Z"
   },
   {
    "duration": 195,
    "start_time": "2023-05-04T19:15:22.711Z"
   },
   {
    "duration": 225,
    "start_time": "2023-05-04T19:15:22.908Z"
   },
   {
    "duration": 156,
    "start_time": "2023-05-04T19:15:23.135Z"
   },
   {
    "duration": 130,
    "start_time": "2023-05-04T19:15:23.293Z"
   },
   {
    "duration": 262,
    "start_time": "2023-05-04T19:15:23.425Z"
   },
   {
    "duration": 137,
    "start_time": "2023-05-04T19:15:23.689Z"
   },
   {
    "duration": 13,
    "start_time": "2023-05-04T19:15:23.828Z"
   },
   {
    "duration": 45,
    "start_time": "2023-05-04T19:15:23.844Z"
   },
   {
    "duration": 16,
    "start_time": "2023-05-04T19:15:23.891Z"
   },
   {
    "duration": 113,
    "start_time": "2023-05-04T19:15:23.909Z"
   },
   {
    "duration": 205,
    "start_time": "2023-05-04T19:15:24.024Z"
   },
   {
    "duration": 167,
    "start_time": "2023-05-04T19:15:24.231Z"
   },
   {
    "duration": 49,
    "start_time": "2023-05-04T19:15:24.399Z"
   },
   {
    "duration": 1551,
    "start_time": "2023-05-04T19:15:24.450Z"
   },
   {
    "duration": 12,
    "start_time": "2023-05-04T19:15:26.002Z"
   },
   {
    "duration": 25,
    "start_time": "2023-05-04T19:15:26.015Z"
   },
   {
    "duration": 31,
    "start_time": "2023-05-04T19:15:26.043Z"
   },
   {
    "duration": 24,
    "start_time": "2023-05-04T19:15:26.076Z"
   },
   {
    "duration": 40,
    "start_time": "2023-05-04T19:15:26.101Z"
   },
   {
    "duration": 314,
    "start_time": "2023-05-04T19:15:26.143Z"
   },
   {
    "duration": 34,
    "start_time": "2023-05-04T19:15:26.462Z"
   },
   {
    "duration": 131,
    "start_time": "2023-05-04T19:19:25.265Z"
   },
   {
    "duration": 1190,
    "start_time": "2023-05-04T19:19:59.141Z"
   },
   {
    "duration": 79,
    "start_time": "2023-05-04T19:20:00.333Z"
   },
   {
    "duration": 13,
    "start_time": "2023-05-04T19:20:00.414Z"
   },
   {
    "duration": 30,
    "start_time": "2023-05-04T19:20:00.428Z"
   },
   {
    "duration": 37,
    "start_time": "2023-05-04T19:20:00.462Z"
   },
   {
    "duration": 46,
    "start_time": "2023-05-04T19:20:00.502Z"
   },
   {
    "duration": 37,
    "start_time": "2023-05-04T19:20:00.550Z"
   },
   {
    "duration": 74,
    "start_time": "2023-05-04T19:20:00.589Z"
   },
   {
    "duration": 25,
    "start_time": "2023-05-04T19:20:00.666Z"
   },
   {
    "duration": 32,
    "start_time": "2023-05-04T19:20:00.693Z"
   },
   {
    "duration": 47,
    "start_time": "2023-05-04T19:20:00.727Z"
   },
   {
    "duration": 52,
    "start_time": "2023-05-04T19:20:00.776Z"
   },
   {
    "duration": 55,
    "start_time": "2023-05-04T19:20:00.830Z"
   },
   {
    "duration": 14,
    "start_time": "2023-05-04T19:20:00.889Z"
   },
   {
    "duration": 11,
    "start_time": "2023-05-04T19:20:00.905Z"
   },
   {
    "duration": 36,
    "start_time": "2023-05-04T19:20:00.918Z"
   },
   {
    "duration": 35,
    "start_time": "2023-05-04T19:20:00.956Z"
   },
   {
    "duration": 235,
    "start_time": "2023-05-04T19:20:00.992Z"
   },
   {
    "duration": 144,
    "start_time": "2023-05-04T19:20:01.229Z"
   },
   {
    "duration": 219,
    "start_time": "2023-05-04T19:20:01.375Z"
   },
   {
    "duration": 227,
    "start_time": "2023-05-04T19:20:01.596Z"
   },
   {
    "duration": 162,
    "start_time": "2023-05-04T19:20:01.825Z"
   },
   {
    "duration": 110,
    "start_time": "2023-05-04T19:20:01.989Z"
   },
   {
    "duration": 0,
    "start_time": "2023-05-04T19:20:02.101Z"
   },
   {
    "duration": 0,
    "start_time": "2023-05-04T19:20:02.102Z"
   },
   {
    "duration": 0,
    "start_time": "2023-05-04T19:20:02.103Z"
   },
   {
    "duration": 0,
    "start_time": "2023-05-04T19:20:02.104Z"
   },
   {
    "duration": 0,
    "start_time": "2023-05-04T19:20:02.105Z"
   },
   {
    "duration": 0,
    "start_time": "2023-05-04T19:20:02.106Z"
   },
   {
    "duration": 0,
    "start_time": "2023-05-04T19:20:02.107Z"
   },
   {
    "duration": 0,
    "start_time": "2023-05-04T19:20:02.108Z"
   },
   {
    "duration": 0,
    "start_time": "2023-05-04T19:20:02.109Z"
   },
   {
    "duration": 0,
    "start_time": "2023-05-04T19:20:02.111Z"
   },
   {
    "duration": 0,
    "start_time": "2023-05-04T19:20:02.112Z"
   },
   {
    "duration": 0,
    "start_time": "2023-05-04T19:20:02.133Z"
   },
   {
    "duration": 0,
    "start_time": "2023-05-04T19:20:02.135Z"
   },
   {
    "duration": 0,
    "start_time": "2023-05-04T19:20:02.139Z"
   },
   {
    "duration": 0,
    "start_time": "2023-05-04T19:20:02.140Z"
   },
   {
    "duration": 0,
    "start_time": "2023-05-04T19:20:02.141Z"
   },
   {
    "duration": 12,
    "start_time": "2023-05-04T19:20:32.542Z"
   },
   {
    "duration": 11,
    "start_time": "2023-05-04T19:20:58.090Z"
   },
   {
    "duration": 1244,
    "start_time": "2023-05-04T19:21:05.757Z"
   },
   {
    "duration": 73,
    "start_time": "2023-05-04T19:21:07.003Z"
   },
   {
    "duration": 13,
    "start_time": "2023-05-04T19:21:07.082Z"
   },
   {
    "duration": 11,
    "start_time": "2023-05-04T19:21:07.097Z"
   },
   {
    "duration": 12,
    "start_time": "2023-05-04T19:21:07.110Z"
   },
   {
    "duration": 22,
    "start_time": "2023-05-04T19:21:07.123Z"
   },
   {
    "duration": 14,
    "start_time": "2023-05-04T19:21:07.148Z"
   },
   {
    "duration": 20,
    "start_time": "2023-05-04T19:21:07.164Z"
   },
   {
    "duration": 8,
    "start_time": "2023-05-04T19:21:07.185Z"
   },
   {
    "duration": 11,
    "start_time": "2023-05-04T19:21:07.195Z"
   },
   {
    "duration": 6,
    "start_time": "2023-05-04T19:21:07.208Z"
   },
   {
    "duration": 39,
    "start_time": "2023-05-04T19:21:07.215Z"
   },
   {
    "duration": 17,
    "start_time": "2023-05-04T19:21:07.257Z"
   },
   {
    "duration": 9,
    "start_time": "2023-05-04T19:21:07.276Z"
   },
   {
    "duration": 7,
    "start_time": "2023-05-04T19:21:07.287Z"
   },
   {
    "duration": 8,
    "start_time": "2023-05-04T19:21:07.296Z"
   },
   {
    "duration": 10,
    "start_time": "2023-05-04T19:21:07.334Z"
   },
   {
    "duration": 201,
    "start_time": "2023-05-04T19:21:07.346Z"
   },
   {
    "duration": 179,
    "start_time": "2023-05-04T19:21:07.550Z"
   },
   {
    "duration": 190,
    "start_time": "2023-05-04T19:21:07.733Z"
   },
   {
    "duration": 241,
    "start_time": "2023-05-04T19:21:07.926Z"
   },
   {
    "duration": 145,
    "start_time": "2023-05-04T19:21:08.168Z"
   },
   {
    "duration": 121,
    "start_time": "2023-05-04T19:21:08.314Z"
   },
   {
    "duration": 0,
    "start_time": "2023-05-04T19:21:08.438Z"
   },
   {
    "duration": 0,
    "start_time": "2023-05-04T19:21:08.441Z"
   },
   {
    "duration": 0,
    "start_time": "2023-05-04T19:21:08.443Z"
   },
   {
    "duration": 0,
    "start_time": "2023-05-04T19:21:08.445Z"
   },
   {
    "duration": 0,
    "start_time": "2023-05-04T19:21:08.448Z"
   },
   {
    "duration": 0,
    "start_time": "2023-05-04T19:21:08.450Z"
   },
   {
    "duration": 0,
    "start_time": "2023-05-04T19:21:08.452Z"
   },
   {
    "duration": 0,
    "start_time": "2023-05-04T19:21:08.454Z"
   },
   {
    "duration": 0,
    "start_time": "2023-05-04T19:21:08.456Z"
   },
   {
    "duration": 0,
    "start_time": "2023-05-04T19:21:08.457Z"
   },
   {
    "duration": 0,
    "start_time": "2023-05-04T19:21:08.458Z"
   },
   {
    "duration": 0,
    "start_time": "2023-05-04T19:21:08.459Z"
   },
   {
    "duration": 0,
    "start_time": "2023-05-04T19:21:08.460Z"
   },
   {
    "duration": 0,
    "start_time": "2023-05-04T19:21:08.461Z"
   },
   {
    "duration": 0,
    "start_time": "2023-05-04T19:21:08.462Z"
   },
   {
    "duration": 0,
    "start_time": "2023-05-04T19:21:08.463Z"
   },
   {
    "duration": 0,
    "start_time": "2023-05-04T19:21:08.464Z"
   },
   {
    "duration": 292,
    "start_time": "2023-05-04T19:21:25.585Z"
   },
   {
    "duration": 1229,
    "start_time": "2023-05-04T19:21:44.908Z"
   },
   {
    "duration": 73,
    "start_time": "2023-05-04T19:21:46.140Z"
   },
   {
    "duration": 12,
    "start_time": "2023-05-04T19:21:46.215Z"
   },
   {
    "duration": 38,
    "start_time": "2023-05-04T19:21:46.230Z"
   },
   {
    "duration": 34,
    "start_time": "2023-05-04T19:21:46.270Z"
   },
   {
    "duration": 32,
    "start_time": "2023-05-04T19:21:46.305Z"
   },
   {
    "duration": 21,
    "start_time": "2023-05-04T19:21:46.342Z"
   },
   {
    "duration": 12,
    "start_time": "2023-05-04T19:21:46.365Z"
   },
   {
    "duration": 9,
    "start_time": "2023-05-04T19:21:46.379Z"
   },
   {
    "duration": 13,
    "start_time": "2023-05-04T19:21:46.392Z"
   },
   {
    "duration": 8,
    "start_time": "2023-05-04T19:21:46.407Z"
   },
   {
    "duration": 31,
    "start_time": "2023-05-04T19:21:46.417Z"
   },
   {
    "duration": 22,
    "start_time": "2023-05-04T19:21:46.450Z"
   },
   {
    "duration": 13,
    "start_time": "2023-05-04T19:21:46.474Z"
   },
   {
    "duration": 16,
    "start_time": "2023-05-04T19:21:46.488Z"
   },
   {
    "duration": 10,
    "start_time": "2023-05-04T19:21:46.506Z"
   },
   {
    "duration": 28,
    "start_time": "2023-05-04T19:21:46.518Z"
   },
   {
    "duration": 234,
    "start_time": "2023-05-04T19:21:46.548Z"
   },
   {
    "duration": 139,
    "start_time": "2023-05-04T19:21:46.783Z"
   },
   {
    "duration": 235,
    "start_time": "2023-05-04T19:21:46.924Z"
   },
   {
    "duration": 287,
    "start_time": "2023-05-04T19:21:47.161Z"
   },
   {
    "duration": 165,
    "start_time": "2023-05-04T19:21:47.450Z"
   },
   {
    "duration": 305,
    "start_time": "2023-05-04T19:21:47.617Z"
   },
   {
    "duration": 132,
    "start_time": "2023-05-04T19:21:47.924Z"
   },
   {
    "duration": 0,
    "start_time": "2023-05-04T19:21:48.060Z"
   },
   {
    "duration": 0,
    "start_time": "2023-05-04T19:21:48.062Z"
   },
   {
    "duration": 0,
    "start_time": "2023-05-04T19:21:48.064Z"
   },
   {
    "duration": 0,
    "start_time": "2023-05-04T19:21:48.066Z"
   },
   {
    "duration": 0,
    "start_time": "2023-05-04T19:21:48.068Z"
   },
   {
    "duration": 0,
    "start_time": "2023-05-04T19:21:48.071Z"
   },
   {
    "duration": 0,
    "start_time": "2023-05-04T19:21:48.072Z"
   },
   {
    "duration": 0,
    "start_time": "2023-05-04T19:21:48.073Z"
   },
   {
    "duration": 0,
    "start_time": "2023-05-04T19:21:48.074Z"
   },
   {
    "duration": 1,
    "start_time": "2023-05-04T19:21:48.075Z"
   },
   {
    "duration": 0,
    "start_time": "2023-05-04T19:21:48.077Z"
   },
   {
    "duration": 0,
    "start_time": "2023-05-04T19:21:48.078Z"
   },
   {
    "duration": 0,
    "start_time": "2023-05-04T19:21:48.079Z"
   },
   {
    "duration": 0,
    "start_time": "2023-05-04T19:21:48.080Z"
   },
   {
    "duration": 0,
    "start_time": "2023-05-04T19:21:48.081Z"
   },
   {
    "duration": 0,
    "start_time": "2023-05-04T19:21:48.082Z"
   },
   {
    "duration": 173,
    "start_time": "2023-05-04T19:22:03.412Z"
   },
   {
    "duration": 10,
    "start_time": "2023-05-04T19:23:18.020Z"
   },
   {
    "duration": 11,
    "start_time": "2023-05-04T19:23:24.545Z"
   },
   {
    "duration": 9,
    "start_time": "2023-05-04T19:23:44.520Z"
   },
   {
    "duration": 13,
    "start_time": "2023-05-04T19:23:55.351Z"
   },
   {
    "duration": 10,
    "start_time": "2023-05-04T19:24:16.479Z"
   },
   {
    "duration": 14,
    "start_time": "2023-05-04T19:24:19.053Z"
   },
   {
    "duration": 29,
    "start_time": "2023-05-04T19:24:22.849Z"
   },
   {
    "duration": 20,
    "start_time": "2023-05-04T19:24:32.988Z"
   },
   {
    "duration": 19,
    "start_time": "2023-05-04T19:24:43.729Z"
   },
   {
    "duration": 14,
    "start_time": "2023-05-04T19:25:04.516Z"
   },
   {
    "duration": 24,
    "start_time": "2023-05-04T19:25:15.634Z"
   },
   {
    "duration": 19,
    "start_time": "2023-05-04T19:25:30.288Z"
   },
   {
    "duration": 215,
    "start_time": "2023-05-04T19:25:35.867Z"
   },
   {
    "duration": 306,
    "start_time": "2023-05-04T19:25:38.418Z"
   },
   {
    "duration": 64,
    "start_time": "2023-05-04T19:26:08.038Z"
   },
   {
    "duration": 1223,
    "start_time": "2023-05-04T19:26:16.157Z"
   },
   {
    "duration": 90,
    "start_time": "2023-05-04T19:26:17.382Z"
   },
   {
    "duration": 16,
    "start_time": "2023-05-04T19:26:17.474Z"
   },
   {
    "duration": 25,
    "start_time": "2023-05-04T19:26:17.494Z"
   },
   {
    "duration": 23,
    "start_time": "2023-05-04T19:26:17.521Z"
   },
   {
    "duration": 24,
    "start_time": "2023-05-04T19:26:17.546Z"
   },
   {
    "duration": 31,
    "start_time": "2023-05-04T19:26:17.573Z"
   },
   {
    "duration": 24,
    "start_time": "2023-05-04T19:26:17.606Z"
   },
   {
    "duration": 43,
    "start_time": "2023-05-04T19:26:17.631Z"
   },
   {
    "duration": 21,
    "start_time": "2023-05-04T19:26:17.677Z"
   },
   {
    "duration": 11,
    "start_time": "2023-05-04T19:26:17.700Z"
   },
   {
    "duration": 37,
    "start_time": "2023-05-04T19:26:17.713Z"
   },
   {
    "duration": 46,
    "start_time": "2023-05-04T19:26:17.753Z"
   },
   {
    "duration": 17,
    "start_time": "2023-05-04T19:26:17.805Z"
   },
   {
    "duration": 19,
    "start_time": "2023-05-04T19:26:17.823Z"
   },
   {
    "duration": 22,
    "start_time": "2023-05-04T19:26:17.844Z"
   },
   {
    "duration": 16,
    "start_time": "2023-05-04T19:26:17.867Z"
   },
   {
    "duration": 222,
    "start_time": "2023-05-04T19:26:17.885Z"
   },
   {
    "duration": 155,
    "start_time": "2023-05-04T19:26:18.109Z"
   },
   {
    "duration": 211,
    "start_time": "2023-05-04T19:26:18.266Z"
   },
   {
    "duration": 242,
    "start_time": "2023-05-04T19:26:18.479Z"
   },
   {
    "duration": 156,
    "start_time": "2023-05-04T19:26:18.724Z"
   },
   {
    "duration": 294,
    "start_time": "2023-05-04T19:26:18.882Z"
   },
   {
    "duration": 171,
    "start_time": "2023-05-04T19:26:19.181Z"
   },
   {
    "duration": 17,
    "start_time": "2023-05-04T19:26:19.354Z"
   },
   {
    "duration": 25,
    "start_time": "2023-05-04T19:26:19.372Z"
   },
   {
    "duration": 49,
    "start_time": "2023-05-04T19:26:19.399Z"
   },
   {
    "duration": 19,
    "start_time": "2023-05-04T19:26:19.453Z"
   },
   {
    "duration": 12,
    "start_time": "2023-05-04T19:26:19.474Z"
   },
   {
    "duration": 24,
    "start_time": "2023-05-04T19:26:19.488Z"
   },
   {
    "duration": 22,
    "start_time": "2023-05-04T19:26:19.533Z"
   },
   {
    "duration": 231,
    "start_time": "2023-05-04T19:26:19.557Z"
   },
   {
    "duration": 303,
    "start_time": "2023-05-04T19:26:19.790Z"
   },
   {
    "duration": 61,
    "start_time": "2023-05-04T19:26:20.095Z"
   },
   {
    "duration": 1903,
    "start_time": "2023-05-04T19:26:20.157Z"
   },
   {
    "duration": 14,
    "start_time": "2023-05-04T19:26:22.062Z"
   },
   {
    "duration": 12,
    "start_time": "2023-05-04T19:26:22.078Z"
   },
   {
    "duration": 19,
    "start_time": "2023-05-04T19:26:22.093Z"
   },
   {
    "duration": 25,
    "start_time": "2023-05-04T19:26:22.114Z"
   },
   {
    "duration": 12,
    "start_time": "2023-05-04T19:26:22.142Z"
   },
   {
    "duration": 242,
    "start_time": "2023-05-04T19:26:22.156Z"
   },
   {
    "duration": 44,
    "start_time": "2023-05-04T19:26:22.400Z"
   },
   {
    "duration": 16,
    "start_time": "2023-05-04T19:26:42.748Z"
   },
   {
    "duration": 28,
    "start_time": "2023-05-04T19:28:10.918Z"
   },
   {
    "duration": 32,
    "start_time": "2023-05-04T19:29:00.524Z"
   },
   {
    "duration": 32,
    "start_time": "2023-05-04T19:29:05.946Z"
   },
   {
    "duration": 5,
    "start_time": "2023-05-04T19:29:33.073Z"
   },
   {
    "duration": 6,
    "start_time": "2023-05-04T19:29:35.854Z"
   },
   {
    "duration": 16,
    "start_time": "2023-05-04T19:29:47.360Z"
   },
   {
    "duration": 6,
    "start_time": "2023-05-04T19:30:25.899Z"
   },
   {
    "duration": 11,
    "start_time": "2023-05-04T19:30:32.633Z"
   },
   {
    "duration": 7,
    "start_time": "2023-05-04T19:30:37.235Z"
   },
   {
    "duration": 9,
    "start_time": "2023-05-04T19:30:42.837Z"
   },
   {
    "duration": 31,
    "start_time": "2023-05-04T19:31:16.321Z"
   },
   {
    "duration": 130,
    "start_time": "2023-05-04T19:31:58.455Z"
   },
   {
    "duration": 8,
    "start_time": "2023-05-04T19:32:08.150Z"
   },
   {
    "duration": 6,
    "start_time": "2023-05-04T19:32:13.831Z"
   },
   {
    "duration": 8,
    "start_time": "2023-05-04T19:32:53.027Z"
   },
   {
    "duration": 8,
    "start_time": "2023-05-04T19:32:59.792Z"
   },
   {
    "duration": 38,
    "start_time": "2023-05-04T19:33:54.350Z"
   },
   {
    "duration": 89,
    "start_time": "2023-05-04T19:37:51.642Z"
   },
   {
    "duration": 201,
    "start_time": "2023-05-04T19:43:32.599Z"
   },
   {
    "duration": 188,
    "start_time": "2023-05-04T19:43:44.370Z"
   },
   {
    "duration": 104,
    "start_time": "2023-05-04T19:45:39.031Z"
   },
   {
    "duration": 174,
    "start_time": "2023-05-04T19:45:43.282Z"
   },
   {
    "duration": 232,
    "start_time": "2023-05-04T19:47:40.167Z"
   },
   {
    "duration": 73,
    "start_time": "2023-05-04T19:49:45.179Z"
   },
   {
    "duration": 30,
    "start_time": "2023-05-04T19:49:51.725Z"
   },
   {
    "duration": 15,
    "start_time": "2023-05-04T19:50:01.076Z"
   },
   {
    "duration": 234,
    "start_time": "2023-05-04T19:50:21.942Z"
   },
   {
    "duration": 11,
    "start_time": "2023-05-04T19:52:30.602Z"
   },
   {
    "duration": 214,
    "start_time": "2023-05-04T19:52:40.846Z"
   },
   {
    "duration": 222,
    "start_time": "2023-05-04T19:52:54.080Z"
   },
   {
    "duration": 226,
    "start_time": "2023-05-04T19:53:50.965Z"
   },
   {
    "duration": 228,
    "start_time": "2023-05-04T19:54:18.249Z"
   },
   {
    "duration": 318,
    "start_time": "2023-05-04T19:54:37.969Z"
   },
   {
    "duration": 218,
    "start_time": "2023-05-04T19:55:00.088Z"
   },
   {
    "duration": 260,
    "start_time": "2023-05-04T19:56:30.485Z"
   },
   {
    "duration": 206,
    "start_time": "2023-05-04T19:56:57.298Z"
   },
   {
    "duration": 240,
    "start_time": "2023-05-04T19:57:04.837Z"
   },
   {
    "duration": 226,
    "start_time": "2023-05-04T19:59:22.554Z"
   },
   {
    "duration": 13,
    "start_time": "2023-05-04T19:59:36.086Z"
   },
   {
    "duration": 221,
    "start_time": "2023-05-04T19:59:52.066Z"
   },
   {
    "duration": 227,
    "start_time": "2023-05-04T19:59:58.244Z"
   },
   {
    "duration": 280,
    "start_time": "2023-05-04T20:00:11.495Z"
   },
   {
    "duration": 271,
    "start_time": "2023-05-04T20:00:16.198Z"
   },
   {
    "duration": 123,
    "start_time": "2023-05-04T20:10:19.580Z"
   },
   {
    "duration": 2851,
    "start_time": "2023-05-04T20:10:32.658Z"
   },
   {
    "duration": 173,
    "start_time": "2023-05-04T20:11:02.047Z"
   },
   {
    "duration": 2502,
    "start_time": "2023-05-04T20:11:56.729Z"
   },
   {
    "duration": 2675,
    "start_time": "2023-05-04T20:12:10.494Z"
   },
   {
    "duration": 2581,
    "start_time": "2023-05-04T20:12:24.090Z"
   },
   {
    "duration": 135,
    "start_time": "2023-05-04T20:12:49.982Z"
   },
   {
    "duration": 19,
    "start_time": "2023-05-04T20:14:58.850Z"
   },
   {
    "duration": 9,
    "start_time": "2023-05-04T20:15:04.784Z"
   },
   {
    "duration": 11,
    "start_time": "2023-05-04T20:15:29.913Z"
   },
   {
    "duration": 127,
    "start_time": "2023-05-04T20:16:47.332Z"
   },
   {
    "duration": 1177,
    "start_time": "2023-05-04T20:18:33.234Z"
   },
   {
    "duration": 340,
    "start_time": "2023-05-04T20:18:34.414Z"
   },
   {
    "duration": 13,
    "start_time": "2023-05-04T20:18:34.756Z"
   },
   {
    "duration": 14,
    "start_time": "2023-05-04T20:18:34.770Z"
   },
   {
    "duration": 10,
    "start_time": "2023-05-04T20:18:34.786Z"
   },
   {
    "duration": 13,
    "start_time": "2023-05-04T20:18:34.798Z"
   },
   {
    "duration": 7,
    "start_time": "2023-05-04T20:18:34.813Z"
   },
   {
    "duration": 19,
    "start_time": "2023-05-04T20:18:34.822Z"
   },
   {
    "duration": 8,
    "start_time": "2023-05-04T20:18:34.843Z"
   },
   {
    "duration": 9,
    "start_time": "2023-05-04T20:18:34.852Z"
   },
   {
    "duration": 8,
    "start_time": "2023-05-04T20:18:34.863Z"
   },
   {
    "duration": 15,
    "start_time": "2023-05-04T20:18:34.873Z"
   },
   {
    "duration": 45,
    "start_time": "2023-05-04T20:18:34.890Z"
   },
   {
    "duration": 8,
    "start_time": "2023-05-04T20:18:34.939Z"
   },
   {
    "duration": 5,
    "start_time": "2023-05-04T20:18:34.949Z"
   },
   {
    "duration": 7,
    "start_time": "2023-05-04T20:18:34.956Z"
   },
   {
    "duration": 9,
    "start_time": "2023-05-04T20:18:34.965Z"
   },
   {
    "duration": 260,
    "start_time": "2023-05-04T20:18:34.976Z"
   },
   {
    "duration": 231,
    "start_time": "2023-05-04T20:18:35.238Z"
   },
   {
    "duration": 0,
    "start_time": "2023-05-04T20:18:35.471Z"
   },
   {
    "duration": 1,
    "start_time": "2023-05-04T20:18:35.472Z"
   },
   {
    "duration": 0,
    "start_time": "2023-05-04T20:18:35.473Z"
   },
   {
    "duration": 0,
    "start_time": "2023-05-04T20:18:35.474Z"
   },
   {
    "duration": 0,
    "start_time": "2023-05-04T20:18:35.475Z"
   },
   {
    "duration": 0,
    "start_time": "2023-05-04T20:18:35.476Z"
   },
   {
    "duration": 0,
    "start_time": "2023-05-04T20:18:35.477Z"
   },
   {
    "duration": 0,
    "start_time": "2023-05-04T20:18:35.478Z"
   },
   {
    "duration": 0,
    "start_time": "2023-05-04T20:18:35.480Z"
   },
   {
    "duration": 0,
    "start_time": "2023-05-04T20:18:35.481Z"
   },
   {
    "duration": 0,
    "start_time": "2023-05-04T20:18:35.483Z"
   },
   {
    "duration": 0,
    "start_time": "2023-05-04T20:18:35.484Z"
   },
   {
    "duration": 0,
    "start_time": "2023-05-04T20:18:35.486Z"
   },
   {
    "duration": 0,
    "start_time": "2023-05-04T20:18:35.488Z"
   },
   {
    "duration": 0,
    "start_time": "2023-05-04T20:18:35.489Z"
   },
   {
    "duration": 0,
    "start_time": "2023-05-04T20:18:35.491Z"
   },
   {
    "duration": 0,
    "start_time": "2023-05-04T20:18:35.493Z"
   },
   {
    "duration": 0,
    "start_time": "2023-05-04T20:18:35.494Z"
   },
   {
    "duration": 0,
    "start_time": "2023-05-04T20:18:35.495Z"
   },
   {
    "duration": 0,
    "start_time": "2023-05-04T20:18:35.496Z"
   },
   {
    "duration": 0,
    "start_time": "2023-05-04T20:18:35.533Z"
   },
   {
    "duration": 0,
    "start_time": "2023-05-04T20:18:35.535Z"
   },
   {
    "duration": 0,
    "start_time": "2023-05-04T20:18:35.536Z"
   },
   {
    "duration": 112,
    "start_time": "2023-05-04T20:19:01.270Z"
   },
   {
    "duration": 12,
    "start_time": "2023-05-04T20:19:07.853Z"
   },
   {
    "duration": 118,
    "start_time": "2023-05-04T20:19:13.166Z"
   },
   {
    "duration": 107,
    "start_time": "2023-05-04T20:22:27.521Z"
   },
   {
    "duration": 5,
    "start_time": "2023-05-04T20:22:47.435Z"
   },
   {
    "duration": 5,
    "start_time": "2023-05-04T20:22:50.883Z"
   },
   {
    "duration": 7,
    "start_time": "2023-05-04T20:22:57.221Z"
   },
   {
    "duration": 12,
    "start_time": "2023-05-04T20:23:02.934Z"
   },
   {
    "duration": 114,
    "start_time": "2023-05-04T20:23:22.983Z"
   },
   {
    "duration": 18,
    "start_time": "2023-05-04T20:25:16.121Z"
   },
   {
    "duration": 1174,
    "start_time": "2023-05-04T20:27:34.311Z"
   },
   {
    "duration": 1436,
    "start_time": "2023-05-04T20:27:57.080Z"
   },
   {
    "duration": 16,
    "start_time": "2023-05-04T20:28:23.184Z"
   },
   {
    "duration": 1313,
    "start_time": "2023-05-04T20:30:24.449Z"
   },
   {
    "duration": 1276,
    "start_time": "2023-05-04T20:30:36.129Z"
   },
   {
    "duration": 297,
    "start_time": "2023-05-04T20:31:40.655Z"
   },
   {
    "duration": 11,
    "start_time": "2023-05-04T20:35:47.263Z"
   },
   {
    "duration": 310,
    "start_time": "2023-05-04T20:35:53.199Z"
   },
   {
    "duration": 13,
    "start_time": "2023-05-04T20:38:47.161Z"
   },
   {
    "duration": 12,
    "start_time": "2023-05-04T20:38:53.333Z"
   },
   {
    "duration": 104,
    "start_time": "2023-05-04T20:39:10.368Z"
   },
   {
    "duration": 1053,
    "start_time": "2023-05-04T20:39:25.072Z"
   },
   {
    "duration": 71,
    "start_time": "2023-05-04T20:39:26.127Z"
   },
   {
    "duration": 13,
    "start_time": "2023-05-04T20:39:26.200Z"
   },
   {
    "duration": 14,
    "start_time": "2023-05-04T20:39:26.215Z"
   },
   {
    "duration": 14,
    "start_time": "2023-05-04T20:39:26.231Z"
   },
   {
    "duration": 16,
    "start_time": "2023-05-04T20:39:26.246Z"
   },
   {
    "duration": 6,
    "start_time": "2023-05-04T20:39:26.263Z"
   },
   {
    "duration": 12,
    "start_time": "2023-05-04T20:39:26.271Z"
   },
   {
    "duration": 15,
    "start_time": "2023-05-04T20:39:26.284Z"
   },
   {
    "duration": 13,
    "start_time": "2023-05-04T20:39:26.302Z"
   },
   {
    "duration": 5,
    "start_time": "2023-05-04T20:39:26.317Z"
   },
   {
    "duration": 15,
    "start_time": "2023-05-04T20:39:26.323Z"
   },
   {
    "duration": 14,
    "start_time": "2023-05-04T20:39:26.340Z"
   },
   {
    "duration": 7,
    "start_time": "2023-05-04T20:39:26.356Z"
   },
   {
    "duration": 6,
    "start_time": "2023-05-04T20:39:26.364Z"
   },
   {
    "duration": 6,
    "start_time": "2023-05-04T20:39:26.371Z"
   },
   {
    "duration": 14,
    "start_time": "2023-05-04T20:39:26.378Z"
   },
   {
    "duration": 242,
    "start_time": "2023-05-04T20:39:26.394Z"
   },
   {
    "duration": 154,
    "start_time": "2023-05-04T20:39:26.637Z"
   },
   {
    "duration": 192,
    "start_time": "2023-05-04T20:39:26.793Z"
   },
   {
    "duration": 196,
    "start_time": "2023-05-04T20:39:26.988Z"
   },
   {
    "duration": 123,
    "start_time": "2023-05-04T20:39:27.186Z"
   },
   {
    "duration": 260,
    "start_time": "2023-05-04T20:39:27.311Z"
   },
   {
    "duration": 118,
    "start_time": "2023-05-04T20:39:27.573Z"
   },
   {
    "duration": 8,
    "start_time": "2023-05-04T20:39:27.693Z"
   },
   {
    "duration": 33,
    "start_time": "2023-05-04T20:39:27.703Z"
   },
   {
    "duration": 12,
    "start_time": "2023-05-04T20:39:27.738Z"
   },
   {
    "duration": 15,
    "start_time": "2023-05-04T20:39:27.753Z"
   },
   {
    "duration": 10,
    "start_time": "2023-05-04T20:39:27.770Z"
   },
   {
    "duration": 13,
    "start_time": "2023-05-04T20:39:27.781Z"
   },
   {
    "duration": 44,
    "start_time": "2023-05-04T20:39:27.796Z"
   },
   {
    "duration": 188,
    "start_time": "2023-05-04T20:39:27.841Z"
   },
   {
    "duration": 233,
    "start_time": "2023-05-04T20:39:28.031Z"
   },
   {
    "duration": 42,
    "start_time": "2023-05-04T20:39:28.266Z"
   },
   {
    "duration": 1633,
    "start_time": "2023-05-04T20:39:28.309Z"
   },
   {
    "duration": 12,
    "start_time": "2023-05-04T20:39:29.943Z"
   },
   {
    "duration": 6,
    "start_time": "2023-05-04T20:39:29.957Z"
   },
   {
    "duration": 9,
    "start_time": "2023-05-04T20:39:29.964Z"
   },
   {
    "duration": 5,
    "start_time": "2023-05-04T20:39:29.974Z"
   },
   {
    "duration": 53,
    "start_time": "2023-05-04T20:39:29.980Z"
   },
   {
    "duration": 309,
    "start_time": "2023-05-04T20:39:30.035Z"
   },
   {
    "duration": 25,
    "start_time": "2023-05-04T20:39:30.346Z"
   },
   {
    "duration": 97,
    "start_time": "2023-05-04T20:44:45.352Z"
   },
   {
    "duration": 8,
    "start_time": "2023-05-04T20:44:49.706Z"
   },
   {
    "duration": 99,
    "start_time": "2023-05-04T20:45:50.998Z"
   },
   {
    "duration": 8,
    "start_time": "2023-05-04T20:45:54.449Z"
   },
   {
    "duration": 8,
    "start_time": "2023-05-04T20:46:08.415Z"
   },
   {
    "duration": 73,
    "start_time": "2023-05-04T20:47:30.650Z"
   },
   {
    "duration": 824,
    "start_time": "2023-05-04T20:48:31.750Z"
   },
   {
    "duration": 129,
    "start_time": "2023-05-04T20:54:18.758Z"
   },
   {
    "duration": 127,
    "start_time": "2023-05-04T20:54:23.656Z"
   },
   {
    "duration": 140,
    "start_time": "2023-05-04T20:54:53.694Z"
   },
   {
    "duration": 11,
    "start_time": "2023-05-04T20:57:30.375Z"
   },
   {
    "duration": 649,
    "start_time": "2023-05-04T20:58:12.907Z"
   },
   {
    "duration": 122,
    "start_time": "2023-05-04T21:09:42.851Z"
   },
   {
    "duration": 136,
    "start_time": "2023-05-04T21:09:48.748Z"
   },
   {
    "duration": 127,
    "start_time": "2023-05-04T21:09:53.107Z"
   },
   {
    "duration": 299,
    "start_time": "2023-05-04T21:11:02.522Z"
   },
   {
    "duration": 256,
    "start_time": "2023-05-04T21:11:15.402Z"
   },
   {
    "duration": 288,
    "start_time": "2023-05-04T21:11:31.059Z"
   },
   {
    "duration": 264,
    "start_time": "2023-05-04T21:12:39.163Z"
   },
   {
    "duration": 231,
    "start_time": "2023-05-04T21:15:00.924Z"
   },
   {
    "duration": 129,
    "start_time": "2023-05-04T21:15:21.099Z"
   },
   {
    "duration": 126,
    "start_time": "2023-05-04T21:15:43.640Z"
   },
   {
    "duration": 236,
    "start_time": "2023-05-04T21:17:03.081Z"
   },
   {
    "duration": 156,
    "start_time": "2023-05-04T21:17:31.883Z"
   },
   {
    "duration": 125,
    "start_time": "2023-05-04T21:18:06.049Z"
   },
   {
    "duration": 121,
    "start_time": "2023-05-04T21:19:15.239Z"
   },
   {
    "duration": 278,
    "start_time": "2023-05-04T21:19:30.949Z"
   },
   {
    "duration": 18,
    "start_time": "2023-05-04T21:26:43.498Z"
   },
   {
    "duration": 140,
    "start_time": "2023-05-04T21:27:33.440Z"
   },
   {
    "duration": 225,
    "start_time": "2023-05-04T21:28:19.065Z"
   },
   {
    "duration": 290,
    "start_time": "2023-05-04T21:28:30.900Z"
   },
   {
    "duration": 295,
    "start_time": "2023-05-04T21:31:19.556Z"
   },
   {
    "duration": 205,
    "start_time": "2023-05-04T21:32:48.052Z"
   },
   {
    "duration": 85,
    "start_time": "2023-05-04T21:34:06.454Z"
   },
   {
    "duration": 73,
    "start_time": "2023-05-04T21:34:16.645Z"
   },
   {
    "duration": 221,
    "start_time": "2023-05-04T21:34:22.580Z"
   },
   {
    "duration": 246,
    "start_time": "2023-05-04T21:35:11.295Z"
   },
   {
    "duration": 383,
    "start_time": "2023-05-04T21:35:45.498Z"
   },
   {
    "duration": 233,
    "start_time": "2023-05-04T21:35:49.162Z"
   },
   {
    "duration": 234,
    "start_time": "2023-05-04T21:35:56.885Z"
   },
   {
    "duration": 383,
    "start_time": "2023-05-04T21:37:39.780Z"
   },
   {
    "duration": 414,
    "start_time": "2023-05-04T21:38:16.024Z"
   },
   {
    "duration": 284,
    "start_time": "2023-05-04T21:39:14.591Z"
   },
   {
    "duration": 441,
    "start_time": "2023-05-04T21:39:25.426Z"
   },
   {
    "duration": 273,
    "start_time": "2023-05-04T21:39:35.018Z"
   },
   {
    "duration": 272,
    "start_time": "2023-05-04T21:40:52.695Z"
   },
   {
    "duration": 281,
    "start_time": "2023-05-04T21:40:58.466Z"
   },
   {
    "duration": 279,
    "start_time": "2023-05-04T21:43:32.422Z"
   },
   {
    "duration": 1319,
    "start_time": "2023-05-04T21:52:52.922Z"
   },
   {
    "duration": 75,
    "start_time": "2023-05-04T21:52:54.243Z"
   },
   {
    "duration": 15,
    "start_time": "2023-05-04T21:52:54.320Z"
   },
   {
    "duration": 13,
    "start_time": "2023-05-04T21:52:54.338Z"
   },
   {
    "duration": 28,
    "start_time": "2023-05-04T21:52:54.353Z"
   },
   {
    "duration": 27,
    "start_time": "2023-05-04T21:52:54.383Z"
   },
   {
    "duration": 16,
    "start_time": "2023-05-04T21:52:54.411Z"
   },
   {
    "duration": 16,
    "start_time": "2023-05-04T21:52:54.429Z"
   },
   {
    "duration": 26,
    "start_time": "2023-05-04T21:52:54.447Z"
   },
   {
    "duration": 27,
    "start_time": "2023-05-04T21:52:54.476Z"
   },
   {
    "duration": 16,
    "start_time": "2023-05-04T21:52:54.505Z"
   },
   {
    "duration": 32,
    "start_time": "2023-05-04T21:52:54.522Z"
   },
   {
    "duration": 18,
    "start_time": "2023-05-04T21:52:54.556Z"
   },
   {
    "duration": 9,
    "start_time": "2023-05-04T21:52:54.576Z"
   },
   {
    "duration": 18,
    "start_time": "2023-05-04T21:52:54.586Z"
   },
   {
    "duration": 18,
    "start_time": "2023-05-04T21:52:54.606Z"
   },
   {
    "duration": 23,
    "start_time": "2023-05-04T21:52:54.626Z"
   },
   {
    "duration": 259,
    "start_time": "2023-05-04T21:52:54.651Z"
   },
   {
    "duration": 141,
    "start_time": "2023-05-04T21:52:54.912Z"
   },
   {
    "duration": 193,
    "start_time": "2023-05-04T21:52:55.054Z"
   },
   {
    "duration": 233,
    "start_time": "2023-05-04T21:52:55.249Z"
   },
   {
    "duration": 150,
    "start_time": "2023-05-04T21:52:55.485Z"
   },
   {
    "duration": 300,
    "start_time": "2023-05-04T21:52:55.637Z"
   },
   {
    "duration": 153,
    "start_time": "2023-05-04T21:52:55.939Z"
   },
   {
    "duration": 11,
    "start_time": "2023-05-04T21:52:56.093Z"
   },
   {
    "duration": 44,
    "start_time": "2023-05-04T21:52:56.106Z"
   },
   {
    "duration": 16,
    "start_time": "2023-05-04T21:52:56.151Z"
   },
   {
    "duration": 10,
    "start_time": "2023-05-04T21:52:56.171Z"
   },
   {
    "duration": 20,
    "start_time": "2023-05-04T21:52:56.183Z"
   },
   {
    "duration": 14,
    "start_time": "2023-05-04T21:52:56.234Z"
   },
   {
    "duration": 9,
    "start_time": "2023-05-04T21:52:56.250Z"
   },
   {
    "duration": 19,
    "start_time": "2023-05-04T21:52:56.260Z"
   },
   {
    "duration": 15,
    "start_time": "2023-05-04T21:52:56.281Z"
   },
   {
    "duration": 41,
    "start_time": "2023-05-04T21:52:56.298Z"
   },
   {
    "duration": 422,
    "start_time": "2023-05-04T21:52:56.341Z"
   },
   {
    "duration": 306,
    "start_time": "2023-05-04T21:52:56.766Z"
   },
   {
    "duration": 61,
    "start_time": "2023-05-04T21:52:57.074Z"
   },
   {
    "duration": 1766,
    "start_time": "2023-05-04T21:52:57.137Z"
   },
   {
    "duration": 15,
    "start_time": "2023-05-04T21:52:58.904Z"
   },
   {
    "duration": 19,
    "start_time": "2023-05-04T21:52:58.921Z"
   },
   {
    "duration": 10,
    "start_time": "2023-05-04T21:52:58.942Z"
   },
   {
    "duration": 10,
    "start_time": "2023-05-04T21:52:58.954Z"
   },
   {
    "duration": 10,
    "start_time": "2023-05-04T21:52:58.966Z"
   },
   {
    "duration": 304,
    "start_time": "2023-05-04T21:52:58.977Z"
   },
   {
    "duration": 31,
    "start_time": "2023-05-04T21:52:59.282Z"
   },
   {
    "duration": 6,
    "start_time": "2023-05-04T22:00:09.982Z"
   },
   {
    "duration": 26,
    "start_time": "2023-05-04T22:00:14.968Z"
   },
   {
    "duration": 1710,
    "start_time": "2023-05-04T22:01:03.779Z"
   },
   {
    "duration": 1749,
    "start_time": "2023-05-04T22:01:21.633Z"
   },
   {
    "duration": 103,
    "start_time": "2023-05-04T22:07:45.223Z"
   },
   {
    "duration": 41,
    "start_time": "2023-05-04T22:09:48.268Z"
   },
   {
    "duration": 1141,
    "start_time": "2023-05-04T22:15:29.189Z"
   },
   {
    "duration": 74,
    "start_time": "2023-05-04T22:15:30.333Z"
   },
   {
    "duration": 13,
    "start_time": "2023-05-04T22:15:30.409Z"
   },
   {
    "duration": 64,
    "start_time": "2023-05-04T22:15:30.425Z"
   },
   {
    "duration": 70,
    "start_time": "2023-05-04T22:15:30.491Z"
   },
   {
    "duration": 80,
    "start_time": "2023-05-04T22:15:30.562Z"
   },
   {
    "duration": 43,
    "start_time": "2023-05-04T22:15:30.644Z"
   },
   {
    "duration": 43,
    "start_time": "2023-05-04T22:15:30.689Z"
   },
   {
    "duration": 38,
    "start_time": "2023-05-04T22:15:30.734Z"
   },
   {
    "duration": 39,
    "start_time": "2023-05-04T22:15:30.775Z"
   },
   {
    "duration": 33,
    "start_time": "2023-05-04T22:15:30.815Z"
   },
   {
    "duration": 42,
    "start_time": "2023-05-04T22:15:30.850Z"
   },
   {
    "duration": 64,
    "start_time": "2023-05-04T22:15:30.894Z"
   },
   {
    "duration": 34,
    "start_time": "2023-05-04T22:15:30.960Z"
   },
   {
    "duration": 36,
    "start_time": "2023-05-04T22:15:30.996Z"
   },
   {
    "duration": 31,
    "start_time": "2023-05-04T22:15:31.034Z"
   },
   {
    "duration": 28,
    "start_time": "2023-05-04T22:15:31.067Z"
   },
   {
    "duration": 278,
    "start_time": "2023-05-04T22:15:31.097Z"
   },
   {
    "duration": 135,
    "start_time": "2023-05-04T22:15:31.377Z"
   },
   {
    "duration": 192,
    "start_time": "2023-05-04T22:15:31.514Z"
   },
   {
    "duration": 229,
    "start_time": "2023-05-04T22:15:31.709Z"
   },
   {
    "duration": 142,
    "start_time": "2023-05-04T22:15:31.940Z"
   },
   {
    "duration": 286,
    "start_time": "2023-05-04T22:15:32.084Z"
   },
   {
    "duration": 148,
    "start_time": "2023-05-04T22:15:32.372Z"
   },
   {
    "duration": 19,
    "start_time": "2023-05-04T22:15:32.522Z"
   },
   {
    "duration": 62,
    "start_time": "2023-05-04T22:15:32.543Z"
   },
   {
    "duration": 17,
    "start_time": "2023-05-04T22:15:32.607Z"
   },
   {
    "duration": 22,
    "start_time": "2023-05-04T22:15:32.627Z"
   },
   {
    "duration": 37,
    "start_time": "2023-05-04T22:15:32.650Z"
   },
   {
    "duration": 19,
    "start_time": "2023-05-04T22:15:32.689Z"
   },
   {
    "duration": 18,
    "start_time": "2023-05-04T22:15:32.710Z"
   },
   {
    "duration": 32,
    "start_time": "2023-05-04T22:15:32.730Z"
   },
   {
    "duration": 13,
    "start_time": "2023-05-04T22:15:32.764Z"
   },
   {
    "duration": 16,
    "start_time": "2023-05-04T22:15:32.778Z"
   },
   {
    "duration": 369,
    "start_time": "2023-05-04T22:15:32.796Z"
   },
   {
    "duration": 300,
    "start_time": "2023-05-04T22:15:33.167Z"
   },
   {
    "duration": 49,
    "start_time": "2023-05-04T22:15:33.468Z"
   },
   {
    "duration": 1769,
    "start_time": "2023-05-04T22:15:33.518Z"
   },
   {
    "duration": 16,
    "start_time": "2023-05-04T22:15:35.289Z"
   },
   {
    "duration": 30,
    "start_time": "2023-05-04T22:15:35.307Z"
   },
   {
    "duration": 21,
    "start_time": "2023-05-04T22:15:35.339Z"
   },
   {
    "duration": 38,
    "start_time": "2023-05-04T22:15:35.362Z"
   },
   {
    "duration": 21,
    "start_time": "2023-05-04T22:15:35.403Z"
   },
   {
    "duration": 249,
    "start_time": "2023-05-04T22:15:35.426Z"
   },
   {
    "duration": 28,
    "start_time": "2023-05-04T22:15:35.677Z"
   },
   {
    "duration": 28,
    "start_time": "2023-05-04T22:16:51.569Z"
   },
   {
    "duration": 198,
    "start_time": "2023-05-04T22:26:23.806Z"
   },
   {
    "duration": 127,
    "start_time": "2023-05-04T22:26:39.445Z"
   },
   {
    "duration": 115,
    "start_time": "2023-05-04T22:26:45.308Z"
   },
   {
    "duration": 125,
    "start_time": "2023-05-04T22:26:53.032Z"
   },
   {
    "duration": 137,
    "start_time": "2023-05-04T22:27:57.622Z"
   },
   {
    "duration": 152,
    "start_time": "2023-05-04T22:28:03.973Z"
   },
   {
    "duration": 111,
    "start_time": "2023-05-04T22:29:15.587Z"
   },
   {
    "duration": 110,
    "start_time": "2023-05-04T22:29:31.106Z"
   },
   {
    "duration": 185,
    "start_time": "2023-05-04T22:30:41.616Z"
   },
   {
    "duration": 127,
    "start_time": "2023-05-04T22:30:57.477Z"
   },
   {
    "duration": 106,
    "start_time": "2023-05-04T22:31:09.399Z"
   },
   {
    "duration": 73,
    "start_time": "2023-05-04T22:32:07.782Z"
   },
   {
    "duration": 66,
    "start_time": "2023-05-04T22:32:24.922Z"
   },
   {
    "duration": 67,
    "start_time": "2023-05-04T22:32:30.224Z"
   },
   {
    "duration": 65,
    "start_time": "2023-05-04T22:33:20.649Z"
   },
   {
    "duration": 97,
    "start_time": "2023-05-04T22:34:56.477Z"
   },
   {
    "duration": 67,
    "start_time": "2023-05-04T22:35:05.516Z"
   },
   {
    "duration": 1161,
    "start_time": "2023-05-04T22:36:14.379Z"
   },
   {
    "duration": 73,
    "start_time": "2023-05-04T22:36:15.542Z"
   },
   {
    "duration": 12,
    "start_time": "2023-05-04T22:36:15.616Z"
   },
   {
    "duration": 14,
    "start_time": "2023-05-04T22:36:15.630Z"
   },
   {
    "duration": 16,
    "start_time": "2023-05-04T22:36:15.645Z"
   },
   {
    "duration": 25,
    "start_time": "2023-05-04T22:36:15.662Z"
   },
   {
    "duration": 8,
    "start_time": "2023-05-04T22:36:15.689Z"
   },
   {
    "duration": 19,
    "start_time": "2023-05-04T22:36:15.699Z"
   },
   {
    "duration": 15,
    "start_time": "2023-05-04T22:36:15.720Z"
   },
   {
    "duration": 10,
    "start_time": "2023-05-04T22:36:15.737Z"
   },
   {
    "duration": 20,
    "start_time": "2023-05-04T22:36:15.748Z"
   },
   {
    "duration": 18,
    "start_time": "2023-05-04T22:36:15.770Z"
   },
   {
    "duration": 16,
    "start_time": "2023-05-04T22:36:15.790Z"
   },
   {
    "duration": 7,
    "start_time": "2023-05-04T22:36:15.807Z"
   },
   {
    "duration": 21,
    "start_time": "2023-05-04T22:36:15.815Z"
   },
   {
    "duration": 6,
    "start_time": "2023-05-04T22:36:15.838Z"
   },
   {
    "duration": 17,
    "start_time": "2023-05-04T22:36:15.845Z"
   },
   {
    "duration": 257,
    "start_time": "2023-05-04T22:36:15.863Z"
   },
   {
    "duration": 86,
    "start_time": "2023-05-04T22:36:16.122Z"
   },
   {
    "duration": 217,
    "start_time": "2023-05-04T22:36:16.211Z"
   },
   {
    "duration": 217,
    "start_time": "2023-05-04T22:36:16.434Z"
   },
   {
    "duration": 146,
    "start_time": "2023-05-04T22:36:16.653Z"
   },
   {
    "duration": 241,
    "start_time": "2023-05-04T22:36:16.800Z"
   },
   {
    "duration": 119,
    "start_time": "2023-05-04T22:36:17.043Z"
   },
   {
    "duration": 8,
    "start_time": "2023-05-04T22:36:17.163Z"
   },
   {
    "duration": 37,
    "start_time": "2023-05-04T22:36:17.173Z"
   },
   {
    "duration": 13,
    "start_time": "2023-05-04T22:36:17.212Z"
   },
   {
    "duration": 13,
    "start_time": "2023-05-04T22:36:17.233Z"
   },
   {
    "duration": 38,
    "start_time": "2023-05-04T22:36:17.247Z"
   },
   {
    "duration": 10,
    "start_time": "2023-05-04T22:36:17.287Z"
   },
   {
    "duration": 6,
    "start_time": "2023-05-04T22:36:17.299Z"
   },
   {
    "duration": 18,
    "start_time": "2023-05-04T22:36:17.306Z"
   },
   {
    "duration": 11,
    "start_time": "2023-05-04T22:36:17.325Z"
   },
   {
    "duration": 6,
    "start_time": "2023-05-04T22:36:17.337Z"
   },
   {
    "duration": 307,
    "start_time": "2023-05-04T22:36:17.345Z"
   },
   {
    "duration": 218,
    "start_time": "2023-05-04T22:36:17.653Z"
   },
   {
    "duration": 43,
    "start_time": "2023-05-04T22:36:17.872Z"
   },
   {
    "duration": 1536,
    "start_time": "2023-05-04T22:36:17.917Z"
   },
   {
    "duration": 14,
    "start_time": "2023-05-04T22:36:19.455Z"
   },
   {
    "duration": 8,
    "start_time": "2023-05-04T22:36:19.470Z"
   },
   {
    "duration": 12,
    "start_time": "2023-05-04T22:36:19.480Z"
   },
   {
    "duration": 7,
    "start_time": "2023-05-04T22:36:19.494Z"
   },
   {
    "duration": 30,
    "start_time": "2023-05-04T22:36:19.502Z"
   },
   {
    "duration": 248,
    "start_time": "2023-05-04T22:36:19.534Z"
   },
   {
    "duration": 23,
    "start_time": "2023-05-04T22:36:19.784Z"
   },
   {
    "duration": 1130,
    "start_time": "2023-05-05T07:57:17.908Z"
   },
   {
    "duration": 57,
    "start_time": "2023-05-05T07:57:19.040Z"
   },
   {
    "duration": 12,
    "start_time": "2023-05-05T07:57:19.098Z"
   },
   {
    "duration": 10,
    "start_time": "2023-05-05T07:57:19.112Z"
   },
   {
    "duration": 14,
    "start_time": "2023-05-05T07:57:19.123Z"
   },
   {
    "duration": 12,
    "start_time": "2023-05-05T07:57:19.138Z"
   },
   {
    "duration": 6,
    "start_time": "2023-05-05T07:57:19.151Z"
   },
   {
    "duration": 16,
    "start_time": "2023-05-05T07:57:19.158Z"
   },
   {
    "duration": 32,
    "start_time": "2023-05-05T07:57:19.175Z"
   },
   {
    "duration": 7,
    "start_time": "2023-05-05T07:57:19.209Z"
   },
   {
    "duration": 7,
    "start_time": "2023-05-05T07:57:19.217Z"
   },
   {
    "duration": 17,
    "start_time": "2023-05-05T07:57:19.225Z"
   },
   {
    "duration": 15,
    "start_time": "2023-05-05T07:57:19.244Z"
   },
   {
    "duration": 7,
    "start_time": "2023-05-05T07:57:19.261Z"
   },
   {
    "duration": 17,
    "start_time": "2023-05-05T07:57:19.269Z"
   },
   {
    "duration": 5,
    "start_time": "2023-05-05T07:57:19.287Z"
   },
   {
    "duration": 22,
    "start_time": "2023-05-05T07:57:19.293Z"
   },
   {
    "duration": 226,
    "start_time": "2023-05-05T07:57:19.316Z"
   },
   {
    "duration": 84,
    "start_time": "2023-05-05T07:57:19.544Z"
   },
   {
    "duration": 163,
    "start_time": "2023-05-05T07:57:19.630Z"
   },
   {
    "duration": 198,
    "start_time": "2023-05-05T07:57:19.795Z"
   },
   {
    "duration": 129,
    "start_time": "2023-05-05T07:57:19.994Z"
   },
   {
    "duration": 257,
    "start_time": "2023-05-05T07:57:20.124Z"
   },
   {
    "duration": 131,
    "start_time": "2023-05-05T07:57:20.385Z"
   },
   {
    "duration": 9,
    "start_time": "2023-05-05T07:57:20.518Z"
   },
   {
    "duration": 67,
    "start_time": "2023-05-05T07:57:20.528Z"
   },
   {
    "duration": 13,
    "start_time": "2023-05-05T07:57:20.596Z"
   },
   {
    "duration": 8,
    "start_time": "2023-05-05T07:57:20.613Z"
   },
   {
    "duration": 23,
    "start_time": "2023-05-05T07:57:20.623Z"
   },
   {
    "duration": 10,
    "start_time": "2023-05-05T07:57:20.648Z"
   },
   {
    "duration": 10,
    "start_time": "2023-05-05T07:57:20.660Z"
   },
   {
    "duration": 24,
    "start_time": "2023-05-05T07:57:20.685Z"
   },
   {
    "duration": 15,
    "start_time": "2023-05-05T07:57:20.711Z"
   },
   {
    "duration": 19,
    "start_time": "2023-05-05T07:57:20.728Z"
   },
   {
    "duration": 341,
    "start_time": "2023-05-05T07:57:20.749Z"
   },
   {
    "duration": 248,
    "start_time": "2023-05-05T07:57:21.092Z"
   },
   {
    "duration": 56,
    "start_time": "2023-05-05T07:57:21.342Z"
   },
   {
    "duration": 1591,
    "start_time": "2023-05-05T07:57:21.400Z"
   },
   {
    "duration": 14,
    "start_time": "2023-05-05T07:57:22.993Z"
   },
   {
    "duration": 7,
    "start_time": "2023-05-05T07:57:23.008Z"
   },
   {
    "duration": 7,
    "start_time": "2023-05-05T07:57:23.017Z"
   },
   {
    "duration": 6,
    "start_time": "2023-05-05T07:57:23.025Z"
   },
   {
    "duration": 5,
    "start_time": "2023-05-05T07:57:23.032Z"
   },
   {
    "duration": 277,
    "start_time": "2023-05-05T07:57:23.038Z"
   },
   {
    "duration": 22,
    "start_time": "2023-05-05T07:57:23.316Z"
   },
   {
    "duration": 112,
    "start_time": "2023-05-05T08:00:28.663Z"
   },
   {
    "duration": 148,
    "start_time": "2023-05-05T08:00:40.349Z"
   },
   {
    "duration": 153,
    "start_time": "2023-05-05T08:00:45.491Z"
   },
   {
    "duration": 59,
    "start_time": "2023-05-05T08:21:37.153Z"
   },
   {
    "duration": 1286,
    "start_time": "2023-05-05T08:21:48.470Z"
   },
   {
    "duration": 195,
    "start_time": "2023-05-05T08:21:49.758Z"
   },
   {
    "duration": 13,
    "start_time": "2023-05-05T08:21:49.955Z"
   },
   {
    "duration": 14,
    "start_time": "2023-05-05T08:21:49.970Z"
   },
   {
    "duration": 22,
    "start_time": "2023-05-05T08:21:49.985Z"
   },
   {
    "duration": 20,
    "start_time": "2023-05-05T08:21:50.009Z"
   },
   {
    "duration": 12,
    "start_time": "2023-05-05T08:21:50.031Z"
   },
   {
    "duration": 29,
    "start_time": "2023-05-05T08:21:50.045Z"
   },
   {
    "duration": 31,
    "start_time": "2023-05-05T08:21:50.076Z"
   },
   {
    "duration": 15,
    "start_time": "2023-05-05T08:21:50.110Z"
   },
   {
    "duration": 8,
    "start_time": "2023-05-05T08:21:50.127Z"
   },
   {
    "duration": 17,
    "start_time": "2023-05-05T08:21:50.137Z"
   },
   {
    "duration": 19,
    "start_time": "2023-05-05T08:21:50.156Z"
   },
   {
    "duration": 10,
    "start_time": "2023-05-05T08:21:50.176Z"
   },
   {
    "duration": 6,
    "start_time": "2023-05-05T08:21:50.188Z"
   },
   {
    "duration": 13,
    "start_time": "2023-05-05T08:21:50.196Z"
   },
   {
    "duration": 9,
    "start_time": "2023-05-05T08:21:50.210Z"
   },
   {
    "duration": 265,
    "start_time": "2023-05-05T08:21:50.221Z"
   },
   {
    "duration": 164,
    "start_time": "2023-05-05T08:21:50.488Z"
   },
   {
    "duration": 83,
    "start_time": "2023-05-05T08:21:50.654Z"
   },
   {
    "duration": 178,
    "start_time": "2023-05-05T08:21:50.739Z"
   },
   {
    "duration": 209,
    "start_time": "2023-05-05T08:21:50.919Z"
   },
   {
    "duration": 163,
    "start_time": "2023-05-05T08:21:51.130Z"
   },
   {
    "duration": 266,
    "start_time": "2023-05-05T08:21:51.294Z"
   },
   {
    "duration": 130,
    "start_time": "2023-05-05T08:21:51.562Z"
   },
   {
    "duration": 13,
    "start_time": "2023-05-05T08:21:51.694Z"
   },
   {
    "duration": 39,
    "start_time": "2023-05-05T08:21:51.709Z"
   },
   {
    "duration": 13,
    "start_time": "2023-05-05T08:21:51.753Z"
   },
   {
    "duration": 20,
    "start_time": "2023-05-05T08:21:51.787Z"
   },
   {
    "duration": 16,
    "start_time": "2023-05-05T08:21:51.809Z"
   },
   {
    "duration": 103,
    "start_time": "2023-05-05T08:21:51.827Z"
   },
   {
    "duration": 8,
    "start_time": "2023-05-05T08:21:51.932Z"
   },
   {
    "duration": 18,
    "start_time": "2023-05-05T08:21:51.942Z"
   },
   {
    "duration": 32,
    "start_time": "2023-05-05T08:21:51.962Z"
   },
   {
    "duration": 8,
    "start_time": "2023-05-05T08:21:51.997Z"
   },
   {
    "duration": 293,
    "start_time": "2023-05-05T08:21:52.007Z"
   },
   {
    "duration": 277,
    "start_time": "2023-05-05T08:21:52.303Z"
   },
   {
    "duration": 52,
    "start_time": "2023-05-05T08:21:52.581Z"
   },
   {
    "duration": 1690,
    "start_time": "2023-05-05T08:21:52.635Z"
   },
   {
    "duration": 14,
    "start_time": "2023-05-05T08:21:54.327Z"
   },
   {
    "duration": 46,
    "start_time": "2023-05-05T08:21:54.343Z"
   },
   {
    "duration": 30,
    "start_time": "2023-05-05T08:21:54.391Z"
   },
   {
    "duration": 22,
    "start_time": "2023-05-05T08:21:54.423Z"
   },
   {
    "duration": 17,
    "start_time": "2023-05-05T08:21:54.447Z"
   },
   {
    "duration": 296,
    "start_time": "2023-05-05T08:21:54.466Z"
   },
   {
    "duration": 35,
    "start_time": "2023-05-05T08:21:54.764Z"
   },
   {
    "duration": 61,
    "start_time": "2023-05-05T13:49:48.428Z"
   },
   {
    "duration": 1486,
    "start_time": "2023-05-05T13:49:53.890Z"
   },
   {
    "duration": 273,
    "start_time": "2023-05-05T13:49:55.378Z"
   },
   {
    "duration": 17,
    "start_time": "2023-05-05T13:49:55.654Z"
   },
   {
    "duration": 19,
    "start_time": "2023-05-05T13:49:55.674Z"
   },
   {
    "duration": 41,
    "start_time": "2023-05-05T13:49:55.695Z"
   },
   {
    "duration": 47,
    "start_time": "2023-05-05T13:49:55.738Z"
   },
   {
    "duration": 23,
    "start_time": "2023-05-05T13:49:55.787Z"
   },
   {
    "duration": 26,
    "start_time": "2023-05-05T13:49:55.813Z"
   },
   {
    "duration": 47,
    "start_time": "2023-05-05T13:49:55.841Z"
   },
   {
    "duration": 50,
    "start_time": "2023-05-05T13:49:55.891Z"
   },
   {
    "duration": 45,
    "start_time": "2023-05-05T13:49:55.943Z"
   },
   {
    "duration": 45,
    "start_time": "2023-05-05T13:49:55.989Z"
   },
   {
    "duration": 34,
    "start_time": "2023-05-05T13:49:56.036Z"
   },
   {
    "duration": 37,
    "start_time": "2023-05-05T13:49:56.072Z"
   },
   {
    "duration": 38,
    "start_time": "2023-05-05T13:49:56.114Z"
   },
   {
    "duration": 33,
    "start_time": "2023-05-05T13:49:56.154Z"
   },
   {
    "duration": 35,
    "start_time": "2023-05-05T13:49:56.189Z"
   },
   {
    "duration": 300,
    "start_time": "2023-05-05T13:49:56.227Z"
   },
   {
    "duration": 224,
    "start_time": "2023-05-05T13:49:56.529Z"
   },
   {
    "duration": 85,
    "start_time": "2023-05-05T13:49:56.754Z"
   },
   {
    "duration": 201,
    "start_time": "2023-05-05T13:49:56.841Z"
   },
   {
    "duration": 243,
    "start_time": "2023-05-05T13:49:57.044Z"
   },
   {
    "duration": 197,
    "start_time": "2023-05-05T13:49:57.294Z"
   },
   {
    "duration": 388,
    "start_time": "2023-05-05T13:49:57.493Z"
   },
   {
    "duration": 193,
    "start_time": "2023-05-05T13:49:57.884Z"
   },
   {
    "duration": 24,
    "start_time": "2023-05-05T13:49:58.079Z"
   },
   {
    "duration": 42,
    "start_time": "2023-05-05T13:49:58.105Z"
   },
   {
    "duration": 20,
    "start_time": "2023-05-05T13:49:58.153Z"
   },
   {
    "duration": 35,
    "start_time": "2023-05-05T13:49:58.176Z"
   },
   {
    "duration": 25,
    "start_time": "2023-05-05T13:49:58.213Z"
   },
   {
    "duration": 124,
    "start_time": "2023-05-05T13:49:58.241Z"
   },
   {
    "duration": 15,
    "start_time": "2023-05-05T13:49:58.367Z"
   },
   {
    "duration": 30,
    "start_time": "2023-05-05T13:49:58.391Z"
   },
   {
    "duration": 20,
    "start_time": "2023-05-05T13:49:58.422Z"
   },
   {
    "duration": 10,
    "start_time": "2023-05-05T13:49:58.445Z"
   },
   {
    "duration": 346,
    "start_time": "2023-05-05T13:49:58.457Z"
   },
   {
    "duration": 302,
    "start_time": "2023-05-05T13:49:58.807Z"
   },
   {
    "duration": 59,
    "start_time": "2023-05-05T13:49:59.110Z"
   },
   {
    "duration": 2955,
    "start_time": "2023-05-05T13:49:59.171Z"
   },
   {
    "duration": 69,
    "start_time": "2023-05-05T13:50:02.128Z"
   },
   {
    "duration": 50,
    "start_time": "2023-05-05T13:50:02.200Z"
   },
   {
    "duration": 117,
    "start_time": "2023-05-05T13:50:02.253Z"
   },
   {
    "duration": 51,
    "start_time": "2023-05-05T13:50:02.372Z"
   },
   {
    "duration": 37,
    "start_time": "2023-05-05T13:50:02.426Z"
   },
   {
    "duration": 454,
    "start_time": "2023-05-05T13:50:02.493Z"
   },
   {
    "duration": 65,
    "start_time": "2023-05-05T13:50:02.949Z"
   },
   {
    "duration": 266,
    "start_time": "2023-05-05T13:50:20.005Z"
   },
   {
    "duration": 53,
    "start_time": "2023-10-29T22:59:57.269Z"
   },
   {
    "duration": 1125,
    "start_time": "2023-10-29T23:00:03.143Z"
   },
   {
    "duration": 200,
    "start_time": "2023-10-29T23:00:04.270Z"
   },
   {
    "duration": 12,
    "start_time": "2023-10-29T23:00:04.472Z"
   },
   {
    "duration": 24,
    "start_time": "2023-10-29T23:00:04.486Z"
   },
   {
    "duration": 45,
    "start_time": "2023-10-29T23:00:04.512Z"
   },
   {
    "duration": 32,
    "start_time": "2023-10-29T23:00:04.559Z"
   },
   {
    "duration": 12,
    "start_time": "2023-10-29T23:00:04.594Z"
   },
   {
    "duration": 28,
    "start_time": "2023-10-29T23:00:04.608Z"
   },
   {
    "duration": 22,
    "start_time": "2023-10-29T23:00:04.638Z"
   },
   {
    "duration": 30,
    "start_time": "2023-10-29T23:00:04.662Z"
   },
   {
    "duration": 33,
    "start_time": "2023-10-29T23:00:04.693Z"
   },
   {
    "duration": 20,
    "start_time": "2023-10-29T23:00:04.728Z"
   },
   {
    "duration": 39,
    "start_time": "2023-10-29T23:00:04.750Z"
   },
   {
    "duration": 7,
    "start_time": "2023-10-29T23:00:04.793Z"
   },
   {
    "duration": 37,
    "start_time": "2023-10-29T23:00:04.802Z"
   },
   {
    "duration": 26,
    "start_time": "2023-10-29T23:00:04.841Z"
   },
   {
    "duration": 22,
    "start_time": "2023-10-29T23:00:04.869Z"
   },
   {
    "duration": 244,
    "start_time": "2023-10-29T23:00:04.893Z"
   },
   {
    "duration": 180,
    "start_time": "2023-10-29T23:00:05.139Z"
   },
   {
    "duration": 93,
    "start_time": "2023-10-29T23:00:05.320Z"
   },
   {
    "duration": 195,
    "start_time": "2023-10-29T23:00:05.415Z"
   },
   {
    "duration": 186,
    "start_time": "2023-10-29T23:00:05.612Z"
   },
   {
    "duration": 148,
    "start_time": "2023-10-29T23:00:05.800Z"
   },
   {
    "duration": 336,
    "start_time": "2023-10-29T23:00:05.950Z"
   },
   {
    "duration": 140,
    "start_time": "2023-10-29T23:00:06.288Z"
   },
   {
    "duration": 9,
    "start_time": "2023-10-29T23:00:06.430Z"
   },
   {
    "duration": 44,
    "start_time": "2023-10-29T23:00:06.441Z"
   },
   {
    "duration": 13,
    "start_time": "2023-10-29T23:00:06.486Z"
   },
   {
    "duration": 30,
    "start_time": "2023-10-29T23:00:06.501Z"
   },
   {
    "duration": 101,
    "start_time": "2023-10-29T23:00:06.533Z"
   },
   {
    "duration": 17,
    "start_time": "2023-10-29T23:00:06.635Z"
   },
   {
    "duration": 6,
    "start_time": "2023-10-29T23:00:06.654Z"
   },
   {
    "duration": 30,
    "start_time": "2023-10-29T23:00:06.662Z"
   },
   {
    "duration": 12,
    "start_time": "2023-10-29T23:00:06.693Z"
   },
   {
    "duration": 28,
    "start_time": "2023-10-29T23:00:06.706Z"
   },
   {
    "duration": 255,
    "start_time": "2023-10-29T23:00:06.735Z"
   },
   {
    "duration": 283,
    "start_time": "2023-10-29T23:00:06.992Z"
   },
   {
    "duration": 72,
    "start_time": "2023-10-29T23:00:07.278Z"
   },
   {
    "duration": 1711,
    "start_time": "2023-10-29T23:00:07.352Z"
   },
   {
    "duration": 13,
    "start_time": "2023-10-29T23:00:09.065Z"
   },
   {
    "duration": 31,
    "start_time": "2023-10-29T23:00:09.082Z"
   },
   {
    "duration": 31,
    "start_time": "2023-10-29T23:00:09.115Z"
   },
   {
    "duration": 28,
    "start_time": "2023-10-29T23:00:09.148Z"
   },
   {
    "duration": 29,
    "start_time": "2023-10-29T23:00:09.177Z"
   },
   {
    "duration": 237,
    "start_time": "2023-10-29T23:00:09.207Z"
   },
   {
    "duration": 25,
    "start_time": "2023-10-29T23:00:09.446Z"
   },
   {
    "duration": 166,
    "start_time": "2023-10-29T23:01:48.895Z"
   },
   {
    "duration": 199,
    "start_time": "2023-10-29T23:02:02.269Z"
   },
   {
    "duration": 261,
    "start_time": "2023-10-29T23:19:37.370Z"
   },
   {
    "duration": 1240,
    "start_time": "2023-10-29T23:20:14.140Z"
   },
   {
    "duration": 73,
    "start_time": "2023-10-29T23:20:15.382Z"
   },
   {
    "duration": 12,
    "start_time": "2023-10-29T23:20:15.457Z"
   },
   {
    "duration": 15,
    "start_time": "2023-10-29T23:20:15.472Z"
   },
   {
    "duration": 26,
    "start_time": "2023-10-29T23:20:15.489Z"
   },
   {
    "duration": 18,
    "start_time": "2023-10-29T23:20:15.517Z"
   },
   {
    "duration": 22,
    "start_time": "2023-10-29T23:20:15.537Z"
   },
   {
    "duration": 26,
    "start_time": "2023-10-29T23:20:15.561Z"
   },
   {
    "duration": 17,
    "start_time": "2023-10-29T23:20:15.589Z"
   },
   {
    "duration": 12,
    "start_time": "2023-10-29T23:20:15.610Z"
   },
   {
    "duration": 5,
    "start_time": "2023-10-29T23:20:15.624Z"
   },
   {
    "duration": 16,
    "start_time": "2023-10-29T23:20:15.630Z"
   },
   {
    "duration": 24,
    "start_time": "2023-10-29T23:20:15.648Z"
   },
   {
    "duration": 7,
    "start_time": "2023-10-29T23:20:15.674Z"
   },
   {
    "duration": 26,
    "start_time": "2023-10-29T23:20:15.682Z"
   },
   {
    "duration": 4,
    "start_time": "2023-10-29T23:20:15.709Z"
   },
   {
    "duration": 8,
    "start_time": "2023-10-29T23:20:15.715Z"
   },
   {
    "duration": 249,
    "start_time": "2023-10-29T23:20:15.725Z"
   },
   {
    "duration": 197,
    "start_time": "2023-10-29T23:20:15.978Z"
   },
   {
    "duration": 84,
    "start_time": "2023-10-29T23:20:16.177Z"
   },
   {
    "duration": 190,
    "start_time": "2023-10-29T23:20:16.263Z"
   },
   {
    "duration": 208,
    "start_time": "2023-10-29T23:20:16.454Z"
   },
   {
    "duration": 130,
    "start_time": "2023-10-29T23:20:16.663Z"
   },
   {
    "duration": 270,
    "start_time": "2023-10-29T23:20:16.795Z"
   },
   {
    "duration": 233,
    "start_time": "2023-10-29T23:20:17.067Z"
   },
   {
    "duration": 13,
    "start_time": "2023-10-29T23:20:17.302Z"
   },
   {
    "duration": 36,
    "start_time": "2023-10-29T23:20:17.317Z"
   },
   {
    "duration": 13,
    "start_time": "2023-10-29T23:20:17.356Z"
   },
   {
    "duration": 19,
    "start_time": "2023-10-29T23:20:17.370Z"
   },
   {
    "duration": 31,
    "start_time": "2023-10-29T23:20:17.391Z"
   },
   {
    "duration": 14,
    "start_time": "2023-10-29T23:20:17.424Z"
   },
   {
    "duration": 7,
    "start_time": "2023-10-29T23:20:17.440Z"
   },
   {
    "duration": 32,
    "start_time": "2023-10-29T23:20:17.448Z"
   },
   {
    "duration": 13,
    "start_time": "2023-10-29T23:20:17.481Z"
   },
   {
    "duration": 11,
    "start_time": "2023-10-29T23:20:17.506Z"
   },
   {
    "duration": 238,
    "start_time": "2023-10-29T23:20:17.518Z"
   },
   {
    "duration": 238,
    "start_time": "2023-10-29T23:20:17.758Z"
   },
   {
    "duration": 53,
    "start_time": "2023-10-29T23:20:17.997Z"
   },
   {
    "duration": 1514,
    "start_time": "2023-10-29T23:20:18.051Z"
   },
   {
    "duration": 13,
    "start_time": "2023-10-29T23:20:19.566Z"
   },
   {
    "duration": 14,
    "start_time": "2023-10-29T23:20:19.581Z"
   },
   {
    "duration": 9,
    "start_time": "2023-10-29T23:20:19.606Z"
   },
   {
    "duration": 6,
    "start_time": "2023-10-29T23:20:19.617Z"
   },
   {
    "duration": 12,
    "start_time": "2023-10-29T23:20:19.625Z"
   },
   {
    "duration": 235,
    "start_time": "2023-10-29T23:20:19.639Z"
   },
   {
    "duration": 35,
    "start_time": "2023-10-29T23:20:19.875Z"
   }
  ],
  "kernelspec": {
   "display_name": "Python 3 (ipykernel)",
   "language": "python",
   "name": "python3"
  },
  "language_info": {
   "codemirror_mode": {
    "name": "ipython",
    "version": 3
   },
   "file_extension": ".py",
   "mimetype": "text/x-python",
   "name": "python",
   "nbconvert_exporter": "python",
   "pygments_lexer": "ipython3",
   "version": "3.9.13"
  },
  "toc": {
   "base_numbering": "1",
   "nav_menu": {},
   "number_sections": true,
   "sideBar": true,
   "skip_h1_title": true,
   "title_cell": "Table of Contents",
   "title_sidebar": "Contents",
   "toc_cell": true,
   "toc_position": {
    "height": "calc(100% - 180px)",
    "left": "10px",
    "top": "150px",
    "width": "274.796875px"
   },
   "toc_section_display": true,
   "toc_window_display": false
  }
 },
 "nbformat": 4,
 "nbformat_minor": 5
}
