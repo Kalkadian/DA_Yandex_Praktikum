{
 "cells": [
  {
   "cell_type": "markdown",
   "metadata": {
    "toc": true
   },
   "source": [
    "<h1>Table of Contents<span class=\"tocSkip\"></span></h1>\n",
    "<div class=\"toc\"><ul class=\"toc-item\"><li><span><a href=\"#Посмотрим-на-каждую-таблицу-и-посчитаем-кол-во-строк-в-них\" data-toc-modified-id=\"Посмотрим-на-каждую-таблицу-и-посчитаем-кол-во-строк-в-них-1\"><span class=\"toc-item-num\">1&nbsp;&nbsp;</span>Посмотрим на каждую таблицу и посчитаем кол-во строк в них</a></span><ul class=\"toc-item\"><li><span><a href=\"#таблица-ratings\" data-toc-modified-id=\"таблица-ratings-1.1\"><span class=\"toc-item-num\">1.1&nbsp;&nbsp;</span>таблица ratings</a></span></li><li><span><a href=\"#таблица-books\" data-toc-modified-id=\"таблица-books-1.2\"><span class=\"toc-item-num\">1.2&nbsp;&nbsp;</span>таблица books</a></span></li><li><span><a href=\"#таблица-authors\" data-toc-modified-id=\"таблица-authors-1.3\"><span class=\"toc-item-num\">1.3&nbsp;&nbsp;</span>таблица authors</a></span></li><li><span><a href=\"#таблица-reviews\" data-toc-modified-id=\"таблица-reviews-1.4\"><span class=\"toc-item-num\">1.4&nbsp;&nbsp;</span>таблица reviews</a></span></li><li><span><a href=\"#таблица-publishers\" data-toc-modified-id=\"таблица-publishers-1.5\"><span class=\"toc-item-num\">1.5&nbsp;&nbsp;</span>таблица publishers</a></span></li></ul></li><li><span><a href=\"#Посчитаем,-сколько-книг-вышло-после-1-января-2000-года;\" data-toc-modified-id=\"Посчитаем,-сколько-книг-вышло-после-1-января-2000-года;-2\"><span class=\"toc-item-num\">2&nbsp;&nbsp;</span>Посчитаем, сколько книг вышло после 1 января 2000 года;</a></span></li><li><span><a href=\"#Для-каждой-книги-посчитаем-количество-обзоров-и-среднюю-оценку;\" data-toc-modified-id=\"Для-каждой-книги-посчитаем-количество-обзоров-и-среднюю-оценку;-3\"><span class=\"toc-item-num\">3&nbsp;&nbsp;</span>Для каждой книги посчитаем количество обзоров и среднюю оценку;</a></span></li><li><span><a href=\"#Определим-издательство,-которое-выпустило-наибольшее-число-книг-толще-50-страниц-—-так--исключим-из-анализа-брошюры;\" data-toc-modified-id=\"Определим-издательство,-которое-выпустило-наибольшее-число-книг-толще-50-страниц-—-так--исключим-из-анализа-брошюры;-4\"><span class=\"toc-item-num\">4&nbsp;&nbsp;</span>Определим издательство, которое выпустило наибольшее число книг толще 50 страниц — так  исключим из анализа брошюры;</a></span></li><li><span><a href=\"#Определим-автора-с-самой-высокой-средней-оценкой-книг-—-учитываем-только-книги-с-50-и-более-оценками;\" data-toc-modified-id=\"Определим-автора-с-самой-высокой-средней-оценкой-книг-—-учитываем-только-книги-с-50-и-более-оценками;-5\"><span class=\"toc-item-num\">5&nbsp;&nbsp;</span>Определим автора с самой высокой средней оценкой книг — учитываем только книги с 50 и более оценками;</a></span></li><li><span><a href=\"#Посчитаем-среднее-количество-обзоров-от-пользователей,-которые-поставили-больше-48-оценок\" data-toc-modified-id=\"Посчитаем-среднее-количество-обзоров-от-пользователей,-которые-поставили-больше-48-оценок-6\"><span class=\"toc-item-num\">6&nbsp;&nbsp;</span>Посчитаем среднее количество обзоров от пользователей, которые поставили больше 48 оценок</a></span></li><li><span><a href=\"#Вывод:\" data-toc-modified-id=\"Вывод:-7\"><span class=\"toc-item-num\">7&nbsp;&nbsp;</span>Вывод:</a></span></li></ul></div>"
   ]
  },
  {
   "cell_type": "markdown",
   "metadata": {},
   "source": [
    "# Описание проекта:"
   ]
  },
  {
   "cell_type": "markdown",
   "metadata": {},
   "source": [
    "Компания приобрела сервис по чтению книг по подписке. Основная задача - проанализировать имеющуюся БД.\n",
    "\n",
    "В распоряжении 5 таблиц:\n",
    "\n",
    " - books\n",
    " - authors\n",
    " - publishers\n",
    " - ratings\n",
    " - reviews\n",
    " \n",
    "Необходимо изучить данные и сформить первичное представление о том, какими книгами и данными располагает наш сервис."
   ]
  },
  {
   "cell_type": "markdown",
   "metadata": {},
   "source": [
    "### Посмотрим на каждую таблицу и посчитаем кол-во строк в них"
   ]
  },
  {
   "cell_type": "markdown",
   "metadata": {},
   "source": [
    "#### таблица ratings"
   ]
  },
  {
   "cell_type": "code",
   "execution_count": 2,
   "metadata": {},
   "outputs": [
    {
     "data": {
      "text/html": [
       "<div>\n",
       "<style scoped>\n",
       "    .dataframe tbody tr th:only-of-type {\n",
       "        vertical-align: middle;\n",
       "    }\n",
       "\n",
       "    .dataframe tbody tr th {\n",
       "        vertical-align: top;\n",
       "    }\n",
       "\n",
       "    .dataframe thead th {\n",
       "        text-align: right;\n",
       "    }\n",
       "</style>\n",
       "<table border=\"1\" class=\"dataframe\">\n",
       "  <thead>\n",
       "    <tr style=\"text-align: right;\">\n",
       "      <th></th>\n",
       "      <th>rating_id</th>\n",
       "      <th>book_id</th>\n",
       "      <th>username</th>\n",
       "      <th>rating</th>\n",
       "    </tr>\n",
       "  </thead>\n",
       "  <tbody>\n",
       "    <tr>\n",
       "      <th>0</th>\n",
       "      <td>1</td>\n",
       "      <td>1</td>\n",
       "      <td>ryanfranco</td>\n",
       "      <td>4</td>\n",
       "    </tr>\n",
       "    <tr>\n",
       "      <th>1</th>\n",
       "      <td>2</td>\n",
       "      <td>1</td>\n",
       "      <td>grantpatricia</td>\n",
       "      <td>2</td>\n",
       "    </tr>\n",
       "    <tr>\n",
       "      <th>2</th>\n",
       "      <td>3</td>\n",
       "      <td>1</td>\n",
       "      <td>brandtandrea</td>\n",
       "      <td>5</td>\n",
       "    </tr>\n",
       "    <tr>\n",
       "      <th>3</th>\n",
       "      <td>4</td>\n",
       "      <td>2</td>\n",
       "      <td>lorichen</td>\n",
       "      <td>3</td>\n",
       "    </tr>\n",
       "    <tr>\n",
       "      <th>4</th>\n",
       "      <td>5</td>\n",
       "      <td>2</td>\n",
       "      <td>mariokeller</td>\n",
       "      <td>2</td>\n",
       "    </tr>\n",
       "  </tbody>\n",
       "</table>\n",
       "</div>"
      ],
      "text/plain": [
       "   rating_id  book_id       username  rating\n",
       "0          1        1     ryanfranco       4\n",
       "1          2        1  grantpatricia       2\n",
       "2          3        1   brandtandrea       5\n",
       "3          4        2       lorichen       3\n",
       "4          5        2    mariokeller       2"
      ]
     },
     "execution_count": 2,
     "metadata": {},
     "output_type": "execute_result"
    }
   ],
   "source": [
    "ratings = 'SELECT * FROM ratings LIMIT 5'\n",
    "get_sql_data(ratings)"
   ]
  },
  {
   "cell_type": "code",
   "execution_count": 3,
   "metadata": {},
   "outputs": [
    {
     "data": {
      "text/html": [
       "<div>\n",
       "<style scoped>\n",
       "    .dataframe tbody tr th:only-of-type {\n",
       "        vertical-align: middle;\n",
       "    }\n",
       "\n",
       "    .dataframe tbody tr th {\n",
       "        vertical-align: top;\n",
       "    }\n",
       "\n",
       "    .dataframe thead th {\n",
       "        text-align: right;\n",
       "    }\n",
       "</style>\n",
       "<table border=\"1\" class=\"dataframe\">\n",
       "  <thead>\n",
       "    <tr style=\"text-align: right;\">\n",
       "      <th></th>\n",
       "      <th>row_count</th>\n",
       "    </tr>\n",
       "  </thead>\n",
       "  <tbody>\n",
       "    <tr>\n",
       "      <th>0</th>\n",
       "      <td>6456</td>\n",
       "    </tr>\n",
       "  </tbody>\n",
       "</table>\n",
       "</div>"
      ],
      "text/plain": [
       "   row_count\n",
       "0       6456"
      ]
     },
     "execution_count": 3,
     "metadata": {},
     "output_type": "execute_result"
    }
   ],
   "source": [
    "rows = ['ratings']\n",
    "for table in rows:\n",
    "    query = f\"SELECT COUNT(*) as row_count FROM {table}\"\n",
    "get_sql_data(query)"
   ]
  },
  {
   "cell_type": "markdown",
   "metadata": {},
   "source": [
    "Содержит 6456 строк и данные о рейтингах:\n",
    "\n",
    " - rating_id — идентификатор оценки;\n",
    " - book_id — идентификатор книги;\n",
    " - username — имя пользователя, оставившего оценку;\n",
    " - rating — оценка книги."
   ]
  },
  {
   "cell_type": "markdown",
   "metadata": {},
   "source": [
    "#### таблица books"
   ]
  },
  {
   "cell_type": "code",
   "execution_count": 4,
   "metadata": {},
   "outputs": [
    {
     "data": {
      "text/html": [
       "<div>\n",
       "<style scoped>\n",
       "    .dataframe tbody tr th:only-of-type {\n",
       "        vertical-align: middle;\n",
       "    }\n",
       "\n",
       "    .dataframe tbody tr th {\n",
       "        vertical-align: top;\n",
       "    }\n",
       "\n",
       "    .dataframe thead th {\n",
       "        text-align: right;\n",
       "    }\n",
       "</style>\n",
       "<table border=\"1\" class=\"dataframe\">\n",
       "  <thead>\n",
       "    <tr style=\"text-align: right;\">\n",
       "      <th></th>\n",
       "      <th>book_id</th>\n",
       "      <th>author_id</th>\n",
       "      <th>title</th>\n",
       "      <th>num_pages</th>\n",
       "      <th>publication_date</th>\n",
       "      <th>publisher_id</th>\n",
       "    </tr>\n",
       "  </thead>\n",
       "  <tbody>\n",
       "    <tr>\n",
       "      <th>0</th>\n",
       "      <td>1</td>\n",
       "      <td>546</td>\n",
       "      <td>'Salem's Lot</td>\n",
       "      <td>594</td>\n",
       "      <td>2005-11-01</td>\n",
       "      <td>93</td>\n",
       "    </tr>\n",
       "    <tr>\n",
       "      <th>1</th>\n",
       "      <td>2</td>\n",
       "      <td>465</td>\n",
       "      <td>1 000 Places to See Before You Die</td>\n",
       "      <td>992</td>\n",
       "      <td>2003-05-22</td>\n",
       "      <td>336</td>\n",
       "    </tr>\n",
       "    <tr>\n",
       "      <th>2</th>\n",
       "      <td>3</td>\n",
       "      <td>407</td>\n",
       "      <td>13 Little Blue Envelopes (Little Blue Envelope...</td>\n",
       "      <td>322</td>\n",
       "      <td>2010-12-21</td>\n",
       "      <td>135</td>\n",
       "    </tr>\n",
       "    <tr>\n",
       "      <th>3</th>\n",
       "      <td>4</td>\n",
       "      <td>82</td>\n",
       "      <td>1491: New Revelations of the Americas Before C...</td>\n",
       "      <td>541</td>\n",
       "      <td>2006-10-10</td>\n",
       "      <td>309</td>\n",
       "    </tr>\n",
       "    <tr>\n",
       "      <th>4</th>\n",
       "      <td>5</td>\n",
       "      <td>125</td>\n",
       "      <td>1776</td>\n",
       "      <td>386</td>\n",
       "      <td>2006-07-04</td>\n",
       "      <td>268</td>\n",
       "    </tr>\n",
       "  </tbody>\n",
       "</table>\n",
       "</div>"
      ],
      "text/plain": [
       "   book_id  author_id                                              title  \\\n",
       "0        1        546                                       'Salem's Lot   \n",
       "1        2        465                 1 000 Places to See Before You Die   \n",
       "2        3        407  13 Little Blue Envelopes (Little Blue Envelope...   \n",
       "3        4         82  1491: New Revelations of the Americas Before C...   \n",
       "4        5        125                                               1776   \n",
       "\n",
       "   num_pages publication_date  publisher_id  \n",
       "0        594       2005-11-01            93  \n",
       "1        992       2003-05-22           336  \n",
       "2        322       2010-12-21           135  \n",
       "3        541       2006-10-10           309  \n",
       "4        386       2006-07-04           268  "
      ]
     },
     "execution_count": 4,
     "metadata": {},
     "output_type": "execute_result"
    }
   ],
   "source": [
    "books = 'SELECT * FROM books LIMIT 5'\n",
    "get_sql_data(books)"
   ]
  },
  {
   "cell_type": "code",
   "execution_count": 5,
   "metadata": {},
   "outputs": [
    {
     "data": {
      "text/html": [
       "<div>\n",
       "<style scoped>\n",
       "    .dataframe tbody tr th:only-of-type {\n",
       "        vertical-align: middle;\n",
       "    }\n",
       "\n",
       "    .dataframe tbody tr th {\n",
       "        vertical-align: top;\n",
       "    }\n",
       "\n",
       "    .dataframe thead th {\n",
       "        text-align: right;\n",
       "    }\n",
       "</style>\n",
       "<table border=\"1\" class=\"dataframe\">\n",
       "  <thead>\n",
       "    <tr style=\"text-align: right;\">\n",
       "      <th></th>\n",
       "      <th>row_count</th>\n",
       "    </tr>\n",
       "  </thead>\n",
       "  <tbody>\n",
       "    <tr>\n",
       "      <th>0</th>\n",
       "      <td>1000</td>\n",
       "    </tr>\n",
       "  </tbody>\n",
       "</table>\n",
       "</div>"
      ],
      "text/plain": [
       "   row_count\n",
       "0       1000"
      ]
     },
     "execution_count": 5,
     "metadata": {},
     "output_type": "execute_result"
    }
   ],
   "source": [
    "rows = ['books']\n",
    "\n",
    "for table in rows:\n",
    "    query = f\"SELECT COUNT(*) as row_count FROM {table}\"\n",
    "get_sql_data(query)"
   ]
  },
  {
   "cell_type": "markdown",
   "metadata": {},
   "source": [
    "Содержит 1000 строк и данные о книгах:\n",
    "\n",
    "- book_id — идентификатор книги;\n",
    "- author_id — идентификатор автора;\n",
    "- title — название книги;\n",
    "- num_pages — количество страниц;\n",
    "- publication_date — дата публикации книги;\n",
    "- publisher_id — идентификатор издателя."
   ]
  },
  {
   "cell_type": "markdown",
   "metadata": {},
   "source": [
    "#### таблица authors"
   ]
  },
  {
   "cell_type": "code",
   "execution_count": 6,
   "metadata": {},
   "outputs": [
    {
     "data": {
      "text/html": [
       "<div>\n",
       "<style scoped>\n",
       "    .dataframe tbody tr th:only-of-type {\n",
       "        vertical-align: middle;\n",
       "    }\n",
       "\n",
       "    .dataframe tbody tr th {\n",
       "        vertical-align: top;\n",
       "    }\n",
       "\n",
       "    .dataframe thead th {\n",
       "        text-align: right;\n",
       "    }\n",
       "</style>\n",
       "<table border=\"1\" class=\"dataframe\">\n",
       "  <thead>\n",
       "    <tr style=\"text-align: right;\">\n",
       "      <th></th>\n",
       "      <th>author_id</th>\n",
       "      <th>author</th>\n",
       "    </tr>\n",
       "  </thead>\n",
       "  <tbody>\n",
       "    <tr>\n",
       "      <th>0</th>\n",
       "      <td>1</td>\n",
       "      <td>A.S. Byatt</td>\n",
       "    </tr>\n",
       "    <tr>\n",
       "      <th>1</th>\n",
       "      <td>2</td>\n",
       "      <td>Aesop/Laura Harris/Laura Gibbs</td>\n",
       "    </tr>\n",
       "    <tr>\n",
       "      <th>2</th>\n",
       "      <td>3</td>\n",
       "      <td>Agatha Christie</td>\n",
       "    </tr>\n",
       "    <tr>\n",
       "      <th>3</th>\n",
       "      <td>4</td>\n",
       "      <td>Alan Brennert</td>\n",
       "    </tr>\n",
       "    <tr>\n",
       "      <th>4</th>\n",
       "      <td>5</td>\n",
       "      <td>Alan Moore/David   Lloyd</td>\n",
       "    </tr>\n",
       "  </tbody>\n",
       "</table>\n",
       "</div>"
      ],
      "text/plain": [
       "   author_id                          author\n",
       "0          1                      A.S. Byatt\n",
       "1          2  Aesop/Laura Harris/Laura Gibbs\n",
       "2          3                 Agatha Christie\n",
       "3          4                   Alan Brennert\n",
       "4          5        Alan Moore/David   Lloyd"
      ]
     },
     "execution_count": 6,
     "metadata": {},
     "output_type": "execute_result"
    }
   ],
   "source": [
    "authors = 'SELECT * FROM authors LIMIT 5'\n",
    "get_sql_data(authors)"
   ]
  },
  {
   "cell_type": "code",
   "execution_count": 7,
   "metadata": {},
   "outputs": [
    {
     "data": {
      "text/html": [
       "<div>\n",
       "<style scoped>\n",
       "    .dataframe tbody tr th:only-of-type {\n",
       "        vertical-align: middle;\n",
       "    }\n",
       "\n",
       "    .dataframe tbody tr th {\n",
       "        vertical-align: top;\n",
       "    }\n",
       "\n",
       "    .dataframe thead th {\n",
       "        text-align: right;\n",
       "    }\n",
       "</style>\n",
       "<table border=\"1\" class=\"dataframe\">\n",
       "  <thead>\n",
       "    <tr style=\"text-align: right;\">\n",
       "      <th></th>\n",
       "      <th>row_count</th>\n",
       "    </tr>\n",
       "  </thead>\n",
       "  <tbody>\n",
       "    <tr>\n",
       "      <th>0</th>\n",
       "      <td>636</td>\n",
       "    </tr>\n",
       "  </tbody>\n",
       "</table>\n",
       "</div>"
      ],
      "text/plain": [
       "   row_count\n",
       "0        636"
      ]
     },
     "execution_count": 7,
     "metadata": {},
     "output_type": "execute_result"
    }
   ],
   "source": [
    "rows = ['authors']\n",
    "\n",
    "for table in rows:\n",
    "    query = f\"SELECT COUNT(*) as row_count FROM {table}\"\n",
    "get_sql_data(query)"
   ]
  },
  {
   "cell_type": "markdown",
   "metadata": {},
   "source": [
    "Содержит 636 строк и данные об авторах:\n",
    "\n",
    " - author_id — идентификатор автора;\n",
    " - author — имя автора."
   ]
  },
  {
   "cell_type": "markdown",
   "metadata": {},
   "source": [
    "#### таблица reviews"
   ]
  },
  {
   "cell_type": "code",
   "execution_count": 8,
   "metadata": {},
   "outputs": [
    {
     "data": {
      "text/html": [
       "<div>\n",
       "<style scoped>\n",
       "    .dataframe tbody tr th:only-of-type {\n",
       "        vertical-align: middle;\n",
       "    }\n",
       "\n",
       "    .dataframe tbody tr th {\n",
       "        vertical-align: top;\n",
       "    }\n",
       "\n",
       "    .dataframe thead th {\n",
       "        text-align: right;\n",
       "    }\n",
       "</style>\n",
       "<table border=\"1\" class=\"dataframe\">\n",
       "  <thead>\n",
       "    <tr style=\"text-align: right;\">\n",
       "      <th></th>\n",
       "      <th>review_id</th>\n",
       "      <th>book_id</th>\n",
       "      <th>username</th>\n",
       "      <th>text</th>\n",
       "    </tr>\n",
       "  </thead>\n",
       "  <tbody>\n",
       "    <tr>\n",
       "      <th>0</th>\n",
       "      <td>1</td>\n",
       "      <td>1</td>\n",
       "      <td>brandtandrea</td>\n",
       "      <td>Mention society tell send professor analysis. ...</td>\n",
       "    </tr>\n",
       "    <tr>\n",
       "      <th>1</th>\n",
       "      <td>2</td>\n",
       "      <td>1</td>\n",
       "      <td>ryanfranco</td>\n",
       "      <td>Foot glass pretty audience hit themselves. Amo...</td>\n",
       "    </tr>\n",
       "    <tr>\n",
       "      <th>2</th>\n",
       "      <td>3</td>\n",
       "      <td>2</td>\n",
       "      <td>lorichen</td>\n",
       "      <td>Listen treat keep worry. Miss husband tax but ...</td>\n",
       "    </tr>\n",
       "    <tr>\n",
       "      <th>3</th>\n",
       "      <td>4</td>\n",
       "      <td>3</td>\n",
       "      <td>johnsonamanda</td>\n",
       "      <td>Finally month interesting blue could nature cu...</td>\n",
       "    </tr>\n",
       "    <tr>\n",
       "      <th>4</th>\n",
       "      <td>5</td>\n",
       "      <td>3</td>\n",
       "      <td>scotttamara</td>\n",
       "      <td>Nation purpose heavy give wait song will. List...</td>\n",
       "    </tr>\n",
       "  </tbody>\n",
       "</table>\n",
       "</div>"
      ],
      "text/plain": [
       "   review_id  book_id       username  \\\n",
       "0          1        1   brandtandrea   \n",
       "1          2        1     ryanfranco   \n",
       "2          3        2       lorichen   \n",
       "3          4        3  johnsonamanda   \n",
       "4          5        3    scotttamara   \n",
       "\n",
       "                                                text  \n",
       "0  Mention society tell send professor analysis. ...  \n",
       "1  Foot glass pretty audience hit themselves. Amo...  \n",
       "2  Listen treat keep worry. Miss husband tax but ...  \n",
       "3  Finally month interesting blue could nature cu...  \n",
       "4  Nation purpose heavy give wait song will. List...  "
      ]
     },
     "execution_count": 8,
     "metadata": {},
     "output_type": "execute_result"
    }
   ],
   "source": [
    "reviews = 'SELECT * FROM reviews LIMIT 5'\n",
    "get_sql_data(reviews)"
   ]
  },
  {
   "cell_type": "code",
   "execution_count": 9,
   "metadata": {},
   "outputs": [
    {
     "data": {
      "text/html": [
       "<div>\n",
       "<style scoped>\n",
       "    .dataframe tbody tr th:only-of-type {\n",
       "        vertical-align: middle;\n",
       "    }\n",
       "\n",
       "    .dataframe tbody tr th {\n",
       "        vertical-align: top;\n",
       "    }\n",
       "\n",
       "    .dataframe thead th {\n",
       "        text-align: right;\n",
       "    }\n",
       "</style>\n",
       "<table border=\"1\" class=\"dataframe\">\n",
       "  <thead>\n",
       "    <tr style=\"text-align: right;\">\n",
       "      <th></th>\n",
       "      <th>row_count</th>\n",
       "    </tr>\n",
       "  </thead>\n",
       "  <tbody>\n",
       "    <tr>\n",
       "      <th>0</th>\n",
       "      <td>2793</td>\n",
       "    </tr>\n",
       "  </tbody>\n",
       "</table>\n",
       "</div>"
      ],
      "text/plain": [
       "   row_count\n",
       "0       2793"
      ]
     },
     "execution_count": 9,
     "metadata": {},
     "output_type": "execute_result"
    }
   ],
   "source": [
    "rows = ['reviews']\n",
    "\n",
    "for table in rows:\n",
    "    query = f\"SELECT COUNT(*) as row_count FROM {table}\"\n",
    "get_sql_data(query)"
   ]
  },
  {
   "cell_type": "markdown",
   "metadata": {},
   "source": [
    "Содержит 2793 строк и данные о рецензиях:\n",
    "\n",
    " - review_id — идентификатор обзора;\n",
    " - book_id — идентификатор книги;\n",
    " - username — имя пользователя, написавшего обзор;\n",
    " - text — текст обзора."
   ]
  },
  {
   "cell_type": "markdown",
   "metadata": {},
   "source": [
    "#### таблица publishers"
   ]
  },
  {
   "cell_type": "code",
   "execution_count": 10,
   "metadata": {},
   "outputs": [
    {
     "data": {
      "text/html": [
       "<div>\n",
       "<style scoped>\n",
       "    .dataframe tbody tr th:only-of-type {\n",
       "        vertical-align: middle;\n",
       "    }\n",
       "\n",
       "    .dataframe tbody tr th {\n",
       "        vertical-align: top;\n",
       "    }\n",
       "\n",
       "    .dataframe thead th {\n",
       "        text-align: right;\n",
       "    }\n",
       "</style>\n",
       "<table border=\"1\" class=\"dataframe\">\n",
       "  <thead>\n",
       "    <tr style=\"text-align: right;\">\n",
       "      <th></th>\n",
       "      <th>publisher_id</th>\n",
       "      <th>publisher</th>\n",
       "    </tr>\n",
       "  </thead>\n",
       "  <tbody>\n",
       "    <tr>\n",
       "      <th>0</th>\n",
       "      <td>1</td>\n",
       "      <td>Ace</td>\n",
       "    </tr>\n",
       "    <tr>\n",
       "      <th>1</th>\n",
       "      <td>2</td>\n",
       "      <td>Ace Book</td>\n",
       "    </tr>\n",
       "    <tr>\n",
       "      <th>2</th>\n",
       "      <td>3</td>\n",
       "      <td>Ace Books</td>\n",
       "    </tr>\n",
       "    <tr>\n",
       "      <th>3</th>\n",
       "      <td>4</td>\n",
       "      <td>Ace Hardcover</td>\n",
       "    </tr>\n",
       "    <tr>\n",
       "      <th>4</th>\n",
       "      <td>5</td>\n",
       "      <td>Addison Wesley Publishing Company</td>\n",
       "    </tr>\n",
       "  </tbody>\n",
       "</table>\n",
       "</div>"
      ],
      "text/plain": [
       "   publisher_id                          publisher\n",
       "0             1                                Ace\n",
       "1             2                           Ace Book\n",
       "2             3                          Ace Books\n",
       "3             4                      Ace Hardcover\n",
       "4             5  Addison Wesley Publishing Company"
      ]
     },
     "execution_count": 10,
     "metadata": {},
     "output_type": "execute_result"
    }
   ],
   "source": [
    "publishers = 'SELECT * FROM publishers LIMIT 5'\n",
    "get_sql_data(publishers)"
   ]
  },
  {
   "cell_type": "code",
   "execution_count": 11,
   "metadata": {},
   "outputs": [
    {
     "data": {
      "text/html": [
       "<div>\n",
       "<style scoped>\n",
       "    .dataframe tbody tr th:only-of-type {\n",
       "        vertical-align: middle;\n",
       "    }\n",
       "\n",
       "    .dataframe tbody tr th {\n",
       "        vertical-align: top;\n",
       "    }\n",
       "\n",
       "    .dataframe thead th {\n",
       "        text-align: right;\n",
       "    }\n",
       "</style>\n",
       "<table border=\"1\" class=\"dataframe\">\n",
       "  <thead>\n",
       "    <tr style=\"text-align: right;\">\n",
       "      <th></th>\n",
       "      <th>row_count</th>\n",
       "    </tr>\n",
       "  </thead>\n",
       "  <tbody>\n",
       "    <tr>\n",
       "      <th>0</th>\n",
       "      <td>340</td>\n",
       "    </tr>\n",
       "  </tbody>\n",
       "</table>\n",
       "</div>"
      ],
      "text/plain": [
       "   row_count\n",
       "0        340"
      ]
     },
     "execution_count": 11,
     "metadata": {},
     "output_type": "execute_result"
    }
   ],
   "source": [
    "rows = ['publishers']\n",
    "\n",
    "for table in rows:\n",
    "    query = f\"SELECT COUNT(*) as row_count FROM {table}\"\n",
    "get_sql_data(query)"
   ]
  },
  {
   "cell_type": "markdown",
   "metadata": {},
   "source": [
    "Содержит 340 и данные об издательствах:\n",
    "    \n",
    " - publisher_id — идентификатор издательства;\n",
    " - publisher — название издательства;"
   ]
  },
  {
   "cell_type": "markdown",
   "metadata": {},
   "source": [
    "### Посчитаем, сколько книг вышло после 1 января 2000 года;"
   ]
  },
  {
   "cell_type": "code",
   "execution_count": 12,
   "metadata": {},
   "outputs": [
    {
     "data": {
      "text/html": [
       "<div>\n",
       "<style scoped>\n",
       "    .dataframe tbody tr th:only-of-type {\n",
       "        vertical-align: middle;\n",
       "    }\n",
       "\n",
       "    .dataframe tbody tr th {\n",
       "        vertical-align: top;\n",
       "    }\n",
       "\n",
       "    .dataframe thead th {\n",
       "        text-align: right;\n",
       "    }\n",
       "</style>\n",
       "<table border=\"1\" class=\"dataframe\">\n",
       "  <thead>\n",
       "    <tr style=\"text-align: right;\">\n",
       "      <th></th>\n",
       "      <th>book_count</th>\n",
       "    </tr>\n",
       "  </thead>\n",
       "  <tbody>\n",
       "    <tr>\n",
       "      <th>0</th>\n",
       "      <td>819</td>\n",
       "    </tr>\n",
       "  </tbody>\n",
       "</table>\n",
       "</div>"
      ],
      "text/plain": [
       "   book_count\n",
       "0         819"
      ]
     },
     "execution_count": 12,
     "metadata": {},
     "output_type": "execute_result"
    }
   ],
   "source": [
    "book_published = \"SELECT COUNT(*) as book_count \\\n",
    "FROM books \\\n",
    "WHERE publication_date > '2000-01-01'\"\n",
    "get_sql_data(book_published)"
   ]
  },
  {
   "cell_type": "markdown",
   "metadata": {},
   "source": [
    "комментарий:\n",
    " - С 1 января 2020 года было выпущено 819 книг"
   ]
  },
  {
   "cell_type": "markdown",
   "metadata": {},
   "source": [
    "### Для каждой книги посчитаем количество обзоров и среднюю оценку;"
   ]
  },
  {
   "cell_type": "code",
   "execution_count": 13,
   "metadata": {},
   "outputs": [
    {
     "data": {
      "text/html": [
       "<div>\n",
       "<style scoped>\n",
       "    .dataframe tbody tr th:only-of-type {\n",
       "        vertical-align: middle;\n",
       "    }\n",
       "\n",
       "    .dataframe tbody tr th {\n",
       "        vertical-align: top;\n",
       "    }\n",
       "\n",
       "    .dataframe thead th {\n",
       "        text-align: right;\n",
       "    }\n",
       "</style>\n",
       "<table border=\"1\" class=\"dataframe\">\n",
       "  <thead>\n",
       "    <tr style=\"text-align: right;\">\n",
       "      <th></th>\n",
       "      <th>title</th>\n",
       "      <th>book_id</th>\n",
       "      <th>review_count</th>\n",
       "      <th>average_rating</th>\n",
       "    </tr>\n",
       "  </thead>\n",
       "  <tbody>\n",
       "    <tr>\n",
       "      <th>0</th>\n",
       "      <td>Twilight (Twilight  #1)</td>\n",
       "      <td>948</td>\n",
       "      <td>7</td>\n",
       "      <td>3.662500</td>\n",
       "    </tr>\n",
       "    <tr>\n",
       "      <th>1</th>\n",
       "      <td>Water for Elephants</td>\n",
       "      <td>963</td>\n",
       "      <td>6</td>\n",
       "      <td>3.977273</td>\n",
       "    </tr>\n",
       "    <tr>\n",
       "      <th>2</th>\n",
       "      <td>The Glass Castle</td>\n",
       "      <td>734</td>\n",
       "      <td>6</td>\n",
       "      <td>4.206897</td>\n",
       "    </tr>\n",
       "    <tr>\n",
       "      <th>3</th>\n",
       "      <td>Harry Potter and the Prisoner of Azkaban (Harr...</td>\n",
       "      <td>302</td>\n",
       "      <td>6</td>\n",
       "      <td>4.414634</td>\n",
       "    </tr>\n",
       "    <tr>\n",
       "      <th>4</th>\n",
       "      <td>The Curious Incident of the Dog in the Night-Time</td>\n",
       "      <td>695</td>\n",
       "      <td>6</td>\n",
       "      <td>4.081081</td>\n",
       "    </tr>\n",
       "    <tr>\n",
       "      <th>...</th>\n",
       "      <td>...</td>\n",
       "      <td>...</td>\n",
       "      <td>...</td>\n",
       "      <td>...</td>\n",
       "    </tr>\n",
       "    <tr>\n",
       "      <th>995</th>\n",
       "      <td>Anne Rice's The Vampire Lestat: A Graphic Novel</td>\n",
       "      <td>83</td>\n",
       "      <td>0</td>\n",
       "      <td>3.666667</td>\n",
       "    </tr>\n",
       "    <tr>\n",
       "      <th>996</th>\n",
       "      <td>The Natural Way to Draw</td>\n",
       "      <td>808</td>\n",
       "      <td>0</td>\n",
       "      <td>3.000000</td>\n",
       "    </tr>\n",
       "    <tr>\n",
       "      <th>997</th>\n",
       "      <td>The Cat in the Hat and Other Dr. Seuss Favorites</td>\n",
       "      <td>672</td>\n",
       "      <td>0</td>\n",
       "      <td>5.000000</td>\n",
       "    </tr>\n",
       "    <tr>\n",
       "      <th>998</th>\n",
       "      <td>Essential Tales and Poems</td>\n",
       "      <td>221</td>\n",
       "      <td>0</td>\n",
       "      <td>4.000000</td>\n",
       "    </tr>\n",
       "    <tr>\n",
       "      <th>999</th>\n",
       "      <td>Disney's Beauty and the Beast (A Little Golden...</td>\n",
       "      <td>191</td>\n",
       "      <td>0</td>\n",
       "      <td>4.000000</td>\n",
       "    </tr>\n",
       "  </tbody>\n",
       "</table>\n",
       "<p>1000 rows × 4 columns</p>\n",
       "</div>"
      ],
      "text/plain": [
       "                                                 title  book_id  review_count  \\\n",
       "0                              Twilight (Twilight  #1)      948             7   \n",
       "1                                  Water for Elephants      963             6   \n",
       "2                                     The Glass Castle      734             6   \n",
       "3    Harry Potter and the Prisoner of Azkaban (Harr...      302             6   \n",
       "4    The Curious Incident of the Dog in the Night-Time      695             6   \n",
       "..                                                 ...      ...           ...   \n",
       "995    Anne Rice's The Vampire Lestat: A Graphic Novel       83             0   \n",
       "996                            The Natural Way to Draw      808             0   \n",
       "997   The Cat in the Hat and Other Dr. Seuss Favorites      672             0   \n",
       "998                          Essential Tales and Poems      221             0   \n",
       "999  Disney's Beauty and the Beast (A Little Golden...      191             0   \n",
       "\n",
       "     average_rating  \n",
       "0          3.662500  \n",
       "1          3.977273  \n",
       "2          4.206897  \n",
       "3          4.414634  \n",
       "4          4.081081  \n",
       "..              ...  \n",
       "995        3.666667  \n",
       "996        3.000000  \n",
       "997        5.000000  \n",
       "998        4.000000  \n",
       "999        4.000000  \n",
       "\n",
       "[1000 rows x 4 columns]"
      ]
     },
     "execution_count": 13,
     "metadata": {},
     "output_type": "execute_result"
    }
   ],
   "source": [
    "book_rate = 'SELECT b.title,b.book_id, COUNT(DISTINCT e.review_id) AS review_count, AVG(r.rating) AS average_rating \\\n",
    "FROM books AS b \\\n",
    "LEFT JOIN reviews AS e ON b.book_id = e.book_id \\\n",
    "LEFT JOIN ratings AS r ON b.book_id = r.book_id \\\n",
    "GROUP BY b.book_id,b.title \\\n",
    "ORDER BY review_count DESC'\n",
    "\n",
    "get_sql_data(book_rate)"
   ]
  },
  {
   "cell_type": "markdown",
   "metadata": {},
   "source": [
    "комментарий:\n",
    " - Самое большое кол-во обзоров у книги Twilight, но средний рейтинг не самый выскоий."
   ]
  },
  {
   "cell_type": "markdown",
   "metadata": {},
   "source": [
    "### Определим издательство, которое выпустило наибольшее число книг толще 50 страниц — так  исключим из анализа брошюры;"
   ]
  },
  {
   "cell_type": "code",
   "execution_count": 14,
   "metadata": {},
   "outputs": [
    {
     "data": {
      "text/html": [
       "<div>\n",
       "<style scoped>\n",
       "    .dataframe tbody tr th:only-of-type {\n",
       "        vertical-align: middle;\n",
       "    }\n",
       "\n",
       "    .dataframe tbody tr th {\n",
       "        vertical-align: top;\n",
       "    }\n",
       "\n",
       "    .dataframe thead th {\n",
       "        text-align: right;\n",
       "    }\n",
       "</style>\n",
       "<table border=\"1\" class=\"dataframe\">\n",
       "  <thead>\n",
       "    <tr style=\"text-align: right;\">\n",
       "      <th></th>\n",
       "      <th>publisher</th>\n",
       "      <th>books_qantity</th>\n",
       "    </tr>\n",
       "  </thead>\n",
       "  <tbody>\n",
       "    <tr>\n",
       "      <th>0</th>\n",
       "      <td>Penguin Books</td>\n",
       "      <td>42</td>\n",
       "    </tr>\n",
       "  </tbody>\n",
       "</table>\n",
       "</div>"
      ],
      "text/plain": [
       "       publisher  books_qantity\n",
       "0  Penguin Books             42"
      ]
     },
     "execution_count": 14,
     "metadata": {},
     "output_type": "execute_result"
    }
   ],
   "source": [
    "pub = 'SELECT p.publisher,COUNT(title) AS books_qantity \\\n",
    "FROM publishers AS p \\\n",
    "JOIN books AS b ON b.publisher_id = p.publisher_id \\\n",
    "WHERE b.num_pages > 50 \\\n",
    "GROUP BY p.publisher \\\n",
    "ORDER BY books_qantity DESC \\\n",
    "LIMIT 1;'\n",
    "get_sql_data(pub)\n"
   ]
  },
  {
   "cell_type": "markdown",
   "metadata": {},
   "source": [
    "комментарий:\n",
    " - Penguin Books выпустило больше всего книг толще 50 страниц.Всего 42."
   ]
  },
  {
   "cell_type": "markdown",
   "metadata": {},
   "source": [
    "### Определим автора с самой высокой средней оценкой книг — учитываем только книги с 50 и более оценками;"
   ]
  },
  {
   "cell_type": "code",
   "execution_count": 15,
   "metadata": {},
   "outputs": [
    {
     "data": {
      "text/html": [
       "<div>\n",
       "<style scoped>\n",
       "    .dataframe tbody tr th:only-of-type {\n",
       "        vertical-align: middle;\n",
       "    }\n",
       "\n",
       "    .dataframe tbody tr th {\n",
       "        vertical-align: top;\n",
       "    }\n",
       "\n",
       "    .dataframe thead th {\n",
       "        text-align: right;\n",
       "    }\n",
       "</style>\n",
       "<table border=\"1\" class=\"dataframe\">\n",
       "  <thead>\n",
       "    <tr style=\"text-align: right;\">\n",
       "      <th></th>\n",
       "      <th>author</th>\n",
       "      <th>average_rating</th>\n",
       "    </tr>\n",
       "  </thead>\n",
       "  <tbody>\n",
       "    <tr>\n",
       "      <th>0</th>\n",
       "      <td>J.K. Rowling/Mary GrandPré</td>\n",
       "      <td>4.283844</td>\n",
       "    </tr>\n",
       "  </tbody>\n",
       "</table>\n",
       "</div>"
      ],
      "text/plain": [
       "                       author  average_rating\n",
       "0  J.K. Rowling/Mary GrandPré        4.283844"
      ]
     },
     "execution_count": 15,
     "metadata": {},
     "output_type": "execute_result"
    }
   ],
   "source": [
    "great_author_1 = 'SELECT q.author AS author, AVG(q.average_rating) AS average_rating \\\n",
    "FROM ( \\\n",
    "SELECT a.author AS author,b.book_id AS book_id,AVG(r.rating) AS average_rating,COUNT(r.rating) AS cnt_rating \\\n",
    "FROM books AS b \\\n",
    "JOIN ratings AS r ON r.book_id = b.book_id \\\n",
    "JOIN authors AS a ON b.author_id = a.author_id \\\n",
    "GROUP BY a.author,b.book_id \\\n",
    "HAVING COUNT(r.rating_id) >= 50 \\\n",
    ") AS q \\\n",
    "GROUP BY q.author \\\n",
    "ORDER BY average_rating DESC \\\n",
    "LIMIT 1'\n",
    "\n",
    "get_sql_data(great_author_1)"
   ]
  },
  {
   "cell_type": "markdown",
   "metadata": {},
   "source": [
    "комментарий:\n",
    " - J.K. Rowling/Mary GrandPré\t имеет самую высокий средний рейтинг в 4.28 с учетом 50 и более оценок на ее книги"
   ]
  },
  {
   "cell_type": "markdown",
   "metadata": {},
   "source": [
    "### Посчитаем среднее количество обзоров от пользователей, которые поставили больше 48 оценок"
   ]
  },
  {
   "cell_type": "code",
   "execution_count": 16,
   "metadata": {},
   "outputs": [
    {
     "data": {
      "text/html": [
       "<div>\n",
       "<style scoped>\n",
       "    .dataframe tbody tr th:only-of-type {\n",
       "        vertical-align: middle;\n",
       "    }\n",
       "\n",
       "    .dataframe tbody tr th {\n",
       "        vertical-align: top;\n",
       "    }\n",
       "\n",
       "    .dataframe thead th {\n",
       "        text-align: right;\n",
       "    }\n",
       "</style>\n",
       "<table border=\"1\" class=\"dataframe\">\n",
       "  <thead>\n",
       "    <tr style=\"text-align: right;\">\n",
       "      <th></th>\n",
       "      <th>average_review_count</th>\n",
       "    </tr>\n",
       "  </thead>\n",
       "  <tbody>\n",
       "    <tr>\n",
       "      <th>0</th>\n",
       "      <td>24.0</td>\n",
       "    </tr>\n",
       "  </tbody>\n",
       "</table>\n",
       "</div>"
      ],
      "text/plain": [
       "   average_review_count\n",
       "0                  24.0"
      ]
     },
     "execution_count": 16,
     "metadata": {},
     "output_type": "execute_result"
    }
   ],
   "source": [
    "great_users = 'SELECT AVG(review_count) AS average_review_count \\\n",
    "FROM ( \\\n",
    "    SELECT r.username, COUNT(DISTINCT r.text) AS review_count \\\n",
    "    FROM reviews AS r \\\n",
    "    JOIN ( \\\n",
    "        SELECT username, COUNT(*) AS rating_count \\\n",
    "        FROM ratings \\\n",
    "        GROUP BY username \\\n",
    "        HAVING COUNT(*) > 48 \\\n",
    "    ) AS ra ON r.username = ra.username \\\n",
    "    GROUP BY r.username \\\n",
    ") as subquery'\n",
    "\n",
    "get_sql_data(great_users)"
   ]
  },
  {
   "cell_type": "markdown",
   "metadata": {},
   "source": [
    "комменатрий:\n",
    " - среднее кол-во обзоров от пользователей,которые поставили больше 48 оценок, 24 обзора"
   ]
  },
  {
   "cell_type": "markdown",
   "metadata": {},
   "source": [
    "### Вывод:"
   ]
  },
  {
   "cell_type": "markdown",
   "metadata": {},
   "source": [
    "- Сервис обладает набором из 1000 книг. Большинство были выпущены относительно недавно.819 выпущенных с 1 января 2000 года предлагается в сервисе, значит сервис ориентируется на современную литературу. \n",
    "- Каждая из 1000 книг имеет обзор со стороны пользователей и оценки, что может помочь потенциальным покупателям в выборе книги\n",
    "- Высоко оценный писатель в сервисе, это J.K. Rowling/Mary GrandPré\tу нее средняя оценка 4.28\n",
    "- Были выбраны пользователи, которые поставили более 48 оценок книгам, среди них было рассчитано среднее число обзоров, которые они делают, получилось 24,3 обзора на такого пользователя, их можно отнести к наиболее активным читателям в разрезе данного датасет\n",
    "\n",
    "На основании проведенного анализа можно сказать, что в сервисе достаточно активные пользователи, несмотря на относительно небольшую подборку книг. С учетом просмотренных рейтингов можно составить портрет пользователей, и пополнять сервис книгами от соответствующих авторов или новых, но с похожим жанром или стилем написания"
   ]
  }
 ],
 "metadata": {
  "ExecuteTimeLog": [
   {
    "duration": 9918,
    "start_time": "2023-10-15T15:19:44.564Z"
   },
   {
    "duration": 259,
    "start_time": "2023-10-15T15:20:35.912Z"
   },
   {
    "duration": 52,
    "start_time": "2023-10-15T15:20:43.922Z"
   },
   {
    "duration": 54,
    "start_time": "2023-10-15T15:21:32.340Z"
   },
   {
    "duration": 51,
    "start_time": "2023-10-15T15:21:41.044Z"
   },
   {
    "duration": 52,
    "start_time": "2023-10-15T15:22:32.519Z"
   },
   {
    "duration": 51,
    "start_time": "2023-10-15T15:22:40.551Z"
   },
   {
    "duration": 53,
    "start_time": "2023-10-15T15:25:21.152Z"
   },
   {
    "duration": 51,
    "start_time": "2023-10-15T15:25:27.608Z"
   },
   {
    "duration": 70,
    "start_time": "2023-10-15T15:25:39.572Z"
   },
   {
    "duration": 52,
    "start_time": "2023-10-15T15:26:04.122Z"
   },
   {
    "duration": 52,
    "start_time": "2023-10-15T15:26:14.032Z"
   },
   {
    "duration": 104,
    "start_time": "2023-10-15T15:26:21.453Z"
   },
   {
    "duration": 51,
    "start_time": "2023-10-15T15:26:44.617Z"
   },
   {
    "duration": 95,
    "start_time": "2023-10-15T15:27:22.201Z"
   },
   {
    "duration": 94,
    "start_time": "2023-10-15T15:27:32.876Z"
   },
   {
    "duration": 52,
    "start_time": "2023-10-15T15:27:54.036Z"
   },
   {
    "duration": 56,
    "start_time": "2023-10-15T15:29:23.872Z"
   },
   {
    "duration": 54,
    "start_time": "2023-10-15T15:29:55.050Z"
   },
   {
    "duration": 9958,
    "start_time": "2023-10-15T15:30:51.940Z"
   },
   {
    "duration": 263,
    "start_time": "2023-10-15T15:31:01.901Z"
   },
   {
    "duration": 53,
    "start_time": "2023-10-15T15:31:02.166Z"
   },
   {
    "duration": 56,
    "start_time": "2023-10-15T15:31:02.221Z"
   },
   {
    "duration": 53,
    "start_time": "2023-10-15T15:31:02.280Z"
   },
   {
    "duration": 66,
    "start_time": "2023-10-15T15:31:02.335Z"
   },
   {
    "duration": 53,
    "start_time": "2023-10-15T15:31:02.403Z"
   },
   {
    "duration": 70,
    "start_time": "2023-10-15T15:31:02.458Z"
   },
   {
    "duration": 53,
    "start_time": "2023-10-15T15:31:02.530Z"
   },
   {
    "duration": 54,
    "start_time": "2023-10-15T15:31:02.584Z"
   },
   {
    "duration": 53,
    "start_time": "2023-10-15T15:31:02.640Z"
   },
   {
    "duration": 53,
    "start_time": "2023-10-15T15:31:02.694Z"
   },
   {
    "duration": 109,
    "start_time": "2023-10-15T15:31:02.749Z"
   },
   {
    "duration": 54,
    "start_time": "2023-10-15T15:31:02.860Z"
   },
   {
    "duration": 57,
    "start_time": "2023-10-15T15:31:02.916Z"
   },
   {
    "duration": 57,
    "start_time": "2023-10-15T15:31:02.975Z"
   },
   {
    "duration": 8,
    "start_time": "2023-10-15T19:03:02.768Z"
   },
   {
    "duration": 41,
    "start_time": "2023-10-15T19:03:25.269Z"
   },
   {
    "duration": 11087,
    "start_time": "2023-10-15T19:03:34.186Z"
   },
   {
    "duration": 250,
    "start_time": "2023-10-15T19:03:45.275Z"
   },
   {
    "duration": 54,
    "start_time": "2023-10-15T19:03:45.527Z"
   },
   {
    "duration": 56,
    "start_time": "2023-10-15T19:03:45.584Z"
   },
   {
    "duration": 54,
    "start_time": "2023-10-15T19:03:45.641Z"
   },
   {
    "duration": 56,
    "start_time": "2023-10-15T19:03:45.696Z"
   },
   {
    "duration": 59,
    "start_time": "2023-10-15T19:03:45.755Z"
   },
   {
    "duration": 65,
    "start_time": "2023-10-15T19:03:45.816Z"
   },
   {
    "duration": 57,
    "start_time": "2023-10-15T19:03:45.883Z"
   },
   {
    "duration": 55,
    "start_time": "2023-10-15T19:03:45.943Z"
   },
   {
    "duration": 53,
    "start_time": "2023-10-15T19:03:46.000Z"
   },
   {
    "duration": 53,
    "start_time": "2023-10-15T19:03:46.055Z"
   },
   {
    "duration": 94,
    "start_time": "2023-10-15T19:03:46.110Z"
   },
   {
    "duration": 57,
    "start_time": "2023-10-15T19:03:46.206Z"
   },
   {
    "duration": 60,
    "start_time": "2023-10-15T19:03:46.265Z"
   },
   {
    "duration": 61,
    "start_time": "2023-10-15T19:03:46.327Z"
   },
   {
    "duration": 58,
    "start_time": "2023-10-15T19:03:46.390Z"
   },
   {
    "duration": 59,
    "start_time": "2023-10-15T19:06:06.038Z"
   },
   {
    "duration": 145,
    "start_time": "2023-10-15T19:08:01.882Z"
   },
   {
    "duration": 66,
    "start_time": "2023-10-15T19:08:24.938Z"
   },
   {
    "duration": 83,
    "start_time": "2023-10-15T19:08:30.401Z"
   },
   {
    "duration": 58,
    "start_time": "2023-10-15T19:08:33.797Z"
   },
   {
    "duration": 77,
    "start_time": "2023-10-15T19:13:08.825Z"
   },
   {
    "duration": 106,
    "start_time": "2023-10-15T19:16:40.603Z"
   },
   {
    "duration": 75,
    "start_time": "2023-10-15T19:16:55.169Z"
   },
   {
    "duration": 81,
    "start_time": "2023-10-15T19:17:00.618Z"
   },
   {
    "duration": 76,
    "start_time": "2023-10-15T19:17:06.147Z"
   },
   {
    "duration": 329,
    "start_time": "2023-10-15T19:17:09.498Z"
   },
   {
    "duration": 66,
    "start_time": "2023-10-15T19:17:15.269Z"
   },
   {
    "duration": 93,
    "start_time": "2023-10-15T19:17:30.495Z"
   },
   {
    "duration": 79,
    "start_time": "2023-10-15T19:17:36.426Z"
   },
   {
    "duration": 120,
    "start_time": "2023-10-15T19:18:01.019Z"
   },
   {
    "duration": 85,
    "start_time": "2023-10-15T19:18:04.022Z"
   },
   {
    "duration": 85,
    "start_time": "2023-10-15T19:18:10.713Z"
   },
   {
    "duration": 126,
    "start_time": "2023-10-15T19:19:10.380Z"
   },
   {
    "duration": 100,
    "start_time": "2023-10-15T19:19:43.176Z"
   },
   {
    "duration": 74,
    "start_time": "2023-10-15T19:19:49.425Z"
   },
   {
    "duration": 80,
    "start_time": "2023-10-15T19:19:52.608Z"
   },
   {
    "duration": 105,
    "start_time": "2023-10-15T19:19:55.463Z"
   },
   {
    "duration": 107,
    "start_time": "2023-10-15T19:20:00.048Z"
   },
   {
    "duration": 78,
    "start_time": "2023-10-15T19:20:42.261Z"
   },
   {
    "duration": 60,
    "start_time": "2023-10-15T19:21:58.312Z"
   },
   {
    "duration": 68,
    "start_time": "2023-10-15T19:22:31.745Z"
   },
   {
    "duration": 65,
    "start_time": "2023-10-15T19:22:53.765Z"
   },
   {
    "duration": 66,
    "start_time": "2023-10-15T19:23:02.902Z"
   },
   {
    "duration": 64,
    "start_time": "2023-10-15T19:23:57.641Z"
   },
   {
    "duration": 67,
    "start_time": "2023-10-15T19:24:01.535Z"
   },
   {
    "duration": 65,
    "start_time": "2023-10-15T19:24:25.320Z"
   },
   {
    "duration": 70,
    "start_time": "2023-10-15T19:25:46.056Z"
   },
   {
    "duration": 69,
    "start_time": "2023-10-15T19:26:34.776Z"
   },
   {
    "duration": 66,
    "start_time": "2023-10-15T19:27:25.460Z"
   },
   {
    "duration": 66,
    "start_time": "2023-10-15T19:27:43.839Z"
   },
   {
    "duration": 67,
    "start_time": "2023-10-15T19:28:18.399Z"
   },
   {
    "duration": 65,
    "start_time": "2023-10-15T19:28:26.463Z"
   },
   {
    "duration": 59,
    "start_time": "2023-10-15T19:29:29.077Z"
   },
   {
    "duration": 3,
    "start_time": "2023-10-15T19:31:33.321Z"
   },
   {
    "duration": 65,
    "start_time": "2023-10-15T19:31:45.495Z"
   },
   {
    "duration": 61,
    "start_time": "2023-10-15T19:32:12.204Z"
   },
   {
    "duration": 61,
    "start_time": "2023-10-15T19:32:30.633Z"
   },
   {
    "duration": 82,
    "start_time": "2023-10-15T19:35:14.749Z"
   },
   {
    "duration": 67,
    "start_time": "2023-10-15T19:35:17.936Z"
   },
   {
    "duration": 68,
    "start_time": "2023-10-15T19:36:55.024Z"
   },
   {
    "duration": 68,
    "start_time": "2023-10-15T19:37:00.443Z"
   },
   {
    "duration": 69,
    "start_time": "2023-10-15T19:37:16.955Z"
   },
   {
    "duration": 59,
    "start_time": "2023-10-15T19:42:52.435Z"
   },
   {
    "duration": 67,
    "start_time": "2023-10-15T19:43:27.770Z"
   },
   {
    "duration": 62,
    "start_time": "2023-10-15T19:44:55.975Z"
   },
   {
    "duration": 63,
    "start_time": "2023-10-15T19:45:01.683Z"
   },
   {
    "duration": 58,
    "start_time": "2023-10-15T19:47:37.236Z"
   },
   {
    "duration": 65,
    "start_time": "2023-10-15T19:53:14.579Z"
   },
   {
    "duration": 65,
    "start_time": "2023-10-15T19:53:40.609Z"
   },
   {
    "duration": 68,
    "start_time": "2023-10-15T19:53:58.950Z"
   },
   {
    "duration": 65,
    "start_time": "2023-10-15T19:54:24.599Z"
   },
   {
    "duration": 65,
    "start_time": "2023-10-15T19:54:34.039Z"
   },
   {
    "duration": 58,
    "start_time": "2023-10-15T19:54:54.911Z"
   },
   {
    "duration": 65,
    "start_time": "2023-10-15T19:55:50.555Z"
   },
   {
    "duration": 68,
    "start_time": "2023-10-15T19:55:55.369Z"
   },
   {
    "duration": 59,
    "start_time": "2023-10-15T19:58:39.529Z"
   },
   {
    "duration": 60,
    "start_time": "2023-10-15T19:59:24.504Z"
   },
   {
    "duration": 60,
    "start_time": "2023-10-15T19:59:45.185Z"
   },
   {
    "duration": 65,
    "start_time": "2023-10-15T20:00:49.543Z"
   },
   {
    "duration": 62,
    "start_time": "2023-10-15T20:01:05.803Z"
   },
   {
    "duration": 58,
    "start_time": "2023-10-15T20:01:37.837Z"
   },
   {
    "duration": 79,
    "start_time": "2023-10-15T20:02:29.966Z"
   },
   {
    "duration": 81,
    "start_time": "2023-10-15T20:05:47.282Z"
   },
   {
    "duration": 8,
    "start_time": "2023-10-15T20:05:52.150Z"
   },
   {
    "duration": 9,
    "start_time": "2023-10-15T20:06:31.294Z"
   },
   {
    "duration": 9,
    "start_time": "2023-10-15T20:06:46.412Z"
   },
   {
    "duration": 1548,
    "start_time": "2023-10-15T20:06:56.146Z"
   },
   {
    "duration": 7,
    "start_time": "2023-10-15T20:08:54.241Z"
   },
   {
    "duration": 3,
    "start_time": "2023-10-15T20:09:06.848Z"
   },
   {
    "duration": 1549,
    "start_time": "2023-10-15T20:09:40.982Z"
   },
   {
    "duration": 60,
    "start_time": "2023-10-15T20:09:49.791Z"
   },
   {
    "duration": 77,
    "start_time": "2023-10-15T20:13:33.290Z"
   },
   {
    "duration": 84,
    "start_time": "2023-10-15T20:14:06.363Z"
   },
   {
    "duration": 53,
    "start_time": "2023-10-15T20:14:11.492Z"
   },
   {
    "duration": 55,
    "start_time": "2023-10-15T20:15:25.733Z"
   },
   {
    "duration": 52,
    "start_time": "2023-10-15T20:15:34.573Z"
   },
   {
    "duration": 53,
    "start_time": "2023-10-15T20:15:46.522Z"
   },
   {
    "duration": 200,
    "start_time": "2023-10-15T20:16:08.460Z"
   },
   {
    "duration": 170,
    "start_time": "2023-10-15T20:16:14.031Z"
   },
   {
    "duration": 109,
    "start_time": "2023-10-15T20:16:24.256Z"
   },
   {
    "duration": 381,
    "start_time": "2023-10-15T20:16:36.989Z"
   },
   {
    "duration": 3,
    "start_time": "2023-10-15T20:17:58.425Z"
   },
   {
    "duration": 4,
    "start_time": "2023-10-15T20:18:11.891Z"
   },
   {
    "duration": 3,
    "start_time": "2023-10-15T20:18:19.212Z"
   },
   {
    "duration": 8,
    "start_time": "2023-10-15T20:24:14.152Z"
   },
   {
    "duration": 5,
    "start_time": "2023-10-15T20:24:19.596Z"
   },
   {
    "duration": 8,
    "start_time": "2023-10-15T20:24:28.102Z"
   },
   {
    "duration": 6,
    "start_time": "2023-10-15T20:24:30.917Z"
   },
   {
    "duration": 3,
    "start_time": "2023-10-15T20:24:49.805Z"
   },
   {
    "duration": 3,
    "start_time": "2023-10-15T20:24:56.317Z"
   },
   {
    "duration": 4,
    "start_time": "2023-10-15T20:25:04.353Z"
   },
   {
    "duration": 4,
    "start_time": "2023-10-15T20:25:15.101Z"
   },
   {
    "duration": 5,
    "start_time": "2023-10-15T20:25:40.372Z"
   },
   {
    "duration": 65,
    "start_time": "2023-10-15T20:25:44.157Z"
   },
   {
    "duration": 69,
    "start_time": "2023-10-15T20:26:46.284Z"
   },
   {
    "duration": 66,
    "start_time": "2023-10-15T20:27:04.350Z"
   },
   {
    "duration": 65,
    "start_time": "2023-10-15T20:28:15.838Z"
   },
   {
    "duration": 9921,
    "start_time": "2023-10-15T20:31:19.167Z"
   },
   {
    "duration": 254,
    "start_time": "2023-10-15T20:31:29.090Z"
   },
   {
    "duration": 52,
    "start_time": "2023-10-15T20:31:29.345Z"
   },
   {
    "duration": 56,
    "start_time": "2023-10-15T20:31:29.399Z"
   },
   {
    "duration": 52,
    "start_time": "2023-10-15T20:31:29.457Z"
   },
   {
    "duration": 54,
    "start_time": "2023-10-15T20:31:29.510Z"
   },
   {
    "duration": 54,
    "start_time": "2023-10-15T20:31:29.566Z"
   },
   {
    "duration": 55,
    "start_time": "2023-10-15T20:31:29.622Z"
   },
   {
    "duration": 54,
    "start_time": "2023-10-15T20:31:29.679Z"
   },
   {
    "duration": 55,
    "start_time": "2023-10-15T20:31:29.735Z"
   },
   {
    "duration": 52,
    "start_time": "2023-10-15T20:31:29.792Z"
   },
   {
    "duration": 127,
    "start_time": "2023-10-15T20:31:29.846Z"
   },
   {
    "duration": 0,
    "start_time": "2023-10-15T20:31:29.975Z"
   },
   {
    "duration": 0,
    "start_time": "2023-10-15T20:31:29.977Z"
   },
   {
    "duration": 0,
    "start_time": "2023-10-15T20:31:29.978Z"
   },
   {
    "duration": 0,
    "start_time": "2023-10-15T20:31:29.978Z"
   },
   {
    "duration": 0,
    "start_time": "2023-10-15T20:31:29.979Z"
   },
   {
    "duration": 64,
    "start_time": "2023-10-15T20:32:37.076Z"
   },
   {
    "duration": 64,
    "start_time": "2023-10-15T20:32:41.730Z"
   },
   {
    "duration": 64,
    "start_time": "2023-10-15T20:32:43.604Z"
   },
   {
    "duration": 66,
    "start_time": "2023-10-15T20:33:16.616Z"
   },
   {
    "duration": 3,
    "start_time": "2023-10-15T20:33:37.318Z"
   },
   {
    "duration": 69,
    "start_time": "2023-10-15T20:33:51.701Z"
   },
   {
    "duration": 3,
    "start_time": "2023-10-15T20:34:23.885Z"
   },
   {
    "duration": 4,
    "start_time": "2023-10-15T20:34:32.620Z"
   },
   {
    "duration": 53,
    "start_time": "2023-10-15T20:35:12.467Z"
   },
   {
    "duration": 54,
    "start_time": "2023-10-15T20:36:01.678Z"
   },
   {
    "duration": 52,
    "start_time": "2023-10-15T20:36:04.724Z"
   },
   {
    "duration": 53,
    "start_time": "2023-10-15T20:36:08.705Z"
   },
   {
    "duration": 64,
    "start_time": "2023-10-15T20:36:20.168Z"
   },
   {
    "duration": 64,
    "start_time": "2023-10-15T20:37:37.867Z"
   },
   {
    "duration": 67,
    "start_time": "2023-10-15T20:37:44.966Z"
   },
   {
    "duration": 64,
    "start_time": "2023-10-15T20:38:11.280Z"
   },
   {
    "duration": 66,
    "start_time": "2023-10-15T20:38:12.906Z"
   },
   {
    "duration": 53,
    "start_time": "2023-10-15T20:43:37.059Z"
   },
   {
    "duration": 52,
    "start_time": "2023-10-15T20:44:05.282Z"
   },
   {
    "duration": 64,
    "start_time": "2023-10-15T20:44:26.685Z"
   },
   {
    "duration": 53,
    "start_time": "2023-10-15T20:44:31.586Z"
   },
   {
    "duration": 64,
    "start_time": "2023-10-15T20:44:47.204Z"
   },
   {
    "duration": 53,
    "start_time": "2023-10-15T20:44:50.710Z"
   },
   {
    "duration": 9515,
    "start_time": "2023-10-15T20:45:55.306Z"
   },
   {
    "duration": 251,
    "start_time": "2023-10-15T20:46:04.823Z"
   },
   {
    "duration": 67,
    "start_time": "2023-10-15T20:46:05.076Z"
   },
   {
    "duration": 0,
    "start_time": "2023-10-15T20:46:05.146Z"
   },
   {
    "duration": 0,
    "start_time": "2023-10-15T20:46:05.147Z"
   },
   {
    "duration": 0,
    "start_time": "2023-10-15T20:46:05.148Z"
   },
   {
    "duration": 0,
    "start_time": "2023-10-15T20:46:05.149Z"
   },
   {
    "duration": 0,
    "start_time": "2023-10-15T20:46:05.150Z"
   },
   {
    "duration": 0,
    "start_time": "2023-10-15T20:46:05.151Z"
   },
   {
    "duration": 0,
    "start_time": "2023-10-15T20:46:05.153Z"
   },
   {
    "duration": 0,
    "start_time": "2023-10-15T20:46:05.154Z"
   },
   {
    "duration": 0,
    "start_time": "2023-10-15T20:46:05.155Z"
   },
   {
    "duration": 0,
    "start_time": "2023-10-15T20:46:05.157Z"
   },
   {
    "duration": 0,
    "start_time": "2023-10-15T20:46:05.158Z"
   },
   {
    "duration": 0,
    "start_time": "2023-10-15T20:46:05.160Z"
   },
   {
    "duration": 0,
    "start_time": "2023-10-15T20:46:05.161Z"
   },
   {
    "duration": 0,
    "start_time": "2023-10-15T20:46:05.162Z"
   },
   {
    "duration": 0,
    "start_time": "2023-10-15T20:46:05.163Z"
   },
   {
    "duration": 0,
    "start_time": "2023-10-15T20:46:05.164Z"
   },
   {
    "duration": 3,
    "start_time": "2023-10-15T20:46:19.703Z"
   },
   {
    "duration": 2,
    "start_time": "2023-10-15T20:46:20.853Z"
   },
   {
    "duration": 3,
    "start_time": "2023-10-15T20:46:50.573Z"
   },
   {
    "duration": 3,
    "start_time": "2023-10-15T20:46:51.620Z"
   },
   {
    "duration": 179,
    "start_time": "2023-10-15T20:47:25.223Z"
   },
   {
    "duration": 63,
    "start_time": "2023-10-15T20:47:49.082Z"
   },
   {
    "duration": 53,
    "start_time": "2023-10-15T20:48:22.353Z"
   },
   {
    "duration": 169,
    "start_time": "2023-10-15T20:48:30.780Z"
   },
   {
    "duration": 54,
    "start_time": "2023-10-15T20:49:16.126Z"
   },
   {
    "duration": 55,
    "start_time": "2023-10-15T20:49:22.480Z"
   },
   {
    "duration": 54,
    "start_time": "2023-10-15T20:49:23.936Z"
   },
   {
    "duration": 52,
    "start_time": "2023-10-15T20:49:43.312Z"
   },
   {
    "duration": 55,
    "start_time": "2023-10-15T20:49:58.606Z"
   },
   {
    "duration": 54,
    "start_time": "2023-10-15T20:51:50.023Z"
   },
   {
    "duration": 55,
    "start_time": "2023-10-15T20:51:52.799Z"
   },
   {
    "duration": 54,
    "start_time": "2023-10-15T20:52:08.465Z"
   },
   {
    "duration": 53,
    "start_time": "2023-10-15T20:52:22.622Z"
   },
   {
    "duration": 56,
    "start_time": "2023-10-15T20:52:26.033Z"
   },
   {
    "duration": 53,
    "start_time": "2023-10-15T20:52:37.758Z"
   },
   {
    "duration": 55,
    "start_time": "2023-10-15T20:53:27.730Z"
   },
   {
    "duration": 53,
    "start_time": "2023-10-15T20:53:30.533Z"
   },
   {
    "duration": 55,
    "start_time": "2023-10-15T20:53:34.977Z"
   },
   {
    "duration": 53,
    "start_time": "2023-10-15T20:53:35.635Z"
   },
   {
    "duration": 52,
    "start_time": "2023-10-15T20:53:38.563Z"
   },
   {
    "duration": 54,
    "start_time": "2023-10-15T20:54:13.403Z"
   },
   {
    "duration": 52,
    "start_time": "2023-10-15T20:54:18.472Z"
   },
   {
    "duration": 65,
    "start_time": "2023-10-15T20:54:31.124Z"
   },
   {
    "duration": 53,
    "start_time": "2023-10-15T20:54:45.611Z"
   },
   {
    "duration": 53,
    "start_time": "2023-10-15T20:55:11.254Z"
   },
   {
    "duration": 55,
    "start_time": "2023-10-15T20:55:22.313Z"
   },
   {
    "duration": 53,
    "start_time": "2023-10-15T20:55:29.023Z"
   },
   {
    "duration": 3,
    "start_time": "2023-10-15T20:55:53.709Z"
   },
   {
    "duration": 54,
    "start_time": "2023-10-15T20:55:55.268Z"
   },
   {
    "duration": 53,
    "start_time": "2023-10-15T20:55:56.615Z"
   },
   {
    "duration": 53,
    "start_time": "2023-10-15T20:56:06.198Z"
   },
   {
    "duration": 54,
    "start_time": "2023-10-15T20:56:09.636Z"
   },
   {
    "duration": 52,
    "start_time": "2023-10-15T20:56:11.423Z"
   },
   {
    "duration": 54,
    "start_time": "2023-10-15T20:56:16.671Z"
   },
   {
    "duration": 53,
    "start_time": "2023-10-15T20:56:18.271Z"
   },
   {
    "duration": 54,
    "start_time": "2023-10-15T20:56:33.313Z"
   },
   {
    "duration": 55,
    "start_time": "2023-10-15T20:56:33.935Z"
   },
   {
    "duration": 52,
    "start_time": "2023-10-15T20:56:34.473Z"
   },
   {
    "duration": 59,
    "start_time": "2023-10-15T20:56:37.086Z"
   },
   {
    "duration": 54,
    "start_time": "2023-10-15T20:56:37.532Z"
   },
   {
    "duration": 53,
    "start_time": "2023-10-15T20:56:38.523Z"
   },
   {
    "duration": 9357,
    "start_time": "2023-10-15T20:56:48.152Z"
   },
   {
    "duration": 76,
    "start_time": "2023-10-15T20:56:57.511Z"
   },
   {
    "duration": 0,
    "start_time": "2023-10-15T20:56:57.589Z"
   },
   {
    "duration": 0,
    "start_time": "2023-10-15T20:56:57.591Z"
   },
   {
    "duration": 0,
    "start_time": "2023-10-15T20:56:57.592Z"
   },
   {
    "duration": 0,
    "start_time": "2023-10-15T20:56:57.593Z"
   },
   {
    "duration": 0,
    "start_time": "2023-10-15T20:56:57.595Z"
   },
   {
    "duration": 0,
    "start_time": "2023-10-15T20:56:57.596Z"
   },
   {
    "duration": 0,
    "start_time": "2023-10-15T20:56:57.597Z"
   },
   {
    "duration": 0,
    "start_time": "2023-10-15T20:56:57.598Z"
   },
   {
    "duration": 0,
    "start_time": "2023-10-15T20:56:57.599Z"
   },
   {
    "duration": 0,
    "start_time": "2023-10-15T20:56:57.600Z"
   },
   {
    "duration": 0,
    "start_time": "2023-10-15T20:56:57.601Z"
   },
   {
    "duration": 0,
    "start_time": "2023-10-15T20:56:57.601Z"
   },
   {
    "duration": 0,
    "start_time": "2023-10-15T20:56:57.602Z"
   },
   {
    "duration": 0,
    "start_time": "2023-10-15T20:56:57.602Z"
   },
   {
    "duration": 0,
    "start_time": "2023-10-15T20:56:57.603Z"
   },
   {
    "duration": 0,
    "start_time": "2023-10-15T20:56:57.604Z"
   },
   {
    "duration": 0,
    "start_time": "2023-10-15T20:56:57.623Z"
   },
   {
    "duration": 0,
    "start_time": "2023-10-15T20:56:57.624Z"
   },
   {
    "duration": 3,
    "start_time": "2023-10-15T20:57:21.037Z"
   },
   {
    "duration": 275,
    "start_time": "2023-10-15T20:57:22.370Z"
   },
   {
    "duration": 8,
    "start_time": "2023-10-15T20:57:23.101Z"
   },
   {
    "duration": 3,
    "start_time": "2023-10-15T20:57:31.526Z"
   },
   {
    "duration": 56,
    "start_time": "2023-10-15T20:57:31.923Z"
   },
   {
    "duration": 8,
    "start_time": "2023-10-15T20:57:32.619Z"
   },
   {
    "duration": 3,
    "start_time": "2023-10-15T20:57:57.140Z"
   },
   {
    "duration": 55,
    "start_time": "2023-10-15T20:57:58.542Z"
   },
   {
    "duration": 7,
    "start_time": "2023-10-15T20:57:58.867Z"
   },
   {
    "duration": 7,
    "start_time": "2023-10-15T20:58:06.933Z"
   },
   {
    "duration": 3,
    "start_time": "2023-10-15T20:58:17.907Z"
   },
   {
    "duration": 55,
    "start_time": "2023-10-15T20:58:20.456Z"
   },
   {
    "duration": 8,
    "start_time": "2023-10-15T20:58:21.003Z"
   },
   {
    "duration": 8,
    "start_time": "2023-10-15T20:58:40.413Z"
   },
   {
    "duration": 3,
    "start_time": "2023-10-15T20:59:13.791Z"
   },
   {
    "duration": 8,
    "start_time": "2023-10-15T20:59:16.189Z"
   },
   {
    "duration": 2,
    "start_time": "2023-10-15T20:59:18.787Z"
   },
   {
    "duration": 7,
    "start_time": "2023-10-15T20:59:21.528Z"
   },
   {
    "duration": 175,
    "start_time": "2023-10-15T20:59:35.940Z"
   },
   {
    "duration": 54,
    "start_time": "2023-10-15T21:00:07.226Z"
   },
   {
    "duration": 174,
    "start_time": "2023-10-15T21:00:28.292Z"
   },
   {
    "duration": 55,
    "start_time": "2023-10-15T21:00:39.621Z"
   },
   {
    "duration": 56,
    "start_time": "2023-10-15T21:01:31.876Z"
   },
   {
    "duration": 57,
    "start_time": "2023-10-15T21:01:48.637Z"
   },
   {
    "duration": 54,
    "start_time": "2023-10-15T21:01:51.235Z"
   },
   {
    "duration": 54,
    "start_time": "2023-10-15T21:03:43.763Z"
   },
   {
    "duration": 54,
    "start_time": "2023-10-15T21:03:45.452Z"
   },
   {
    "duration": 55,
    "start_time": "2023-10-15T21:08:38.675Z"
   },
   {
    "duration": 53,
    "start_time": "2023-10-15T21:08:50.028Z"
   },
   {
    "duration": 54,
    "start_time": "2023-10-15T21:09:02.325Z"
   },
   {
    "duration": 57,
    "start_time": "2023-10-15T21:09:10.722Z"
   },
   {
    "duration": 54,
    "start_time": "2023-10-15T21:09:11.676Z"
   },
   {
    "duration": 54,
    "start_time": "2023-10-15T21:09:31.735Z"
   },
   {
    "duration": 56,
    "start_time": "2023-10-15T21:09:35.766Z"
   },
   {
    "duration": 53,
    "start_time": "2023-10-15T21:09:47.472Z"
   },
   {
    "duration": 81,
    "start_time": "2023-10-15T21:10:15.429Z"
   },
   {
    "duration": 10330,
    "start_time": "2023-10-15T21:10:27.718Z"
   },
   {
    "duration": 235,
    "start_time": "2023-10-15T21:10:38.050Z"
   },
   {
    "duration": 53,
    "start_time": "2023-10-15T21:10:38.287Z"
   },
   {
    "duration": 56,
    "start_time": "2023-10-15T21:10:38.342Z"
   },
   {
    "duration": 53,
    "start_time": "2023-10-15T21:10:38.401Z"
   },
   {
    "duration": 55,
    "start_time": "2023-10-15T21:10:38.455Z"
   },
   {
    "duration": 53,
    "start_time": "2023-10-15T21:10:38.512Z"
   },
   {
    "duration": 55,
    "start_time": "2023-10-15T21:10:38.566Z"
   },
   {
    "duration": 52,
    "start_time": "2023-10-15T21:10:38.622Z"
   },
   {
    "duration": 53,
    "start_time": "2023-10-15T21:10:38.676Z"
   },
   {
    "duration": 53,
    "start_time": "2023-10-15T21:10:38.731Z"
   },
   {
    "duration": 54,
    "start_time": "2023-10-15T21:10:38.786Z"
   },
   {
    "duration": 98,
    "start_time": "2023-10-15T21:10:38.842Z"
   },
   {
    "duration": 55,
    "start_time": "2023-10-15T21:10:38.942Z"
   },
   {
    "duration": 59,
    "start_time": "2023-10-15T21:10:38.999Z"
   },
   {
    "duration": 55,
    "start_time": "2023-10-15T21:10:39.060Z"
   }
  ],
  "kernelspec": {
   "display_name": "Python 3 (ipykernel)",
   "language": "python",
   "name": "python3"
  },
  "language_info": {
   "codemirror_mode": {
    "name": "ipython",
    "version": 3
   },
   "file_extension": ".py",
   "mimetype": "text/x-python",
   "name": "python",
   "nbconvert_exporter": "python",
   "pygments_lexer": "ipython3",
   "version": "3.9.13"
  },
  "toc": {
   "base_numbering": 1,
   "nav_menu": {},
   "number_sections": true,
   "sideBar": true,
   "skip_h1_title": true,
   "title_cell": "Table of Contents",
   "title_sidebar": "Contents",
   "toc_cell": true,
   "toc_position": {},
   "toc_section_display": true,
   "toc_window_display": false
  }
 },
 "nbformat": 4,
 "nbformat_minor": 2
}
