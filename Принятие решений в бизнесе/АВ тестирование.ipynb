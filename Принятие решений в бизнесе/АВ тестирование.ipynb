{
 "cells": [
  {
   "cell_type": "markdown",
   "metadata": {
    "toc": true
   },
   "source": [
    "<h1>Содержание<span class=\"tocSkip\"></span></h1>\n",
    "<div class=\"toc\"><ul class=\"toc-item\"><li><span><a href=\"#Загрузим-данные-и-подготовим-их-к-анализу\" data-toc-modified-id=\"Загрузим-данные-и-подготовим-их-к-анализу-1\"><span class=\"toc-item-num\">1&nbsp;&nbsp;</span>Загрузим данные и подготовим их к анализу</a></span><ul class=\"toc-item\"><li><span><a href=\"#импортирую-библиотеки\" data-toc-modified-id=\"импортирую-библиотеки-1.1\"><span class=\"toc-item-num\">1.1&nbsp;&nbsp;</span>импортирую библиотеки</a></span></li><li><span><a href=\"#загрузим-и-изучим-данные\" data-toc-modified-id=\"загрузим-и-изучим-данные-1.2\"><span class=\"toc-item-num\">1.2&nbsp;&nbsp;</span>загрузим и изучим данные</a></span><ul class=\"toc-item\"><li><span><a href=\"#Изменение-данных\" data-toc-modified-id=\"Изменение-данных-1.2.1\"><span class=\"toc-item-num\">1.2.1&nbsp;&nbsp;</span>Изменение данных</a></span></li></ul></li><li><span><a href=\"#Посмотрим-на-распределение-количественных-данных-через-гистограммы\" data-toc-modified-id=\"Посмотрим-на-распределение-количественных-данных-через-гистограммы-1.3\"><span class=\"toc-item-num\">1.3&nbsp;&nbsp;</span>Посмотрим на распределение количественных данных через гистограммы</a></span></li><li><span><a href=\"#Проверим-пропуску\" data-toc-modified-id=\"Проверим-пропуску-1.4\"><span class=\"toc-item-num\">1.4&nbsp;&nbsp;</span>Проверим пропуску</a></span></li><li><span><a href=\"#Проверим-на-явные-дубликаты\" data-toc-modified-id=\"Проверим-на-явные-дубликаты-1.5\"><span class=\"toc-item-num\">1.5&nbsp;&nbsp;</span>Проверим на явные дубликаты</a></span></li><li><span><a href=\"#Проверим-на-неявные-дубликаты\" data-toc-modified-id=\"Проверим-на-неявные-дубликаты-1.6\"><span class=\"toc-item-num\">1.6&nbsp;&nbsp;</span>Проверим на неявные дубликаты</a></span></li><li><span><a href=\"#Вывод:\" data-toc-modified-id=\"Вывод:-1.7\"><span class=\"toc-item-num\">1.7&nbsp;&nbsp;</span>Вывод:</a></span></li></ul></li><li><span><a href=\"#Приоритизация-гипотез\" data-toc-modified-id=\"Приоритизация-гипотез-2\"><span class=\"toc-item-num\">2&nbsp;&nbsp;</span>Приоритизация гипотез</a></span><ul class=\"toc-item\"><li><span><a href=\"#Применим-фреймворк-IСE\" data-toc-modified-id=\"Применим-фреймворк-IСE-2.1\"><span class=\"toc-item-num\">2.1&nbsp;&nbsp;</span>Применим фреймворк IСE</a></span></li><li><span><a href=\"#Применим-фреймворк-RIСE\" data-toc-modified-id=\"Применим-фреймворк-RIСE-2.2\"><span class=\"toc-item-num\">2.2&nbsp;&nbsp;</span>Применим фреймворк RIСE</a></span></li><li><span><a href=\"#A/B-тест\" data-toc-modified-id=\"A/B-тест-2.3\"><span class=\"toc-item-num\">2.3&nbsp;&nbsp;</span>A/B-тест</a></span><ul class=\"toc-item\"><li><span><a href=\"#Cобираем-кумулятивные-данные\" data-toc-modified-id=\"Cобираем-кумулятивные-данные-2.3.1\"><span class=\"toc-item-num\">2.3.1&nbsp;&nbsp;</span>Cобираем кумулятивные данные</a></span></li><li><span><a href=\"#Построим-график-кумулятивной-выручки-по-группам\" data-toc-modified-id=\"Построим-график-кумулятивной-выручки-по-группам-2.3.2\"><span class=\"toc-item-num\">2.3.2&nbsp;&nbsp;</span>Построим график кумулятивной выручки по группам</a></span></li><li><span><a href=\"#Построим-график-кумулятивного-среднего-чека-по-группам.\" data-toc-modified-id=\"Построим-график-кумулятивного-среднего-чека-по-группам.-2.3.3\"><span class=\"toc-item-num\">2.3.3&nbsp;&nbsp;</span>Построим график кумулятивного среднего чека по группам.</a></span></li><li><span><a href=\"#Построим-график-относительного-изменения-кумулятивного-среднего-чека-группы-B-к-группе-A.\" data-toc-modified-id=\"Построим-график-относительного-изменения-кумулятивного-среднего-чека-группы-B-к-группе-A.-2.3.4\"><span class=\"toc-item-num\">2.3.4&nbsp;&nbsp;</span>Построим график относительного изменения кумулятивного среднего чека группы B к группе A.</a></span></li><li><span><a href=\"#Построим-график-кумулятивного-среднего-количества-заказов-на-посетителя-по-группам\" data-toc-modified-id=\"Построим-график-кумулятивного-среднего-количества-заказов-на-посетителя-по-группам-2.3.5\"><span class=\"toc-item-num\">2.3.5&nbsp;&nbsp;</span>Построим график кумулятивного среднего количества заказов на посетителя по группам</a></span></li><li><span><a href=\"#Построим-график-относительного-изменения-кумулятивного-среднего-количества-заказов-на-посетителя-группы-B-к-группе-A.\" data-toc-modified-id=\"Построим-график-относительного-изменения-кумулятивного-среднего-количества-заказов-на-посетителя-группы-B-к-группе-A.-2.3.6\"><span class=\"toc-item-num\">2.3.6&nbsp;&nbsp;</span>Построим график относительного изменения кумулятивного среднего количества заказов на посетителя группы B к группе A.</a></span></li><li><span><a href=\"#Построим-точечный-график-количества-заказов-по-пользователям\" data-toc-modified-id=\"Построим-точечный-график-количества-заказов-по-пользователям-2.3.7\"><span class=\"toc-item-num\">2.3.7&nbsp;&nbsp;</span>Построим точечный график количества заказов по пользователям</a></span></li><li><span><a href=\"#Посчитаем-95-й-и-99-й-перцентили-количества-заказов-на-пользователя.\" data-toc-modified-id=\"Посчитаем-95-й-и-99-й-перцентили-количества-заказов-на-пользователя.-2.3.8\"><span class=\"toc-item-num\">2.3.8&nbsp;&nbsp;</span>Посчитаем 95-й и 99-й перцентили количества заказов на пользователя.</a></span></li><li><span><a href=\"#Построим-точечный-график-стоимостей-заказов\" data-toc-modified-id=\"Построим-точечный-график-стоимостей-заказов-2.3.9\"><span class=\"toc-item-num\">2.3.9&nbsp;&nbsp;</span>Построим точечный график стоимостей заказов</a></span></li><li><span><a href=\"#Посчитаем-95-й-и-99-й-перцентили-стоимости-заказов\" data-toc-modified-id=\"Посчитаем-95-й-и-99-й-перцентили-стоимости-заказов-2.3.10\"><span class=\"toc-item-num\">2.3.10&nbsp;&nbsp;</span>Посчитаем 95-й и 99-й перцентили стоимости заказов</a></span></li><li><span><a href=\"#Посчитаем-статистическую-значимость-различий-в-среднем-количестве-заказов-на-посетителя-между-группами-по-«сырым»-данным.\" data-toc-modified-id=\"Посчитаем-статистическую-значимость-различий-в-среднем-количестве-заказов-на-посетителя-между-группами-по-«сырым»-данным.-2.3.11\"><span class=\"toc-item-num\">2.3.11&nbsp;&nbsp;</span>Посчитаем статистическую значимость различий в среднем количестве заказов на посетителя между группами по «сырым» данным.</a></span></li><li><span><a href=\"#Посчитаем-статистическую-значимость-различий-в-среднем-чеке-заказа-между-группами-по-«сырым»-данным.\" data-toc-modified-id=\"Посчитаем-статистическую-значимость-различий-в-среднем-чеке-заказа-между-группами-по-«сырым»-данным.-2.3.12\"><span class=\"toc-item-num\">2.3.12&nbsp;&nbsp;</span>Посчитаем статистическую значимость различий в среднем чеке заказа между группами по «сырым» данным.</a></span></li><li><span><a href=\"#Посчитаем-статистическую-значимость-различий-в-среднем-количестве-заказов-на-посетителя-между-группами-по-«очищенным»-данным.\" data-toc-modified-id=\"Посчитаем-статистическую-значимость-различий-в-среднем-количестве-заказов-на-посетителя-между-группами-по-«очищенным»-данным.-2.3.13\"><span class=\"toc-item-num\">2.3.13&nbsp;&nbsp;</span>Посчитаем статистическую значимость различий в среднем количестве заказов на посетителя между группами по «очищенным» данным.</a></span></li><li><span><a href=\"#Посчитаем-статистическую-значимость-различий-в-среднем-чеке-заказа-между-группами-по-«очищенным»-данным.\" data-toc-modified-id=\"Посчитаем-статистическую-значимость-различий-в-среднем-чеке-заказа-между-группами-по-«очищенным»-данным.-2.3.14\"><span class=\"toc-item-num\">2.3.14&nbsp;&nbsp;</span>Посчитаем статистическую значимость различий в среднем чеке заказа между группами по «очищенным» данным.</a></span></li><li><span><a href=\"#Примем-решение-по-результатам-теста.-Варианты-решений:-1.-Остановить-тест,-зафиксировать-победу-одной-из-групп.-2.-Остановить-тест,-зафиксировать-отсутствие-различий-между-группами.-3.-Продолжить-тест.\" data-toc-modified-id=\"Примем-решение-по-результатам-теста.-Варианты-решений:-1.-Остановить-тест,-зафиксировать-победу-одной-из-групп.-2.-Остановить-тест,-зафиксировать-отсутствие-различий-между-группами.-3.-Продолжить-тест.-2.3.15\"><span class=\"toc-item-num\">2.3.15&nbsp;&nbsp;</span>Примем решение по результатам теста. Варианты решений: 1. Остановить тест, зафиксировать победу одной из групп. 2. Остановить тест, зафиксировать отсутствие различий между группами. 3. Продолжить тест.</a></span></li></ul></li></ul></li></ul></div>"
   ]
  },
  {
   "cell_type": "markdown",
   "metadata": {},
   "source": [
    "# Исследование  и проверка продуктовых гипотез"
   ]
  },
  {
   "cell_type": "markdown",
   "metadata": {},
   "source": [
    "# Исследование\n",
    "\n",
    "Проверить список гипотез по заказам пользователей.Приоритизировать гипотезы и провести А/В тестирование.\n",
    "\n",
    "Цель исследования: Вместе с отделом маркетинга вы подготовить список гипотез для увеличения выручки."
   ]
  },
  {
   "cell_type": "markdown",
   "metadata": {},
   "source": [
    "ПЛАН РАБОТ:\n",
    "\n",
    "- выгрузить данные, провести первичный предпросмотр\n",
    "- очистить данные от пропусков и дубликатов\n",
    "- изменить тип данных при необходимости\n",
    "- провести приоритизацию гепотез используя фрейсворки ICE и RICE\n",
    "- провести А/В тестирование\n",
    "- принять решение стоит ли продолжать тест или завершить   "
   ]
  },
  {
   "cell_type": "markdown",
   "metadata": {},
   "source": [
    "ОПИСАНИЕ ДАННЫХ:\n",
    "\n",
    "Данные для первой части\n",
    "hypothesis.csv. \n",
    "\n",
    "- Hypothesis — краткое описание гипотезы;\n",
    "- Reach — охват пользователей по 10-балльной шкале;\n",
    "- Impact — влияние на пользователей по 10-балльной шкале;\n",
    "- Confidence — уверенность в гипотезе по 10-балльной шкале;\n",
    "- Efforts — затраты ресурсов на проверку гипотезы по 10-балльной шкале. Чем больше значение Efforts, тем дороже проверка гипотезы.\n",
    "\n",
    "\n",
    "Данные для второй части\n",
    "orders.csv. \n",
    "\n",
    "- transactionId — идентификатор заказа;\n",
    "- visitorId — идентификатор пользователя, совершившего заказ;\n",
    "- date — дата, когда был совершён заказ;\n",
    "- revenue — выручка заказа;\n",
    "- group — группа A/B-теста, в которую попал заказ.\n",
    "\n",
    "visitors.csv. \n",
    "- date — дата;\n",
    "- group — группа A/B-теста;\n",
    "- visitors — количество пользователей в указанную дату в указанной группе A/B-теста\n"
   ]
  },
  {
   "cell_type": "markdown",
   "metadata": {},
   "source": [
    "### Загрузим данные и подготовим их к анализу"
   ]
  },
  {
   "cell_type": "markdown",
   "metadata": {},
   "source": [
    "#### импортирую библиотеки"
   ]
  },
  {
   "cell_type": "code",
   "execution_count": 1,
   "metadata": {},
   "outputs": [],
   "source": [
    "import pandas as pd\n",
    "import scipy.stats as stats\n",
    "import datetime as dt\n",
    "import numpy as np\n",
    "from datetime import datetime, timedelta\n",
    "from matplotlib import pyplot as plt\n",
    "import warnings\n",
    "\n",
    "warnings.filterwarnings(\"ignore\")"
   ]
  },
  {
   "cell_type": "markdown",
   "metadata": {},
   "source": [
    "#### загрузим и изучим данные"
   ]
  },
  {
   "cell_type": "code",
   "execution_count": 2,
   "metadata": {},
   "outputs": [],
   "source": [
    "try:\n",
    "    hypothesis = pd.read_csv('/datasets/hypothesis.csv')\n",
    "    orders = pd.read_csv('/datasets/orders.csv')\n",
    "    visitors = pd.read_csv('/datasets/visitors.csv')\n",
    "except Exception as e:\n",
    "    print(\"An error occurred:\", str(e))\n",
    "    hypothesis = pd.DataFrame()\n",
    "    orders = pd.DataFrame()\n",
    "    visitors = pd.DataFrame()\n",
    "   "
   ]
  },
  {
   "cell_type": "code",
   "execution_count": 3,
   "metadata": {},
   "outputs": [
    {
     "data": {
      "text/html": [
       "<div>\n",
       "<style scoped>\n",
       "    .dataframe tbody tr th:only-of-type {\n",
       "        vertical-align: middle;\n",
       "    }\n",
       "\n",
       "    .dataframe tbody tr th {\n",
       "        vertical-align: top;\n",
       "    }\n",
       "\n",
       "    .dataframe thead th {\n",
       "        text-align: right;\n",
       "    }\n",
       "</style>\n",
       "<table border=\"1\" class=\"dataframe\">\n",
       "  <thead>\n",
       "    <tr style=\"text-align: right;\">\n",
       "      <th></th>\n",
       "      <th>Hypothesis</th>\n",
       "      <th>Reach</th>\n",
       "      <th>Impact</th>\n",
       "      <th>Confidence</th>\n",
       "      <th>Efforts</th>\n",
       "    </tr>\n",
       "  </thead>\n",
       "  <tbody>\n",
       "    <tr>\n",
       "      <th>0</th>\n",
       "      <td>Добавить два новых канала привлечения трафика,...</td>\n",
       "      <td>3</td>\n",
       "      <td>10</td>\n",
       "      <td>8</td>\n",
       "      <td>6</td>\n",
       "    </tr>\n",
       "    <tr>\n",
       "      <th>1</th>\n",
       "      <td>Запустить собственную службу доставки, что сок...</td>\n",
       "      <td>2</td>\n",
       "      <td>5</td>\n",
       "      <td>4</td>\n",
       "      <td>10</td>\n",
       "    </tr>\n",
       "    <tr>\n",
       "      <th>2</th>\n",
       "      <td>Добавить блоки рекомендаций товаров на сайт ин...</td>\n",
       "      <td>8</td>\n",
       "      <td>3</td>\n",
       "      <td>7</td>\n",
       "      <td>3</td>\n",
       "    </tr>\n",
       "    <tr>\n",
       "      <th>3</th>\n",
       "      <td>Изменить структура категорий, что увеличит кон...</td>\n",
       "      <td>8</td>\n",
       "      <td>3</td>\n",
       "      <td>3</td>\n",
       "      <td>8</td>\n",
       "    </tr>\n",
       "    <tr>\n",
       "      <th>4</th>\n",
       "      <td>Изменить цвет фона главной страницы, чтобы уве...</td>\n",
       "      <td>3</td>\n",
       "      <td>1</td>\n",
       "      <td>1</td>\n",
       "      <td>1</td>\n",
       "    </tr>\n",
       "  </tbody>\n",
       "</table>\n",
       "</div>"
      ],
      "text/plain": [
       "                                          Hypothesis  Reach  Impact  \\\n",
       "0  Добавить два новых канала привлечения трафика,...      3      10   \n",
       "1  Запустить собственную службу доставки, что сок...      2       5   \n",
       "2  Добавить блоки рекомендаций товаров на сайт ин...      8       3   \n",
       "3  Изменить структура категорий, что увеличит кон...      8       3   \n",
       "4  Изменить цвет фона главной страницы, чтобы уве...      3       1   \n",
       "\n",
       "   Confidence  Efforts  \n",
       "0           8        6  \n",
       "1           4       10  \n",
       "2           7        3  \n",
       "3           3        8  \n",
       "4           1        1  "
      ]
     },
     "execution_count": 3,
     "metadata": {},
     "output_type": "execute_result"
    }
   ],
   "source": [
    "hypothesis.head()"
   ]
  },
  {
   "cell_type": "code",
   "execution_count": 4,
   "metadata": {},
   "outputs": [
    {
     "name": "stdout",
     "output_type": "stream",
     "text": [
      "<class 'pandas.core.frame.DataFrame'>\n",
      "RangeIndex: 9 entries, 0 to 8\n",
      "Data columns (total 5 columns):\n",
      " #   Column      Non-Null Count  Dtype \n",
      "---  ------      --------------  ----- \n",
      " 0   Hypothesis  9 non-null      object\n",
      " 1   Reach       9 non-null      int64 \n",
      " 2   Impact      9 non-null      int64 \n",
      " 3   Confidence  9 non-null      int64 \n",
      " 4   Efforts     9 non-null      int64 \n",
      "dtypes: int64(4), object(1)\n",
      "memory usage: 488.0+ bytes\n"
     ]
    }
   ],
   "source": [
    "hypothesis.info()"
   ]
  },
  {
   "cell_type": "code",
   "execution_count": 5,
   "metadata": {},
   "outputs": [
    {
     "data": {
      "text/html": [
       "<div>\n",
       "<style scoped>\n",
       "    .dataframe tbody tr th:only-of-type {\n",
       "        vertical-align: middle;\n",
       "    }\n",
       "\n",
       "    .dataframe tbody tr th {\n",
       "        vertical-align: top;\n",
       "    }\n",
       "\n",
       "    .dataframe thead th {\n",
       "        text-align: right;\n",
       "    }\n",
       "</style>\n",
       "<table border=\"1\" class=\"dataframe\">\n",
       "  <thead>\n",
       "    <tr style=\"text-align: right;\">\n",
       "      <th></th>\n",
       "      <th>transactionId</th>\n",
       "      <th>visitorId</th>\n",
       "      <th>date</th>\n",
       "      <th>revenue</th>\n",
       "      <th>group</th>\n",
       "    </tr>\n",
       "  </thead>\n",
       "  <tbody>\n",
       "    <tr>\n",
       "      <th>0</th>\n",
       "      <td>3667963787</td>\n",
       "      <td>3312258926</td>\n",
       "      <td>2019-08-15</td>\n",
       "      <td>1650</td>\n",
       "      <td>B</td>\n",
       "    </tr>\n",
       "    <tr>\n",
       "      <th>1</th>\n",
       "      <td>2804400009</td>\n",
       "      <td>3642806036</td>\n",
       "      <td>2019-08-15</td>\n",
       "      <td>730</td>\n",
       "      <td>B</td>\n",
       "    </tr>\n",
       "    <tr>\n",
       "      <th>2</th>\n",
       "      <td>2961555356</td>\n",
       "      <td>4069496402</td>\n",
       "      <td>2019-08-15</td>\n",
       "      <td>400</td>\n",
       "      <td>A</td>\n",
       "    </tr>\n",
       "    <tr>\n",
       "      <th>3</th>\n",
       "      <td>3797467345</td>\n",
       "      <td>1196621759</td>\n",
       "      <td>2019-08-15</td>\n",
       "      <td>9759</td>\n",
       "      <td>B</td>\n",
       "    </tr>\n",
       "    <tr>\n",
       "      <th>4</th>\n",
       "      <td>2282983706</td>\n",
       "      <td>2322279887</td>\n",
       "      <td>2019-08-15</td>\n",
       "      <td>2308</td>\n",
       "      <td>B</td>\n",
       "    </tr>\n",
       "  </tbody>\n",
       "</table>\n",
       "</div>"
      ],
      "text/plain": [
       "   transactionId   visitorId        date  revenue group\n",
       "0     3667963787  3312258926  2019-08-15     1650     B\n",
       "1     2804400009  3642806036  2019-08-15      730     B\n",
       "2     2961555356  4069496402  2019-08-15      400     A\n",
       "3     3797467345  1196621759  2019-08-15     9759     B\n",
       "4     2282983706  2322279887  2019-08-15     2308     B"
      ]
     },
     "execution_count": 5,
     "metadata": {},
     "output_type": "execute_result"
    }
   ],
   "source": [
    "orders.head()"
   ]
  },
  {
   "cell_type": "code",
   "execution_count": 6,
   "metadata": {},
   "outputs": [
    {
     "name": "stdout",
     "output_type": "stream",
     "text": [
      "<class 'pandas.core.frame.DataFrame'>\n",
      "RangeIndex: 1197 entries, 0 to 1196\n",
      "Data columns (total 5 columns):\n",
      " #   Column         Non-Null Count  Dtype \n",
      "---  ------         --------------  ----- \n",
      " 0   transactionId  1197 non-null   int64 \n",
      " 1   visitorId      1197 non-null   int64 \n",
      " 2   date           1197 non-null   object\n",
      " 3   revenue        1197 non-null   int64 \n",
      " 4   group          1197 non-null   object\n",
      "dtypes: int64(3), object(2)\n",
      "memory usage: 46.9+ KB\n"
     ]
    }
   ],
   "source": [
    "orders.info()"
   ]
  },
  {
   "cell_type": "code",
   "execution_count": 7,
   "metadata": {},
   "outputs": [
    {
     "data": {
      "text/html": [
       "<div>\n",
       "<style scoped>\n",
       "    .dataframe tbody tr th:only-of-type {\n",
       "        vertical-align: middle;\n",
       "    }\n",
       "\n",
       "    .dataframe tbody tr th {\n",
       "        vertical-align: top;\n",
       "    }\n",
       "\n",
       "    .dataframe thead th {\n",
       "        text-align: right;\n",
       "    }\n",
       "</style>\n",
       "<table border=\"1\" class=\"dataframe\">\n",
       "  <thead>\n",
       "    <tr style=\"text-align: right;\">\n",
       "      <th></th>\n",
       "      <th>date</th>\n",
       "      <th>group</th>\n",
       "      <th>visitors</th>\n",
       "    </tr>\n",
       "  </thead>\n",
       "  <tbody>\n",
       "    <tr>\n",
       "      <th>0</th>\n",
       "      <td>2019-08-01</td>\n",
       "      <td>A</td>\n",
       "      <td>719</td>\n",
       "    </tr>\n",
       "    <tr>\n",
       "      <th>1</th>\n",
       "      <td>2019-08-02</td>\n",
       "      <td>A</td>\n",
       "      <td>619</td>\n",
       "    </tr>\n",
       "    <tr>\n",
       "      <th>2</th>\n",
       "      <td>2019-08-03</td>\n",
       "      <td>A</td>\n",
       "      <td>507</td>\n",
       "    </tr>\n",
       "    <tr>\n",
       "      <th>3</th>\n",
       "      <td>2019-08-04</td>\n",
       "      <td>A</td>\n",
       "      <td>717</td>\n",
       "    </tr>\n",
       "    <tr>\n",
       "      <th>4</th>\n",
       "      <td>2019-08-05</td>\n",
       "      <td>A</td>\n",
       "      <td>756</td>\n",
       "    </tr>\n",
       "  </tbody>\n",
       "</table>\n",
       "</div>"
      ],
      "text/plain": [
       "         date group  visitors\n",
       "0  2019-08-01     A       719\n",
       "1  2019-08-02     A       619\n",
       "2  2019-08-03     A       507\n",
       "3  2019-08-04     A       717\n",
       "4  2019-08-05     A       756"
      ]
     },
     "execution_count": 7,
     "metadata": {},
     "output_type": "execute_result"
    }
   ],
   "source": [
    "visitors.head()"
   ]
  },
  {
   "cell_type": "code",
   "execution_count": 8,
   "metadata": {},
   "outputs": [
    {
     "name": "stdout",
     "output_type": "stream",
     "text": [
      "<class 'pandas.core.frame.DataFrame'>\n",
      "RangeIndex: 62 entries, 0 to 61\n",
      "Data columns (total 3 columns):\n",
      " #   Column    Non-Null Count  Dtype \n",
      "---  ------    --------------  ----- \n",
      " 0   date      62 non-null     object\n",
      " 1   group     62 non-null     object\n",
      " 2   visitors  62 non-null     int64 \n",
      "dtypes: int64(1), object(2)\n",
      "memory usage: 1.6+ KB\n"
     ]
    }
   ],
   "source": [
    "visitors.info()"
   ]
  },
  {
   "cell_type": "markdown",
   "metadata": {},
   "source": [
    "Комментарий:\n",
    "\n",
    "- Необходимо поменять верхний регистр в hypothesis и orders\n",
    "- В orders и visitors  необходимо изменить тип данных в столбце date \n",
    "- В orders также можно поправить названия на стиль snake_case\n"
   ]
  },
  {
   "cell_type": "markdown",
   "metadata": {},
   "source": [
    "##### Изменение данных"
   ]
  },
  {
   "cell_type": "code",
   "execution_count": 9,
   "metadata": {},
   "outputs": [],
   "source": [
    "hypothesis.columns = hypothesis.columns.str.lower()\n",
    "orders.columns = orders.columns.str.lower()\n",
    "\n",
    "orders = orders.rename(columns={'transactionid': 'transaction_id','visitorid':'visitor_id'})\n",
    "\n",
    "\n",
    "orders['date'] = orders['date'].map(\n",
    "    lambda x: dt.datetime.strptime(x, '%Y-%m-%d')\n",
    ")\n",
    "visitors['date'] = visitors['date'].map(\n",
    "    lambda x: dt.datetime.strptime(x, '%Y-%m-%d')\n",
    ")\n"
   ]
  },
  {
   "cell_type": "markdown",
   "metadata": {},
   "source": [
    "комментарий:\n",
    "Замена произведена"
   ]
  },
  {
   "cell_type": "markdown",
   "metadata": {},
   "source": [
    "#### Посмотрим на распределение количественных данных через гистограммы\n"
   ]
  },
  {
   "cell_type": "code",
   "execution_count": 10,
   "metadata": {},
   "outputs": [
    {
     "data": {
      "image/png": "[encoded data removed]",
      "text/plain": [
       "<Figure size 1080x504 with 4 Axes>"
      ]
     },
     "metadata": {
      "needs_background": "light"
     },
     "output_type": "display_data"
    }
   ],
   "source": [
    "hypothesis.hist(figsize=(15,7),bins=100);"
   ]
  },
  {
   "cell_type": "code",
   "execution_count": 11,
   "metadata": {},
   "outputs": [
    {
     "data": {
      "image/png": "[encoded data removed]",
      "text/plain": [
       "<Figure size 1080x504 with 4 Axes>"
      ]
     },
     "metadata": {
      "needs_background": "light"
     },
     "output_type": "display_data"
    }
   ],
   "source": [
    "orders.hist(figsize=(15,7),bins=100);"
   ]
  },
  {
   "cell_type": "markdown",
   "metadata": {},
   "source": [
    "комментарий:\n",
    "\n",
    "Распределение по трем параметрам относительно равномерноею.Только показтель revenue имеет распределение с выбросами."
   ]
  },
  {
   "cell_type": "code",
   "execution_count": 12,
   "metadata": {},
   "outputs": [
    {
     "data": {
      "image/png": "[encoded data removed]",
      "text/plain": [
       "<Figure size 1080x504 with 2 Axes>"
      ]
     },
     "metadata": {
      "needs_background": "light"
     },
     "output_type": "display_data"
    }
   ],
   "source": [
    "visitors.hist(figsize=(15,7),bins=100);"
   ]
  },
  {
   "cell_type": "markdown",
   "metadata": {},
   "source": [
    "комментарий: относительно равномерное распределение.Visitors имеет всплеск в районе 730"
   ]
  },
  {
   "cell_type": "markdown",
   "metadata": {},
   "source": [
    "#### Проверим пропуску"
   ]
  },
  {
   "cell_type": "code",
   "execution_count": 13,
   "metadata": {},
   "outputs": [
    {
     "data": {
      "text/plain": [
       "hypothesis    0\n",
       "reach         0\n",
       "impact        0\n",
       "confidence    0\n",
       "efforts       0\n",
       "dtype: int64"
      ]
     },
     "execution_count": 13,
     "metadata": {},
     "output_type": "execute_result"
    }
   ],
   "source": [
    "hypothesis.isna().sum()"
   ]
  },
  {
   "cell_type": "code",
   "execution_count": 14,
   "metadata": {},
   "outputs": [
    {
     "data": {
      "text/plain": [
       "transaction_id    0\n",
       "visitor_id        0\n",
       "date              0\n",
       "revenue           0\n",
       "group             0\n",
       "dtype: int64"
      ]
     },
     "execution_count": 14,
     "metadata": {},
     "output_type": "execute_result"
    }
   ],
   "source": [
    "orders.isna().sum()"
   ]
  },
  {
   "cell_type": "code",
   "execution_count": 15,
   "metadata": {},
   "outputs": [
    {
     "data": {
      "text/plain": [
       "date        0\n",
       "group       0\n",
       "visitors    0\n",
       "dtype: int64"
      ]
     },
     "execution_count": 15,
     "metadata": {},
     "output_type": "execute_result"
    }
   ],
   "source": [
    "visitors.isna().sum()"
   ]
  },
  {
   "cell_type": "markdown",
   "metadata": {},
   "source": [
    "Комментарий:\n",
    " - пропусков не обнаружено"
   ]
  },
  {
   "cell_type": "markdown",
   "metadata": {},
   "source": [
    "#### Проверим на явные дубликаты"
   ]
  },
  {
   "cell_type": "code",
   "execution_count": 16,
   "metadata": {},
   "outputs": [
    {
     "data": {
      "text/plain": [
       "0"
      ]
     },
     "execution_count": 16,
     "metadata": {},
     "output_type": "execute_result"
    }
   ],
   "source": [
    "hypothesis.duplicated().sum()"
   ]
  },
  {
   "cell_type": "code",
   "execution_count": 17,
   "metadata": {},
   "outputs": [
    {
     "data": {
      "text/plain": [
       "0"
      ]
     },
     "execution_count": 17,
     "metadata": {},
     "output_type": "execute_result"
    }
   ],
   "source": [
    "orders.duplicated().sum()"
   ]
  },
  {
   "cell_type": "code",
   "execution_count": 18,
   "metadata": {},
   "outputs": [
    {
     "data": {
      "text/plain": [
       "0"
      ]
     },
     "execution_count": 18,
     "metadata": {},
     "output_type": "execute_result"
    }
   ],
   "source": [
    "visitors.duplicated().sum()"
   ]
  },
  {
   "cell_type": "markdown",
   "metadata": {},
   "source": [
    "Комментрий:\n",
    " - Явных дубликатов не обнаружено"
   ]
  },
  {
   "cell_type": "markdown",
   "metadata": {},
   "source": [
    "#### Проверим на неявные дубликаты"
   ]
  },
  {
   "cell_type": "code",
   "execution_count": 19,
   "metadata": {},
   "outputs": [
    {
     "data": {
      "text/html": [
       "<div>\n",
       "<style scoped>\n",
       "    .dataframe tbody tr th:only-of-type {\n",
       "        vertical-align: middle;\n",
       "    }\n",
       "\n",
       "    .dataframe tbody tr th {\n",
       "        vertical-align: top;\n",
       "    }\n",
       "\n",
       "    .dataframe thead th {\n",
       "        text-align: right;\n",
       "    }\n",
       "</style>\n",
       "<table border=\"1\" class=\"dataframe\">\n",
       "  <thead>\n",
       "    <tr style=\"text-align: right;\">\n",
       "      <th></th>\n",
       "      <th>hypothesis</th>\n",
       "      <th>reach</th>\n",
       "      <th>impact</th>\n",
       "      <th>confidence</th>\n",
       "      <th>efforts</th>\n",
       "    </tr>\n",
       "  </thead>\n",
       "  <tbody>\n",
       "  </tbody>\n",
       "</table>\n",
       "</div>"
      ],
      "text/plain": [
       "Empty DataFrame\n",
       "Columns: [hypothesis, reach, impact, confidence, efforts]\n",
       "Index: []"
      ]
     },
     "execution_count": 19,
     "metadata": {},
     "output_type": "execute_result"
    }
   ],
   "source": [
    "hypothesis[hypothesis.duplicated(['hypothesis','reach','impact','confidence','efforts'])]"
   ]
  },
  {
   "cell_type": "code",
   "execution_count": 20,
   "metadata": {},
   "outputs": [
    {
     "data": {
      "text/html": [
       "<div>\n",
       "<style scoped>\n",
       "    .dataframe tbody tr th:only-of-type {\n",
       "        vertical-align: middle;\n",
       "    }\n",
       "\n",
       "    .dataframe tbody tr th {\n",
       "        vertical-align: top;\n",
       "    }\n",
       "\n",
       "    .dataframe thead th {\n",
       "        text-align: right;\n",
       "    }\n",
       "</style>\n",
       "<table border=\"1\" class=\"dataframe\">\n",
       "  <thead>\n",
       "    <tr style=\"text-align: right;\">\n",
       "      <th></th>\n",
       "      <th>transaction_id</th>\n",
       "      <th>visitor_id</th>\n",
       "      <th>date</th>\n",
       "      <th>revenue</th>\n",
       "      <th>group</th>\n",
       "    </tr>\n",
       "  </thead>\n",
       "  <tbody>\n",
       "  </tbody>\n",
       "</table>\n",
       "</div>"
      ],
      "text/plain": [
       "Empty DataFrame\n",
       "Columns: [transaction_id, visitor_id, date, revenue, group]\n",
       "Index: []"
      ]
     },
     "execution_count": 20,
     "metadata": {},
     "output_type": "execute_result"
    }
   ],
   "source": [
    "orders[orders.duplicated(['transaction_id','visitor_id','date','revenue','group'])]"
   ]
  },
  {
   "cell_type": "code",
   "execution_count": 21,
   "metadata": {},
   "outputs": [
    {
     "data": {
      "text/html": [
       "<div>\n",
       "<style scoped>\n",
       "    .dataframe tbody tr th:only-of-type {\n",
       "        vertical-align: middle;\n",
       "    }\n",
       "\n",
       "    .dataframe tbody tr th {\n",
       "        vertical-align: top;\n",
       "    }\n",
       "\n",
       "    .dataframe thead th {\n",
       "        text-align: right;\n",
       "    }\n",
       "</style>\n",
       "<table border=\"1\" class=\"dataframe\">\n",
       "  <thead>\n",
       "    <tr style=\"text-align: right;\">\n",
       "      <th></th>\n",
       "      <th>date</th>\n",
       "      <th>group</th>\n",
       "      <th>visitors</th>\n",
       "    </tr>\n",
       "  </thead>\n",
       "  <tbody>\n",
       "  </tbody>\n",
       "</table>\n",
       "</div>"
      ],
      "text/plain": [
       "Empty DataFrame\n",
       "Columns: [date, group, visitors]\n",
       "Index: []"
      ]
     },
     "execution_count": 21,
     "metadata": {},
     "output_type": "execute_result"
    }
   ],
   "source": [
    "visitors[visitors.duplicated(['date','group','visitors'])]"
   ]
  },
  {
   "cell_type": "markdown",
   "metadata": {},
   "source": [
    "комментарий:\n",
    "неявных дубликатов не обнаружено"
   ]
  },
  {
   "cell_type": "markdown",
   "metadata": {},
   "source": [
    "####  Вывод:\n",
    " - Данные находятся в хорошем состоянии.Дубликатов или пропусков не обнаруженно. Для удобства работы с базами были внесены изменения по формату данных, перевели столбцы с датами в формат date. Также названия столбцов были приведены к формату snake_case и изменен регистр."
   ]
  },
  {
   "cell_type": "markdown",
   "metadata": {},
   "source": [
    "### Приоритизация гипотез"
   ]
  },
  {
   "cell_type": "markdown",
   "metadata": {},
   "source": [
    "#### Применим фреймворк IСE"
   ]
  },
  {
   "cell_type": "markdown",
   "metadata": {},
   "source": [
    "Фреймворк ICE включает следующие критерии:\n",
    "\n",
    "1. Воздействие (Impact): Оценивает, насколько значимым является изменение или реализация гипотезы для бизнеса или пользователей.\n",
    "2. Уверенность (Confidence): Оценивает, насколько уверены команда или исполнители в успешном осуществлении гипотезы.\n",
    "3. Простота (Ease): Оценивает, насколько легко или сложно реализовать гипотезу.\n"
   ]
  },
  {
   "cell_type": "code",
   "execution_count": 22,
   "metadata": {},
   "outputs": [
    {
     "data": {
      "text/html": [
       "<div>\n",
       "<style scoped>\n",
       "    .dataframe tbody tr th:only-of-type {\n",
       "        vertical-align: middle;\n",
       "    }\n",
       "\n",
       "    .dataframe tbody tr th {\n",
       "        vertical-align: top;\n",
       "    }\n",
       "\n",
       "    .dataframe thead th {\n",
       "        text-align: right;\n",
       "    }\n",
       "</style>\n",
       "<table border=\"1\" class=\"dataframe\">\n",
       "  <thead>\n",
       "    <tr style=\"text-align: right;\">\n",
       "      <th></th>\n",
       "      <th>hypothesis</th>\n",
       "      <th>ICE</th>\n",
       "    </tr>\n",
       "  </thead>\n",
       "  <tbody>\n",
       "    <tr>\n",
       "      <th>8</th>\n",
       "      <td>Запустить акцию, дающую скидку на товар в день рождения</td>\n",
       "      <td>16.200000</td>\n",
       "    </tr>\n",
       "    <tr>\n",
       "      <th>0</th>\n",
       "      <td>Добавить два новых канала привлечения трафика, что позволит привлекать на 30% больше пользователей</td>\n",
       "      <td>13.333333</td>\n",
       "    </tr>\n",
       "    <tr>\n",
       "      <th>7</th>\n",
       "      <td>Добавить форму подписки на все основные страницы, чтобы собрать базу клиентов для email-рассылок</td>\n",
       "      <td>11.200000</td>\n",
       "    </tr>\n",
       "    <tr>\n",
       "      <th>6</th>\n",
       "      <td>Показать на главной странице баннеры с актуальными акциями и распродажами, чтобы увеличить конверсию</td>\n",
       "      <td>8.000000</td>\n",
       "    </tr>\n",
       "    <tr>\n",
       "      <th>2</th>\n",
       "      <td>Добавить блоки рекомендаций товаров на сайт интернет магазина, чтобы повысить конверсию и средний чек заказа</td>\n",
       "      <td>7.000000</td>\n",
       "    </tr>\n",
       "    <tr>\n",
       "      <th>1</th>\n",
       "      <td>Запустить собственную службу доставки, что сократит срок доставки заказов</td>\n",
       "      <td>2.000000</td>\n",
       "    </tr>\n",
       "    <tr>\n",
       "      <th>5</th>\n",
       "      <td>Добавить страницу отзывов клиентов о магазине, что позволит увеличить количество заказов</td>\n",
       "      <td>1.333333</td>\n",
       "    </tr>\n",
       "    <tr>\n",
       "      <th>3</th>\n",
       "      <td>Изменить структура категорий, что увеличит конверсию, т.к. пользователи быстрее найдут нужный товар</td>\n",
       "      <td>1.125000</td>\n",
       "    </tr>\n",
       "    <tr>\n",
       "      <th>4</th>\n",
       "      <td>Изменить цвет фона главной страницы, чтобы увеличить вовлеченность пользователей</td>\n",
       "      <td>1.000000</td>\n",
       "    </tr>\n",
       "  </tbody>\n",
       "</table>\n",
       "</div>"
      ],
      "text/plain": [
       "                                                                                                     hypothesis  \\\n",
       "8                                                       Запустить акцию, дающую скидку на товар в день рождения   \n",
       "0            Добавить два новых канала привлечения трафика, что позволит привлекать на 30% больше пользователей   \n",
       "7              Добавить форму подписки на все основные страницы, чтобы собрать базу клиентов для email-рассылок   \n",
       "6          Показать на главной странице баннеры с актуальными акциями и распродажами, чтобы увеличить конверсию   \n",
       "2  Добавить блоки рекомендаций товаров на сайт интернет магазина, чтобы повысить конверсию и средний чек заказа   \n",
       "1                                     Запустить собственную службу доставки, что сократит срок доставки заказов   \n",
       "5                      Добавить страницу отзывов клиентов о магазине, что позволит увеличить количество заказов   \n",
       "3           Изменить структура категорий, что увеличит конверсию, т.к. пользователи быстрее найдут нужный товар   \n",
       "4                              Изменить цвет фона главной страницы, чтобы увеличить вовлеченность пользователей   \n",
       "\n",
       "         ICE  \n",
       "8  16.200000  \n",
       "0  13.333333  \n",
       "7  11.200000  \n",
       "6   8.000000  \n",
       "2   7.000000  \n",
       "1   2.000000  \n",
       "5   1.333333  \n",
       "3   1.125000  \n",
       "4   1.000000  "
      ]
     },
     "execution_count": 22,
     "metadata": {},
     "output_type": "execute_result"
    }
   ],
   "source": [
    "pd.options.display.max_colwidth = 150\n",
    "hypothesis['ICE'] = hypothesis['impact']*hypothesis['confidence'] / hypothesis['efforts']\n",
    "select = hypothesis[['hypothesis','ICE']].sort_values(by='ICE',ascending=False)\n",
    "                                                      \n",
    "select"
   ]
  },
  {
   "cell_type": "markdown",
   "metadata": {},
   "source": [
    "комментарий:\n",
    "9-я, 1-я и 8-я наиболее перпективные гипотезы по методике ICE"
   ]
  },
  {
   "cell_type": "markdown",
   "metadata": {},
   "source": [
    "#### Применим фреймворк RIСE"
   ]
  },
  {
   "cell_type": "markdown",
   "metadata": {},
   "source": [
    "Фреймворк RICE включает следующие критерии:\n",
    "\n",
    "1. Достигаемость (Reach): Оценивает, насколько широко гипотеза будет затрагивать пользователей или аудиторию.\n",
    "2. Воздействие (Impact): Оценивает, насколько значимым является изменение или реализация гипотезы для бизнеса или пользователей.\n",
    "3. Уверенность (Confidence): Оценивает, насколько уверены команда или исполнители в успешном осуществлении гипотезы.\n",
    "4. Усилия (Effort): Оценивает сложность и объем работ, необходимых для реализации гипотезы.\n"
   ]
  },
  {
   "cell_type": "code",
   "execution_count": 23,
   "metadata": {},
   "outputs": [
    {
     "data": {
      "text/html": [
       "<div>\n",
       "<style scoped>\n",
       "    .dataframe tbody tr th:only-of-type {\n",
       "        vertical-align: middle;\n",
       "    }\n",
       "\n",
       "    .dataframe tbody tr th {\n",
       "        vertical-align: top;\n",
       "    }\n",
       "\n",
       "    .dataframe thead th {\n",
       "        text-align: right;\n",
       "    }\n",
       "</style>\n",
       "<table border=\"1\" class=\"dataframe\">\n",
       "  <thead>\n",
       "    <tr style=\"text-align: right;\">\n",
       "      <th></th>\n",
       "      <th>hypothesis</th>\n",
       "      <th>RICE</th>\n",
       "    </tr>\n",
       "  </thead>\n",
       "  <tbody>\n",
       "    <tr>\n",
       "      <th>7</th>\n",
       "      <td>Добавить форму подписки на все основные страницы, чтобы собрать базу клиентов для email-рассылок</td>\n",
       "      <td>112.0</td>\n",
       "    </tr>\n",
       "    <tr>\n",
       "      <th>2</th>\n",
       "      <td>Добавить блоки рекомендаций товаров на сайт интернет магазина, чтобы повысить конверсию и средний чек заказа</td>\n",
       "      <td>56.0</td>\n",
       "    </tr>\n",
       "    <tr>\n",
       "      <th>0</th>\n",
       "      <td>Добавить два новых канала привлечения трафика, что позволит привлекать на 30% больше пользователей</td>\n",
       "      <td>40.0</td>\n",
       "    </tr>\n",
       "    <tr>\n",
       "      <th>6</th>\n",
       "      <td>Показать на главной странице баннеры с актуальными акциями и распродажами, чтобы увеличить конверсию</td>\n",
       "      <td>40.0</td>\n",
       "    </tr>\n",
       "    <tr>\n",
       "      <th>8</th>\n",
       "      <td>Запустить акцию, дающую скидку на товар в день рождения</td>\n",
       "      <td>16.2</td>\n",
       "    </tr>\n",
       "    <tr>\n",
       "      <th>3</th>\n",
       "      <td>Изменить структура категорий, что увеличит конверсию, т.к. пользователи быстрее найдут нужный товар</td>\n",
       "      <td>9.0</td>\n",
       "    </tr>\n",
       "    <tr>\n",
       "      <th>1</th>\n",
       "      <td>Запустить собственную службу доставки, что сократит срок доставки заказов</td>\n",
       "      <td>4.0</td>\n",
       "    </tr>\n",
       "    <tr>\n",
       "      <th>5</th>\n",
       "      <td>Добавить страницу отзывов клиентов о магазине, что позволит увеличить количество заказов</td>\n",
       "      <td>4.0</td>\n",
       "    </tr>\n",
       "    <tr>\n",
       "      <th>4</th>\n",
       "      <td>Изменить цвет фона главной страницы, чтобы увеличить вовлеченность пользователей</td>\n",
       "      <td>3.0</td>\n",
       "    </tr>\n",
       "  </tbody>\n",
       "</table>\n",
       "</div>"
      ],
      "text/plain": [
       "                                                                                                     hypothesis  \\\n",
       "7              Добавить форму подписки на все основные страницы, чтобы собрать базу клиентов для email-рассылок   \n",
       "2  Добавить блоки рекомендаций товаров на сайт интернет магазина, чтобы повысить конверсию и средний чек заказа   \n",
       "0            Добавить два новых канала привлечения трафика, что позволит привлекать на 30% больше пользователей   \n",
       "6          Показать на главной странице баннеры с актуальными акциями и распродажами, чтобы увеличить конверсию   \n",
       "8                                                       Запустить акцию, дающую скидку на товар в день рождения   \n",
       "3           Изменить структура категорий, что увеличит конверсию, т.к. пользователи быстрее найдут нужный товар   \n",
       "1                                     Запустить собственную службу доставки, что сократит срок доставки заказов   \n",
       "5                      Добавить страницу отзывов клиентов о магазине, что позволит увеличить количество заказов   \n",
       "4                              Изменить цвет фона главной страницы, чтобы увеличить вовлеченность пользователей   \n",
       "\n",
       "    RICE  \n",
       "7  112.0  \n",
       "2   56.0  \n",
       "0   40.0  \n",
       "6   40.0  \n",
       "8   16.2  \n",
       "3    9.0  \n",
       "1    4.0  \n",
       "5    4.0  \n",
       "4    3.0  "
      ]
     },
     "execution_count": 23,
     "metadata": {},
     "output_type": "execute_result"
    }
   ],
   "source": [
    "hypothesis['RICE'] = hypothesis['reach']*hypothesis['impact']*hypothesis['confidence']/hypothesis['efforts']\n",
    "select = hypothesis[['hypothesis','RICE']].sort_values(by='RICE',ascending=False)\n",
    "select"
   ]
  },
  {
   "cell_type": "markdown",
   "metadata": {},
   "source": [
    "Комментарий:\n",
    "RICE методика выводит 8-ю гипотезу на первое место, а 1-ю на третье.  \n",
    "    "
   ]
  },
  {
   "cell_type": "markdown",
   "metadata": {},
   "source": [
    "Общий вывод по фреймам: Охват пользователей у 8-ой гипотезы больше остальных,такой вывод можно сделать полосле использования методики RICE, в расчете которого используется показатель reach(охват). 8-я гипотеза также входит в первую тройку по методу ICE.\n",
    "Можно сказать,что эта гипотеза самая перспективная."
   ]
  },
  {
   "cell_type": "markdown",
   "metadata": {},
   "source": [
    "####  A/B-тест"
   ]
  },
  {
   "cell_type": "markdown",
   "metadata": {},
   "source": [
    "Проверим, нет ли пользователей, попавших одновременно в обе группы."
   ]
  },
  {
   "cell_type": "code",
   "execution_count": 24,
   "metadata": {},
   "outputs": [
    {
     "name": "stdout",
     "output_type": "stream",
     "text": [
      "Пользователей, попавших в обе группы: 58\n",
      "Сумма заказов этих пользователей 1558935\n",
      "Количество их заказов 181\n"
     ]
    }
   ],
   "source": [
    "doubles = orders.groupby(\n",
    "    ['visitor_id']).agg({'group' : 'nunique', \n",
    "                         'transaction_id' : 'count', \n",
    "                         'revenue' : 'sum'}\n",
    "    ).reset_index()\n",
    "doubles\n",
    "\n",
    "print(f'Пользователей, попавших в обе группы: {doubles[doubles.group != 1][\"visitor_id\"].count()}')\n",
    "print(f\"Сумма заказов этих пользователей {doubles[doubles.group != 1]['revenue'].sum()}\")\n",
    "print(f\"Количество их заказов {doubles[doubles.group != 1]['transaction_id'].sum()}\")"
   ]
  },
  {
   "cell_type": "markdown",
   "metadata": {},
   "source": [
    "Оказывается, 58 пользователей попали в обе группы. Всего эти пользователи совершили 181 заказ на более чем 1,5 млн рублей. Неизвестно, какая из версий исследуемой страницы повлияла на их решения, значит, результаты исследования нельзя интерпретировать однозначно. Следует исключить этих пользователей из исследования."
   ]
  },
  {
   "cell_type": "code",
   "execution_count": 25,
   "metadata": {},
   "outputs": [],
   "source": [
    "d_list = list(doubles[doubles.group != 1]['visitor_id'])\n",
    "orders_filtr = orders.query('visitor_id not in @d_list')"
   ]
  },
  {
   "cell_type": "markdown",
   "metadata": {},
   "source": [
    "##### Cобираем кумулятивные данные"
   ]
  },
  {
   "cell_type": "code",
   "execution_count": 26,
   "metadata": {},
   "outputs": [
    {
     "name": "stdout",
     "output_type": "stream",
     "text": [
      "        date group  orders  buyers  revenue  visitors\n",
      "0 2019-08-01     A      23      19   142779       719\n",
      "1 2019-08-01     B      17      17    59758       713\n",
      "2 2019-08-02     A      42      36   234381      1338\n",
      "3 2019-08-02     B      40      39   221801      1294\n",
      "4 2019-08-03     A      66      60   346854      1845\n"
     ]
    }
   ],
   "source": [
    "# создаем массив уникальных пар значений дат и групп теста\n",
    "datesGroups = orders_filtr[['date','group']].drop_duplicates()\n",
    "\n",
    "#Соберём агрегированные кумулятивные по дням данные о заказах \n",
    "ordersAggregated = datesGroups.apply(\n",
    "    lambda x: orders_filtr[np.logical_and(orders['date'] <= x['date'], orders['group'] == x['group'])]\\\n",
    "    .agg({\n",
    "        'date' : 'max', \n",
    "        'group' : 'max', \n",
    "        'transaction_id' : 'nunique',\n",
    "        'visitor_id' : 'nunique', \n",
    "        'revenue' : 'sum'\n",
    "    }), axis=1).sort_values(by=['date','group'])\n",
    "\n",
    "#Получим агрегированные кумулятивные по дням данные о посетителя\n",
    "visitorsAggregated = datesGroups.apply(\n",
    "    lambda x: visitors[np.logical_and(visitors['date'] <= x['date'], visitors['group'] == x['group'])]\\\n",
    "    .agg({\n",
    "        'date' : 'max', \n",
    "        'group' : 'max', \n",
    "        'visitors' : 'sum'\n",
    "    }), axis=1).sort_values(by=['date','group'])\n",
    "\n",
    "# Объединяем кумулятивные данные в одной таблице и присваиваем ее столбцам другие названия\n",
    "cumulativeData = ordersAggregated.merge(visitorsAggregated, left_on=['date', 'group'], right_on=['date', 'group'])\n",
    "cumulativeData.columns = ['date', 'group', 'orders', 'buyers', 'revenue', 'visitors']\n",
    "\n",
    "print(cumulativeData.head(5))"
   ]
  },
  {
   "cell_type": "markdown",
   "metadata": {},
   "source": [
    "комментарий: \n",
    "Данные собраны"
   ]
  },
  {
   "cell_type": "markdown",
   "metadata": {},
   "source": [
    "##### Построим график кумулятивной выручки по группам"
   ]
  },
  {
   "cell_type": "code",
   "execution_count": 27,
   "metadata": {},
   "outputs": [
    {
     "data": {
      "image/png": "[encoded data removed]",
      "text/plain": [
       "<Figure size 864x432 with 1 Axes>"
      ]
     },
     "metadata": {
      "needs_background": "light"
     },
     "output_type": "display_data"
    }
   ],
   "source": [
    "\n",
    "# датафрейм с кумулятивным количеством заказов и кумулятивной выручкой по дням в группе А\n",
    "cumulativeRevenueA = cumulativeData[cumulativeData['group']=='A'][['date','revenue', 'orders']]\n",
    "\n",
    "# датафрейм с кумулятивным количеством заказов и кумулятивной выручкой по дням в группе B\n",
    "cumulativeRevenueB = cumulativeData[cumulativeData['group']=='B'][['date','revenue', 'orders']]\n",
    "\n",
    "plt.figure(figsize=(12, 6))\n",
    "# Строим график выручки группы А\n",
    "plt.plot(cumulativeRevenueA['date'], cumulativeRevenueA['revenue'], label='A')\n",
    "\n",
    "# Строим график выручки группы B\n",
    "plt.plot(cumulativeRevenueB['date'], cumulativeRevenueB['revenue'], label='B')\n",
    "\n",
    "plt.title('График кумулятивной выручки по группам')\n",
    "plt.xlabel('Дата')\n",
    "plt.ylabel('Выручка')\n",
    "plt.legend()\n",
    "plt.show() "
   ]
  },
  {
   "cell_type": "markdown",
   "metadata": {},
   "source": [
    "комментарий: \n",
    "\n",
    "Выручка почти равномерно увеличивается в течение всего теста\n",
    "Однако график группы В выручки резко растет в одной точке. Это может сигнализировать о всплесках числа заказов, либо о появлении очень дорогих заказов в выборке."
   ]
  },
  {
   "cell_type": "markdown",
   "metadata": {},
   "source": [
    "##### Построим график кумулятивного среднего чека по группам."
   ]
  },
  {
   "cell_type": "code",
   "execution_count": 28,
   "metadata": {},
   "outputs": [
    {
     "data": {
      "image/png": "[encoded data removed]",
      "text/plain": [
       "<Figure size 864x432 with 1 Axes>"
      ]
     },
     "metadata": {
      "needs_background": "light"
     },
     "output_type": "display_data"
    }
   ],
   "source": [
    "plt.figure(figsize=(12, 6))\n",
    "plt.plot(cumulativeRevenueA['date'], cumulativeRevenueA['revenue']/cumulativeRevenueA['orders'], label='A')\n",
    "plt.plot(cumulativeRevenueB['date'], cumulativeRevenueB['revenue']/cumulativeRevenueB['orders'], label='B')\n",
    "plt.title('график кумулятивного среднего чека по группам')\n",
    "plt.xlabel('Дата')\n",
    "plt.ylabel('Средний чек')\n",
    "plt.legend() \n",
    "plt.show() "
   ]
  },
  {
   "cell_type": "markdown",
   "metadata": {},
   "source": [
    "комментарий:\n",
    "    \n",
    "средний чек во второй половине графика,блиде к концу, тоже становится равномерным,но мы также наблюдаем резкий скачок в группе В.\n",
    "Возможно, в группу B попали крупные заказы (резкий всплеск на графике). Тогда ей нужно больше данных, чтобы прийти к реальному среднему чеку и установиться на его уровне."
   ]
  },
  {
   "cell_type": "markdown",
   "metadata": {},
   "source": [
    "##### Построим график относительного изменения кумулятивного среднего чека группы B к группе A."
   ]
  },
  {
   "cell_type": "code",
   "execution_count": 29,
   "metadata": {},
   "outputs": [
    {
     "data": {
      "image/png": "[encoded data removed]",
      "text/plain": [
       "<Figure size 864x432 with 1 Axes>"
      ]
     },
     "metadata": {
      "needs_background": "light"
     },
     "output_type": "display_data"
    }
   ],
   "source": [
    "# собираем данные в одном датафрейме\n",
    "mergedCumulativeRevenue = cumulativeRevenueA.merge(\n",
    "    cumulativeRevenueB, left_on='date', right_on='date', how='left', suffixes=['A', 'B'])\n",
    "\n",
    "# cтроим отношение средних чеков\n",
    "plt.figure(figsize=(12, 6))\n",
    "plt.plot(mergedCumulativeRevenue['date'], (\n",
    "    mergedCumulativeRevenue['revenueB']/\n",
    "    mergedCumulativeRevenue['ordersB'])/\n",
    "         (mergedCumulativeRevenue['revenueA']/mergedCumulativeRevenue['ordersA'])-1)\n",
    "\n",
    "# добавляем ось X\n",
    "plt.title('график относительного изменения кумулятивного среднего чека')\n",
    "plt.xlabel('Дата')\n",
    "plt.ylabel('отношение чека группы B к группе A ')\n",
    "plt.axhline(y=0, color='black', linestyle='--')\n",
    "plt.show() "
   ]
  },
  {
   "cell_type": "markdown",
   "metadata": {},
   "source": [
    "комментарий:\n",
    "В нескольких точках график различия между сегментами резко «скачет». Где-то точно спрятались крупные заказы и выбросы"
   ]
  },
  {
   "cell_type": "markdown",
   "metadata": {},
   "source": [
    "##### Построим график кумулятивного среднего количества заказов на посетителя по группам"
   ]
  },
  {
   "cell_type": "code",
   "execution_count": 30,
   "metadata": {},
   "outputs": [
    {
     "data": {
      "image/png": "[encoded data removed]",
      "text/plain": [
       "<Figure size 864x432 with 1 Axes>"
      ]
     },
     "metadata": {
      "needs_background": "light"
     },
     "output_type": "display_data"
    }
   ],
   "source": [
    "\n",
    "# датафрейм с кумулятивным количеством заказов,посетителей и кумулятивной выручкой по дням в группе А\n",
    "cumulativeRevenueA = cumulativeData[cumulativeData['group']=='A'][['date','revenue', 'orders','visitors']]\n",
    "\n",
    "# датафрейм с кумулятивным количеством заказов,посетителей и кумулятивной выручкой по дням в группе B\n",
    "cumulativeRevenueB = cumulativeData[cumulativeData['group']=='B'][['date','revenue', 'orders','visitors']]\n",
    "\n",
    "plt.figure(figsize=(12, 6))\n",
    "plt.plot(cumulativeRevenueA['date'], cumulativeRevenueA['orders']/cumulativeRevenueA['visitors'], label='A')\n",
    "plt.plot(cumulativeRevenueB['date'], cumulativeRevenueB['orders']/cumulativeRevenueB['visitors'], label='B')\n",
    "plt.title('график кумулятивного среднего количества заказов на посетителя по группам')\n",
    "plt.xlabel('Дата')\n",
    "plt.ylabel('среднее количества заказов на посетителя ')\n",
    "plt.legend() \n",
    "plt.show() "
   ]
  },
  {
   "cell_type": "markdown",
   "metadata": {},
   "source": [
    "комментарий:\n",
    "    \n",
    "Здесь также наблюдаем резкие движение  в группе В в начале графика и после 2019-08-05.У группы А вспеслес в самом начале, а затем планомерное снижение."
   ]
  },
  {
   "cell_type": "markdown",
   "metadata": {},
   "source": [
    "##### Построим график относительного изменения кумулятивного среднего количества заказов на посетителя группы B к группе A."
   ]
  },
  {
   "cell_type": "code",
   "execution_count": 31,
   "metadata": {},
   "outputs": [
    {
     "data": {
      "image/png": "[encoded data removed]",
      "text/plain": [
       "<Figure size 864x432 with 1 Axes>"
      ]
     },
     "metadata": {
      "needs_background": "light"
     },
     "output_type": "display_data"
    }
   ],
   "source": [
    "# собираем данные в одном датафрейме\n",
    "mergedCumulativeRevenue = cumulativeRevenueA.merge(\n",
    "    cumulativeRevenueB, left_on='date', right_on='date', how='left', suffixes=['A', 'B'])\n",
    "\n",
    "# cтроим отношение средних чеков\n",
    "plt.figure(figsize=(12, 6))\n",
    "plt.plot(mergedCumulativeRevenue['date'], (\n",
    "    mergedCumulativeRevenue['ordersB']/\n",
    "    mergedCumulativeRevenue['visitorsB'])/\n",
    "         (mergedCumulativeRevenue['ordersA']/mergedCumulativeRevenue['visitorsA'])-1)\n",
    "\n",
    "# добавляем ось X\n",
    "plt.title('график относительного изменения кумулятивного среднего количества заказов на посетителя')\n",
    "plt.xlabel('Дата')\n",
    "plt.ylabel('отношение группы B к группе A.')\n",
    "plt.axhline(y=0, color='black', linestyle='--')\n",
    "plt.show() "
   ]
  },
  {
   "cell_type": "markdown",
   "metadata": {},
   "source": [
    "комментарий:\n",
    "\n",
    "Посетители группы В имеют стабильно больший показатель относительно группы А по кумулятивному сренднему кол-ву заказов."
   ]
  },
  {
   "cell_type": "markdown",
   "metadata": {},
   "source": [
    "##### Построим точечный график количества заказов по пользователям"
   ]
  },
  {
   "cell_type": "code",
   "execution_count": 32,
   "metadata": {},
   "outputs": [
    {
     "data": {
      "image/png": "[encoded data removed]",
      "text/plain": [
       "<Figure size 864x432 with 1 Axes>"
      ]
     },
     "metadata": {
      "needs_background": "light"
     },
     "output_type": "display_data"
    }
   ],
   "source": [
    "ordersByUsers = (\n",
    "    orders_filtr.groupby('visitor_id', as_index=False)\n",
    "    .agg({'transaction_id': 'nunique'})\n",
    ")\n",
    "\n",
    "ordersByUsers.columns = ['visitors', 'orders']\n",
    "\n",
    "plt.figure(figsize=(12, 6))\n",
    "x_values = pd.Series(range(0,len(ordersByUsers)))\n",
    "\n",
    "\n",
    "plt.title('график количества заказов по пользователям')\n",
    "plt.xlabel('кол-во пользователей')\n",
    "plt.ylabel('кол-во заказов')\n",
    "plt.scatter(x_values, ordersByUsers['orders']) \n",
    "plt.show()"
   ]
  },
  {
   "cell_type": "markdown",
   "metadata": {},
   "source": [
    "комментарий:\n",
    "    \n",
    "Наблюдаются выбросы в размере 3 заказов.Большинство с 1 заказом.Разумно выбрать 1 заказа на одного пользователя за верхнюю границу числа заказов, и отсеять аномальных пользователей по ней."
   ]
  },
  {
   "cell_type": "markdown",
   "metadata": {},
   "source": [
    "##### Посчитаем 95-й и 99-й перцентили количества заказов на пользователя."
   ]
  },
  {
   "cell_type": "code",
   "execution_count": 33,
   "metadata": {},
   "outputs": [
    {
     "data": {
      "text/plain": [
       "array([1., 2.])"
      ]
     },
     "execution_count": 33,
     "metadata": {},
     "output_type": "execute_result"
    }
   ],
   "source": [
    "np.percentile(ordersByUsers['orders'], [95, 99])"
   ]
  },
  {
   "cell_type": "markdown",
   "metadata": {},
   "source": [
    "комментарий:\n",
    "    \n",
    "Видим, что 5% пользователей делают больше 1 заказов и 1% больше 2    "
   ]
  },
  {
   "cell_type": "markdown",
   "metadata": {},
   "source": [
    "##### Построим точечный график стоимостей заказов"
   ]
  },
  {
   "cell_type": "code",
   "execution_count": 34,
   "metadata": {},
   "outputs": [
    {
     "data": {
      "image/png": "[encoded data removed]",
      "text/plain": [
       "<Figure size 864x432 with 1 Axes>"
      ]
     },
     "metadata": {
      "needs_background": "light"
     },
     "output_type": "display_data"
    }
   ],
   "source": [
    "plt.figure(figsize=(12, 6))\n",
    "x_values = pd.Series(range(0,len(orders['revenue'])))\n",
    "plt.title('точечный график стоимостей заказов')\n",
    "plt.xlabel('кол-во пользователей')\n",
    "plt.ylabel('стоимость заказов')\n",
    "plt.scatter(x_values, orders['revenue']) \n",
    "plt.show()"
   ]
  },
  {
   "cell_type": "markdown",
   "metadata": {},
   "source": [
    "комментарий:\n",
    "Сильный выброс больше 120 тысяч за заказ и один больше 20 тысяч    "
   ]
  },
  {
   "cell_type": "markdown",
   "metadata": {},
   "source": [
    "##### Посчитаем 95-й и 99-й перцентили стоимости заказов"
   ]
  },
  {
   "cell_type": "code",
   "execution_count": 35,
   "metadata": {},
   "outputs": [
    {
     "data": {
      "text/plain": [
       "array([26785., 53904.])"
      ]
     },
     "execution_count": 35,
     "metadata": {},
     "output_type": "execute_result"
    }
   ],
   "source": [
    "np.percentile(orders_filtr['revenue'], [95, 99])"
   ]
  },
  {
   "cell_type": "markdown",
   "metadata": {},
   "source": [
    "комментарий:\n",
    "    \n",
    "Видим, что 5% пользователей делают заказа больше 27 тысяч рублей и 1% больше 54 тысяч рублей. Разумно будет взять верхнюю границу в районе 27 тысяч"
   ]
  },
  {
   "cell_type": "markdown",
   "metadata": {},
   "source": [
    "Вывод:\n",
    "Оценили результаты A/B-теста визуально и выяснили, что в данных, скорее всего, есть выбросы;\n",
    "Увидели выбросы и нашли границу для их определения."
   ]
  },
  {
   "cell_type": "markdown",
   "metadata": {},
   "source": [
    "##### Посчитаем статистическую значимость различий в среднем количестве заказов на посетителя между группами по «сырым» данным."
   ]
  },
  {
   "cell_type": "markdown",
   "metadata": {},
   "source": [
    "Соберем данные и выдвенем гипотезы гипотезы.\n",
    "- Нулевая: различий в среднем количестве заказов между группами нет.\n",
    "- Альтернативная: различия в среднем между группами есть."
   ]
  },
  {
   "cell_type": "markdown",
   "metadata": {},
   "source": [
    "Соберем таблицу, чтобы посмотреть на ежедневную динамику выручки, пользователей и заказов. Также к каждому показателю добавим его кумулятивное значение "
   ]
  },
  {
   "cell_type": "code",
   "execution_count": 36,
   "metadata": {},
   "outputs": [
    {
     "data": {
      "text/html": [
       "<div>\n",
       "<style scoped>\n",
       "    .dataframe tbody tr th:only-of-type {\n",
       "        vertical-align: middle;\n",
       "    }\n",
       "\n",
       "    .dataframe tbody tr th {\n",
       "        vertical-align: top;\n",
       "    }\n",
       "\n",
       "    .dataframe thead th {\n",
       "        text-align: right;\n",
       "    }\n",
       "</style>\n",
       "<table border=\"1\" class=\"dataframe\">\n",
       "  <thead>\n",
       "    <tr style=\"text-align: right;\">\n",
       "      <th></th>\n",
       "      <th>date</th>\n",
       "      <th>ordersPerDateA</th>\n",
       "      <th>revenuePerDateA</th>\n",
       "      <th>ordersPerDateB</th>\n",
       "      <th>revenuePerDateB</th>\n",
       "      <th>ordersCummulativeA</th>\n",
       "      <th>revenueCummulativeA</th>\n",
       "      <th>ordersCummulativeB</th>\n",
       "      <th>revenueCummulativeB</th>\n",
       "      <th>visitorsPerDateA</th>\n",
       "      <th>visitorsPerDateB</th>\n",
       "      <th>visitorsCummulativeA</th>\n",
       "      <th>visitorsCummulativeB</th>\n",
       "    </tr>\n",
       "  </thead>\n",
       "  <tbody>\n",
       "    <tr>\n",
       "      <th>0</th>\n",
       "      <td>2019-08-01</td>\n",
       "      <td>19</td>\n",
       "      <td>142779</td>\n",
       "      <td>17</td>\n",
       "      <td>59758</td>\n",
       "      <td>19</td>\n",
       "      <td>142779</td>\n",
       "      <td>17</td>\n",
       "      <td>59758</td>\n",
       "      <td>719</td>\n",
       "      <td>713</td>\n",
       "      <td>719</td>\n",
       "      <td>713</td>\n",
       "    </tr>\n",
       "    <tr>\n",
       "      <th>1</th>\n",
       "      <td>2019-08-02</td>\n",
       "      <td>18</td>\n",
       "      <td>91602</td>\n",
       "      <td>23</td>\n",
       "      <td>162043</td>\n",
       "      <td>37</td>\n",
       "      <td>234381</td>\n",
       "      <td>40</td>\n",
       "      <td>221801</td>\n",
       "      <td>619</td>\n",
       "      <td>581</td>\n",
       "      <td>1338</td>\n",
       "      <td>1294</td>\n",
       "    </tr>\n",
       "    <tr>\n",
       "      <th>2</th>\n",
       "      <td>2019-08-03</td>\n",
       "      <td>24</td>\n",
       "      <td>112473</td>\n",
       "      <td>14</td>\n",
       "      <td>67049</td>\n",
       "      <td>61</td>\n",
       "      <td>346854</td>\n",
       "      <td>54</td>\n",
       "      <td>288850</td>\n",
       "      <td>507</td>\n",
       "      <td>509</td>\n",
       "      <td>1845</td>\n",
       "      <td>1803</td>\n",
       "    </tr>\n",
       "    <tr>\n",
       "      <th>3</th>\n",
       "      <td>2019-08-04</td>\n",
       "      <td>11</td>\n",
       "      <td>41176</td>\n",
       "      <td>14</td>\n",
       "      <td>96890</td>\n",
       "      <td>72</td>\n",
       "      <td>388030</td>\n",
       "      <td>68</td>\n",
       "      <td>385740</td>\n",
       "      <td>717</td>\n",
       "      <td>770</td>\n",
       "      <td>2562</td>\n",
       "      <td>2573</td>\n",
       "    </tr>\n",
       "    <tr>\n",
       "      <th>4</th>\n",
       "      <td>2019-08-05</td>\n",
       "      <td>22</td>\n",
       "      <td>86383</td>\n",
       "      <td>21</td>\n",
       "      <td>89908</td>\n",
       "      <td>94</td>\n",
       "      <td>474413</td>\n",
       "      <td>89</td>\n",
       "      <td>475648</td>\n",
       "      <td>756</td>\n",
       "      <td>707</td>\n",
       "      <td>3318</td>\n",
       "      <td>3280</td>\n",
       "    </tr>\n",
       "  </tbody>\n",
       "</table>\n",
       "</div>"
      ],
      "text/plain": [
       "        date  ordersPerDateA  revenuePerDateA  ordersPerDateB  \\\n",
       "0 2019-08-01              19           142779              17   \n",
       "1 2019-08-02              18            91602              23   \n",
       "2 2019-08-03              24           112473              14   \n",
       "3 2019-08-04              11            41176              14   \n",
       "4 2019-08-05              22            86383              21   \n",
       "\n",
       "   revenuePerDateB  ordersCummulativeA  revenueCummulativeA  \\\n",
       "0            59758                  19               142779   \n",
       "1           162043                  37               234381   \n",
       "2            67049                  61               346854   \n",
       "3            96890                  72               388030   \n",
       "4            89908                  94               474413   \n",
       "\n",
       "   ordersCummulativeB  revenueCummulativeB  visitorsPerDateA  \\\n",
       "0                  17                59758               719   \n",
       "1                  40               221801               619   \n",
       "2                  54               288850               507   \n",
       "3                  68               385740               717   \n",
       "4                  89               475648               756   \n",
       "\n",
       "   visitorsPerDateB  visitorsCummulativeA  visitorsCummulativeB  \n",
       "0               713                   719                   713  \n",
       "1               581                  1338                  1294  \n",
       "2               509                  1845                  1803  \n",
       "3               770                  2562                  2573  \n",
       "4               707                  3318                  3280  "
      ]
     },
     "execution_count": 36,
     "metadata": {},
     "output_type": "execute_result"
    }
   ],
   "source": [
    "\n",
    "visitorsADaily = visitors[visitors['group'] == 'A'][['date', 'visitors']]\n",
    "visitorsADaily.columns = ['date', 'visitorsPerDateA']\n",
    "\n",
    "visitorsACummulative = visitorsADaily.apply(\n",
    "    lambda x: visitorsADaily[visitorsADaily['date'] <= x['date']].agg(\n",
    "        {'date': 'max', 'visitorsPerDateA': 'sum'}\n",
    "    ),\n",
    "    axis=1,\n",
    ")\n",
    "visitorsACummulative.columns = ['date', 'visitorsCummulativeA']\n",
    "\n",
    "visitorsBDaily = visitors[visitors['group'] == 'B'][['date', 'visitors']]\n",
    "visitorsBDaily.columns = ['date', 'visitorsPerDateB']\n",
    "\n",
    "visitorsBCummulative = visitorsBDaily.apply(\n",
    "    lambda x: visitorsBDaily[visitorsBDaily['date'] <= x['date']].agg(\n",
    "        {'date': 'max', 'visitorsPerDateB': 'sum'}\n",
    "    ),\n",
    "    axis=1,\n",
    ")\n",
    "visitorsBCummulative.columns = ['date', 'visitorsCummulativeB']\n",
    "\n",
    "ordersADaily = (\n",
    "    orders_filtr[orders_filtr['group'] == 'A'][['date', 'transaction_id', 'visitor_id', 'revenue']]\n",
    "    .groupby('date', as_index=False)\n",
    "    .agg({'visitor_id': pd.Series.nunique, 'revenue': 'sum'})\n",
    ")\n",
    "ordersADaily.columns = ['date', 'ordersPerDateA', 'revenuePerDateA']\n",
    "\n",
    "ordersACummulative = ordersADaily.apply(\n",
    "    lambda x: ordersADaily[ordersADaily['date'] <= x['date']].agg(\n",
    "        {'date': 'max', 'ordersPerDateA': 'sum', 'revenuePerDateA': 'sum'}\n",
    "    ),\n",
    "    axis=1,\n",
    ").sort_values(by=['date'])\n",
    "ordersACummulative.columns = [\n",
    "    'date',\n",
    "    'ordersCummulativeA',\n",
    "    'revenueCummulativeA',\n",
    "]\n",
    "\n",
    "ordersBDaily = (\n",
    "    orders_filtr[orders_filtr['group'] == 'B'][['date', 'transaction_id', 'visitor_id', 'revenue']]\n",
    "    .groupby('date', as_index=False)\n",
    "    .agg({'transaction_id': pd.Series.nunique, 'revenue': 'sum'})\n",
    ")\n",
    "ordersBDaily.columns = ['date', 'ordersPerDateB', 'revenuePerDateB']\n",
    "\n",
    "ordersBCummulative = ordersBDaily.apply(\n",
    "    lambda x: ordersBDaily[ordersBDaily['date'] <= x['date']].agg(\n",
    "        {'date': 'max', 'ordersPerDateB': 'sum', 'revenuePerDateB': 'sum'}\n",
    "    ),\n",
    "    axis=1,\n",
    ").sort_values(by=['date'])\n",
    "ordersBCummulative.columns = [\n",
    "    'date',\n",
    "    'ordersCummulativeB',\n",
    "    'revenueCummulativeB',\n",
    "]\n",
    "\n",
    "data = (\n",
    "    ordersADaily.merge(\n",
    "        ordersBDaily, left_on='date', right_on='date', how='left'\n",
    "    )\n",
    "    .merge(ordersACummulative, left_on='date', right_on='date', how='left')\n",
    "    .merge(ordersBCummulative, left_on='date', right_on='date', how='left')\n",
    "    .merge(visitorsADaily, left_on='date', right_on='date', how='left')\n",
    "    .merge(visitorsBDaily, left_on='date', right_on='date', how='left')\n",
    "    .merge(visitorsACummulative, left_on='date', right_on='date', how='left')\n",
    "    .merge(visitorsBCummulative, left_on='date', right_on='date', how='left')\n",
    ")\n",
    "\n",
    "data.head()"
   ]
  },
  {
   "cell_type": "markdown",
   "metadata": {},
   "source": [
    "Посчитаем статистическую значимость"
   ]
  },
  {
   "cell_type": "code",
   "execution_count": 37,
   "metadata": {},
   "outputs": [],
   "source": [
    "ordersByUsersA = (\n",
    "    orders_filtr[orders_filtr['group'] == 'A']\n",
    "    .groupby('visitor_id', as_index=False)\n",
    "    .agg({'transaction_id': pd.Series.nunique})\n",
    ")\n",
    "ordersByUsersA.columns = ['userId', 'orders']\n",
    "\n",
    "ordersByUsersB = (\n",
    "    orders_filtr[orders_filtr['group'] == 'B']\n",
    "    .groupby('visitor_id', as_index=False)\n",
    "    .agg({'transaction_id': pd.Series.nunique})\n",
    ")\n",
    "ordersByUsersB.columns = ['userId', 'orders']"
   ]
  },
  {
   "cell_type": "code",
   "execution_count": 38,
   "metadata": {},
   "outputs": [
    {
     "name": "stdout",
     "output_type": "stream",
     "text": [
      "p-value = 0.011\n",
      "Относительное значение = 0.160\n"
     ]
    }
   ],
   "source": [
    "pd.Series(0, index=np.arange(data['visitorsPerDateA'].sum() - len(ordersByUsersA['orders'])), name='orders')\n",
    "\n",
    "sampleA = pd.concat([ordersByUsersA['orders'],pd.Series(\n",
    "    0, index=np.arange(data['visitorsPerDateA'].sum() - len(ordersByUsersA['orders'])), name='orders')],axis=0)\n",
    "\n",
    "sampleB = pd.concat([ordersByUsersB['orders'],pd.Series(\n",
    "    0, index=np.arange(data['visitorsPerDateB'].sum() - len(ordersByUsersB['orders'])), name='orders')],axis=0)\n",
    "\n",
    "print('p-value = {0:.3f}'.format(stats.mannwhitneyu(sampleA, sampleB)[1]))\n",
    "\n",
    "print('Относительное значение = {0:.3f}'.format(sampleB.mean() / sampleA.mean() - 1))"
   ]
  },
  {
   "cell_type": "markdown",
   "metadata": {},
   "source": [
    "комментарий:\n",
    "значение 0.011 меньше 0.05, значит отвергаем нулевую гипотезу и принимаем альтернативную, что различия в среднем кол-ве заказов между группами есть. Относительный \"выигрыш\" группы B равен 16% — второе число в выводе."
   ]
  },
  {
   "cell_type": "markdown",
   "metadata": {},
   "source": [
    "##### Посчитаем статистическую значимость различий в среднем чеке заказа между группами по «сырым» данным."
   ]
  },
  {
   "cell_type": "markdown",
   "metadata": {},
   "source": [
    "- Нулевая гипотеза: различий в среднем чеке между группами нет. \n",
    "- Альтернативная гипотеза: различия в среднем чеке между группами есть. "
   ]
  },
  {
   "cell_type": "code",
   "execution_count": 39,
   "metadata": {},
   "outputs": [
    {
     "name": "stdout",
     "output_type": "stream",
     "text": [
      "p-value = 0.829\n",
      "Относительное значение = 0.287\n"
     ]
    }
   ],
   "source": [
    "print('p-value = {0:.3f}'.format(\n",
    "    stats.mannwhitneyu(\n",
    "        orders_filtr[orders_filtr['group']=='A']['revenue'], \n",
    "        orders_filtr[orders_filtr['group']=='B']['revenue'])[1]))\n",
    "\n",
    "print('Относительное значение = {0:.3f}'.format(\n",
    "    orders_filtr[orders_filtr['group']=='B']['revenue'].mean()/\n",
    "    orders_filtr[orders_filtr['group']=='A']['revenue'].mean()-1))"
   ]
  },
  {
   "cell_type": "markdown",
   "metadata": {},
   "source": [
    "комментарий:\n",
    "Причин отвергать нулевую гипотезу и считать, что в среднем чеке есть различия, нет. Средний чек группы B выше среднего чека группы A, но данное различие не является стат. значимым так как p-value значительно выше 0.05. Видимо для критического изменения, чтобы отвергнуть нулевую гипотезу, различие должны быть в гороздо большем объеме."
   ]
  },
  {
   "cell_type": "markdown",
   "metadata": {},
   "source": [
    "##### Посчитаем статистическую значимость различий в среднем количестве заказов на посетителя между группами по «очищенным» данным."
   ]
  },
  {
   "cell_type": "markdown",
   "metadata": {},
   "source": [
    "Примем за аномальных пользователей тех, кто совершил от 1 заказов или совершил заказ дороже 27 000 рублей. Так мы уберём 5% пользователей с наибольшим числом заказов и от 1% до 5% пользователей с дорогими заказами. Сделаем срезы пользователей с числом заказов больше 1 — usersWithManyOrders и пользователей, совершивших заказы дороже 27 000 — usersWithExpensiveOrders. Объединим их в таблице abnormalUsers. "
   ]
  },
  {
   "cell_type": "code",
   "execution_count": 40,
   "metadata": {},
   "outputs": [
    {
     "name": "stdout",
     "output_type": "stream",
     "text": [
      "568     113298937\n",
      "1099    148427295\n",
      "928     204675465\n",
      "33      249864742\n",
      "684     358944393\n",
      "dtype: int64\n",
      "86\n"
     ]
    }
   ],
   "source": [
    "### Узнаем, сколько всего аномальных пользователей \n",
    "\n",
    "\n",
    "usersWithManyOrders = pd.concat(\n",
    "    [\n",
    "        ordersByUsersA[ordersByUsersA['orders'] > 1]['userId'],\n",
    "        ordersByUsersB[ordersByUsersB['orders'] > 1]['userId'],\n",
    "    ],\n",
    "    axis=0,\n",
    ")\n",
    "usersWithExpensiveOrders = orders_filtr[orders_filtr['revenue'] > 27000]['visitor_id']\n",
    "abnormalUsers = (\n",
    "    pd.concat([usersWithManyOrders, usersWithExpensiveOrders], axis=0)\n",
    "    .drop_duplicates()\n",
    "    .sort_values()\n",
    ")\n",
    "print(abnormalUsers.head(5))\n",
    "print(abnormalUsers.shape[0])"
   ]
  },
  {
   "cell_type": "markdown",
   "metadata": {},
   "source": [
    "всего 86 аномального пользователя"
   ]
  },
  {
   "cell_type": "markdown",
   "metadata": {},
   "source": [
    "Узнаем, как их действия повлияли на результаты теста. Посчитаем статистическую значимость различий в среднем количестве заказов между группами теста по очищенным данным. Сначала подготовим выборки количества заказов по пользователям по группам теста:"
   ]
  },
  {
   "cell_type": "code",
   "execution_count": 41,
   "metadata": {},
   "outputs": [
    {
     "name": "stdout",
     "output_type": "stream",
     "text": [
      "p-value = 0.016\n",
      "Относительное значение = 0.174\n"
     ]
    }
   ],
   "source": [
    "sampleAFiltered = pd.concat(\n",
    "    [\n",
    "        ordersByUsersA[\n",
    "            np.logical_not(ordersByUsersA['userId'].isin(abnormalUsers))\n",
    "        ]['orders'],\n",
    "        pd.Series(\n",
    "            0,\n",
    "            index=np.arange(\n",
    "                data['visitorsPerDateA'].sum() - len(ordersByUsersA['orders'])\n",
    "            ),\n",
    "            name='orders',\n",
    "        ),\n",
    "    ],\n",
    "    axis=0,\n",
    ")\n",
    "\n",
    "sampleBFiltered = pd.concat(\n",
    "    [\n",
    "        ordersByUsersB[\n",
    "            np.logical_not(ordersByUsersB['userId'].isin(abnormalUsers))\n",
    "        ]['orders'],\n",
    "        pd.Series(\n",
    "            0,\n",
    "            index=np.arange(\n",
    "                data['visitorsPerDateB'].sum() - len(ordersByUsersB['orders'])\n",
    "            ),\n",
    "            name='orders',\n",
    "        ),\n",
    "    ],\n",
    "    axis=0,\n",
    ")\n",
    "\n",
    "# Применим статистический критерий Манна-Уитни к полученным выборкам\n",
    "print('p-value = {0:.3f}'.format(stats.mannwhitneyu(sampleAFiltered, sampleBFiltered)[1]))\n",
    "print('Относительное значение = {0:.3f}'.format(sampleBFiltered.mean()/sampleAFiltered.mean()-1))\n"
   ]
  },
  {
   "cell_type": "markdown",
   "metadata": {},
   "source": [
    "По \"очищенным\" данным различия между группами A и B также есть: p-value заметно меньше 0.05, и нулевую гипотезу о том, что статистически значимых различий в конверсии между группами нет, следует отвергнуть."
   ]
  },
  {
   "cell_type": "markdown",
   "metadata": {},
   "source": [
    "##### Посчитаем статистическую значимость различий в среднем чеке заказа между группами по «очищенным» данным."
   ]
  },
  {
   "cell_type": "code",
   "execution_count": 42,
   "metadata": {},
   "outputs": [
    {
     "name": "stdout",
     "output_type": "stream",
     "text": [
      "p-value = 0.727\n",
      "Относительное значение = -0.034\n"
     ]
    }
   ],
   "source": [
    "print(\n",
    "    'p-value = {0:.3f}'.format(\n",
    "        stats.mannwhitneyu(\n",
    "            orders_filtr[\n",
    "                np.logical_and(\n",
    "                    orders_filtr['group'] == 'A',\n",
    "                    np.logical_not(orders_filtr['visitor_id'].isin(abnormalUsers)),\n",
    "                )\n",
    "            ]['revenue'],\n",
    "            orders_filtr[\n",
    "                np.logical_and(\n",
    "                    orders_filtr['group'] == 'B',\n",
    "                    np.logical_not(orders_filtr['visitor_id'].isin(abnormalUsers)),\n",
    "                )\n",
    "            ]['revenue'],\n",
    "        )[1]\n",
    "    )\n",
    ")\n",
    "\n",
    "print(\n",
    "    'Относительное значение = {0:.3f}'.format(\n",
    "        orders_filtr[\n",
    "            np.logical_and(\n",
    "                orders_filtr['group'] == 'B',\n",
    "                np.logical_not(orders_filtr['visitor_id'].isin(abnormalUsers)),\n",
    "            )\n",
    "        ]['revenue'].mean()\n",
    "        / orders_filtr[\n",
    "            np.logical_and(\n",
    "                orders_filtr['group'] == 'A',\n",
    "                np.logical_not(orders_filtr['visitor_id'].isin(abnormalUsers)),\n",
    "            )\n",
    "        ]['revenue'].mean()\n",
    "        - 1\n",
    "    )\n",
    ")"
   ]
  },
  {
   "cell_type": "markdown",
   "metadata": {},
   "source": [
    " P-value уменьшился, но остался значительно больше 0.05. Значит, причин отвергать нулевую гипотезу и считать, что в среднем чеке есть различия, по-прежнему нет. вот средний чек группы B без выбросов стал ниже среднего чека группы A, что говорит о выбросах в \"сырых\" данных и итоговой низкой стат. значисмости "
   ]
  },
  {
   "cell_type": "markdown",
   "metadata": {},
   "source": [
    "##### Примем решение по результатам теста. Варианты решений: 1. Остановить тест, зафиксировать победу одной из групп. 2. Остановить тест, зафиксировать отсутствие различий между группами. 3. Продолжить тест.\n"
   ]
  },
  {
   "cell_type": "markdown",
   "metadata": {},
   "source": [
    "выводы:\n",
    "- Есть статистически значимое различие по среднему количеству заказов между группами по «сырым», по данным после фильтрации аномалий;\n",
    "- Нет статистически значимого различия по среднему чеку между группами ни по «сырым», ни по данным после фильтрации аномалий;\n",
    "- График различия среднего количества заказов между группами сообщает, что результаты группы А хуже группы В и нет значительной тенденции к улучшению:\n",
    "- В целом тест можно остановить. Мы увидели прирост конверсии в группе B, но на среднем чеке проверяемая гипотеза не сказалась."
   ]
  }
 ],
 "metadata": {
  "ExecuteTimeLog": [
   {
    "duration": 876,
    "start_time": "2023-07-12T17:34:58.545Z"
   },
   {
    "duration": 193,
    "start_time": "2023-07-12T17:37:59.513Z"
   },
   {
    "duration": 11,
    "start_time": "2023-07-12T17:38:38.060Z"
   },
   {
    "duration": 12,
    "start_time": "2023-07-12T17:38:47.799Z"
   },
   {
    "duration": 8,
    "start_time": "2023-07-12T17:39:04.936Z"
   },
   {
    "duration": 11,
    "start_time": "2023-07-12T17:39:13.411Z"
   },
   {
    "duration": 8,
    "start_time": "2023-07-12T17:39:35.826Z"
   },
   {
    "duration": 10,
    "start_time": "2023-07-12T17:39:38.373Z"
   },
   {
    "duration": 681,
    "start_time": "2023-07-12T17:48:05.990Z"
   },
   {
    "duration": 82,
    "start_time": "2023-07-12T17:48:06.673Z"
   },
   {
    "duration": 17,
    "start_time": "2023-07-12T17:48:06.757Z"
   },
   {
    "duration": 23,
    "start_time": "2023-07-12T17:48:06.776Z"
   },
   {
    "duration": 16,
    "start_time": "2023-07-12T17:48:06.802Z"
   },
   {
    "duration": 22,
    "start_time": "2023-07-12T17:48:06.820Z"
   },
   {
    "duration": 19,
    "start_time": "2023-07-12T17:48:06.844Z"
   },
   {
    "duration": 19,
    "start_time": "2023-07-12T17:48:06.865Z"
   },
   {
    "duration": 11,
    "start_time": "2023-07-12T17:48:06.886Z"
   },
   {
    "duration": 6,
    "start_time": "2023-07-12T17:48:16.948Z"
   },
   {
    "duration": 8,
    "start_time": "2023-07-12T17:48:19.850Z"
   },
   {
    "duration": 9,
    "start_time": "2023-07-12T17:48:27.899Z"
   },
   {
    "duration": 12,
    "start_time": "2023-07-12T17:48:31.702Z"
   },
   {
    "duration": 13,
    "start_time": "2023-07-12T17:48:39.994Z"
   },
   {
    "duration": 1063,
    "start_time": "2023-07-12T17:50:36.852Z"
   },
   {
    "duration": 871,
    "start_time": "2023-07-12T17:50:48.603Z"
   },
   {
    "duration": 73,
    "start_time": "2023-07-12T17:51:09.320Z"
   },
   {
    "duration": 1232,
    "start_time": "2023-07-12T17:51:13.003Z"
   },
   {
    "duration": 563,
    "start_time": "2023-07-12T17:51:35.417Z"
   },
   {
    "duration": 79,
    "start_time": "2023-07-12T17:52:19.744Z"
   },
   {
    "duration": 122,
    "start_time": "2023-07-12T17:52:22.743Z"
   },
   {
    "duration": 11,
    "start_time": "2023-07-12T17:53:07.802Z"
   },
   {
    "duration": 7,
    "start_time": "2023-07-12T17:53:19.204Z"
   },
   {
    "duration": 7,
    "start_time": "2023-07-12T17:53:39.670Z"
   },
   {
    "duration": 8,
    "start_time": "2023-07-12T17:53:42.948Z"
   },
   {
    "duration": 6,
    "start_time": "2023-07-12T17:54:06.001Z"
   },
   {
    "duration": 7,
    "start_time": "2023-07-12T17:55:15.803Z"
   },
   {
    "duration": 5,
    "start_time": "2023-07-12T17:55:17.255Z"
   },
   {
    "duration": 7,
    "start_time": "2023-07-12T17:55:17.539Z"
   },
   {
    "duration": 8,
    "start_time": "2023-07-12T17:56:12.544Z"
   },
   {
    "duration": 8,
    "start_time": "2023-07-12T17:56:35.866Z"
   },
   {
    "duration": 13,
    "start_time": "2023-07-12T17:56:54.459Z"
   },
   {
    "duration": 19,
    "start_time": "2023-07-12T18:01:41.609Z"
   },
   {
    "duration": 12,
    "start_time": "2023-07-12T18:02:50.975Z"
   },
   {
    "duration": 12,
    "start_time": "2023-07-12T18:04:15.539Z"
   },
   {
    "duration": 11,
    "start_time": "2023-07-12T18:05:31.390Z"
   },
   {
    "duration": 15,
    "start_time": "2023-07-12T18:05:38.658Z"
   },
   {
    "duration": 15,
    "start_time": "2023-07-12T18:05:57.098Z"
   },
   {
    "duration": 14,
    "start_time": "2023-07-12T18:07:54.996Z"
   },
   {
    "duration": 14,
    "start_time": "2023-07-12T18:08:23.645Z"
   },
   {
    "duration": 649,
    "start_time": "2023-07-12T18:08:38.326Z"
   },
   {
    "duration": 83,
    "start_time": "2023-07-12T18:08:38.976Z"
   },
   {
    "duration": 11,
    "start_time": "2023-07-12T18:08:39.060Z"
   },
   {
    "duration": 16,
    "start_time": "2023-07-12T18:08:39.073Z"
   },
   {
    "duration": 18,
    "start_time": "2023-07-12T18:08:39.090Z"
   },
   {
    "duration": 20,
    "start_time": "2023-07-12T18:08:39.110Z"
   },
   {
    "duration": 38,
    "start_time": "2023-07-12T18:08:39.131Z"
   },
   {
    "duration": 30,
    "start_time": "2023-07-12T18:08:39.171Z"
   },
   {
    "duration": 52,
    "start_time": "2023-07-12T18:08:39.203Z"
   },
   {
    "duration": 923,
    "start_time": "2023-07-12T18:08:39.257Z"
   },
   {
    "duration": 973,
    "start_time": "2023-07-12T18:08:40.182Z"
   },
   {
    "duration": 642,
    "start_time": "2023-07-12T18:08:41.158Z"
   },
   {
    "duration": 10,
    "start_time": "2023-07-12T18:08:41.802Z"
   },
   {
    "duration": 36,
    "start_time": "2023-07-12T18:08:41.813Z"
   },
   {
    "duration": 42,
    "start_time": "2023-07-12T18:08:41.851Z"
   },
   {
    "duration": 55,
    "start_time": "2023-07-12T18:08:41.895Z"
   },
   {
    "duration": 42,
    "start_time": "2023-07-12T18:08:41.952Z"
   },
   {
    "duration": 5,
    "start_time": "2023-07-12T18:08:41.997Z"
   },
   {
    "duration": 15,
    "start_time": "2023-07-12T18:08:42.004Z"
   },
   {
    "duration": 90,
    "start_time": "2023-07-12T18:08:42.020Z"
   },
   {
    "duration": 0,
    "start_time": "2023-07-12T18:08:42.111Z"
   },
   {
    "duration": 12,
    "start_time": "2023-07-12T18:09:00.160Z"
   },
   {
    "duration": 9,
    "start_time": "2023-07-12T18:09:10.963Z"
   },
   {
    "duration": 8,
    "start_time": "2023-07-12T18:09:19.624Z"
   },
   {
    "duration": 8,
    "start_time": "2023-07-12T18:09:32.187Z"
   },
   {
    "duration": 9,
    "start_time": "2023-07-12T18:09:47.215Z"
   },
   {
    "duration": 10,
    "start_time": "2023-07-12T18:10:18.701Z"
   },
   {
    "duration": 8,
    "start_time": "2023-07-12T18:23:33.769Z"
   },
   {
    "duration": 9,
    "start_time": "2023-07-12T18:23:58.414Z"
   },
   {
    "duration": 8,
    "start_time": "2023-07-12T18:28:11.310Z"
   },
   {
    "duration": 635,
    "start_time": "2023-07-12T19:25:25.994Z"
   },
   {
    "duration": 87,
    "start_time": "2023-07-12T19:25:26.630Z"
   },
   {
    "duration": 12,
    "start_time": "2023-07-12T19:25:26.718Z"
   },
   {
    "duration": 53,
    "start_time": "2023-07-12T19:25:26.734Z"
   },
   {
    "duration": 32,
    "start_time": "2023-07-12T19:25:26.789Z"
   },
   {
    "duration": 45,
    "start_time": "2023-07-12T19:25:26.822Z"
   },
   {
    "duration": 19,
    "start_time": "2023-07-12T19:25:26.869Z"
   },
   {
    "duration": 14,
    "start_time": "2023-07-12T19:25:26.890Z"
   },
   {
    "duration": 19,
    "start_time": "2023-07-12T19:25:26.905Z"
   },
   {
    "duration": 1090,
    "start_time": "2023-07-12T19:25:26.926Z"
   },
   {
    "duration": 1166,
    "start_time": "2023-07-12T19:25:28.017Z"
   },
   {
    "duration": 758,
    "start_time": "2023-07-12T19:25:29.184Z"
   },
   {
    "duration": 10,
    "start_time": "2023-07-12T19:25:29.943Z"
   },
   {
    "duration": 15,
    "start_time": "2023-07-12T19:25:29.954Z"
   },
   {
    "duration": 10,
    "start_time": "2023-07-12T19:25:29.970Z"
   },
   {
    "duration": 44,
    "start_time": "2023-07-12T19:25:29.982Z"
   },
   {
    "duration": 59,
    "start_time": "2023-07-12T19:25:30.027Z"
   },
   {
    "duration": 74,
    "start_time": "2023-07-12T19:25:30.088Z"
   },
   {
    "duration": 48,
    "start_time": "2023-07-12T19:25:30.164Z"
   },
   {
    "duration": 87,
    "start_time": "2023-07-12T19:25:30.214Z"
   },
   {
    "duration": 68,
    "start_time": "2023-07-12T19:25:30.302Z"
   },
   {
    "duration": 94,
    "start_time": "2023-07-12T19:25:30.372Z"
   },
   {
    "duration": 33,
    "start_time": "2023-07-12T19:25:30.468Z"
   },
   {
    "duration": 93,
    "start_time": "2023-07-12T19:28:42.431Z"
   },
   {
    "duration": 714,
    "start_time": "2023-07-12T19:29:53.405Z"
   },
   {
    "duration": 96,
    "start_time": "2023-07-12T19:29:54.120Z"
   },
   {
    "duration": 11,
    "start_time": "2023-07-12T19:29:54.217Z"
   },
   {
    "duration": 45,
    "start_time": "2023-07-12T19:29:54.230Z"
   },
   {
    "duration": 20,
    "start_time": "2023-07-12T19:29:54.277Z"
   },
   {
    "duration": 21,
    "start_time": "2023-07-12T19:29:54.298Z"
   },
   {
    "duration": 28,
    "start_time": "2023-07-12T19:29:54.320Z"
   },
   {
    "duration": 33,
    "start_time": "2023-07-12T19:29:54.349Z"
   },
   {
    "duration": 38,
    "start_time": "2023-07-12T19:29:54.384Z"
   },
   {
    "duration": 1148,
    "start_time": "2023-07-12T19:29:54.425Z"
   },
   {
    "duration": 1100,
    "start_time": "2023-07-12T19:29:55.575Z"
   },
   {
    "duration": 778,
    "start_time": "2023-07-12T19:29:56.677Z"
   },
   {
    "duration": 7,
    "start_time": "2023-07-12T19:29:57.457Z"
   },
   {
    "duration": 64,
    "start_time": "2023-07-12T19:29:57.466Z"
   },
   {
    "duration": 66,
    "start_time": "2023-07-12T19:29:57.532Z"
   },
   {
    "duration": 19,
    "start_time": "2023-07-12T19:29:57.601Z"
   },
   {
    "duration": 62,
    "start_time": "2023-07-12T19:29:57.621Z"
   },
   {
    "duration": 11,
    "start_time": "2023-07-12T19:29:57.685Z"
   },
   {
    "duration": 19,
    "start_time": "2023-07-12T19:29:57.698Z"
   },
   {
    "duration": 66,
    "start_time": "2023-07-12T19:29:57.719Z"
   },
   {
    "duration": 10,
    "start_time": "2023-07-12T19:29:57.788Z"
   },
   {
    "duration": 137,
    "start_time": "2023-07-12T19:29:57.800Z"
   },
   {
    "duration": 0,
    "start_time": "2023-07-12T19:29:57.939Z"
   },
   {
    "duration": 18,
    "start_time": "2023-07-12T19:30:11.161Z"
   },
   {
    "duration": 8,
    "start_time": "2023-07-12T19:31:35.298Z"
   },
   {
    "duration": 9,
    "start_time": "2023-07-12T19:34:47.377Z"
   },
   {
    "duration": 13,
    "start_time": "2023-07-12T19:38:08.208Z"
   },
   {
    "duration": 14,
    "start_time": "2023-07-12T19:38:18.860Z"
   },
   {
    "duration": 8,
    "start_time": "2023-07-12T19:38:35.707Z"
   },
   {
    "duration": 9,
    "start_time": "2023-07-12T19:41:42.515Z"
   },
   {
    "duration": 7,
    "start_time": "2023-07-12T19:41:45.596Z"
   },
   {
    "duration": 452,
    "start_time": "2023-07-12T20:00:20.112Z"
   },
   {
    "duration": 759,
    "start_time": "2023-07-12T20:00:46.355Z"
   },
   {
    "duration": 105,
    "start_time": "2023-07-12T20:00:47.115Z"
   },
   {
    "duration": 10,
    "start_time": "2023-07-12T20:00:47.222Z"
   },
   {
    "duration": 75,
    "start_time": "2023-07-12T20:00:47.234Z"
   },
   {
    "duration": 17,
    "start_time": "2023-07-12T20:00:47.311Z"
   },
   {
    "duration": 70,
    "start_time": "2023-07-12T20:00:47.329Z"
   },
   {
    "duration": 98,
    "start_time": "2023-07-12T20:00:47.401Z"
   },
   {
    "duration": 37,
    "start_time": "2023-07-12T20:00:47.501Z"
   },
   {
    "duration": 765,
    "start_time": "2023-07-12T20:00:47.540Z"
   },
   {
    "duration": 0,
    "start_time": "2023-07-12T20:00:48.306Z"
   },
   {
    "duration": 0,
    "start_time": "2023-07-12T20:00:48.307Z"
   },
   {
    "duration": 0,
    "start_time": "2023-07-12T20:00:48.308Z"
   },
   {
    "duration": 0,
    "start_time": "2023-07-12T20:00:48.309Z"
   },
   {
    "duration": 0,
    "start_time": "2023-07-12T20:00:48.310Z"
   },
   {
    "duration": 0,
    "start_time": "2023-07-12T20:00:48.311Z"
   },
   {
    "duration": 0,
    "start_time": "2023-07-12T20:00:48.311Z"
   },
   {
    "duration": 0,
    "start_time": "2023-07-12T20:00:48.312Z"
   },
   {
    "duration": 0,
    "start_time": "2023-07-12T20:00:48.313Z"
   },
   {
    "duration": 0,
    "start_time": "2023-07-12T20:00:48.314Z"
   },
   {
    "duration": 0,
    "start_time": "2023-07-12T20:00:48.316Z"
   },
   {
    "duration": 0,
    "start_time": "2023-07-12T20:00:48.317Z"
   },
   {
    "duration": 0,
    "start_time": "2023-07-12T20:00:48.318Z"
   },
   {
    "duration": 0,
    "start_time": "2023-07-12T20:00:48.318Z"
   },
   {
    "duration": 538,
    "start_time": "2023-07-12T20:01:14.089Z"
   },
   {
    "duration": 708,
    "start_time": "2023-07-12T20:01:55.322Z"
   },
   {
    "duration": 85,
    "start_time": "2023-07-12T20:01:56.031Z"
   },
   {
    "duration": 11,
    "start_time": "2023-07-12T20:01:56.118Z"
   },
   {
    "duration": 57,
    "start_time": "2023-07-12T20:01:56.131Z"
   },
   {
    "duration": 23,
    "start_time": "2023-07-12T20:01:56.191Z"
   },
   {
    "duration": 35,
    "start_time": "2023-07-12T20:01:56.215Z"
   },
   {
    "duration": 31,
    "start_time": "2023-07-12T20:01:56.255Z"
   },
   {
    "duration": 31,
    "start_time": "2023-07-12T20:01:56.288Z"
   },
   {
    "duration": 48,
    "start_time": "2023-07-12T20:01:56.321Z"
   },
   {
    "duration": 1147,
    "start_time": "2023-07-12T20:01:56.371Z"
   },
   {
    "duration": 1203,
    "start_time": "2023-07-12T20:01:57.520Z"
   },
   {
    "duration": 738,
    "start_time": "2023-07-12T20:01:58.725Z"
   },
   {
    "duration": 9,
    "start_time": "2023-07-12T20:01:59.465Z"
   },
   {
    "duration": 16,
    "start_time": "2023-07-12T20:01:59.476Z"
   },
   {
    "duration": 18,
    "start_time": "2023-07-12T20:01:59.494Z"
   },
   {
    "duration": 15,
    "start_time": "2023-07-12T20:01:59.515Z"
   },
   {
    "duration": 41,
    "start_time": "2023-07-12T20:01:59.532Z"
   },
   {
    "duration": 7,
    "start_time": "2023-07-12T20:01:59.577Z"
   },
   {
    "duration": 11,
    "start_time": "2023-07-12T20:01:59.585Z"
   },
   {
    "duration": 9,
    "start_time": "2023-07-12T20:01:59.597Z"
   },
   {
    "duration": 7,
    "start_time": "2023-07-12T20:01:59.608Z"
   },
   {
    "duration": 13,
    "start_time": "2023-07-12T20:01:59.616Z"
   },
   {
    "duration": 28,
    "start_time": "2023-07-12T20:01:59.630Z"
   },
   {
    "duration": 701,
    "start_time": "2023-07-12T20:02:21.986Z"
   },
   {
    "duration": 1074,
    "start_time": "2023-07-12T20:02:34.482Z"
   },
   {
    "duration": 602,
    "start_time": "2023-07-12T20:02:41.785Z"
   },
   {
    "duration": 730,
    "start_time": "2023-07-12T20:02:47.364Z"
   },
   {
    "duration": 98,
    "start_time": "2023-07-12T20:02:48.096Z"
   },
   {
    "duration": 10,
    "start_time": "2023-07-12T20:02:48.196Z"
   },
   {
    "duration": 30,
    "start_time": "2023-07-12T20:02:48.207Z"
   },
   {
    "duration": 43,
    "start_time": "2023-07-12T20:02:48.245Z"
   },
   {
    "duration": 15,
    "start_time": "2023-07-12T20:02:48.290Z"
   },
   {
    "duration": 15,
    "start_time": "2023-07-12T20:02:48.307Z"
   },
   {
    "duration": 16,
    "start_time": "2023-07-12T20:02:48.323Z"
   },
   {
    "duration": 55,
    "start_time": "2023-07-12T20:02:48.340Z"
   },
   {
    "duration": 994,
    "start_time": "2023-07-12T20:02:48.397Z"
   },
   {
    "duration": 1180,
    "start_time": "2023-07-12T20:02:49.393Z"
   },
   {
    "duration": 716,
    "start_time": "2023-07-12T20:02:50.575Z"
   },
   {
    "duration": 5,
    "start_time": "2023-07-12T20:02:51.293Z"
   },
   {
    "duration": 9,
    "start_time": "2023-07-12T20:02:51.302Z"
   },
   {
    "duration": 21,
    "start_time": "2023-07-12T20:02:51.313Z"
   },
   {
    "duration": 17,
    "start_time": "2023-07-12T20:02:51.336Z"
   },
   {
    "duration": 26,
    "start_time": "2023-07-12T20:02:51.359Z"
   },
   {
    "duration": 14,
    "start_time": "2023-07-12T20:02:51.387Z"
   },
   {
    "duration": 15,
    "start_time": "2023-07-12T20:02:51.403Z"
   },
   {
    "duration": 59,
    "start_time": "2023-07-12T20:02:51.420Z"
   },
   {
    "duration": 7,
    "start_time": "2023-07-12T20:02:51.481Z"
   },
   {
    "duration": 11,
    "start_time": "2023-07-12T20:02:51.490Z"
   },
   {
    "duration": 7,
    "start_time": "2023-07-12T20:02:51.502Z"
   },
   {
    "duration": 6,
    "start_time": "2023-07-12T20:07:03.492Z"
   },
   {
    "duration": 114,
    "start_time": "2023-07-12T20:09:48.168Z"
   },
   {
    "duration": 9,
    "start_time": "2023-07-12T20:10:10.783Z"
   },
   {
    "duration": 180,
    "start_time": "2023-07-12T20:10:34.846Z"
   },
   {
    "duration": 370,
    "start_time": "2023-07-12T20:16:44.940Z"
   },
   {
    "duration": 249,
    "start_time": "2023-07-12T20:18:09.559Z"
   },
   {
    "duration": 333,
    "start_time": "2023-07-12T20:19:52.586Z"
   },
   {
    "duration": 210,
    "start_time": "2023-07-12T20:20:03.093Z"
   },
   {
    "duration": 195,
    "start_time": "2023-07-12T20:20:40.906Z"
   },
   {
    "duration": 257,
    "start_time": "2023-07-12T20:20:49.789Z"
   },
   {
    "duration": 160,
    "start_time": "2023-07-12T20:22:06.514Z"
   },
   {
    "duration": 194,
    "start_time": "2023-07-12T20:22:09.155Z"
   },
   {
    "duration": 208,
    "start_time": "2023-07-12T20:22:16.363Z"
   },
   {
    "duration": 319,
    "start_time": "2023-07-12T20:25:40.618Z"
   },
   {
    "duration": 367,
    "start_time": "2023-07-12T20:26:01.628Z"
   },
   {
    "duration": 373,
    "start_time": "2023-07-12T20:26:09.888Z"
   },
   {
    "duration": 1722,
    "start_time": "2023-07-12T20:30:37.653Z"
   },
   {
    "duration": 265,
    "start_time": "2023-07-12T20:32:12.754Z"
   },
   {
    "duration": 340,
    "start_time": "2023-07-12T20:35:07.427Z"
   },
   {
    "duration": 8,
    "start_time": "2023-07-12T20:38:43.106Z"
   },
   {
    "duration": 8,
    "start_time": "2023-07-12T20:39:45.099Z"
   },
   {
    "duration": 420,
    "start_time": "2023-07-12T20:40:43.353Z"
   },
   {
    "duration": 127,
    "start_time": "2023-07-12T20:42:58.740Z"
   },
   {
    "duration": 158,
    "start_time": "2023-07-12T20:43:33.618Z"
   },
   {
    "duration": 118,
    "start_time": "2023-07-12T20:44:18.010Z"
   },
   {
    "duration": 139,
    "start_time": "2023-07-12T20:44:21.995Z"
   },
   {
    "duration": 11,
    "start_time": "2023-07-12T20:44:26.637Z"
   },
   {
    "duration": 4,
    "start_time": "2023-07-12T20:44:40.320Z"
   },
   {
    "duration": 5,
    "start_time": "2023-07-12T20:44:43.654Z"
   },
   {
    "duration": 5,
    "start_time": "2023-07-12T20:44:49.711Z"
   },
   {
    "duration": 130,
    "start_time": "2023-07-12T20:46:08.960Z"
   },
   {
    "duration": 160,
    "start_time": "2023-07-12T20:46:33.204Z"
   },
   {
    "duration": 3,
    "start_time": "2023-07-12T20:47:11.980Z"
   },
   {
    "duration": 4,
    "start_time": "2023-07-12T20:47:36.797Z"
   },
   {
    "duration": 5,
    "start_time": "2023-07-12T20:48:04.717Z"
   },
   {
    "duration": 10,
    "start_time": "2023-07-12T20:55:20.020Z"
   },
   {
    "duration": 8,
    "start_time": "2023-07-12T20:56:19.021Z"
   },
   {
    "duration": 7,
    "start_time": "2023-07-12T20:57:02.408Z"
   },
   {
    "duration": 218,
    "start_time": "2023-07-12T20:59:44.792Z"
   },
   {
    "duration": 214,
    "start_time": "2023-07-12T21:05:25.307Z"
   },
   {
    "duration": 162,
    "start_time": "2023-07-12T21:06:07.189Z"
   },
   {
    "duration": 13,
    "start_time": "2023-07-12T21:09:36.220Z"
   },
   {
    "duration": 1048,
    "start_time": "2023-07-12T21:10:18.066Z"
   },
   {
    "duration": 155,
    "start_time": "2023-07-12T21:10:19.116Z"
   },
   {
    "duration": 11,
    "start_time": "2023-07-12T21:10:19.273Z"
   },
   {
    "duration": 15,
    "start_time": "2023-07-12T21:10:19.286Z"
   },
   {
    "duration": 12,
    "start_time": "2023-07-12T21:10:19.304Z"
   },
   {
    "duration": 35,
    "start_time": "2023-07-12T21:10:19.318Z"
   },
   {
    "duration": 26,
    "start_time": "2023-07-12T21:10:19.358Z"
   },
   {
    "duration": 19,
    "start_time": "2023-07-12T21:10:19.385Z"
   },
   {
    "duration": 15,
    "start_time": "2023-07-12T21:10:19.405Z"
   },
   {
    "duration": 983,
    "start_time": "2023-07-12T21:10:19.422Z"
   },
   {
    "duration": 1207,
    "start_time": "2023-07-12T21:10:20.407Z"
   },
   {
    "duration": 668,
    "start_time": "2023-07-12T21:10:21.616Z"
   },
   {
    "duration": 5,
    "start_time": "2023-07-12T21:10:22.286Z"
   },
   {
    "duration": 11,
    "start_time": "2023-07-12T21:10:22.293Z"
   },
   {
    "duration": 13,
    "start_time": "2023-07-12T21:10:22.305Z"
   },
   {
    "duration": 12,
    "start_time": "2023-07-12T21:10:22.331Z"
   },
   {
    "duration": 37,
    "start_time": "2023-07-12T21:10:22.344Z"
   },
   {
    "duration": 9,
    "start_time": "2023-07-12T21:10:22.382Z"
   },
   {
    "duration": 11,
    "start_time": "2023-07-12T21:10:22.392Z"
   },
   {
    "duration": 10,
    "start_time": "2023-07-12T21:10:22.405Z"
   },
   {
    "duration": 7,
    "start_time": "2023-07-12T21:10:22.416Z"
   },
   {
    "duration": 12,
    "start_time": "2023-07-12T21:10:22.424Z"
   },
   {
    "duration": 57,
    "start_time": "2023-07-12T21:10:22.437Z"
   },
   {
    "duration": 18,
    "start_time": "2023-07-12T21:10:22.495Z"
   },
   {
    "duration": 364,
    "start_time": "2023-07-12T21:10:22.515Z"
   },
   {
    "duration": 212,
    "start_time": "2023-07-12T21:10:22.881Z"
   },
   {
    "duration": 203,
    "start_time": "2023-07-12T21:10:23.095Z"
   },
   {
    "duration": 291,
    "start_time": "2023-07-12T21:10:23.300Z"
   },
   {
    "duration": 331,
    "start_time": "2023-07-12T21:10:23.592Z"
   },
   {
    "duration": 299,
    "start_time": "2023-07-12T21:10:23.925Z"
   },
   {
    "duration": 33,
    "start_time": "2023-07-12T21:10:24.225Z"
   },
   {
    "duration": 164,
    "start_time": "2023-07-12T21:10:24.259Z"
   },
   {
    "duration": 18,
    "start_time": "2023-07-12T21:10:24.424Z"
   },
   {
    "duration": 239,
    "start_time": "2023-07-12T21:10:24.448Z"
   },
   {
    "duration": 5,
    "start_time": "2023-07-12T21:10:24.689Z"
   },
   {
    "duration": 24,
    "start_time": "2023-07-12T21:10:24.696Z"
   },
   {
    "duration": 286,
    "start_time": "2023-07-12T21:10:24.722Z"
   },
   {
    "duration": 157,
    "start_time": "2023-07-12T21:10:25.009Z"
   },
   {
    "duration": 26,
    "start_time": "2023-07-12T21:10:25.173Z"
   },
   {
    "duration": 16,
    "start_time": "2023-07-12T21:14:16.233Z"
   },
   {
    "duration": 1776,
    "start_time": "2023-07-12T21:21:22.203Z"
   },
   {
    "duration": 15,
    "start_time": "2023-07-12T21:22:43.352Z"
   },
   {
    "duration": 21,
    "start_time": "2023-07-12T21:23:39.135Z"
   },
   {
    "duration": 9,
    "start_time": "2023-07-12T21:23:58.004Z"
   },
   {
    "duration": 38,
    "start_time": "2023-07-12T21:24:08.808Z"
   },
   {
    "duration": 16,
    "start_time": "2023-07-12T21:25:13.544Z"
   },
   {
    "duration": 13,
    "start_time": "2023-07-12T21:26:31.904Z"
   },
   {
    "duration": 10,
    "start_time": "2023-07-12T21:27:09.159Z"
   },
   {
    "duration": 92,
    "start_time": "2023-07-12T21:27:12.404Z"
   },
   {
    "duration": 108,
    "start_time": "2023-07-12T21:27:19.305Z"
   },
   {
    "duration": 143,
    "start_time": "2023-07-12T21:27:25.353Z"
   },
   {
    "duration": 11,
    "start_time": "2023-07-12T21:27:27.153Z"
   },
   {
    "duration": 1076,
    "start_time": "2023-07-12T21:27:32.310Z"
   },
   {
    "duration": 145,
    "start_time": "2023-07-12T21:27:33.388Z"
   },
   {
    "duration": 16,
    "start_time": "2023-07-12T21:27:33.537Z"
   },
   {
    "duration": 39,
    "start_time": "2023-07-12T21:27:33.554Z"
   },
   {
    "duration": 34,
    "start_time": "2023-07-12T21:27:33.595Z"
   },
   {
    "duration": 47,
    "start_time": "2023-07-12T21:27:33.630Z"
   },
   {
    "duration": 29,
    "start_time": "2023-07-12T21:27:33.678Z"
   },
   {
    "duration": 57,
    "start_time": "2023-07-12T21:27:33.708Z"
   },
   {
    "duration": 40,
    "start_time": "2023-07-12T21:27:33.766Z"
   },
   {
    "duration": 967,
    "start_time": "2023-07-12T21:27:33.808Z"
   },
   {
    "duration": 1095,
    "start_time": "2023-07-12T21:27:34.777Z"
   },
   {
    "duration": 533,
    "start_time": "2023-07-12T21:27:35.873Z"
   },
   {
    "duration": 6,
    "start_time": "2023-07-12T21:27:36.407Z"
   },
   {
    "duration": 24,
    "start_time": "2023-07-12T21:27:36.415Z"
   },
   {
    "duration": 25,
    "start_time": "2023-07-12T21:27:36.440Z"
   },
   {
    "duration": 13,
    "start_time": "2023-07-12T21:27:36.467Z"
   },
   {
    "duration": 7,
    "start_time": "2023-07-12T21:27:36.481Z"
   },
   {
    "duration": 8,
    "start_time": "2023-07-12T21:27:36.490Z"
   },
   {
    "duration": 12,
    "start_time": "2023-07-12T21:27:36.499Z"
   },
   {
    "duration": 9,
    "start_time": "2023-07-12T21:27:36.513Z"
   },
   {
    "duration": 10,
    "start_time": "2023-07-12T21:27:36.524Z"
   },
   {
    "duration": 86,
    "start_time": "2023-07-12T21:27:36.535Z"
   },
   {
    "duration": 0,
    "start_time": "2023-07-12T21:27:36.622Z"
   },
   {
    "duration": 0,
    "start_time": "2023-07-12T21:27:36.623Z"
   },
   {
    "duration": 0,
    "start_time": "2023-07-12T21:27:36.625Z"
   },
   {
    "duration": 0,
    "start_time": "2023-07-12T21:27:36.625Z"
   },
   {
    "duration": 0,
    "start_time": "2023-07-12T21:27:36.626Z"
   },
   {
    "duration": 0,
    "start_time": "2023-07-12T21:27:36.627Z"
   },
   {
    "duration": 0,
    "start_time": "2023-07-12T21:27:36.628Z"
   },
   {
    "duration": 0,
    "start_time": "2023-07-12T21:27:36.630Z"
   },
   {
    "duration": 1,
    "start_time": "2023-07-12T21:27:36.630Z"
   },
   {
    "duration": 0,
    "start_time": "2023-07-12T21:27:36.631Z"
   },
   {
    "duration": 0,
    "start_time": "2023-07-12T21:27:36.632Z"
   },
   {
    "duration": 0,
    "start_time": "2023-07-12T21:27:36.635Z"
   },
   {
    "duration": 0,
    "start_time": "2023-07-12T21:27:36.636Z"
   },
   {
    "duration": 0,
    "start_time": "2023-07-12T21:27:36.637Z"
   },
   {
    "duration": 0,
    "start_time": "2023-07-12T21:27:36.637Z"
   },
   {
    "duration": 0,
    "start_time": "2023-07-12T21:27:36.638Z"
   },
   {
    "duration": 0,
    "start_time": "2023-07-12T21:27:36.640Z"
   },
   {
    "duration": 0,
    "start_time": "2023-07-12T21:27:36.640Z"
   },
   {
    "duration": 0,
    "start_time": "2023-07-12T21:27:36.641Z"
   },
   {
    "duration": 0,
    "start_time": "2023-07-12T21:27:36.642Z"
   },
   {
    "duration": 0,
    "start_time": "2023-07-12T21:27:36.643Z"
   },
   {
    "duration": 0,
    "start_time": "2023-07-12T21:27:36.647Z"
   },
   {
    "duration": 74,
    "start_time": "2023-07-12T21:55:51.569Z"
   },
   {
    "duration": 1085,
    "start_time": "2023-07-12T21:58:36.893Z"
   },
   {
    "duration": 135,
    "start_time": "2023-07-12T21:58:37.980Z"
   },
   {
    "duration": 11,
    "start_time": "2023-07-12T21:58:38.116Z"
   },
   {
    "duration": 21,
    "start_time": "2023-07-12T21:58:38.128Z"
   },
   {
    "duration": 18,
    "start_time": "2023-07-12T21:58:38.152Z"
   },
   {
    "duration": 35,
    "start_time": "2023-07-12T21:58:38.172Z"
   },
   {
    "duration": 37,
    "start_time": "2023-07-12T21:58:38.209Z"
   },
   {
    "duration": 42,
    "start_time": "2023-07-12T21:58:38.248Z"
   },
   {
    "duration": 36,
    "start_time": "2023-07-12T21:58:38.292Z"
   },
   {
    "duration": 937,
    "start_time": "2023-07-12T21:58:38.331Z"
   },
   {
    "duration": 1148,
    "start_time": "2023-07-12T21:58:39.270Z"
   },
   {
    "duration": 598,
    "start_time": "2023-07-12T21:58:40.420Z"
   },
   {
    "duration": 12,
    "start_time": "2023-07-12T21:58:41.020Z"
   },
   {
    "duration": 33,
    "start_time": "2023-07-12T21:58:41.034Z"
   },
   {
    "duration": 60,
    "start_time": "2023-07-12T21:58:41.068Z"
   },
   {
    "duration": 53,
    "start_time": "2023-07-12T21:58:41.129Z"
   },
   {
    "duration": 41,
    "start_time": "2023-07-12T21:58:41.184Z"
   },
   {
    "duration": 70,
    "start_time": "2023-07-12T21:58:41.227Z"
   },
   {
    "duration": 51,
    "start_time": "2023-07-12T21:58:41.299Z"
   },
   {
    "duration": 46,
    "start_time": "2023-07-12T21:58:41.352Z"
   },
   {
    "duration": 194,
    "start_time": "2023-07-12T21:58:41.400Z"
   },
   {
    "duration": 79,
    "start_time": "2023-07-12T21:58:41.596Z"
   },
   {
    "duration": 0,
    "start_time": "2023-07-12T21:58:41.678Z"
   },
   {
    "duration": 0,
    "start_time": "2023-07-12T21:58:41.680Z"
   },
   {
    "duration": 0,
    "start_time": "2023-07-12T21:58:41.682Z"
   },
   {
    "duration": 0,
    "start_time": "2023-07-12T21:58:41.684Z"
   },
   {
    "duration": 0,
    "start_time": "2023-07-12T21:58:41.685Z"
   },
   {
    "duration": 0,
    "start_time": "2023-07-12T21:58:41.686Z"
   },
   {
    "duration": 0,
    "start_time": "2023-07-12T21:58:41.688Z"
   },
   {
    "duration": 0,
    "start_time": "2023-07-12T21:58:41.689Z"
   },
   {
    "duration": 0,
    "start_time": "2023-07-12T21:58:41.690Z"
   },
   {
    "duration": 0,
    "start_time": "2023-07-12T21:58:41.692Z"
   },
   {
    "duration": 0,
    "start_time": "2023-07-12T21:58:41.693Z"
   },
   {
    "duration": 0,
    "start_time": "2023-07-12T21:58:41.701Z"
   },
   {
    "duration": 0,
    "start_time": "2023-07-12T21:58:41.703Z"
   },
   {
    "duration": 0,
    "start_time": "2023-07-12T21:58:41.704Z"
   },
   {
    "duration": 0,
    "start_time": "2023-07-12T21:58:41.706Z"
   },
   {
    "duration": 0,
    "start_time": "2023-07-12T21:58:41.707Z"
   },
   {
    "duration": 0,
    "start_time": "2023-07-12T21:58:41.709Z"
   },
   {
    "duration": 0,
    "start_time": "2023-07-12T21:58:41.710Z"
   },
   {
    "duration": 0,
    "start_time": "2023-07-12T21:58:41.712Z"
   },
   {
    "duration": 0,
    "start_time": "2023-07-12T21:58:41.714Z"
   },
   {
    "duration": 0,
    "start_time": "2023-07-12T21:58:41.715Z"
   },
   {
    "duration": 0,
    "start_time": "2023-07-12T21:58:41.720Z"
   },
   {
    "duration": 75,
    "start_time": "2023-07-12T21:59:03.725Z"
   },
   {
    "duration": 14,
    "start_time": "2023-07-12T21:59:16.773Z"
   },
   {
    "duration": 1057,
    "start_time": "2023-07-12T21:59:26.694Z"
   },
   {
    "duration": 136,
    "start_time": "2023-07-12T21:59:27.754Z"
   },
   {
    "duration": 13,
    "start_time": "2023-07-12T21:59:27.892Z"
   },
   {
    "duration": 14,
    "start_time": "2023-07-12T21:59:27.907Z"
   },
   {
    "duration": 32,
    "start_time": "2023-07-12T21:59:27.924Z"
   },
   {
    "duration": 11,
    "start_time": "2023-07-12T21:59:27.958Z"
   },
   {
    "duration": 10,
    "start_time": "2023-07-12T21:59:27.972Z"
   },
   {
    "duration": 12,
    "start_time": "2023-07-12T21:59:27.984Z"
   },
   {
    "duration": 17,
    "start_time": "2023-07-12T21:59:27.998Z"
   },
   {
    "duration": 926,
    "start_time": "2023-07-12T21:59:28.016Z"
   },
   {
    "duration": 1189,
    "start_time": "2023-07-12T21:59:28.948Z"
   },
   {
    "duration": 658,
    "start_time": "2023-07-12T21:59:30.139Z"
   },
   {
    "duration": 6,
    "start_time": "2023-07-12T21:59:30.799Z"
   },
   {
    "duration": 47,
    "start_time": "2023-07-12T21:59:30.807Z"
   },
   {
    "duration": 60,
    "start_time": "2023-07-12T21:59:30.856Z"
   },
   {
    "duration": 78,
    "start_time": "2023-07-12T21:59:30.917Z"
   },
   {
    "duration": 61,
    "start_time": "2023-07-12T21:59:30.996Z"
   },
   {
    "duration": 94,
    "start_time": "2023-07-12T21:59:31.058Z"
   },
   {
    "duration": 114,
    "start_time": "2023-07-12T21:59:31.155Z"
   },
   {
    "duration": 57,
    "start_time": "2023-07-12T21:59:31.271Z"
   },
   {
    "duration": 38,
    "start_time": "2023-07-12T21:59:31.330Z"
   },
   {
    "duration": 30,
    "start_time": "2023-07-12T21:59:31.371Z"
   },
   {
    "duration": 37,
    "start_time": "2023-07-12T21:59:31.402Z"
   },
   {
    "duration": 51,
    "start_time": "2023-07-12T21:59:31.442Z"
   },
   {
    "duration": 307,
    "start_time": "2023-07-12T21:59:31.494Z"
   },
   {
    "duration": 209,
    "start_time": "2023-07-12T21:59:31.802Z"
   },
   {
    "duration": 190,
    "start_time": "2023-07-12T21:59:32.012Z"
   },
   {
    "duration": 467,
    "start_time": "2023-07-12T21:59:32.204Z"
   },
   {
    "duration": 886,
    "start_time": "2023-07-12T21:59:32.673Z"
   },
   {
    "duration": 508,
    "start_time": "2023-07-12T21:59:33.560Z"
   },
   {
    "duration": 8,
    "start_time": "2023-07-12T21:59:34.070Z"
   },
   {
    "duration": 322,
    "start_time": "2023-07-12T21:59:34.132Z"
   },
   {
    "duration": 6,
    "start_time": "2023-07-12T21:59:34.457Z"
   },
   {
    "duration": 187,
    "start_time": "2023-07-12T21:59:34.465Z"
   },
   {
    "duration": 9,
    "start_time": "2023-07-12T21:59:34.655Z"
   },
   {
    "duration": 35,
    "start_time": "2023-07-12T21:59:34.666Z"
   },
   {
    "duration": 225,
    "start_time": "2023-07-12T21:59:34.703Z"
   },
   {
    "duration": 155,
    "start_time": "2023-07-12T21:59:34.932Z"
   },
   {
    "duration": 25,
    "start_time": "2023-07-12T21:59:35.088Z"
   },
   {
    "duration": 84,
    "start_time": "2023-07-12T21:59:35.115Z"
   },
   {
    "duration": 0,
    "start_time": "2023-07-12T21:59:35.201Z"
   },
   {
    "duration": 0,
    "start_time": "2023-07-12T21:59:35.202Z"
   },
   {
    "duration": 0,
    "start_time": "2023-07-12T21:59:35.203Z"
   },
   {
    "duration": 0,
    "start_time": "2023-07-12T21:59:35.204Z"
   },
   {
    "duration": 9,
    "start_time": "2023-07-12T22:02:13.916Z"
   },
   {
    "duration": 10,
    "start_time": "2023-07-12T22:02:31.944Z"
   },
   {
    "duration": 46,
    "start_time": "2023-07-13T10:30:57.052Z"
   },
   {
    "duration": 1371,
    "start_time": "2023-07-13T10:31:04.222Z"
   },
   {
    "duration": 294,
    "start_time": "2023-07-13T10:31:05.595Z"
   },
   {
    "duration": 10,
    "start_time": "2023-07-13T10:31:05.891Z"
   },
   {
    "duration": 29,
    "start_time": "2023-07-13T10:31:05.903Z"
   },
   {
    "duration": 27,
    "start_time": "2023-07-13T10:31:05.934Z"
   },
   {
    "duration": 32,
    "start_time": "2023-07-13T10:31:05.963Z"
   },
   {
    "duration": 56,
    "start_time": "2023-07-13T10:31:05.997Z"
   },
   {
    "duration": 24,
    "start_time": "2023-07-13T10:31:06.055Z"
   },
   {
    "duration": 27,
    "start_time": "2023-07-13T10:31:06.081Z"
   },
   {
    "duration": 783,
    "start_time": "2023-07-13T10:31:06.110Z"
   },
   {
    "duration": 882,
    "start_time": "2023-07-13T10:31:06.895Z"
   },
   {
    "duration": 465,
    "start_time": "2023-07-13T10:31:07.779Z"
   },
   {
    "duration": 6,
    "start_time": "2023-07-13T10:31:08.246Z"
   },
   {
    "duration": 11,
    "start_time": "2023-07-13T10:31:08.255Z"
   },
   {
    "duration": 8,
    "start_time": "2023-07-13T10:31:08.269Z"
   },
   {
    "duration": 11,
    "start_time": "2023-07-13T10:31:08.279Z"
   },
   {
    "duration": 11,
    "start_time": "2023-07-13T10:31:08.291Z"
   },
   {
    "duration": 8,
    "start_time": "2023-07-13T10:31:08.304Z"
   },
   {
    "duration": 11,
    "start_time": "2023-07-13T10:31:08.313Z"
   },
   {
    "duration": 10,
    "start_time": "2023-07-13T10:31:08.325Z"
   },
   {
    "duration": 21,
    "start_time": "2023-07-13T10:31:08.337Z"
   },
   {
    "duration": 13,
    "start_time": "2023-07-13T10:31:08.360Z"
   },
   {
    "duration": 27,
    "start_time": "2023-07-13T10:31:08.375Z"
   },
   {
    "duration": 285,
    "start_time": "2023-07-13T10:31:08.403Z"
   },
   {
    "duration": 174,
    "start_time": "2023-07-13T10:31:08.690Z"
   },
   {
    "duration": 180,
    "start_time": "2023-07-13T10:31:08.865Z"
   },
   {
    "duration": 342,
    "start_time": "2023-07-13T10:31:09.046Z"
   },
   {
    "duration": 302,
    "start_time": "2023-07-13T10:31:09.389Z"
   },
   {
    "duration": 283,
    "start_time": "2023-07-13T10:31:09.692Z"
   },
   {
    "duration": 155,
    "start_time": "2023-07-13T10:31:09.976Z"
   },
   {
    "duration": 5,
    "start_time": "2023-07-13T10:31:10.132Z"
   },
   {
    "duration": 145,
    "start_time": "2023-07-13T10:31:10.138Z"
   },
   {
    "duration": 16,
    "start_time": "2023-07-13T10:31:10.285Z"
   },
   {
    "duration": 225,
    "start_time": "2023-07-13T10:31:10.303Z"
   },
   {
    "duration": 134,
    "start_time": "2023-07-13T10:31:10.530Z"
   },
   {
    "duration": 34,
    "start_time": "2023-07-13T10:31:10.665Z"
   },
   {
    "duration": 10,
    "start_time": "2023-07-13T10:31:10.701Z"
   },
   {
    "duration": 98,
    "start_time": "2023-07-13T10:31:10.713Z"
   },
   {
    "duration": 60,
    "start_time": "2023-07-13T10:31:10.813Z"
   },
   {
    "duration": 13,
    "start_time": "2023-07-13T10:31:10.875Z"
   },
   {
    "duration": 11,
    "start_time": "2023-07-13T10:43:40.338Z"
   },
   {
    "duration": 1079,
    "start_time": "2023-07-13T10:45:06.531Z"
   },
   {
    "duration": 117,
    "start_time": "2023-07-13T10:45:07.612Z"
   },
   {
    "duration": 11,
    "start_time": "2023-07-13T10:45:07.730Z"
   },
   {
    "duration": 36,
    "start_time": "2023-07-13T10:45:07.742Z"
   },
   {
    "duration": 27,
    "start_time": "2023-07-13T10:45:07.780Z"
   },
   {
    "duration": 26,
    "start_time": "2023-07-13T10:45:07.808Z"
   },
   {
    "duration": 13,
    "start_time": "2023-07-13T10:45:07.836Z"
   },
   {
    "duration": 34,
    "start_time": "2023-07-13T10:45:07.850Z"
   },
   {
    "duration": 31,
    "start_time": "2023-07-13T10:45:07.885Z"
   },
   {
    "duration": 739,
    "start_time": "2023-07-13T10:45:07.917Z"
   },
   {
    "duration": 867,
    "start_time": "2023-07-13T10:45:08.658Z"
   },
   {
    "duration": 468,
    "start_time": "2023-07-13T10:45:09.527Z"
   },
   {
    "duration": 7,
    "start_time": "2023-07-13T10:45:09.999Z"
   },
   {
    "duration": 15,
    "start_time": "2023-07-13T10:45:10.008Z"
   },
   {
    "duration": 16,
    "start_time": "2023-07-13T10:45:10.024Z"
   },
   {
    "duration": 7,
    "start_time": "2023-07-13T10:45:10.042Z"
   },
   {
    "duration": 7,
    "start_time": "2023-07-13T10:45:10.050Z"
   },
   {
    "duration": 10,
    "start_time": "2023-07-13T10:45:10.058Z"
   },
   {
    "duration": 11,
    "start_time": "2023-07-13T10:45:10.070Z"
   },
   {
    "duration": 23,
    "start_time": "2023-07-13T10:45:10.083Z"
   },
   {
    "duration": 7,
    "start_time": "2023-07-13T10:45:10.108Z"
   },
   {
    "duration": 15,
    "start_time": "2023-07-13T10:45:10.116Z"
   },
   {
    "duration": 9,
    "start_time": "2023-07-13T10:45:10.133Z"
   },
   {
    "duration": 292,
    "start_time": "2023-07-13T10:45:10.144Z"
   },
   {
    "duration": 190,
    "start_time": "2023-07-13T10:45:10.438Z"
   },
   {
    "duration": 184,
    "start_time": "2023-07-13T10:45:10.630Z"
   },
   {
    "duration": 272,
    "start_time": "2023-07-13T10:45:10.815Z"
   },
   {
    "duration": 284,
    "start_time": "2023-07-13T10:45:11.089Z"
   },
   {
    "duration": 303,
    "start_time": "2023-07-13T10:45:11.375Z"
   },
   {
    "duration": 125,
    "start_time": "2023-07-13T10:45:11.679Z"
   },
   {
    "duration": 4,
    "start_time": "2023-07-13T10:45:11.806Z"
   },
   {
    "duration": 145,
    "start_time": "2023-07-13T10:45:11.811Z"
   },
   {
    "duration": 4,
    "start_time": "2023-07-13T10:45:11.958Z"
   },
   {
    "duration": 208,
    "start_time": "2023-07-13T10:45:11.963Z"
   },
   {
    "duration": 136,
    "start_time": "2023-07-13T10:45:12.174Z"
   },
   {
    "duration": 25,
    "start_time": "2023-07-13T10:45:12.311Z"
   },
   {
    "duration": 9,
    "start_time": "2023-07-13T10:45:12.338Z"
   },
   {
    "duration": 8,
    "start_time": "2023-07-13T10:45:12.348Z"
   },
   {
    "duration": 51,
    "start_time": "2023-07-13T10:45:12.358Z"
   },
   {
    "duration": 13,
    "start_time": "2023-07-13T10:45:12.411Z"
   },
   {
    "duration": 994,
    "start_time": "2023-07-13T11:02:29.216Z"
   },
   {
    "duration": 115,
    "start_time": "2023-07-13T11:02:30.212Z"
   },
   {
    "duration": 10,
    "start_time": "2023-07-13T11:02:30.329Z"
   },
   {
    "duration": 41,
    "start_time": "2023-07-13T11:02:30.340Z"
   },
   {
    "duration": 40,
    "start_time": "2023-07-13T11:02:30.383Z"
   },
   {
    "duration": 46,
    "start_time": "2023-07-13T11:02:30.424Z"
   },
   {
    "duration": 53,
    "start_time": "2023-07-13T11:02:30.472Z"
   },
   {
    "duration": 55,
    "start_time": "2023-07-13T11:02:30.527Z"
   },
   {
    "duration": 63,
    "start_time": "2023-07-13T11:02:30.583Z"
   },
   {
    "duration": 866,
    "start_time": "2023-07-13T11:02:30.648Z"
   },
   {
    "duration": 995,
    "start_time": "2023-07-13T11:02:31.516Z"
   },
   {
    "duration": 489,
    "start_time": "2023-07-13T11:02:32.513Z"
   },
   {
    "duration": 6,
    "start_time": "2023-07-13T11:02:33.003Z"
   },
   {
    "duration": 8,
    "start_time": "2023-07-13T11:02:33.011Z"
   },
   {
    "duration": 62,
    "start_time": "2023-07-13T11:02:33.020Z"
   },
   {
    "duration": 12,
    "start_time": "2023-07-13T11:02:33.083Z"
   },
   {
    "duration": 15,
    "start_time": "2023-07-13T11:02:33.096Z"
   },
   {
    "duration": 12,
    "start_time": "2023-07-13T11:02:33.112Z"
   },
   {
    "duration": 11,
    "start_time": "2023-07-13T11:02:33.126Z"
   },
   {
    "duration": 28,
    "start_time": "2023-07-13T11:02:33.138Z"
   },
   {
    "duration": 11,
    "start_time": "2023-07-13T11:02:33.167Z"
   },
   {
    "duration": 89,
    "start_time": "2023-07-13T11:02:33.179Z"
   },
   {
    "duration": 40,
    "start_time": "2023-07-13T11:02:33.270Z"
   },
   {
    "duration": 283,
    "start_time": "2023-07-13T11:02:33.311Z"
   },
   {
    "duration": 180,
    "start_time": "2023-07-13T11:02:33.596Z"
   },
   {
    "duration": 169,
    "start_time": "2023-07-13T11:02:33.778Z"
   },
   {
    "duration": 265,
    "start_time": "2023-07-13T11:02:33.949Z"
   },
   {
    "duration": 259,
    "start_time": "2023-07-13T11:02:34.216Z"
   },
   {
    "duration": 285,
    "start_time": "2023-07-13T11:02:34.477Z"
   },
   {
    "duration": 119,
    "start_time": "2023-07-13T11:02:34.764Z"
   },
   {
    "duration": 4,
    "start_time": "2023-07-13T11:02:34.884Z"
   },
   {
    "duration": 129,
    "start_time": "2023-07-13T11:02:34.899Z"
   },
   {
    "duration": 5,
    "start_time": "2023-07-13T11:02:35.030Z"
   },
   {
    "duration": 209,
    "start_time": "2023-07-13T11:02:35.037Z"
   },
   {
    "duration": 135,
    "start_time": "2023-07-13T11:02:35.248Z"
   },
   {
    "duration": 34,
    "start_time": "2023-07-13T11:02:35.384Z"
   },
   {
    "duration": 9,
    "start_time": "2023-07-13T11:02:35.419Z"
   },
   {
    "duration": 41,
    "start_time": "2023-07-13T11:02:35.429Z"
   },
   {
    "duration": 66,
    "start_time": "2023-07-13T11:02:35.471Z"
   },
   {
    "duration": 12,
    "start_time": "2023-07-13T11:02:35.538Z"
   },
   {
    "duration": 1110,
    "start_time": "2023-07-13T11:22:40.142Z"
   },
   {
    "duration": 241,
    "start_time": "2023-07-13T11:22:41.255Z"
   },
   {
    "duration": 11,
    "start_time": "2023-07-13T11:22:41.498Z"
   },
   {
    "duration": 19,
    "start_time": "2023-07-13T11:22:41.511Z"
   },
   {
    "duration": 21,
    "start_time": "2023-07-13T11:22:41.532Z"
   },
   {
    "duration": 34,
    "start_time": "2023-07-13T11:22:41.554Z"
   },
   {
    "duration": 15,
    "start_time": "2023-07-13T11:22:41.590Z"
   },
   {
    "duration": 13,
    "start_time": "2023-07-13T11:22:41.606Z"
   },
   {
    "duration": 29,
    "start_time": "2023-07-13T11:22:41.621Z"
   },
   {
    "duration": 991,
    "start_time": "2023-07-13T11:22:41.652Z"
   },
   {
    "duration": 1211,
    "start_time": "2023-07-13T11:22:42.645Z"
   },
   {
    "duration": 688,
    "start_time": "2023-07-13T11:22:43.858Z"
   },
   {
    "duration": 8,
    "start_time": "2023-07-13T11:22:44.548Z"
   },
   {
    "duration": 32,
    "start_time": "2023-07-13T11:22:44.559Z"
   },
   {
    "duration": 9,
    "start_time": "2023-07-13T11:22:44.592Z"
   },
   {
    "duration": 6,
    "start_time": "2023-07-13T11:22:44.604Z"
   },
   {
    "duration": 18,
    "start_time": "2023-07-13T11:22:44.612Z"
   },
   {
    "duration": 10,
    "start_time": "2023-07-13T11:22:44.637Z"
   },
   {
    "duration": 12,
    "start_time": "2023-07-13T11:22:44.650Z"
   },
   {
    "duration": 14,
    "start_time": "2023-07-13T11:22:44.664Z"
   },
   {
    "duration": 8,
    "start_time": "2023-07-13T11:22:44.679Z"
   },
   {
    "duration": 33,
    "start_time": "2023-07-13T11:22:44.689Z"
   },
   {
    "duration": 23,
    "start_time": "2023-07-13T11:22:44.724Z"
   },
   {
    "duration": 384,
    "start_time": "2023-07-13T11:22:44.755Z"
   },
   {
    "duration": 229,
    "start_time": "2023-07-13T11:22:45.141Z"
   },
   {
    "duration": 229,
    "start_time": "2023-07-13T11:22:45.372Z"
   },
   {
    "duration": 338,
    "start_time": "2023-07-13T11:22:45.603Z"
   },
   {
    "duration": 345,
    "start_time": "2023-07-13T11:22:45.943Z"
   },
   {
    "duration": 349,
    "start_time": "2023-07-13T11:22:46.290Z"
   },
   {
    "duration": 133,
    "start_time": "2023-07-13T11:22:46.641Z"
   },
   {
    "duration": 6,
    "start_time": "2023-07-13T11:22:46.775Z"
   },
   {
    "duration": 165,
    "start_time": "2023-07-13T11:22:46.783Z"
   },
   {
    "duration": 4,
    "start_time": "2023-07-13T11:22:46.950Z"
   },
   {
    "duration": 240,
    "start_time": "2023-07-13T11:22:46.956Z"
   },
   {
    "duration": 162,
    "start_time": "2023-07-13T11:22:47.198Z"
   },
   {
    "duration": 26,
    "start_time": "2023-07-13T11:22:47.362Z"
   },
   {
    "duration": 32,
    "start_time": "2023-07-13T11:22:47.389Z"
   },
   {
    "duration": 13,
    "start_time": "2023-07-13T11:22:47.427Z"
   },
   {
    "duration": 31,
    "start_time": "2023-07-13T11:22:47.442Z"
   },
   {
    "duration": 15,
    "start_time": "2023-07-13T11:22:47.475Z"
   },
   {
    "duration": 85,
    "start_time": "2023-07-13T14:57:00.056Z"
   },
   {
    "duration": 1621,
    "start_time": "2023-07-13T14:57:14.994Z"
   },
   {
    "duration": 421,
    "start_time": "2023-07-13T14:57:16.627Z"
   },
   {
    "duration": 11,
    "start_time": "2023-07-13T14:57:17.050Z"
   },
   {
    "duration": 24,
    "start_time": "2023-07-13T14:57:17.062Z"
   },
   {
    "duration": 23,
    "start_time": "2023-07-13T14:57:17.089Z"
   },
   {
    "duration": 37,
    "start_time": "2023-07-13T14:57:17.114Z"
   },
   {
    "duration": 18,
    "start_time": "2023-07-13T14:57:17.153Z"
   },
   {
    "duration": 14,
    "start_time": "2023-07-13T14:57:17.173Z"
   },
   {
    "duration": 25,
    "start_time": "2023-07-13T14:57:17.189Z"
   },
   {
    "duration": 1109,
    "start_time": "2023-07-13T14:57:17.216Z"
   },
   {
    "duration": 1417,
    "start_time": "2023-07-13T14:57:18.327Z"
   },
   {
    "duration": 685,
    "start_time": "2023-07-13T14:57:19.746Z"
   },
   {
    "duration": 6,
    "start_time": "2023-07-13T14:57:20.439Z"
   },
   {
    "duration": 11,
    "start_time": "2023-07-13T14:57:20.448Z"
   },
   {
    "duration": 22,
    "start_time": "2023-07-13T14:57:20.460Z"
   },
   {
    "duration": 24,
    "start_time": "2023-07-13T14:57:20.486Z"
   },
   {
    "duration": 33,
    "start_time": "2023-07-13T14:57:20.513Z"
   },
   {
    "duration": 41,
    "start_time": "2023-07-13T14:57:20.548Z"
   },
   {
    "duration": 48,
    "start_time": "2023-07-13T14:57:20.590Z"
   },
   {
    "duration": 166,
    "start_time": "2023-07-13T14:57:20.640Z"
   },
   {
    "duration": 56,
    "start_time": "2023-07-13T14:57:20.808Z"
   },
   {
    "duration": 68,
    "start_time": "2023-07-13T14:57:20.866Z"
   },
   {
    "duration": 60,
    "start_time": "2023-07-13T14:57:20.935Z"
   },
   {
    "duration": 359,
    "start_time": "2023-07-13T14:57:20.997Z"
   },
   {
    "duration": 261,
    "start_time": "2023-07-13T14:57:21.358Z"
   },
   {
    "duration": 273,
    "start_time": "2023-07-13T14:57:21.625Z"
   },
   {
    "duration": 378,
    "start_time": "2023-07-13T14:57:21.900Z"
   },
   {
    "duration": 415,
    "start_time": "2023-07-13T14:57:22.285Z"
   },
   {
    "duration": 607,
    "start_time": "2023-07-13T14:57:22.706Z"
   },
   {
    "duration": 385,
    "start_time": "2023-07-13T14:57:23.315Z"
   },
   {
    "duration": 18,
    "start_time": "2023-07-13T14:57:23.702Z"
   },
   {
    "duration": 390,
    "start_time": "2023-07-13T14:57:23.724Z"
   },
   {
    "duration": 8,
    "start_time": "2023-07-13T14:57:24.117Z"
   },
   {
    "duration": 613,
    "start_time": "2023-07-13T14:57:24.128Z"
   },
   {
    "duration": 400,
    "start_time": "2023-07-13T14:57:24.744Z"
   },
   {
    "duration": 84,
    "start_time": "2023-07-13T14:57:25.146Z"
   },
   {
    "duration": 69,
    "start_time": "2023-07-13T14:57:25.233Z"
   },
   {
    "duration": 19,
    "start_time": "2023-07-13T14:57:25.305Z"
   },
   {
    "duration": 37,
    "start_time": "2023-07-13T14:57:25.328Z"
   },
   {
    "duration": 34,
    "start_time": "2023-07-13T14:57:25.376Z"
   },
   {
    "duration": 11,
    "start_time": "2023-07-13T14:57:28.443Z"
   },
   {
    "duration": 104,
    "start_time": "2023-07-13T14:58:38.563Z"
   },
   {
    "duration": 12,
    "start_time": "2023-07-13T15:13:49.091Z"
   },
   {
    "duration": 93,
    "start_time": "2023-07-13T15:14:11.503Z"
   },
   {
    "duration": 172,
    "start_time": "2023-07-13T15:14:16.599Z"
   },
   {
    "duration": 12,
    "start_time": "2023-07-13T15:14:38.191Z"
   },
   {
    "duration": 12,
    "start_time": "2023-07-13T15:14:44.932Z"
   },
   {
    "duration": 16,
    "start_time": "2023-07-13T15:15:33.915Z"
   },
   {
    "duration": 20,
    "start_time": "2023-07-13T15:16:22.260Z"
   },
   {
    "duration": 12,
    "start_time": "2023-07-13T15:22:10.819Z"
   },
   {
    "duration": 19,
    "start_time": "2023-07-13T15:22:16.907Z"
   },
   {
    "duration": 20,
    "start_time": "2023-07-13T15:22:45.891Z"
   },
   {
    "duration": 8,
    "start_time": "2023-07-13T15:24:23.932Z"
   },
   {
    "duration": 309,
    "start_time": "2023-07-13T15:25:54.501Z"
   },
   {
    "duration": 228,
    "start_time": "2023-07-13T15:25:59.510Z"
   },
   {
    "duration": 145,
    "start_time": "2023-07-13T15:26:31.840Z"
   },
   {
    "duration": 1023,
    "start_time": "2023-07-13T15:31:05.806Z"
   },
   {
    "duration": 151,
    "start_time": "2023-07-13T15:31:06.830Z"
   },
   {
    "duration": 16,
    "start_time": "2023-07-13T15:31:06.983Z"
   },
   {
    "duration": 10,
    "start_time": "2023-07-13T15:31:07.001Z"
   },
   {
    "duration": 9,
    "start_time": "2023-07-13T15:31:07.012Z"
   },
   {
    "duration": 12,
    "start_time": "2023-07-13T15:31:07.022Z"
   },
   {
    "duration": 10,
    "start_time": "2023-07-13T15:31:07.035Z"
   },
   {
    "duration": 34,
    "start_time": "2023-07-13T15:31:07.047Z"
   },
   {
    "duration": 23,
    "start_time": "2023-07-13T15:31:07.083Z"
   },
   {
    "duration": 914,
    "start_time": "2023-07-13T15:31:07.110Z"
   },
   {
    "duration": 1114,
    "start_time": "2023-07-13T15:31:08.025Z"
   },
   {
    "duration": 559,
    "start_time": "2023-07-13T15:31:09.141Z"
   },
   {
    "duration": 5,
    "start_time": "2023-07-13T15:31:09.703Z"
   },
   {
    "duration": 7,
    "start_time": "2023-07-13T15:31:09.709Z"
   },
   {
    "duration": 6,
    "start_time": "2023-07-13T15:31:09.718Z"
   },
   {
    "duration": 7,
    "start_time": "2023-07-13T15:31:09.725Z"
   },
   {
    "duration": 7,
    "start_time": "2023-07-13T15:31:09.733Z"
   },
   {
    "duration": 32,
    "start_time": "2023-07-13T15:31:09.742Z"
   },
   {
    "duration": 12,
    "start_time": "2023-07-13T15:31:09.776Z"
   },
   {
    "duration": 12,
    "start_time": "2023-07-13T15:31:09.790Z"
   },
   {
    "duration": 7,
    "start_time": "2023-07-13T15:31:09.803Z"
   },
   {
    "duration": 14,
    "start_time": "2023-07-13T15:31:09.812Z"
   },
   {
    "duration": 10,
    "start_time": "2023-07-13T15:31:09.828Z"
   },
   {
    "duration": 41,
    "start_time": "2023-07-13T15:31:09.839Z"
   },
   {
    "duration": 6,
    "start_time": "2023-07-13T15:31:09.881Z"
   },
   {
    "duration": 337,
    "start_time": "2023-07-13T15:31:09.893Z"
   },
   {
    "duration": 212,
    "start_time": "2023-07-13T15:31:10.232Z"
   },
   {
    "duration": 209,
    "start_time": "2023-07-13T15:31:10.447Z"
   },
   {
    "duration": 314,
    "start_time": "2023-07-13T15:31:10.658Z"
   },
   {
    "duration": 340,
    "start_time": "2023-07-13T15:31:10.974Z"
   },
   {
    "duration": 269,
    "start_time": "2023-07-13T15:31:11.316Z"
   },
   {
    "duration": 153,
    "start_time": "2023-07-13T15:31:11.589Z"
   },
   {
    "duration": 5,
    "start_time": "2023-07-13T15:31:11.744Z"
   },
   {
    "duration": 180,
    "start_time": "2023-07-13T15:31:11.751Z"
   },
   {
    "duration": 5,
    "start_time": "2023-07-13T15:31:11.933Z"
   },
   {
    "duration": 236,
    "start_time": "2023-07-13T15:31:11.940Z"
   },
   {
    "duration": 142,
    "start_time": "2023-07-13T15:31:12.178Z"
   },
   {
    "duration": 26,
    "start_time": "2023-07-13T15:31:12.322Z"
   },
   {
    "duration": 27,
    "start_time": "2023-07-13T15:31:12.350Z"
   },
   {
    "duration": 20,
    "start_time": "2023-07-13T15:31:12.380Z"
   },
   {
    "duration": 28,
    "start_time": "2023-07-13T15:31:12.401Z"
   },
   {
    "duration": 120,
    "start_time": "2023-07-13T15:31:12.431Z"
   },
   {
    "duration": 25,
    "start_time": "2023-07-13T15:35:14.209Z"
   },
   {
    "duration": 14,
    "start_time": "2023-07-13T15:36:26.996Z"
   },
   {
    "duration": 1114,
    "start_time": "2023-07-13T15:40:24.202Z"
   },
   {
    "duration": 177,
    "start_time": "2023-07-13T15:40:25.318Z"
   },
   {
    "duration": 15,
    "start_time": "2023-07-13T15:40:25.497Z"
   },
   {
    "duration": 12,
    "start_time": "2023-07-13T15:40:25.513Z"
   },
   {
    "duration": 24,
    "start_time": "2023-07-13T15:40:25.527Z"
   },
   {
    "duration": 25,
    "start_time": "2023-07-13T15:40:25.552Z"
   },
   {
    "duration": 32,
    "start_time": "2023-07-13T15:40:25.579Z"
   },
   {
    "duration": 26,
    "start_time": "2023-07-13T15:40:25.613Z"
   },
   {
    "duration": 22,
    "start_time": "2023-07-13T15:40:25.641Z"
   },
   {
    "duration": 988,
    "start_time": "2023-07-13T15:40:25.664Z"
   },
   {
    "duration": 1298,
    "start_time": "2023-07-13T15:40:26.654Z"
   },
   {
    "duration": 683,
    "start_time": "2023-07-13T15:40:27.954Z"
   },
   {
    "duration": 7,
    "start_time": "2023-07-13T15:40:28.639Z"
   },
   {
    "duration": 6,
    "start_time": "2023-07-13T15:40:28.649Z"
   },
   {
    "duration": 25,
    "start_time": "2023-07-13T15:40:28.679Z"
   },
   {
    "duration": 5,
    "start_time": "2023-07-13T15:40:28.710Z"
   },
   {
    "duration": 7,
    "start_time": "2023-07-13T15:40:28.717Z"
   },
   {
    "duration": 5,
    "start_time": "2023-07-13T15:40:28.726Z"
   },
   {
    "duration": 12,
    "start_time": "2023-07-13T15:40:28.733Z"
   },
   {
    "duration": 11,
    "start_time": "2023-07-13T15:40:28.747Z"
   },
   {
    "duration": 22,
    "start_time": "2023-07-13T15:40:28.759Z"
   },
   {
    "duration": 18,
    "start_time": "2023-07-13T15:40:28.791Z"
   },
   {
    "duration": 13,
    "start_time": "2023-07-13T15:40:28.811Z"
   },
   {
    "duration": 16,
    "start_time": "2023-07-13T15:40:28.825Z"
   },
   {
    "duration": 6,
    "start_time": "2023-07-13T15:40:28.843Z"
   },
   {
    "duration": 378,
    "start_time": "2023-07-13T15:40:28.850Z"
   },
   {
    "duration": 216,
    "start_time": "2023-07-13T15:40:29.230Z"
   },
   {
    "duration": 210,
    "start_time": "2023-07-13T15:40:29.447Z"
   },
   {
    "duration": 347,
    "start_time": "2023-07-13T15:40:29.659Z"
   },
   {
    "duration": 349,
    "start_time": "2023-07-13T15:40:30.012Z"
   },
   {
    "duration": 308,
    "start_time": "2023-07-13T15:40:30.371Z"
   },
   {
    "duration": 157,
    "start_time": "2023-07-13T15:40:30.681Z"
   },
   {
    "duration": 5,
    "start_time": "2023-07-13T15:40:30.840Z"
   },
   {
    "duration": 186,
    "start_time": "2023-07-13T15:40:30.846Z"
   },
   {
    "duration": 5,
    "start_time": "2023-07-13T15:40:31.034Z"
   },
   {
    "duration": 275,
    "start_time": "2023-07-13T15:40:31.040Z"
   },
   {
    "duration": 137,
    "start_time": "2023-07-13T15:40:31.317Z"
   },
   {
    "duration": 56,
    "start_time": "2023-07-13T15:40:31.455Z"
   },
   {
    "duration": 10,
    "start_time": "2023-07-13T15:40:31.513Z"
   },
   {
    "duration": 25,
    "start_time": "2023-07-13T15:40:31.525Z"
   },
   {
    "duration": 65,
    "start_time": "2023-07-13T15:40:31.554Z"
   },
   {
    "duration": 13,
    "start_time": "2023-07-13T15:40:31.620Z"
   },
   {
    "duration": 217,
    "start_time": "2023-07-13T15:53:08.729Z"
   },
   {
    "duration": 239,
    "start_time": "2023-07-13T15:54:04.463Z"
   },
   {
    "duration": 313,
    "start_time": "2023-07-13T15:55:17.003Z"
   },
   {
    "duration": 229,
    "start_time": "2023-07-13T15:56:11.815Z"
   },
   {
    "duration": 296,
    "start_time": "2023-07-13T15:57:13.635Z"
   },
   {
    "duration": 175,
    "start_time": "2023-07-13T15:58:22.197Z"
   },
   {
    "duration": 169,
    "start_time": "2023-07-13T16:04:32.555Z"
   },
   {
    "duration": 1085,
    "start_time": "2023-07-13T16:04:39.029Z"
   },
   {
    "duration": 149,
    "start_time": "2023-07-13T16:04:40.116Z"
   },
   {
    "duration": 18,
    "start_time": "2023-07-13T16:04:40.267Z"
   },
   {
    "duration": 14,
    "start_time": "2023-07-13T16:04:40.291Z"
   },
   {
    "duration": 18,
    "start_time": "2023-07-13T16:04:40.307Z"
   },
   {
    "duration": 16,
    "start_time": "2023-07-13T16:04:40.327Z"
   },
   {
    "duration": 14,
    "start_time": "2023-07-13T16:04:40.345Z"
   },
   {
    "duration": 12,
    "start_time": "2023-07-13T16:04:40.361Z"
   },
   {
    "duration": 33,
    "start_time": "2023-07-13T16:04:40.375Z"
   },
   {
    "duration": 943,
    "start_time": "2023-07-13T16:04:40.412Z"
   },
   {
    "duration": 1170,
    "start_time": "2023-07-13T16:04:41.356Z"
   },
   {
    "duration": 586,
    "start_time": "2023-07-13T16:04:42.528Z"
   },
   {
    "duration": 7,
    "start_time": "2023-07-13T16:04:43.116Z"
   },
   {
    "duration": 7,
    "start_time": "2023-07-13T16:04:43.125Z"
   },
   {
    "duration": 6,
    "start_time": "2023-07-13T16:04:43.133Z"
   },
   {
    "duration": 5,
    "start_time": "2023-07-13T16:04:43.141Z"
   },
   {
    "duration": 26,
    "start_time": "2023-07-13T16:04:43.147Z"
   },
   {
    "duration": 13,
    "start_time": "2023-07-13T16:04:43.175Z"
   },
   {
    "duration": 13,
    "start_time": "2023-07-13T16:04:43.189Z"
   },
   {
    "duration": 8,
    "start_time": "2023-07-13T16:04:43.203Z"
   },
   {
    "duration": 7,
    "start_time": "2023-07-13T16:04:43.212Z"
   },
   {
    "duration": 11,
    "start_time": "2023-07-13T16:04:43.220Z"
   },
   {
    "duration": 43,
    "start_time": "2023-07-13T16:04:43.232Z"
   },
   {
    "duration": 16,
    "start_time": "2023-07-13T16:04:43.276Z"
   },
   {
    "duration": 7,
    "start_time": "2023-07-13T16:04:43.293Z"
   },
   {
    "duration": 357,
    "start_time": "2023-07-13T16:04:43.303Z"
   },
   {
    "duration": 248,
    "start_time": "2023-07-13T16:04:43.662Z"
   },
   {
    "duration": 301,
    "start_time": "2023-07-13T16:04:43.915Z"
   },
   {
    "duration": 296,
    "start_time": "2023-07-13T16:04:44.218Z"
   },
   {
    "duration": 372,
    "start_time": "2023-07-13T16:04:44.516Z"
   },
   {
    "duration": 315,
    "start_time": "2023-07-13T16:04:44.890Z"
   },
   {
    "duration": 190,
    "start_time": "2023-07-13T16:04:45.207Z"
   },
   {
    "duration": 6,
    "start_time": "2023-07-13T16:04:45.400Z"
   },
   {
    "duration": 194,
    "start_time": "2023-07-13T16:04:45.408Z"
   },
   {
    "duration": 6,
    "start_time": "2023-07-13T16:04:45.605Z"
   },
   {
    "duration": 269,
    "start_time": "2023-07-13T16:04:45.614Z"
   },
   {
    "duration": 135,
    "start_time": "2023-07-13T16:04:45.885Z"
   },
   {
    "duration": 26,
    "start_time": "2023-07-13T16:04:46.022Z"
   },
   {
    "duration": 28,
    "start_time": "2023-07-13T16:04:46.050Z"
   },
   {
    "duration": 13,
    "start_time": "2023-07-13T16:04:46.080Z"
   },
   {
    "duration": 31,
    "start_time": "2023-07-13T16:04:46.094Z"
   },
   {
    "duration": 13,
    "start_time": "2023-07-13T16:04:46.127Z"
   },
   {
    "duration": 127,
    "start_time": "2023-07-13T16:10:18.856Z"
   },
   {
    "duration": 25,
    "start_time": "2023-07-13T16:10:19.613Z"
   },
   {
    "duration": 10,
    "start_time": "2023-07-13T16:10:21.337Z"
   },
   {
    "duration": 13,
    "start_time": "2023-07-13T16:10:22.360Z"
   },
   {
    "duration": 28,
    "start_time": "2023-07-13T16:10:23.600Z"
   },
   {
    "duration": 17,
    "start_time": "2023-07-13T16:10:25.566Z"
   },
   {
    "duration": 123,
    "start_time": "2023-07-13T16:10:46.625Z"
   },
   {
    "duration": 30,
    "start_time": "2023-07-13T16:10:47.209Z"
   },
   {
    "duration": 1083,
    "start_time": "2023-07-13T16:11:15.004Z"
   },
   {
    "duration": 149,
    "start_time": "2023-07-13T16:11:16.092Z"
   },
   {
    "duration": 13,
    "start_time": "2023-07-13T16:11:16.242Z"
   },
   {
    "duration": 15,
    "start_time": "2023-07-13T16:11:16.256Z"
   },
   {
    "duration": 15,
    "start_time": "2023-07-13T16:11:16.275Z"
   },
   {
    "duration": 12,
    "start_time": "2023-07-13T16:11:16.292Z"
   },
   {
    "duration": 19,
    "start_time": "2023-07-13T16:11:16.306Z"
   },
   {
    "duration": 20,
    "start_time": "2023-07-13T16:11:16.327Z"
   },
   {
    "duration": 28,
    "start_time": "2023-07-13T16:11:16.348Z"
   },
   {
    "duration": 926,
    "start_time": "2023-07-13T16:11:16.380Z"
   },
   {
    "duration": 1136,
    "start_time": "2023-07-13T16:11:17.308Z"
   },
   {
    "duration": 564,
    "start_time": "2023-07-13T16:11:18.446Z"
   },
   {
    "duration": 6,
    "start_time": "2023-07-13T16:11:19.013Z"
   },
   {
    "duration": 8,
    "start_time": "2023-07-13T16:11:19.021Z"
   },
   {
    "duration": 7,
    "start_time": "2023-07-13T16:11:19.030Z"
   },
   {
    "duration": 18,
    "start_time": "2023-07-13T16:11:19.039Z"
   },
   {
    "duration": 19,
    "start_time": "2023-07-13T16:11:19.059Z"
   },
   {
    "duration": 7,
    "start_time": "2023-07-13T16:11:19.080Z"
   },
   {
    "duration": 15,
    "start_time": "2023-07-13T16:11:19.088Z"
   },
   {
    "duration": 11,
    "start_time": "2023-07-13T16:11:19.105Z"
   },
   {
    "duration": 8,
    "start_time": "2023-07-13T16:11:19.118Z"
   },
   {
    "duration": 11,
    "start_time": "2023-07-13T16:11:19.127Z"
   },
   {
    "duration": 37,
    "start_time": "2023-07-13T16:11:19.140Z"
   },
   {
    "duration": 24,
    "start_time": "2023-07-13T16:11:19.179Z"
   },
   {
    "duration": 6,
    "start_time": "2023-07-13T16:11:19.204Z"
   },
   {
    "duration": 324,
    "start_time": "2023-07-13T16:11:19.212Z"
   },
   {
    "duration": 228,
    "start_time": "2023-07-13T16:11:19.538Z"
   },
   {
    "duration": 231,
    "start_time": "2023-07-13T16:11:19.770Z"
   },
   {
    "duration": 307,
    "start_time": "2023-07-13T16:11:20.003Z"
   },
   {
    "duration": 402,
    "start_time": "2023-07-13T16:11:20.312Z"
   },
   {
    "duration": 303,
    "start_time": "2023-07-13T16:11:20.716Z"
   },
   {
    "duration": 197,
    "start_time": "2023-07-13T16:11:21.020Z"
   },
   {
    "duration": 5,
    "start_time": "2023-07-13T16:11:21.219Z"
   },
   {
    "duration": 184,
    "start_time": "2023-07-13T16:11:21.225Z"
   },
   {
    "duration": 5,
    "start_time": "2023-07-13T16:11:21.410Z"
   },
   {
    "duration": 143,
    "start_time": "2023-07-13T16:11:21.417Z"
   },
   {
    "duration": 125,
    "start_time": "2023-07-13T16:11:21.562Z"
   },
   {
    "duration": 0,
    "start_time": "2023-07-13T16:11:21.689Z"
   },
   {
    "duration": 0,
    "start_time": "2023-07-13T16:11:21.690Z"
   },
   {
    "duration": 0,
    "start_time": "2023-07-13T16:11:21.696Z"
   },
   {
    "duration": 0,
    "start_time": "2023-07-13T16:11:21.697Z"
   },
   {
    "duration": 1092,
    "start_time": "2023-07-13T16:11:45.516Z"
   },
   {
    "duration": 148,
    "start_time": "2023-07-13T16:11:46.609Z"
   },
   {
    "duration": 12,
    "start_time": "2023-07-13T16:11:46.758Z"
   },
   {
    "duration": 25,
    "start_time": "2023-07-13T16:11:46.773Z"
   },
   {
    "duration": 8,
    "start_time": "2023-07-13T16:11:46.800Z"
   },
   {
    "duration": 11,
    "start_time": "2023-07-13T16:11:46.809Z"
   },
   {
    "duration": 7,
    "start_time": "2023-07-13T16:11:46.821Z"
   },
   {
    "duration": 12,
    "start_time": "2023-07-13T16:11:46.830Z"
   },
   {
    "duration": 41,
    "start_time": "2023-07-13T16:11:46.844Z"
   },
   {
    "duration": 923,
    "start_time": "2023-07-13T16:11:46.889Z"
   },
   {
    "duration": 1120,
    "start_time": "2023-07-13T16:11:47.814Z"
   },
   {
    "duration": 580,
    "start_time": "2023-07-13T16:11:48.936Z"
   },
   {
    "duration": 6,
    "start_time": "2023-07-13T16:11:49.518Z"
   },
   {
    "duration": 23,
    "start_time": "2023-07-13T16:11:49.525Z"
   },
   {
    "duration": 8,
    "start_time": "2023-07-13T16:11:49.550Z"
   },
   {
    "duration": 23,
    "start_time": "2023-07-13T16:11:49.560Z"
   },
   {
    "duration": 17,
    "start_time": "2023-07-13T16:11:49.585Z"
   },
   {
    "duration": 10,
    "start_time": "2023-07-13T16:11:49.604Z"
   },
   {
    "duration": 20,
    "start_time": "2023-07-13T16:11:49.615Z"
   },
   {
    "duration": 12,
    "start_time": "2023-07-13T16:11:49.637Z"
   },
   {
    "duration": 32,
    "start_time": "2023-07-13T16:11:49.651Z"
   },
   {
    "duration": 36,
    "start_time": "2023-07-13T16:11:49.685Z"
   },
   {
    "duration": 10,
    "start_time": "2023-07-13T16:11:49.724Z"
   },
   {
    "duration": 16,
    "start_time": "2023-07-13T16:11:49.736Z"
   },
   {
    "duration": 27,
    "start_time": "2023-07-13T16:11:49.754Z"
   },
   {
    "duration": 325,
    "start_time": "2023-07-13T16:11:49.783Z"
   },
   {
    "duration": 232,
    "start_time": "2023-07-13T16:11:50.109Z"
   },
   {
    "duration": 220,
    "start_time": "2023-07-13T16:11:50.344Z"
   },
   {
    "duration": 325,
    "start_time": "2023-07-13T16:11:50.565Z"
   },
   {
    "duration": 341,
    "start_time": "2023-07-13T16:11:50.891Z"
   },
   {
    "duration": 287,
    "start_time": "2023-07-13T16:11:51.233Z"
   },
   {
    "duration": 179,
    "start_time": "2023-07-13T16:11:51.522Z"
   },
   {
    "duration": 6,
    "start_time": "2023-07-13T16:11:51.702Z"
   },
   {
    "duration": 189,
    "start_time": "2023-07-13T16:11:51.709Z"
   },
   {
    "duration": 7,
    "start_time": "2023-07-13T16:11:51.900Z"
   },
   {
    "duration": 257,
    "start_time": "2023-07-13T16:11:51.908Z"
   },
   {
    "duration": 140,
    "start_time": "2023-07-13T16:11:52.166Z"
   },
   {
    "duration": 25,
    "start_time": "2023-07-13T16:11:52.308Z"
   },
   {
    "duration": 9,
    "start_time": "2023-07-13T16:11:52.335Z"
   },
   {
    "duration": 32,
    "start_time": "2023-07-13T16:11:52.346Z"
   },
   {
    "duration": 41,
    "start_time": "2023-07-13T16:11:52.380Z"
   },
   {
    "duration": 12,
    "start_time": "2023-07-13T16:11:52.423Z"
   },
   {
    "duration": 246,
    "start_time": "2023-07-13T16:12:45.823Z"
   },
   {
    "duration": 222,
    "start_time": "2023-07-13T16:12:56.136Z"
   },
   {
    "duration": 99,
    "start_time": "2023-07-13T16:22:52.470Z"
   },
   {
    "duration": 76,
    "start_time": "2023-07-13T16:23:02.618Z"
   },
   {
    "duration": 9,
    "start_time": "2023-07-13T16:23:50.630Z"
   },
   {
    "duration": 35,
    "start_time": "2023-07-13T16:25:11.655Z"
   },
   {
    "duration": 25,
    "start_time": "2023-07-13T16:26:00.509Z"
   },
   {
    "duration": 32,
    "start_time": "2023-07-13T16:26:14.108Z"
   },
   {
    "duration": 28,
    "start_time": "2023-07-13T16:26:19.345Z"
   },
   {
    "duration": 37,
    "start_time": "2023-07-13T16:26:24.229Z"
   },
   {
    "duration": 11,
    "start_time": "2023-07-13T16:27:22.716Z"
   },
   {
    "duration": 39,
    "start_time": "2023-07-13T16:27:56.064Z"
   },
   {
    "duration": 16,
    "start_time": "2023-07-13T16:28:24.483Z"
   },
   {
    "duration": 1108,
    "start_time": "2023-07-13T16:28:32.089Z"
   },
   {
    "duration": 150,
    "start_time": "2023-07-13T16:28:33.202Z"
   },
   {
    "duration": 11,
    "start_time": "2023-07-13T16:28:33.354Z"
   },
   {
    "duration": 23,
    "start_time": "2023-07-13T16:28:33.367Z"
   },
   {
    "duration": 15,
    "start_time": "2023-07-13T16:28:33.394Z"
   },
   {
    "duration": 20,
    "start_time": "2023-07-13T16:28:33.411Z"
   },
   {
    "duration": 14,
    "start_time": "2023-07-13T16:28:33.433Z"
   },
   {
    "duration": 13,
    "start_time": "2023-07-13T16:28:33.449Z"
   },
   {
    "duration": 31,
    "start_time": "2023-07-13T16:28:33.463Z"
   },
   {
    "duration": 1053,
    "start_time": "2023-07-13T16:28:33.496Z"
   },
   {
    "duration": 1287,
    "start_time": "2023-07-13T16:28:34.551Z"
   },
   {
    "duration": 690,
    "start_time": "2023-07-13T16:28:35.840Z"
   },
   {
    "duration": 8,
    "start_time": "2023-07-13T16:28:36.532Z"
   },
   {
    "duration": 36,
    "start_time": "2023-07-13T16:28:36.543Z"
   },
   {
    "duration": 13,
    "start_time": "2023-07-13T16:28:36.587Z"
   },
   {
    "duration": 5,
    "start_time": "2023-07-13T16:28:36.602Z"
   },
   {
    "duration": 10,
    "start_time": "2023-07-13T16:28:36.609Z"
   },
   {
    "duration": 6,
    "start_time": "2023-07-13T16:28:36.620Z"
   },
   {
    "duration": 10,
    "start_time": "2023-07-13T16:28:36.627Z"
   },
   {
    "duration": 11,
    "start_time": "2023-07-13T16:28:36.639Z"
   },
   {
    "duration": 29,
    "start_time": "2023-07-13T16:28:36.669Z"
   },
   {
    "duration": 14,
    "start_time": "2023-07-13T16:28:36.700Z"
   },
   {
    "duration": 12,
    "start_time": "2023-07-13T16:28:36.716Z"
   },
   {
    "duration": 15,
    "start_time": "2023-07-13T16:28:36.730Z"
   },
   {
    "duration": 26,
    "start_time": "2023-07-13T16:28:36.747Z"
   },
   {
    "duration": 403,
    "start_time": "2023-07-13T16:28:36.782Z"
   },
   {
    "duration": 312,
    "start_time": "2023-07-13T16:28:37.187Z"
   },
   {
    "duration": 249,
    "start_time": "2023-07-13T16:28:37.501Z"
   },
   {
    "duration": 375,
    "start_time": "2023-07-13T16:28:37.752Z"
   },
   {
    "duration": 479,
    "start_time": "2023-07-13T16:28:38.129Z"
   },
   {
    "duration": 303,
    "start_time": "2023-07-13T16:28:38.610Z"
   },
   {
    "duration": 219,
    "start_time": "2023-07-13T16:28:38.914Z"
   },
   {
    "duration": 6,
    "start_time": "2023-07-13T16:28:39.135Z"
   },
   {
    "duration": 211,
    "start_time": "2023-07-13T16:28:39.144Z"
   },
   {
    "duration": 32,
    "start_time": "2023-07-13T16:28:39.358Z"
   },
   {
    "duration": 258,
    "start_time": "2023-07-13T16:28:39.399Z"
   },
   {
    "duration": 157,
    "start_time": "2023-07-13T16:28:39.660Z"
   },
   {
    "duration": 27,
    "start_time": "2023-07-13T16:28:39.819Z"
   },
   {
    "duration": 23,
    "start_time": "2023-07-13T16:28:39.848Z"
   },
   {
    "duration": 12,
    "start_time": "2023-07-13T16:28:39.872Z"
   },
   {
    "duration": 34,
    "start_time": "2023-07-13T16:28:39.889Z"
   },
   {
    "duration": 14,
    "start_time": "2023-07-13T16:28:39.925Z"
   },
   {
    "duration": 121,
    "start_time": "2023-07-13T16:33:28.242Z"
   },
   {
    "duration": 1186,
    "start_time": "2023-07-13T16:58:03.158Z"
   },
   {
    "duration": 191,
    "start_time": "2023-07-13T16:58:04.347Z"
   },
   {
    "duration": 11,
    "start_time": "2023-07-13T16:58:04.539Z"
   },
   {
    "duration": 11,
    "start_time": "2023-07-13T16:58:04.552Z"
   },
   {
    "duration": 15,
    "start_time": "2023-07-13T16:58:04.564Z"
   },
   {
    "duration": 19,
    "start_time": "2023-07-13T16:58:04.581Z"
   },
   {
    "duration": 11,
    "start_time": "2023-07-13T16:58:04.602Z"
   },
   {
    "duration": 10,
    "start_time": "2023-07-13T16:58:04.615Z"
   },
   {
    "duration": 17,
    "start_time": "2023-07-13T16:58:04.626Z"
   },
   {
    "duration": 990,
    "start_time": "2023-07-13T16:58:04.645Z"
   },
   {
    "duration": 1215,
    "start_time": "2023-07-13T16:58:05.636Z"
   },
   {
    "duration": 625,
    "start_time": "2023-07-13T16:58:06.853Z"
   },
   {
    "duration": 13,
    "start_time": "2023-07-13T16:58:07.480Z"
   },
   {
    "duration": 10,
    "start_time": "2023-07-13T16:58:07.496Z"
   },
   {
    "duration": 6,
    "start_time": "2023-07-13T16:58:07.510Z"
   },
   {
    "duration": 9,
    "start_time": "2023-07-13T16:58:07.518Z"
   },
   {
    "duration": 20,
    "start_time": "2023-07-13T16:58:07.528Z"
   },
   {
    "duration": 5,
    "start_time": "2023-07-13T16:58:07.550Z"
   },
   {
    "duration": 27,
    "start_time": "2023-07-13T16:58:07.556Z"
   },
   {
    "duration": 22,
    "start_time": "2023-07-13T16:58:07.585Z"
   },
   {
    "duration": 8,
    "start_time": "2023-07-13T16:58:07.609Z"
   },
   {
    "duration": 12,
    "start_time": "2023-07-13T16:58:07.618Z"
   },
   {
    "duration": 10,
    "start_time": "2023-07-13T16:58:07.631Z"
   },
   {
    "duration": 39,
    "start_time": "2023-07-13T16:58:07.642Z"
   },
   {
    "duration": 12,
    "start_time": "2023-07-13T16:58:07.684Z"
   },
   {
    "duration": 342,
    "start_time": "2023-07-13T16:58:07.698Z"
   },
   {
    "duration": 250,
    "start_time": "2023-07-13T16:58:08.042Z"
   },
   {
    "duration": 241,
    "start_time": "2023-07-13T16:58:08.297Z"
   },
   {
    "duration": 322,
    "start_time": "2023-07-13T16:58:08.539Z"
   },
   {
    "duration": 371,
    "start_time": "2023-07-13T16:58:08.862Z"
   },
   {
    "duration": 327,
    "start_time": "2023-07-13T16:58:09.235Z"
   },
   {
    "duration": 211,
    "start_time": "2023-07-13T16:58:09.568Z"
   },
   {
    "duration": 6,
    "start_time": "2023-07-13T16:58:09.780Z"
   },
   {
    "duration": 163,
    "start_time": "2023-07-13T16:58:09.788Z"
   },
   {
    "duration": 5,
    "start_time": "2023-07-13T16:58:09.953Z"
   },
   {
    "duration": 317,
    "start_time": "2023-07-13T16:58:09.960Z"
   },
   {
    "duration": 214,
    "start_time": "2023-07-13T16:58:10.279Z"
   },
   {
    "duration": 75,
    "start_time": "2023-07-13T16:58:10.496Z"
   },
   {
    "duration": 18,
    "start_time": "2023-07-13T16:58:10.573Z"
   },
   {
    "duration": 13,
    "start_time": "2023-07-13T16:58:10.593Z"
   },
   {
    "duration": 95,
    "start_time": "2023-07-13T16:58:10.608Z"
   },
   {
    "duration": 16,
    "start_time": "2023-07-13T16:58:10.707Z"
   },
   {
    "duration": 1082,
    "start_time": "2023-07-14T08:04:52.587Z"
   },
   {
    "duration": 224,
    "start_time": "2023-07-14T08:04:53.671Z"
   },
   {
    "duration": 12,
    "start_time": "2023-07-14T08:04:53.896Z"
   },
   {
    "duration": 21,
    "start_time": "2023-07-14T08:04:53.911Z"
   },
   {
    "duration": 37,
    "start_time": "2023-07-14T08:04:53.934Z"
   },
   {
    "duration": 23,
    "start_time": "2023-07-14T08:04:53.973Z"
   },
   {
    "duration": 16,
    "start_time": "2023-07-14T08:04:53.998Z"
   },
   {
    "duration": 20,
    "start_time": "2023-07-14T08:04:54.016Z"
   },
   {
    "duration": 35,
    "start_time": "2023-07-14T08:04:54.038Z"
   },
   {
    "duration": 703,
    "start_time": "2023-07-14T08:04:54.076Z"
   },
   {
    "duration": 927,
    "start_time": "2023-07-14T08:04:54.782Z"
   },
   {
    "duration": 506,
    "start_time": "2023-07-14T08:04:55.710Z"
   },
   {
    "duration": 7,
    "start_time": "2023-07-14T08:04:56.218Z"
   },
   {
    "duration": 12,
    "start_time": "2023-07-14T08:04:56.226Z"
   },
   {
    "duration": 6,
    "start_time": "2023-07-14T08:04:56.239Z"
   },
   {
    "duration": 6,
    "start_time": "2023-07-14T08:04:56.246Z"
   },
   {
    "duration": 8,
    "start_time": "2023-07-14T08:04:56.254Z"
   },
   {
    "duration": 8,
    "start_time": "2023-07-14T08:04:56.263Z"
   },
   {
    "duration": 35,
    "start_time": "2023-07-14T08:04:56.272Z"
   },
   {
    "duration": 11,
    "start_time": "2023-07-14T08:04:56.309Z"
   },
   {
    "duration": 13,
    "start_time": "2023-07-14T08:04:56.321Z"
   },
   {
    "duration": 13,
    "start_time": "2023-07-14T08:04:56.335Z"
   },
   {
    "duration": 9,
    "start_time": "2023-07-14T08:04:56.349Z"
   },
   {
    "duration": 15,
    "start_time": "2023-07-14T08:04:56.359Z"
   },
   {
    "duration": 25,
    "start_time": "2023-07-14T08:04:56.375Z"
   },
   {
    "duration": 259,
    "start_time": "2023-07-14T08:04:56.402Z"
   },
   {
    "duration": 192,
    "start_time": "2023-07-14T08:04:56.662Z"
   },
   {
    "duration": 194,
    "start_time": "2023-07-14T08:04:56.857Z"
   },
   {
    "duration": 258,
    "start_time": "2023-07-14T08:04:57.052Z"
   },
   {
    "duration": 273,
    "start_time": "2023-07-14T08:04:57.311Z"
   },
   {
    "duration": 288,
    "start_time": "2023-07-14T08:04:57.585Z"
   },
   {
    "duration": 151,
    "start_time": "2023-07-14T08:04:57.875Z"
   },
   {
    "duration": 5,
    "start_time": "2023-07-14T08:04:58.027Z"
   },
   {
    "duration": 152,
    "start_time": "2023-07-14T08:04:58.034Z"
   },
   {
    "duration": 15,
    "start_time": "2023-07-14T08:04:58.188Z"
   },
   {
    "duration": 196,
    "start_time": "2023-07-14T08:04:58.204Z"
   },
   {
    "duration": 121,
    "start_time": "2023-07-14T08:04:58.402Z"
   },
   {
    "duration": 22,
    "start_time": "2023-07-14T08:04:58.525Z"
   },
   {
    "duration": 9,
    "start_time": "2023-07-14T08:04:58.549Z"
   },
   {
    "duration": 12,
    "start_time": "2023-07-14T08:04:58.559Z"
   },
   {
    "duration": 41,
    "start_time": "2023-07-14T08:04:58.572Z"
   },
   {
    "duration": 25,
    "start_time": "2023-07-14T08:04:58.614Z"
   },
   {
    "duration": 52,
    "start_time": "2023-07-16T19:45:37.487Z"
   },
   {
    "duration": 1106,
    "start_time": "2023-07-16T19:45:46.221Z"
   },
   {
    "duration": 256,
    "start_time": "2023-07-16T19:45:47.329Z"
   },
   {
    "duration": 13,
    "start_time": "2023-07-16T19:45:47.587Z"
   },
   {
    "duration": 21,
    "start_time": "2023-07-16T19:45:47.602Z"
   },
   {
    "duration": 19,
    "start_time": "2023-07-16T19:45:47.624Z"
   },
   {
    "duration": 39,
    "start_time": "2023-07-16T19:45:47.645Z"
   },
   {
    "duration": 15,
    "start_time": "2023-07-16T19:45:47.686Z"
   },
   {
    "duration": 35,
    "start_time": "2023-07-16T19:45:47.702Z"
   },
   {
    "duration": 16,
    "start_time": "2023-07-16T19:45:47.740Z"
   },
   {
    "duration": 958,
    "start_time": "2023-07-16T19:45:47.760Z"
   },
   {
    "duration": 1164,
    "start_time": "2023-07-16T19:45:48.720Z"
   },
   {
    "duration": 586,
    "start_time": "2023-07-16T19:45:49.886Z"
   },
   {
    "duration": 7,
    "start_time": "2023-07-16T19:45:50.474Z"
   },
   {
    "duration": 21,
    "start_time": "2023-07-16T19:45:50.483Z"
   },
   {
    "duration": 7,
    "start_time": "2023-07-16T19:45:50.506Z"
   },
   {
    "duration": 19,
    "start_time": "2023-07-16T19:45:50.515Z"
   },
   {
    "duration": 24,
    "start_time": "2023-07-16T19:45:50.536Z"
   },
   {
    "duration": 6,
    "start_time": "2023-07-16T19:45:50.562Z"
   },
   {
    "duration": 10,
    "start_time": "2023-07-16T19:45:50.569Z"
   },
   {
    "duration": 18,
    "start_time": "2023-07-16T19:45:50.581Z"
   },
   {
    "duration": 9,
    "start_time": "2023-07-16T19:45:50.600Z"
   },
   {
    "duration": 15,
    "start_time": "2023-07-16T19:45:50.611Z"
   },
   {
    "duration": 41,
    "start_time": "2023-07-16T19:45:50.627Z"
   },
   {
    "duration": 24,
    "start_time": "2023-07-16T19:45:50.671Z"
   },
   {
    "duration": 8,
    "start_time": "2023-07-16T19:45:50.697Z"
   },
   {
    "duration": 374,
    "start_time": "2023-07-16T19:45:50.708Z"
   },
   {
    "duration": 301,
    "start_time": "2023-07-16T19:45:51.085Z"
   },
   {
    "duration": 238,
    "start_time": "2023-07-16T19:45:51.391Z"
   },
   {
    "duration": 345,
    "start_time": "2023-07-16T19:45:51.631Z"
   },
   {
    "duration": 367,
    "start_time": "2023-07-16T19:45:51.978Z"
   },
   {
    "duration": 327,
    "start_time": "2023-07-16T19:45:52.347Z"
   },
   {
    "duration": 193,
    "start_time": "2023-07-16T19:45:52.676Z"
   },
   {
    "duration": 8,
    "start_time": "2023-07-16T19:45:52.871Z"
   },
   {
    "duration": 189,
    "start_time": "2023-07-16T19:45:52.880Z"
   },
   {
    "duration": 6,
    "start_time": "2023-07-16T19:45:53.071Z"
   },
   {
    "duration": 266,
    "start_time": "2023-07-16T19:45:53.079Z"
   },
   {
    "duration": 160,
    "start_time": "2023-07-16T19:45:53.347Z"
   },
   {
    "duration": 25,
    "start_time": "2023-07-16T19:45:53.509Z"
   },
   {
    "duration": 177,
    "start_time": "2023-07-16T19:45:53.536Z"
   },
   {
    "duration": 23,
    "start_time": "2023-07-16T19:45:53.715Z"
   },
   {
    "duration": 114,
    "start_time": "2023-07-16T19:45:53.740Z"
   },
   {
    "duration": 17,
    "start_time": "2023-07-16T19:45:53.856Z"
   },
   {
    "duration": 1012,
    "start_time": "2023-10-30T00:00:56.140Z"
   },
   {
    "duration": 249,
    "start_time": "2023-10-30T00:00:57.154Z"
   },
   {
    "duration": 14,
    "start_time": "2023-10-30T00:00:57.405Z"
   },
   {
    "duration": 55,
    "start_time": "2023-10-30T00:00:57.421Z"
   },
   {
    "duration": 18,
    "start_time": "2023-10-30T00:00:57.478Z"
   },
   {
    "duration": 17,
    "start_time": "2023-10-30T00:00:57.497Z"
   },
   {
    "duration": 31,
    "start_time": "2023-10-30T00:00:57.516Z"
   },
   {
    "duration": 18,
    "start_time": "2023-10-30T00:00:57.549Z"
   },
   {
    "duration": 28,
    "start_time": "2023-10-30T00:00:57.569Z"
   },
   {
    "duration": 826,
    "start_time": "2023-10-30T00:00:57.600Z"
   },
   {
    "duration": 1002,
    "start_time": "2023-10-30T00:00:58.428Z"
   },
   {
    "duration": 496,
    "start_time": "2023-10-30T00:00:59.433Z"
   },
   {
    "duration": 7,
    "start_time": "2023-10-30T00:00:59.931Z"
   },
   {
    "duration": 90,
    "start_time": "2023-10-30T00:00:59.939Z"
   },
   {
    "duration": 48,
    "start_time": "2023-10-30T00:01:00.030Z"
   },
   {
    "duration": 79,
    "start_time": "2023-10-30T00:01:00.080Z"
   },
   {
    "duration": 92,
    "start_time": "2023-10-30T00:01:00.161Z"
   },
   {
    "duration": 46,
    "start_time": "2023-10-30T00:01:00.255Z"
   },
   {
    "duration": 49,
    "start_time": "2023-10-30T00:01:00.303Z"
   },
   {
    "duration": 53,
    "start_time": "2023-10-30T00:01:00.354Z"
   },
   {
    "duration": 95,
    "start_time": "2023-10-30T00:01:00.409Z"
   },
   {
    "duration": 34,
    "start_time": "2023-10-30T00:01:00.506Z"
   },
   {
    "duration": 41,
    "start_time": "2023-10-30T00:01:00.541Z"
   },
   {
    "duration": 37,
    "start_time": "2023-10-30T00:01:00.583Z"
   },
   {
    "duration": 33,
    "start_time": "2023-10-30T00:01:00.622Z"
   },
   {
    "duration": 347,
    "start_time": "2023-10-30T00:01:00.656Z"
   },
   {
    "duration": 209,
    "start_time": "2023-10-30T00:01:01.004Z"
   },
   {
    "duration": 339,
    "start_time": "2023-10-30T00:01:01.216Z"
   },
   {
    "duration": 286,
    "start_time": "2023-10-30T00:01:01.557Z"
   },
   {
    "duration": 334,
    "start_time": "2023-10-30T00:01:01.845Z"
   },
   {
    "duration": 326,
    "start_time": "2023-10-30T00:01:02.181Z"
   },
   {
    "duration": 167,
    "start_time": "2023-10-30T00:01:02.508Z"
   },
   {
    "duration": 4,
    "start_time": "2023-10-30T00:01:02.677Z"
   },
   {
    "duration": 177,
    "start_time": "2023-10-30T00:01:02.683Z"
   },
   {
    "duration": 5,
    "start_time": "2023-10-30T00:01:02.861Z"
   },
   {
    "duration": 228,
    "start_time": "2023-10-30T00:01:02.867Z"
   },
   {
    "duration": 129,
    "start_time": "2023-10-30T00:01:03.096Z"
   },
   {
    "duration": 29,
    "start_time": "2023-10-30T00:01:03.226Z"
   },
   {
    "duration": 22,
    "start_time": "2023-10-30T00:01:03.257Z"
   },
   {
    "duration": 31,
    "start_time": "2023-10-30T00:01:03.281Z"
   },
   {
    "duration": 69,
    "start_time": "2023-10-30T00:01:03.314Z"
   },
   {
    "duration": 26,
    "start_time": "2023-10-30T00:01:03.385Z"
   }
  ],
  "kernelspec": {
   "display_name": "Python 3 (ipykernel)",
   "language": "python",
   "name": "python3"
  },
  "language_info": {
   "codemirror_mode": {
    "name": "ipython",
    "version": 3
   },
   "file_extension": ".py",
   "mimetype": "text/x-python",
   "name": "python",
   "nbconvert_exporter": "python",
   "pygments_lexer": "ipython3",
   "version": "3.9.13"
  },
  "toc": {
   "base_numbering": 1,
   "nav_menu": {},
   "number_sections": true,
   "sideBar": true,
   "skip_h1_title": true,
   "title_cell": "Table of Contents",
   "title_sidebar": "Contents",
   "toc_cell": true,
   "toc_position": {
    "height": "calc(100% - 180px)",
    "left": "10px",
    "top": "150px",
    "width": "275px"
   },
   "toc_section_display": true,
   "toc_window_display": false
  }
 },
 "nbformat": 4,
 "nbformat_minor": 2
}
